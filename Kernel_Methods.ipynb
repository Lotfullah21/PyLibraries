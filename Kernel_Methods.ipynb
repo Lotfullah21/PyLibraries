{
  "nbformat": 4,
  "nbformat_minor": 0,
  "metadata": {
    "colab": {
      "name": "Kernel Methods.ipynb",
      "provenance": [],
      "collapsed_sections": [],
      "authorship_tag": "ABX9TyN9/2suw6APUjc82/aTT9vA",
      "include_colab_link": true
    },
    "kernelspec": {
      "name": "python3",
      "display_name": "Python 3"
    },
    "language_info": {
      "name": "python"
    }
  },
  "cells": [
    {
      "cell_type": "markdown",
      "metadata": {
        "id": "view-in-github",
        "colab_type": "text"
      },
      "source": [
        "<a href=\"https://colab.research.google.com/github/Lotfullah21/PyLibraries/blob/main/Kernel_Methods.ipynb\" target=\"_parent\"><img src=\"https://colab.research.google.com/assets/colab-badge.svg\" alt=\"Open In Colab\"/></a>"
      ]
    },
    {
      "cell_type": "markdown",
      "source": [
        "### **The Kernel trick**\n",
        "\n",
        "The idea is that in order to find a halfspace predictor in the high dimensions , we do not need to know the representation of instances in that space, but rather the values of inner prodcuts between mapped instances.\n",
        "Calculating inner products between instances in the high dimensional space without using their representation in that space is done using kernel functions."
      ],
      "metadata": {
        "id": "ONy-y3YQNFDC"
      }
    },
    {
      "cell_type": "markdown",
      "source": [
        ""
      ],
      "metadata": {
        "id": "_soll7KeOB2Y"
      }
    },
    {
      "cell_type": "code",
      "source": [
        ""
      ],
      "metadata": {
        "id": "LmEGU13zOAyJ"
      },
      "execution_count": null,
      "outputs": []
    }
  ]
}