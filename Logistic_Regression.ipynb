{
  "nbformat": 4,
  "nbformat_minor": 0,
  "metadata": {
    "colab": {
      "name": "Logistic Regression.ipynb",
      "provenance": [],
      "collapsed_sections": [],
      "authorship_tag": "ABX9TyPea5yQM8taF0BMSbGxSz+F",
      "include_colab_link": true
    },
    "kernelspec": {
      "name": "python3",
      "display_name": "Python 3"
    },
    "language_info": {
      "name": "python"
    }
  },
  "cells": [
    {
      "cell_type": "markdown",
      "metadata": {
        "id": "view-in-github",
        "colab_type": "text"
      },
      "source": [
        "<a href=\"https://colab.research.google.com/github/Lotfullah21/PyLibraries/blob/main/Logistic_Regression.ipynb\" target=\"_parent\"><img src=\"https://colab.research.google.com/assets/colab-badge.svg\" alt=\"Open In Colab\"/></a>"
      ]
    },
    {
      "cell_type": "code",
      "execution_count": 1,
      "metadata": {
        "id": "ud9CEav8FEL8"
      },
      "outputs": [],
      "source": [
        "import numpy as np\n",
        "\n",
        "import matplotlib.pyplot as plt\n"
      ]
    },
    {
      "cell_type": "code",
      "source": [
        "x = np.array([1,3,5,2])\n",
        "y = np.array([1,1,0,0])\n",
        "x1 = np.array([[12,31,2,1],[2,3,1,3],[12,3,1,32],[3,4,1,12]])\n",
        "y1 = np.array([0,1,0,1])"
      ],
      "metadata": {
        "id": "KKTzZjIsSHjp"
      },
      "execution_count": 2,
      "outputs": []
    },
    {
      "cell_type": "code",
      "source": [
        "plt.scatter(x,y, marker='x', s=80, c = 'red', label=\"y=1\")\n"
      ],
      "metadata": {
        "colab": {
          "base_uri": "https://localhost:8080/",
          "height": 282
        },
        "id": "vYX0gkDAR_8x",
        "outputId": "17ef9890-e324-42c9-e4b4-cd2aab975983"
      },
      "execution_count": 3,
      "outputs": [
        {
          "output_type": "execute_result",
          "data": {
            "text/plain": [
              "<matplotlib.collections.PathCollection at 0x7f48032378d0>"
            ]
          },
          "metadata": {},
          "execution_count": 3
        },
        {
          "output_type": "display_data",
          "data": {
            "text/plain": [
              "<Figure size 432x288 with 1 Axes>"
            ],
            "image/png": "[encoded data removed]"
          },
          "metadata": {
            "needs_background": "light"
          }
        }
      ]
    },
    {
      "cell_type": "code",
      "source": [
        ""
      ],
      "metadata": {
        "id": "-8HeGiDoS2RR"
      },
      "execution_count": 3,
      "outputs": []
    },
    {
      "cell_type": "markdown",
      "source": [
        "## Logistic Function\n"
      ],
      "metadata": {
        "id": "Cqqx2-iBVM7S"
      }
    },
    {
      "cell_type": "code",
      "source": [
        "input_e = np.array([1,2,4,3.8,3.7,1.4,5,4,10,8.7])\n",
        "log = np.exp(input_e)\n",
        "log\n",
        "plt.scatter(input_e, log)\n"
      ],
      "metadata": {
        "colab": {
          "base_uri": "https://localhost:8080/",
          "height": 282
        },
        "id": "uP_2ponBVPMZ",
        "outputId": "bd3d8da6-417f-46ce-dc95-087b27fc8c00"
      },
      "execution_count": 4,
      "outputs": [
        {
          "output_type": "execute_result",
          "data": {
            "text/plain": [
              "<matplotlib.collections.PathCollection at 0x7f4802d2db50>"
            ]
          },
          "metadata": {},
          "execution_count": 4
        },
        {
          "output_type": "display_data",
          "data": {
            "text/plain": [
              "<Figure size 432x288 with 1 Axes>"
            ],
            "image/png": "[encoded data removed]"
          },
          "metadata": {
            "needs_background": "light"
          }
        }
      ]
    },
    {
      "cell_type": "markdown",
      "source": [
        "# Sigmoid"
      ],
      "metadata": {
        "id": "P5Fd_pFvytZ6"
      }
    },
    {
      "cell_type": "code",
      "source": [
        "def sigmoid(x):\n",
        "  sigmoid = 1/(1+np.exp(-x))\n",
        "  return sigmoid\n",
        "sigmoid(input_e)  "
      ],
      "metadata": {
        "colab": {
          "base_uri": "https://localhost:8080/"
        },
        "id": "zJoKaPDhVX0f",
        "outputId": "77d4316e-e7b4-49fb-c256-b563d57d707b"
      },
      "execution_count": 5,
      "outputs": [
        {
          "output_type": "execute_result",
          "data": {
            "text/plain": [
              "array([0.73105858, 0.88079708, 0.98201379, 0.97811873, 0.97587298,\n",
              "       0.80218389, 0.99330715, 0.98201379, 0.9999546 , 0.99983344])"
            ]
          },
          "metadata": {},
          "execution_count": 5
        }
      ]
    },
    {
      "cell_type": "code",
      "source": [
        "plt.scatter(input_e, sigmoid(input_e))"
      ],
      "metadata": {
        "colab": {
          "base_uri": "https://localhost:8080/",
          "height": 282
        },
        "id": "pa0cEFh3Vw-9",
        "outputId": "f99a8e16-1841-4a33-9235-4d4cde86e7cd"
      },
      "execution_count": 6,
      "outputs": [
        {
          "output_type": "execute_result",
          "data": {
            "text/plain": [
              "<matplotlib.collections.PathCollection at 0x7f4802d2da10>"
            ]
          },
          "metadata": {},
          "execution_count": 6
        },
        {
          "output_type": "display_data",
          "data": {
            "text/plain": [
              "<Figure size 432x288 with 1 Axes>"
            ],
            "image/png": "[encoded data removed]"
          },
          "metadata": {
            "needs_background": "light"
          }
        }
      ]
    },
    {
      "cell_type": "code",
      "source": [
        "z_tmp = np.arange(-10,11)\n",
        "plt.scatter(z_tmp, sigmoid(z_tmp),marker = \"x\", c = 'r', label  = \"points\"  )\n",
        "plt.legend()"
      ],
      "metadata": {
        "colab": {
          "base_uri": "https://localhost:8080/",
          "height": 282
        },
        "id": "fQ3PS3bHWN3z",
        "outputId": "da96e92b-084c-491a-ba9f-ebb1d5a79f01"
      },
      "execution_count": 7,
      "outputs": [
        {
          "output_type": "execute_result",
          "data": {
            "text/plain": [
              "<matplotlib.legend.Legend at 0x7f4802c67750>"
            ]
          },
          "metadata": {},
          "execution_count": 7
        },
        {
          "output_type": "display_data",
          "data": {
            "text/plain": [
              "<Figure size 432x288 with 1 Axes>"
            ],
            "image/png": "[encoded data removed]"
          },
          "metadata": {
            "needs_background": "light"
          }
        }
      ]
    },
    {
      "cell_type": "code",
      "source": [
        "# Plot z vs sigmoid(z)\n",
        "y = sigmoid(z_tmp)\n",
        "fig,ax = plt.subplots(1,1,figsize=(5,3))\n",
        "ax.plot(z_tmp, y, c=\"b\")\n",
        "\n",
        "ax.set_title(\"Sigmoid function\")\n",
        "ax.set_ylabel('sigmoid(z)')\n",
        "ax.set_xlabel('z')\n"
      ],
      "metadata": {
        "colab": {
          "base_uri": "https://localhost:8080/",
          "height": 258
        },
        "id": "2KZp5ADmWiRp",
        "outputId": "b21f7ac0-c6c2-46a4-c470-a4e19e26203f"
      },
      "execution_count": 8,
      "outputs": [
        {
          "output_type": "execute_result",
          "data": {
            "text/plain": [
              "Text(0.5, 0, 'z')"
            ]
          },
          "metadata": {},
          "execution_count": 8
        },
        {
          "output_type": "display_data",
          "data": {
            "text/plain": [
              "<Figure size 360x216 with 1 Axes>"
            ],
            "image/png": "[encoded data removed]"
          },
          "metadata": {
            "needs_background": "light"
          }
        }
      ]
    },
    {
      "cell_type": "code",
      "source": [
        ""
      ],
      "metadata": {
        "id": "1tYZxqYwXI81"
      },
      "execution_count": 8,
      "outputs": []
    },
    {
      "cell_type": "markdown",
      "source": [
        "# Cost Function \n"
      ],
      "metadata": {
        "id": "uPyR6NHtv6AC"
      }
    },
    {
      "cell_type": "code",
      "source": [
        "import numpy as np\n",
        "import matplotlib.pyplot as plt"
      ],
      "metadata": {
        "id": "E63a3D-qv8IK"
      },
      "execution_count": 9,
      "outputs": []
    },
    {
      "cell_type": "code",
      "source": [
        "x_train = np.array([[1,3],[1,0.8],[3,1.2],[4,1],[0.9,1]])\n",
        "y_train = np.array([1,2,4,1,1])"
      ],
      "metadata": {
        "id": "poN_KyyQwCEs"
      },
      "execution_count": 10,
      "outputs": []
    },
    {
      "cell_type": "code",
      "source": [
        "def compute_cost(x,y,w,b):\n",
        "\n",
        "  m = x.shape[0]\n",
        "  cost = 0\n",
        "  for i in range(m):\n",
        "\n",
        "    f_wb = (np.dot(x[i],w) +b)\n",
        "    g_z = sigmoid(f_wb)\n",
        "    cost = cost +  (-y[i])*np.log(g_z)-(1-y[i])*np.log(1-g_z)\n",
        "  \n",
        "  cost = cost / m \n",
        "  # print(sum(cost))\n",
        "  return cost "
      ],
      "metadata": {
        "id": "hBfDF9jq0OI2"
      },
      "execution_count": 11,
      "outputs": []
    },
    {
      "cell_type": "code",
      "source": [
        "compute_cost(x_train, y_train, 1,1)"
      ],
      "metadata": {
        "colab": {
          "base_uri": "https://localhost:8080/"
        },
        "id": "J3deAWDX0RPP",
        "outputId": "7b6f1179-3659-4381-8e21-bb24576e305e"
      },
      "execution_count": 12,
      "outputs": [
        {
          "output_type": "execute_result",
          "data": {
            "text/plain": [
              "array([-2.71637839, -1.57398662])"
            ]
          },
          "metadata": {},
          "execution_count": 12
        }
      ]
    },
    {
      "cell_type": "code",
      "source": [
        "X_train = np.array([[0.5, 1.5], [1,1], [1.5, 0.5], [3, 0.5], [2, 2], [1, 2.5]])  #(m,n)\n",
        "y_train = np.array([0, 0, 0, 1, 1, 1])                                           \n",
        "w_array1 = np.array([1,1])\n",
        "b_1 = -3\n",
        "w_array2 = np.array([1,1])\n",
        "b_2 = -4\n",
        "\n",
        "print(\"Cost for b = -3 : \", compute_cost(X_train, y_train, w_array1, b_1))\n",
        "print(\"Cost for b = -4 : \", compute_cost(X_train, y_train, w_array2, b_2))"
      ],
      "metadata": {
        "colab": {
          "base_uri": "https://localhost:8080/"
        },
        "id": "5p73W6Tq3yzt",
        "outputId": "f370b6b2-ede0-4902-c6b9-caafa75d7215"
      },
      "execution_count": 13,
      "outputs": [
        {
          "output_type": "stream",
          "name": "stdout",
          "text": [
            "Cost for b = -3 :  0.36686678640551745\n",
            "Cost for b = -4 :  0.5036808636748461\n"
          ]
        }
      ]
    },
    {
      "cell_type": "code",
      "source": [
        "# fig,ax = plt.subplots(1,1, figsize = (12,6))\n",
        "# plt.plot(x_train, y_train)\n",
        "# ax.set_xlabel(\"features\")\n",
        "# ax.set_ylabel(\"output\")\n"
      ],
      "metadata": {
        "id": "MtoMydSKwRjY"
      },
      "execution_count": 14,
      "outputs": []
    },
    {
      "cell_type": "code",
      "source": [
        ""
      ],
      "metadata": {
        "id": "IiVACbiHw22V"
      },
      "execution_count": 14,
      "outputs": []
    },
    {
      "cell_type": "code",
      "source": [
        ""
      ],
      "metadata": {
        "id": "mbn0Pxc3yocR"
      },
      "execution_count": 14,
      "outputs": []
    },
    {
      "cell_type": "code",
      "source": [
        "def compute_cost_logistic(X, y, w, b):\n",
        "    \"\"\"\n",
        "    Computes cost\n",
        "\n",
        "    Args:\n",
        "      X (ndarray (m,n)): Data, m examples with n features\n",
        "      y (ndarray (m,)) : target values\n",
        "      w (ndarray (n,)) : model parameters  \n",
        "      b (scalar)       : model parameter\n",
        "      \n",
        "    Returns:\n",
        "      cost (scalar): cost\n",
        "    \"\"\"\n",
        "\n",
        "    m = X.shape[0]\n",
        "    cost = 0.0\n",
        "    for i in range(m):\n",
        "        z_i = np.dot(X[i],w) + b\n",
        "        f_wb_i = sigmoid(z_i)\n",
        "        cost +=  -y[i]*np.log(f_wb_i) - (1-y[i])*np.log(1-f_wb_i)\n",
        "             \n",
        "    cost = cost / m\n",
        "    return cost\n"
      ],
      "metadata": {
        "id": "gggWmpAWy071"
      },
      "execution_count": 15,
      "outputs": []
    },
    {
      "cell_type": "code",
      "source": [
        "X_train = np.array([[0.5, 1.5], [1,1], [1.5, 0.5], [3, 0.5], [2, 2], [1, 2.5]])  #(m,n)\n",
        "m,n = X_train .shape\n"
      ],
      "metadata": {
        "id": "8nDoX4bHzlh5"
      },
      "execution_count": 16,
      "outputs": []
    },
    {
      "cell_type": "code",
      "source": [
        "X_train = np.array([[0.5, 1.5], [1,1], [1.5, 0.5], [3, 0.5], [2, 2], [1, 2.5]])  #(m,n)\n",
        "y_train = np.array([0, 0, 0, 1, 1, 1])                                           \n",
        "w_array1 = np.array([1,1])\n",
        "b_1 = -3\n",
        "w_array2 = np.array([1,1])\n",
        "b_2 = -4\n",
        "\n",
        "print(\"Cost for b = -3 : \", compute_cost_logistic(X_train, y_train, w_array1, b_1))\n",
        "print(\"Cost for b = -4 : \", compute_cost_logistic(X_train, y_train, w_array2, b_2))"
      ],
      "metadata": {
        "colab": {
          "base_uri": "https://localhost:8080/"
        },
        "id": "M9wUQNgQzqvZ",
        "outputId": "19af00c9-7fc0-4446-f34d-7f76f98996d7"
      },
      "execution_count": 17,
      "outputs": [
        {
          "output_type": "stream",
          "name": "stdout",
          "text": [
            "Cost for b = -3 :  0.36686678640551745\n",
            "Cost for b = -4 :  0.5036808636748461\n"
          ]
        }
      ]
    },
    {
      "cell_type": "markdown",
      "source": [
        "# Decision Boundry\n",
        "\n",
        "Now, let's see what the cost function output is for a different value of $w$. \n",
        "\n",
        "* In a previous lab, you plotted the decision boundary for  $b = -3, w_0 = 1, w_1 = 1$. That is, you had `b = -3, w = np.array([1,1])`.\n",
        "\n",
        "* Let's say you want to see if $b = -4, w_0 = 1, w_1 = 1$, or `b = -4, w = np.array([1,1])` provides a better model.\n",
        "\n",
        "Let's first plot the decision boundary for these two different $b$ values to see which one fits the data better.\n",
        "\n",
        "* For $b = -3, w_0 = 1, w_1 = 1$, we'll plot $-3 + x_0+x_1 = 0$ (shown in red)\n",
        "* For $b = -4, w_0 = 1, w_1 = 1$, we'll plot $-4 + x_0+x_1 = 0$ (shown in green)"
      ],
      "metadata": {
        "id": "9hJELps61zJb"
      }
    },
    {
      "cell_type": "code",
      "source": [
        "import matplotlib.pyplot as plt\n",
        "\n",
        "# Choose values between 0 and 6\n",
        "x0 = np.arange(0,12)\n",
        "\n",
        "# Plot the two decision boundaries\n",
        "x1 = 5 - x0  # \n",
        "x1_other = 7 -  x0 \n",
        "\n",
        "fig,ax = plt.subplots(1, 1, figsize=(8,4))\n",
        "# Plot the decision boundary\n",
        "plt.plot(x0,x1,c = \"r\" ,  label=\"$b$=-3\")\n",
        "plt.plot(x0,x1_other,c = \"green\", label=\"$b$=-4\")\n",
        "plt.axis([0, 12, 0, 9])\n",
        "plt.legend()\n",
        "plt.title(\"Decision Boundary\")\n",
        "plt.show()"
      ],
      "metadata": {
        "colab": {
          "base_uri": "https://localhost:8080/",
          "height": 281
        },
        "id": "-w4mfRuZ1Sfa",
        "outputId": "e6f619c2-f697-40c5-f3e2-ca7b9daca475"
      },
      "execution_count": 18,
      "outputs": [
        {
          "output_type": "display_data",
          "data": {
            "text/plain": [
              "<Figure size 576x288 with 1 Axes>"
            ],
            "image/png": "[encoded data removed]"
          },
          "metadata": {
            "needs_background": "light"
          }
        }
      ]
    },
    {
      "cell_type": "markdown",
      "source": [
        "# Gradient Descent\n",
        "### Computing the derivatives"
      ],
      "metadata": {
        "id": "Z4l-t5Mz5XVS"
      }
    },
    {
      "cell_type": "code",
      "source": [
        "def compute_gradient(x,y,w,b):\n",
        "\n",
        "  m,n = x.shape\n",
        "  dj_dw = np.zeros((n,))\n",
        "  dj_db = 0\n",
        "\n",
        "  for i in range(m):\n",
        "    f_wb = sigmoid(np.dot(x[i],w)+b)\n",
        "    error = f_wb - y[i]\n",
        "    \n",
        "    for j in range(n):\n",
        "\n",
        "      dj_dw[j] = dj_dw[j] + error * x[i,j]\n",
        "    dj_db = dj_db + error  \n",
        "  dj_dw = dj_dw / m\n",
        "  dj_db = dj_db / m \n",
        "\n",
        "  return dj_db, dj_dw\n",
        "\n"
      ],
      "metadata": {
        "id": "pYE18dj85WxL"
      },
      "execution_count": 19,
      "outputs": []
    },
    {
      "cell_type": "code",
      "source": [
        "X_tmp = np.array([[0.5, 1.5], [1,1], [1.5, 0.5], [3, 0.5], [2, 2], [1, 2.5]])\n",
        "y_tmp = np.array([0, 0, 0, 1, 1, 1])\n",
        "w_tmp = np.array([2.,3.])\n",
        "b_tmp = 1.\n",
        "dj_db_tmp, dj_dw_tmp = compute_gradient(X_tmp, y_tmp, w_tmp, b_tmp)\n",
        "print(f\"dj_db: {dj_db_tmp}\" )\n",
        "print(f\"dj_dw: {dj_dw_tmp.tolist()}\" )"
      ],
      "metadata": {
        "colab": {
          "base_uri": "https://localhost:8080/"
        },
        "id": "qkh40D8c1eGz",
        "outputId": "12ca57e6-748d-4138-cf16-20e16ba59aca"
      },
      "execution_count": 20,
      "outputs": [
        {
          "output_type": "stream",
          "name": "stdout",
          "text": [
            "dj_db: 0.49861806546328574\n",
            "dj_dw: [0.498333393278696, 0.49883942983996693]\n"
          ]
        }
      ]
    },
    {
      "cell_type": "code",
      "source": [
        "import copy, math"
      ],
      "metadata": {
        "id": "ZYo3RaM-ChRF"
      },
      "execution_count": 21,
      "outputs": []
    },
    {
      "cell_type": "markdown",
      "source": [
        "# Gradiend Descent"
      ],
      "metadata": {
        "id": "jsUw_lzmChwO"
      }
    },
    {
      "cell_type": "code",
      "source": [
        "def gradient_descent(x,y,w_init,b_init,alpha,num_iters):\n",
        "\n",
        "  j_history = []\n",
        "  w = copy.deepcopy(w_init)\n",
        "  b = b_init\n",
        "\n",
        "  for i in range(num_iters):\n",
        "    dj_db , dj_dw = compute_gradient(x,y,w,b)\n",
        "    w = w - alpha * dj_dw\n",
        "    b = b - alpha * dj_db\n",
        "\n",
        "    if i <10000:\n",
        "      j_history.append(compute_cost(x,y,w,b))\n",
        "\n",
        "    if i % math.ceil(num_iters/10) ==0 :\n",
        "      print(f\"Iteration {i:4d}: Cost {j_history[-1]} \")\n",
        "  return w, b, j_history    \n",
        "\n"
      ],
      "metadata": {
        "id": "fAVYOzwBBzE_"
      },
      "execution_count": 22,
      "outputs": []
    },
    {
      "cell_type": "code",
      "source": [
        "w_tmp  = np.zeros_like(X_train[0])\n",
        "b_tmp  = 0.\n",
        "alph = 0.1\n",
        "iters = 10000\n",
        "\n",
        "w_out, b_out, _ = gradient_descent(X_train, y_train, w_tmp, b_tmp, alph, iters) \n",
        "print(f\"\\nupdated parameters: w:{w_out}, b:{b_out}\")"
      ],
      "metadata": {
        "colab": {
          "base_uri": "https://localhost:8080/"
        },
        "id": "vlSfyo_dEvtc",
        "outputId": "b11d49f3-76d7-4389-8465-a46494072cea"
      },
      "execution_count": 23,
      "outputs": [
        {
          "output_type": "stream",
          "name": "stdout",
          "text": [
            "Iteration    0: Cost 0.684610468560574 \n",
            "Iteration 1000: Cost 0.1590977666870457 \n",
            "Iteration 2000: Cost 0.08460064176930078 \n",
            "Iteration 3000: Cost 0.05705327279402531 \n",
            "Iteration 4000: Cost 0.04290759421682 \n",
            "Iteration 5000: Cost 0.03433847729884557 \n",
            "Iteration 6000: Cost 0.02860379802212006 \n",
            "Iteration 7000: Cost 0.02450156960879306 \n",
            "Iteration 8000: Cost 0.02142370332569295 \n",
            "Iteration 9000: Cost 0.019030137124109114 \n",
            "\n",
            "updated parameters: w:[5.28123029 5.07815608], b:-14.222409982019837\n"
          ]
        }
      ]
    },
    {
      "cell_type": "code",
      "source": [
        "# UNQ_C3\n",
        "# GRADED FUNCTION: compute_gradient\n",
        "def compute_gradient(x, y, w, b, lambda_=None): \n",
        "    \"\"\"\n",
        "    Computes the gradient for logistic regression \n",
        " \n",
        "    Args:\n",
        "      X : (ndarray Shape (m,n)) variable such as house size \n",
        "      y : (array_like Shape (m,1)) actual value \n",
        "      w : (array_like Shape (n,1)) values of parameters of the model      \n",
        "      b : (scalar)                 value of parameter of the model \n",
        "      lambda_: unused placeholder.\n",
        "    Returns\n",
        "      dj_dw: (array_like Shape (n,1)) The gradient of the cost w.r.t. the parameters w. \n",
        "      dj_db: (scalar)                The gradient of the cost w.r.t. the parameter b. \n",
        "    \"\"\"\n",
        "    \n",
        "    m,n = x.shape\n",
        "    dj_dw = np.zeros((n,))\n",
        "    dj_db = 0\n",
        "\n",
        "    for i in range(m):\n",
        "        f_wb = sigmoid(np.dot(x[i],w)+b)\n",
        "        error = f_wb - y[i]\n",
        "\n",
        "        for j in range(n):\n",
        "\n",
        "            dj_dw[j] = dj_dw[j] + error * x[i,j]\n",
        "            dj_db = dj_db + error  \n",
        "    dj_dw = dj_dw / m\n",
        "    dj_db = dj_db / m \n",
        "\n",
        "    return dj_db, dj_dw"
      ],
      "metadata": {
        "id": "6RWu6KDzE3xL"
      },
      "execution_count": 24,
      "outputs": []
    },
    {
      "cell_type": "markdown",
      "source": [
        "\n",
        "# Cost functions with regularization\n",
        "##  Cost function for regularized linear regression\n",
        "\n",
        "The equation for the cost function regularized linear regression is:\n",
        "$$J(\\mathbf{w},b) = \\frac{1}{2m} \\sum\\limits_{i = 0}^{m-1} (f_{\\mathbf{w},b}(\\mathbf{x}^{(i)}) - y^{(i)})^2  + \\frac{\\lambda}{2m}  \\sum_{j=0}^{n-1} w_j^2 \\tag{1}$$ \n",
        "where:\n",
        "$$ f_{\\mathbf{w},b}(\\mathbf{x}^{(i)}) = \\mathbf{w} \\cdot \\mathbf{x}^{(i)} + b  \\tag{2} $$ \n",
        "\n",
        "\n",
        "Compare this to the cost function without regularization (which you implemented in  a previous lab), which is of the form:\n",
        "\n",
        "$$J(\\mathbf{w},b) = \\frac{1}{2m} \\sum\\limits_{i = 0}^{m-1} (f_{\\mathbf{w},b}(\\mathbf{x}^{(i)}) - y^{(i)})^2 $$ \n",
        "\n",
        "The difference is the regularization term,  <span style=\"color:blue\">\n",
        "    $\\frac{\\lambda}{2m}  \\sum_{j=0}^{n-1} w_j^2$ </span> \n",
        "    \n",
        "Including this term encourages gradient descent to minimize the size of the parameters. Note, in this example, the parameter $b$ is not regularized. This is standard practice.\n",
        "\n",
        "Below is an implementation of equations (1) and (2). Note that this uses a *standard pattern for this course*,   a `for loop` over all `m` examples."
      ],
      "metadata": {
        "id": "OD_Hkzf8QmS0"
      }
    },
    {
      "cell_type": "code",
      "source": [
        "def compute_cost_lin_reg(x,y,w,b,lambda_ = 1):\n",
        "  \n",
        "  m,n = x.shape\n",
        "  cost = 0\n",
        "\n",
        "\n",
        "  for i in range(m):\n",
        "    \n",
        "    f_wb = np.dot(x[i],w)+b\n",
        "    cost = cost + (f_wb - y[i])**2\n",
        "  cost = cost / (2*m)\n",
        "\n",
        "  regularizer_cost = 0\n",
        "  for j in range(n):\n",
        "    regularizer_cost = regularizer_cost + (w[j]**2)\n",
        "    \n",
        "  regularizer_cost = ((lambda_) / (2 * m))  * regularizer_cost\n",
        "  total_cost =  cost + regularizer_cost\n",
        "\n",
        "  return total_cost\n",
        "\n"
      ],
      "metadata": {
        "id": "rVMJJ8kcQopR"
      },
      "execution_count": 25,
      "outputs": []
    },
    {
      "cell_type": "code",
      "source": [
        "np.random.seed(1)\n",
        "X_tmp = np.random.rand(5,6)\n",
        "y_tmp = np.array([0,1,0,1,0])\n",
        "w_tmp = np.random.rand(X_tmp.shape[1]).reshape(-1,)-0.5\n",
        "b_tmp = 0.5\n",
        "lambda_tmp = 0.7\n",
        "cost_tmp = compute_cost_lin_reg(X_tmp, y_tmp, w_tmp, b_tmp, lambda_tmp)\n",
        "\n",
        "print(\"Regularized cost:\", cost_tmp)"
      ],
      "metadata": {
        "colab": {
          "base_uri": "https://localhost:8080/"
        },
        "id": "8MZ2RTuelGPx",
        "outputId": "a6ed2f3b-31a4-4221-ad8e-cfe0c5bfc63c"
      },
      "execution_count": 26,
      "outputs": [
        {
          "output_type": "stream",
          "name": "stdout",
          "text": [
            "Regularized cost: 0.07917239320214277\n"
          ]
        }
      ]
    },
    {
      "cell_type": "code",
      "source": [
        "def compute_cost_linear_reg(X, y, w, b, lambda_ = 1):\n",
        "    \"\"\"\n",
        "    Computes the cost over all examples\n",
        "    Args:\n",
        "      X (ndarray (m,n): Data, m examples with n features\n",
        "      y (ndarray (m,)): target values\n",
        "      w (ndarray (n,)): model parameters  \n",
        "      b (scalar)      : model parameter\n",
        "      lambda_ (scalar): Controls amount of regularization\n",
        "    Returns:\n",
        "      total_cost (scalar):  cost \n",
        "    \"\"\"\n",
        "\n",
        "    m  = X.shape[0]\n",
        "    n  = len(w)\n",
        "    cost = 0.\n",
        "    for i in range(m):\n",
        "        f_wb_i = np.dot(X[i], w) + b                                   #(n,)(n,)=scalar, see np.dot\n",
        "        cost = cost + (f_wb_i - y[i])**2                               #scalar             \n",
        "    cost = cost / (2 * m)                                              #scalar  \n",
        " \n",
        "    reg_cost = 0\n",
        "    for j in range(n):\n",
        "        reg_cost += (w[j]**2)                                          #scalar\n",
        "    reg_cost = (lambda_/(2*m)) * reg_cost                              #scalar\n",
        "    \n",
        "    total_cost = cost + reg_cost                                       #scalar\n",
        "    return total_cost"
      ],
      "metadata": {
        "id": "fyQs5_KkKvZa"
      },
      "execution_count": 27,
      "outputs": []
    },
    {
      "cell_type": "markdown",
      "source": [
        "# Cost function for regularized logistic regression\n",
        "For regularized **logistic** regression, the cost function is of the form\n",
        "$$J(\\mathbf{w},b) = \\frac{1}{m}  \\sum_{i=0}^{m-1} \\left[ -y^{(i)} \\log\\left(f_{\\mathbf{w},b}\\left( \\mathbf{x}^{(i)} \\right) \\right) - \\left( 1 - y^{(i)}\\right) \\log \\left( 1 - f_{\\mathbf{w},b}\\left( \\mathbf{x}^{(i)} \\right) \\right) \\right] + \\frac{\\lambda}{2m}  \\sum_{j=0}^{n-1} w_j^2 \\tag{3}$$\n",
        "where:\n",
        "$$ f_{\\mathbf{w},b}(\\mathbf{x}^{(i)}) = sigmoid(\\mathbf{w} \\cdot \\mathbf{x}^{(i)} + b)  \\tag{4} $$ \n",
        "\n",
        "Compare this to the cost function without regularization (which you implemented in  a previous lab):\n",
        "\n",
        "$$ J(\\mathbf{w},b) = \\frac{1}{m}\\sum_{i=0}^{m-1} \\left[ (-y^{(i)} \\log\\left(f_{\\mathbf{w},b}\\left( \\mathbf{x}^{(i)} \\right) \\right) - \\left( 1 - y^{(i)}\\right) \\log \\left( 1 - f_{\\mathbf{w},b}\\left( \\mathbf{x}^{(i)} \\right) \\right)\\right] $$\n",
        "\n",
        "As was the case in linear regression above, the difference is the regularization term, which is    <span style=\"color:blue\">\n",
        "    $\\frac{\\lambda}{2m}  \\sum_{j=0}^{n-1} w_j^2$ </span> \n",
        "\n",
        "Including this term encourages gradient descent to minimize the size of the parameters. Note, in this example, the parameter $b$ is not regularized. This is standard practice. "
      ],
      "metadata": {
        "id": "q3_DUHmGnHor"
      }
    },
    {
      "cell_type": "code",
      "source": [
        ""
      ],
      "metadata": {
        "id": "bP4Qq6o3lPZZ"
      },
      "execution_count": 27,
      "outputs": []
    },
    {
      "cell_type": "code",
      "source": [
        "def compute_logistic_reg_regularizer(x,y,w,b,lambda_ ):\n",
        "\n",
        "  m,n = x.shape\n",
        "  cost = 0\n",
        "  for i in range(m):\n",
        "\n",
        "    f_wb = np.dot(x[i],w)+b\n",
        "    g_z = sigmoid(f_wb)\n",
        "    cost = cost +  (-y[i])*np.log(g_z)-(1-y[i])*np.log(1-g_z)\n",
        "  cost = cost / m\n",
        "  # print(cost)\n",
        "\n",
        "  reg_cost = 0\n",
        "\n",
        "  for j in range(n):\n",
        "    reg_cost = reg_cost + (w[j])**2\n",
        "  reg_cost = (lambda_/(2*m)) * reg_cost      \n",
        "\n",
        "  total_cost = reg_cost + cost\n",
        "  print(\"regularized cost\",reg_cost)\n",
        "  return total_cost\n"
      ],
      "metadata": {
        "id": "iT1_zR7qnGZ2"
      },
      "execution_count": 28,
      "outputs": []
    },
    {
      "cell_type": "code",
      "source": [
        "np.random.seed(1)\n",
        "X_tmp = np.random.rand(5,6)\n",
        "y_tmp = np.array([0,1,0,1,0])\n",
        "w_tmp = np.random.rand(X_tmp.shape[1]).reshape(-1,)-0.5\n",
        "b_tmp = 0.5\n",
        "\n",
        "lambda_tmp = 0.7\n",
        "cost_tmp = compute_logistic_reg_regularizer(X_tmp, y_tmp, w_tmp, b_tmp, lambda_tmp)\n",
        "\n",
        "print(\"Regularized cost:\", cost_tmp)"
      ],
      "metadata": {
        "colab": {
          "base_uri": "https://localhost:8080/"
        },
        "id": "2QDQd3mJoevH",
        "outputId": "abad050b-27e6-4a6c-954d-f38980117f62"
      },
      "execution_count": 29,
      "outputs": [
        {
          "output_type": "stream",
          "name": "stdout",
          "text": [
            "regularized cost 0.031441433795388524\n",
            "Regularized cost: 0.6850849138741673\n"
          ]
        }
      ]
    },
    {
      "cell_type": "code",
      "source": [
        "def compute_cost_logistic_reg(X, y, w, b, lambda_ = 1):\n",
        "    \"\"\"\n",
        "    Computes the cost over all examples\n",
        "    Args:\n",
        "    Args:\n",
        "      X (ndarray (m,n): Data, m examples with n features\n",
        "      y (ndarray (m,)): target values\n",
        "      w (ndarray (n,)): model parameters  \n",
        "      b (scalar)      : model parameter\n",
        "      lambda_ (scalar): Controls amount of regularization\n",
        "    Returns:\n",
        "      total_cost (scalar):  cost \n",
        "    \"\"\"\n",
        "\n",
        "    m,n  = X.shape\n",
        "    cost = 0.\n",
        "    for i in range(m):\n",
        "        z_i = np.dot(X[i], w) + b                                      #(n,)(n,)=scalar, see np.dot\n",
        "        f_wb_i = sigmoid(z_i)                                          #scalar\n",
        "        cost +=  -y[i]*np.log(f_wb_i) - (1-y[i])*np.log(1-f_wb_i)      #scalar\n",
        "             \n",
        "    cost = cost/m                                                      #scalar\n",
        "\n",
        "    reg_cost = 0\n",
        "    for j in range(n):\n",
        "        reg_cost += (w[j]**2)                                          #scalar\n",
        "    reg_cost = (lambda_/(2*m)) * reg_cost                              #scalar\n",
        "    \n",
        "    total_cost = cost + reg_cost      \n",
        "    print(reg_cost, cost, total_cost)                                 #scalar\n",
        "    return total_cost                                                  #scalar"
      ],
      "metadata": {
        "id": "zAq5m8MzpIcl"
      },
      "execution_count": 30,
      "outputs": []
    },
    {
      "cell_type": "code",
      "source": [
        "np.random.seed(1)\n",
        "X_tmp = np.random.rand(5,6)\n",
        "y_tmp = np.array([0,1,0,1,0])\n",
        "w_tmp = np.random.rand(X_tmp.shape[1]).reshape(-1,)-0.5\n",
        "b_tmp = 0.5\n",
        "lambda_tmp = 0.7\n",
        "cost_tmp = compute_cost_logistic_reg(X_tmp, y_tmp, w_tmp, b_tmp, lambda_tmp)\n",
        "\n",
        "print(\"Regularized cost:\", cost_tmp)"
      ],
      "metadata": {
        "colab": {
          "base_uri": "https://localhost:8080/"
        },
        "id": "ZeVbG9pTq6Fw",
        "outputId": "fd40db29-9db8-48f0-d1f5-9557a84eacd4"
      },
      "execution_count": 31,
      "outputs": [
        {
          "output_type": "stream",
          "name": "stdout",
          "text": [
            "0.031441433795388524 0.6536434800787787 0.6850849138741673\n",
            "Regularized cost: 0.6850849138741673\n"
          ]
        }
      ]
    },
    {
      "cell_type": "markdown",
      "source": [
        "## Gradient descent with regularization\n",
        "The basic algorithm for running gradient descent does not change with regularization, it is:\n",
        "$$\\begin{align*}\n",
        "&\\text{repeat until convergence:} \\; \\lbrace \\\\\n",
        "&  \\; \\; \\;w_j = w_j -  \\alpha \\frac{\\partial J(\\mathbf{w},b)}{\\partial w_j} \\tag{1}  \\; & \\text{for j := 0..n-1} \\\\ \n",
        "&  \\; \\; \\;  \\; \\;b = b -  \\alpha \\frac{\\partial J(\\mathbf{w},b)}{\\partial b} \\\\\n",
        "&\\rbrace\n",
        "\\end{align*}$$\n",
        "Where each iteration performs simultaneous updates on $w_j$ for all $j$.\n",
        "\n",
        "What changes with regularization is computing the gradients."
      ],
      "metadata": {
        "id": "dxKaMcyMr7s7"
      }
    },
    {
      "cell_type": "markdown",
      "source": [
        "### Computing the Gradient with regularization (both linear/logistic)\n",
        "The gradient calculation for both linear and logistic regression are nearly identical, differing only in computation of $f_{\\mathbf{w}b}$.\n",
        "$$\\begin{align*}\n",
        "\\frac{\\partial J(\\mathbf{w},b)}{\\partial w_j}  &= \\frac{1}{m} \\sum\\limits_{i = 0}^{m-1} (f_{\\mathbf{w},b}(\\mathbf{x}^{(i)}) - y^{(i)})x_{j}^{(i)}  +  \\frac{\\lambda}{m} w_j \\tag{2} \\\\\n",
        "\\frac{\\partial J(\\mathbf{w},b)}{\\partial b}  &= \\frac{1}{m} \\sum\\limits_{i = 0}^{m-1} (f_{\\mathbf{w},b}(\\mathbf{x}^{(i)}) - y^{(i)}) \\tag{3} \n",
        "\\end{align*}$$\n",
        "\n",
        "* m is the number of training examples in the data set      \n",
        "* $f_{\\mathbf{w},b}(x^{(i)})$ is the model's prediction, while $y^{(i)}$ is the target\n",
        "\n",
        "      \n",
        "* For a  <span style=\"color:blue\"> **linear** </span> regression model  \n",
        "    $f_{\\mathbf{w},b}(x) = \\mathbf{w} \\cdot \\mathbf{x} + b$  \n",
        "* For a <span style=\"color:blue\"> **logistic** </span> regression model  \n",
        "    $z = \\mathbf{w} \\cdot \\mathbf{x} + b$  \n",
        "    $f_{\\mathbf{w},b}(x) = g(z)$  \n",
        "    where $g(z)$ is the sigmoid function:  \n",
        "    $g(z) = \\frac{1}{1+e^{-z}}$   \n",
        "    \n",
        "The term which adds regularization is  the <span style=\"color:blue\">$\\frac{\\lambda}{m} w_j $</span>."
      ],
      "metadata": {
        "id": "A7NKO1q5r8Xn"
      }
    },
    {
      "cell_type": "code",
      "source": [
        "def gradient_linear_regularizer(x,y,w,b,lambda_):\n",
        "\n",
        "  m,n = x.shape\n",
        "  dj_dw = np.zeros((n,))\n",
        "  dj_db = 0\n",
        "\n",
        "  for i in range(m):\n",
        "\n",
        "    f_wb = np.dot(x[i],w)+b\n",
        "    error = f_wb - y[i]\n",
        "    for j in range(n):\n",
        "      dj_dw = dj_dw + (error * x[i,j])\n",
        "    dj_db = dj_db +error  \n",
        "\n",
        "  dj_dw = dj_dw / m\n",
        "  dj_db = dj_db / m  \n",
        "\n",
        "  for j in range(n):\n",
        "    dj_dw[j] = dj_dw[j] + (lambda_/m)* w[j]\n",
        "  return dj_db , dj_dw\n"
      ],
      "metadata": {
        "id": "BZgXddshq6_w"
      },
      "execution_count": 36,
      "outputs": []
    },
    {
      "cell_type": "code",
      "source": [
        "np.random.seed(1)\n",
        "X_tmp = np.random.rand(5,3)\n",
        "y_tmp = np.array([0,1,0,1,0])\n",
        "w_tmp = np.random.rand(X_tmp.shape[1])\n",
        "b_tmp = 0.5\n",
        "lambda_tmp = 0.7\n",
        "dj_db_tmp, dj_dw_tmp =  gradient_linear_regularizer(X_tmp, y_tmp, w_tmp, b_tmp, lambda_tmp)\n",
        "\n",
        "print(f\"dj_db: {dj_db_tmp}\", )\n",
        "print(f\"Regularized dj_dw:\\n {dj_dw_tmp.tolist()}\", )"
      ],
      "metadata": {
        "colab": {
          "base_uri": "https://localhost:8080/"
        },
        "id": "FQ46L-Nyv8EZ",
        "outputId": "f154a1a1-509c-4d61-cfe6-fabf59c367bb"
      },
      "execution_count": 37,
      "outputs": [
        {
          "output_type": "stream",
          "name": "stdout",
          "text": [
            "dj_db: 0.6648774569425726\n",
            "Regularized dj_dw:\n",
            " [0.8675196371248816, 0.832076858031303, 0.8518707616823105]\n"
          ]
        }
      ]
    },
    {
      "cell_type": "code",
      "source": [
        "def compute_gradient_logistic_reg(X, y, w, b, lambda_): \n",
        "    \"\"\"\n",
        "    Computes the gradient for linear regression \n",
        " \n",
        "    Args:\n",
        "      X (ndarray (m,n): Data, m examples with n features\n",
        "      y (ndarray (m,)): target values\n",
        "      w (ndarray (n,)): model parameters  \n",
        "      b (scalar)      : model parameter\n",
        "      lambda_ (scalar): Controls amount of regularization\n",
        "    Returns\n",
        "      dj_dw (ndarray Shape (n,)): The gradient of the cost w.r.t. the parameters w. \n",
        "      dj_db (scalar)            : The gradient of the cost w.r.t. the parameter b. \n",
        "    \"\"\"\n",
        "    m,n = X.shape\n",
        "    dj_dw = np.zeros((n,))                            #(n,)\n",
        "    dj_db = 0.0                                       #scalar\n",
        "\n",
        "    for i in range(m):\n",
        "        f_wb_i = sigmoid(np.dot(X[i],w) + b)          #(n,)(n,)=scalar\n",
        "        err_i  = f_wb_i  - y[i]                       #scalar\n",
        "        for j in range(n):\n",
        "            dj_dw[j] = dj_dw[j] + err_i * X[i,j]      #scalar\n",
        "        dj_db = dj_db + err_i\n",
        "    dj_dw = dj_dw/m                                   #(n,)\n",
        "    dj_db = dj_db/m                                   #scalar\n",
        "\n",
        "    for j in range(n):\n",
        "        dj_dw[j] = dj_dw[j] + (lambda_/m) * w[j]\n",
        "\n",
        "    return dj_db, dj_dw  \n"
      ],
      "metadata": {
        "id": "RVn7FZRJEuQs"
      },
      "execution_count": 34,
      "outputs": []
    },
    {
      "cell_type": "code",
      "source": [
        "np.random.seed(1)\n",
        "X_tmp = np.random.rand(5,3)\n",
        "y_tmp = np.array([0,1,0,1,0])\n",
        "w_tmp = np.random.rand(X_tmp.shape[1])\n",
        "b_tmp = 0.5\n",
        "lambda_tmp = 0.7\n",
        "dj_db_tmp, dj_dw_tmp =  compute_gradient_logistic_reg(X_tmp, y_tmp, w_tmp, b_tmp, lambda_tmp)\n",
        "\n",
        "print(f\"dj_db: {dj_db_tmp}\", )\n",
        "print(f\"Regularized dj_dw:\\n {dj_dw_tmp.tolist()}\", )"
      ],
      "metadata": {
        "colab": {
          "base_uri": "https://localhost:8080/"
        },
        "id": "LtP5kqSBE5Dd",
        "outputId": "f27b566d-b6cb-46b8-ed1f-d64ea6375e69"
      },
      "execution_count": 35,
      "outputs": [
        {
          "output_type": "stream",
          "name": "stdout",
          "text": [
            "dj_db: 0.341798994972791\n",
            "Regularized dj_dw:\n",
            " [0.17380012933994293, 0.32007507881566943, 0.10776313396851499]\n"
          ]
        }
      ]
    },
    {
      "cell_type": "markdown",
      "source": [
        "# Predict\n"
      ],
      "metadata": {
        "id": "Ba3tJdoLSKLf"
      }
    },
    {
      "cell_type": "code",
      "source": [
        "# UNQ_C4\n",
        "# GRADED FUNCTION: predict\n",
        "\n",
        "def predict(X, w, b): \n",
        "    \"\"\"\n",
        "    Predict whether the label is 0 or 1 using learned logistic\n",
        "    regression parameters w\n",
        "    \n",
        "    Args:\n",
        "    X : (ndarray Shape (m, n))\n",
        "    w : (array_like Shape (n,))      Parameters of the model\n",
        "    b : (scalar, float)              Parameter of the model\n",
        "\n",
        "    Returns:\n",
        "    p: (ndarray (m,1))\n",
        "        The predictions for X using a threshold at 0.5\n",
        "    \"\"\"\n",
        "    # number of training examples\n",
        "    m, n = X.shape   \n",
        "    p = np.zeros(m)\n",
        "   \n",
        "    ### START CODE HERE ### \n",
        "    # Loop over each example\n",
        "    for i in range(m):   \n",
        "        # Calculate f_wb (exactly how you did it in the compute_cost function above)\n",
        "        z_wb = 0\n",
        "    \n",
        "        \n",
        "        # Loop over each feature\n",
        "        for j in range(n): \n",
        "            # Add the corresponding term to z_wb\n",
        "            z_wb_ij = X[i, j] * w[j]\n",
        "            z_wb += z_wb_ij\n",
        "            \n",
        "        # Add bias term \n",
        "        z_wb += b\n",
        "        \n",
        "        # Calculate the prediction from the model\n",
        "        f_wb = sigmoid(z_wb)\n",
        "        if f_wb >0.5:\n",
        "            p[i] = 1\n",
        "        else:\n",
        "            p[i] = 0\n",
        "    ### END CODE HERE ### \n",
        "    return p"
      ],
      "metadata": {
        "id": "XB0zYn2jFFTU"
      },
      "execution_count": 39,
      "outputs": []
    },
    {
      "cell_type": "code",
      "source": [
        "# Test your predict code\n",
        "np.random.seed(1)\n",
        "tmp_w = np.random.randn(2)\n",
        "tmp_b = 0.3    \n",
        "tmp_X = np.random.randn(4, 2) - 0.5\n",
        "\n",
        "tmp_p = predict(tmp_X, tmp_w, tmp_b)\n",
        "print(f'Output of predict: shape {tmp_p.shape}, value {tmp_p}')\n",
        "\n",
        "# # UNIT TESTS        \n",
        "# predict_test(predict)"
      ],
      "metadata": {
        "colab": {
          "base_uri": "https://localhost:8080/"
        },
        "id": "_bLcCxD_SL9H",
        "outputId": "f6db0997-76e9-4e1d-e046-fffb98161802"
      },
      "execution_count": 40,
      "outputs": [
        {
          "output_type": "stream",
          "name": "stdout",
          "text": [
            "Output of predict: shape (4,), value [0. 1. 1. 1.]\n"
          ]
        }
      ]
    },
    {
      "cell_type": "code",
      "source": [
        ""
      ],
      "metadata": {
        "id": "tuk1znRASRuy"
      },
      "execution_count": null,
      "outputs": []
    }
  ]
}