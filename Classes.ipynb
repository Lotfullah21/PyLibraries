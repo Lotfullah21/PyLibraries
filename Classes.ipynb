{
  "nbformat": 4,
  "nbformat_minor": 0,
  "metadata": {
    "colab": {
      "provenance": [],
      "collapsed_sections": [],
      "authorship_tag": "ABX9TyM9jh8wjjEAUd4iW2Hw4jpm",
      "include_colab_link": true
    },
    "kernelspec": {
      "name": "python3",
      "display_name": "Python 3"
    },
    "language_info": {
      "name": "python"
    }
  },
  "cells": [
    {
      "cell_type": "markdown",
      "metadata": {
        "id": "view-in-github",
        "colab_type": "text"
      },
      "source": [
        "<a href=\"https://colab.research.google.com/github/Lotfullah21/PyLibraries/blob/main/Classes.ipynb\" target=\"_parent\"><img src=\"https://colab.research.google.com/assets/colab-badge.svg\" alt=\"Open In Colab\"/></a>"
      ]
    },
    {
      "cell_type": "code",
      "execution_count": 23,
      "metadata": {
        "id": "0PSYZcTa1YEa"
      },
      "outputs": [],
      "source": [
        "# Class Definition with constructor and Methods\n",
        "\n",
        "class Library(object):\n",
        "  Number_Books = 12320 # class attribute\n",
        "  def __init__(self,floors,desks,students,hours):\n",
        "    self.floors = floors\n",
        "    self.desk = desks\n",
        "    self.no_students = students\n",
        "    self.working_hours = hours\n",
        "  \n",
        "\n",
        "  # another method\n",
        "\n",
        "  def sunday_working_hours(self):\n",
        "    self.working_hours = self.working_hours - 7\n",
        "    return  self.working_hours\n",
        "  \n",
        "  def normal_working_hours(self):\n",
        "    self.working_hours = self.working_hours\n",
        "    return  self.working_hours"
      ]
    },
    {
      "cell_type": "code",
      "source": [
        "Jntuh = Library(3,200,200,13.5)\n",
        "# to print instance attribute of Jntuh,we can see Number_Books is not there as it is an class instance\n",
        "print(vars(Jntuh))\n",
        "Jntuh.normal_working_hours()\n",
        "Jntuh.sunday_working_hours()\n",
        "Jntuh.Number_Books"
      ],
      "metadata": {
        "colab": {
          "base_uri": "https://localhost:8080/"
        },
        "id": "7YY6FwAo1bGW",
        "outputId": "35699bfd-d96a-4e9f-c72a-2b039a674c08"
      },
      "execution_count": 24,
      "outputs": [
        {
          "output_type": "stream",
          "name": "stdout",
          "text": [
            "{'floors': 3, 'desk': 200, 'no_students': 200, 'working_hours': 13.5}\n"
          ]
        },
        {
          "output_type": "execute_result",
          "data": {
            "text/plain": [
              "12320"
            ]
          },
          "metadata": {},
          "execution_count": 24
        }
      ]
    },
    {
      "cell_type": "code",
      "source": [
        "NITW = Library(3,400,300,12)\n",
        "print(\"Normal working hours\",NITW.normal_working_hours())\n",
        "print(\"Sundays\",NITW.sunday_working_hours())\n",
        "print(vars(NITW))\n",
        "print(\"total number of books\",NITW.Number_Books)"
      ],
      "metadata": {
        "colab": {
          "base_uri": "https://localhost:8080/"
        },
        "id": "0eHyXWqo1tsK",
        "outputId": "d9a82bcd-4f0e-4bed-d952-7b85f1837abf"
      },
      "execution_count": 28,
      "outputs": [
        {
          "output_type": "stream",
          "name": "stdout",
          "text": [
            "Normal working hours 12\n",
            "Sundays 5\n",
            "{'floors': 3, 'desk': 400, 'no_students': 300, 'working_hours': 5}\n",
            "total number of books 12320\n"
          ]
        }
      ]
    },
    {
      "cell_type": "markdown",
      "source": [
        "Inheritance allows us to define a class that inherits all the methods from other class. parent classes are known as base class and all the methods will be inherited from them.child class are known as derived class where the inherit methods and classes from the base class, it allows to reuse some part of the code which is already written and does not require new methods."
      ],
      "metadata": {
        "id": "n-P-HFyN6O6D"
      }
    },
    {
      "cell_type": "code",
      "source": [
        "class Info:\n",
        "  def __init__(self,name,year=None):\n",
        "    self.name = name\n",
        "    self.foundation_year = year\n",
        "  \n",
        "  def info(self):\n",
        "    return(f\"{self.name} was founded in {self.foundation_year}\")"
      ],
      "metadata": {
        "id": "otBpftSi243_"
      },
      "execution_count": 101,
      "outputs": []
    },
    {
      "cell_type": "code",
      "source": [
        "Jntuh = Info(\"JNTUH\",1990)\n",
        "NITW = Info(\"NIT Warangal\")"
      ],
      "metadata": {
        "id": "xfcAvysm6THy"
      },
      "execution_count": 40,
      "outputs": []
    },
    {
      "cell_type": "code",
      "source": [
        "print(NITW.name)"
      ],
      "metadata": {
        "colab": {
          "base_uri": "https://localhost:8080/"
        },
        "id": "yrnWhUi_9B01",
        "outputId": "bad1e108-ba66-484b-8e18-78058adae992"
      },
      "execution_count": 41,
      "outputs": [
        {
          "output_type": "stream",
          "name": "stdout",
          "text": [
            "NIT Warangal\n"
          ]
        }
      ]
    },
    {
      "cell_type": "code",
      "source": [
        "print(Jntuh.foundation_year)\n",
        "print(NITW.foundation_year)"
      ],
      "metadata": {
        "colab": {
          "base_uri": "https://localhost:8080/"
        },
        "id": "AJd_jWWv9O1b",
        "outputId": "fbb374cb-a1fb-4ee6-ef64-2ee58dbc87d3"
      },
      "execution_count": 45,
      "outputs": [
        {
          "output_type": "stream",
          "name": "stdout",
          "text": [
            "1990\n",
            "None\n"
          ]
        }
      ]
    },
    {
      "cell_type": "code",
      "source": [
        "class Chatinya(Info):\n",
        "  pass\n"
      ],
      "metadata": {
        "id": "W6VulTOU9cy2"
      },
      "execution_count": 46,
      "outputs": []
    },
    {
      "cell_type": "code",
      "source": [
        "chatinya = Chatinya(\"king,\",2112)"
      ],
      "metadata": {
        "id": "HCFX_WdC9wHq"
      },
      "execution_count": 47,
      "outputs": []
    },
    {
      "cell_type": "markdown",
      "source": [
        "Note : if we an initializer or constructor to our child class, then this init method will override the parent class initializer, Hence we can add parents initializer to the child class to avoid the overriding issue."
      ],
      "metadata": {
        "id": "WMufPO9j-FVe"
      }
    },
    {
      "cell_type": "code",
      "source": [
        "# class Chatinya(Info):\n",
        "#   def __init__(self,name,year,rank,performance):\n",
        "#     Info.__init__(self,name,year)\n",
        "#     self.rank = rank\n",
        "\n",
        "#   def Performance(self,performance):\n",
        "#     self.performance = performance\n",
        "#     return (f\"the quality is {self.performance}\")\n"
      ],
      "metadata": {
        "id": "DYVRtF9R9233"
      },
      "execution_count": 79,
      "outputs": []
    },
    {
      "cell_type": "code",
      "source": [
        "chatinya = Chatinya(\"king,\",2112,2,\"bad\")"
      ],
      "metadata": {
        "id": "s6SiLZDy-53i"
      },
      "execution_count": 73,
      "outputs": []
    },
    {
      "cell_type": "code",
      "source": [
        "print(vars(chatinya))\n",
        "print(chatinya.Performance(\"bad\"))\n",
        "print(chatinya.name)\n",
        "print(chatinya.foundation_year)"
      ],
      "metadata": {
        "colab": {
          "base_uri": "https://localhost:8080/"
        },
        "id": "FEuxSXPR_Cdy",
        "outputId": "512a4f1d-0772-497e-ba48-88f5aa7669e2"
      },
      "execution_count": 76,
      "outputs": [
        {
          "output_type": "stream",
          "name": "stdout",
          "text": [
            "{'name': 'king,', 'foundation_year': 2112, 'rank': 2, 'performance': 'bad'}\n",
            "the quality is bad\n",
            "king,\n",
            "2112\n"
          ]
        }
      ]
    },
    {
      "cell_type": "markdown",
      "source": [
        "#### Super() function:\n",
        "we can use super function also to inherit all the method and attributes from parent class to the child class, one benefit is we not need to write the name of parent class here"
      ],
      "metadata": {
        "id": "2TfcxQAeBJiS"
      }
    },
    {
      "cell_type": "code",
      "source": [
        "class Chatinya(Info):\n",
        "  def __init__(self,name,year,rank,performance):\n",
        "    super().__init__(name,year)  # don't put the self keyword here, unlike the earlier method\n",
        "    # Info.__init__(self,name,year) # when you add the parent class in this, you always need to put self in init method\n",
        "    self.rank = rank\n",
        "\n",
        "  def Performance(self,performance):\n",
        "    self.performance = performance\n",
        "    return (f\"the quality is {self.performance}\")"
      ],
      "metadata": {
        "id": "O0i0m-sM_f_v"
      },
      "execution_count": 111,
      "outputs": []
    },
    {
      "cell_type": "code",
      "source": [
        "chatinya = Chatinya(\"king,\",2112,2,\"bad\")"
      ],
      "metadata": {
        "id": "cCE_9GbyB3kA"
      },
      "execution_count": 108,
      "outputs": []
    },
    {
      "cell_type": "code",
      "source": [
        "print(vars(chatinya))\n",
        "print(chatinya.Performance(\"bad\"))\n",
        "print(chatinya.name)\n",
        "print(chatinya.foundation_year)\n",
        "print(chatinya.rank)"
      ],
      "metadata": {
        "colab": {
          "base_uri": "https://localhost:8080/"
        },
        "id": "Ge37qNNFCTkt",
        "outputId": "d28487db-999c-4cdc-97cf-23e6547d4d7d"
      },
      "execution_count": 110,
      "outputs": [
        {
          "output_type": "stream",
          "name": "stdout",
          "text": [
            "{'name': 'king,', 'foundation_year': 2112, 'rank': 2, 'performance': 'bad'}\n",
            "the quality is bad\n",
            "king,\n",
            "2112\n",
            "2\n"
          ]
        }
      ]
    },
    {
      "cell_type": "markdown",
      "source": [
        "### Multiple Inheritance\n",
        "we can have more than one base class, where our child class can inheirt properties from both or more than two class"
      ],
      "metadata": {
        "id": "ut92y668KYpX"
      }
    },
    {
      "cell_type": "code",
      "source": [
        "class Computer:\n",
        "  origin = \"\"\n",
        "  def Origin(self):\n",
        "    print(self.origin)\n",
        "  \n",
        "class Internet:\n",
        "  birth_place = \"\"\n",
        "  def Birth_place(self):\n",
        "    print(self.birth_place)\n",
        "\n",
        "class Mobile(Computer,Internet):\n",
        "  def Parents(self):\n",
        "    print(\"Origin of iphones\",self.origin)\n",
        "    print(\"Birth place of iphones\",self.birth_place)\n",
        "\n",
        "iphone = Mobile()\n",
        "iphone.origin = \"garage\"\n",
        "iphone.birth_place = \"California\"\n",
        "iphone.Origin()\n",
        "iphone.Birth_place()\n",
        "print(iphone.__dict__)\n",
        "iphone.Parents()"
      ],
      "metadata": {
        "colab": {
          "base_uri": "https://localhost:8080/"
        },
        "id": "6tuOqX8hD2_5",
        "outputId": "38112b09-f433-46f0-9aaa-57eee21be727"
      },
      "execution_count": 117,
      "outputs": [
        {
          "output_type": "stream",
          "name": "stdout",
          "text": [
            "garage\n",
            "California\n",
            "{'origin': 'garage', 'birth_place': 'California'}\n",
            "Origin of iphones garage\n",
            "Birth place of iphones California\n"
          ]
        }
      ]
    },
    {
      "cell_type": "markdown",
      "source": [
        "### Multilevel Inheritance\n",
        "Here, the relation ships are going deeper between Parent class, Child class and sub-sub child class"
      ],
      "metadata": {
        "id": "aJ9tV_JPNj1L"
      }
    },
    {
      "cell_type": "code",
      "source": [
        "class Math(object):\n",
        "  def __init__(self,core):\n",
        "    self.core = core\n",
        "\n",
        "class Computer(Math):\n",
        "  def __init__(self,core,origin):\n",
        "    super().__init__(core)\n",
        "    self.origin = origin\n",
        "  \n",
        "  def get_info(self):\n",
        "    return(f\"the core of Computers are {self.core},and it's origin was {self.origin}\")\n",
        "\n",
        "class Internet(Computer):\n",
        "  def __init__(self,core,origin,birth_place):\n",
        "    super().__init__(core,origin)\n",
        "    self.birth_place = birth_place\n",
        "  \n",
        "  def get_info(self):\n",
        "    return(f\"the core of Computers are {self.core},and it's origin was {self.birth_place}\")\n",
        "\n",
        "class Mobile(Internet):\n",
        "  def __init__(self,core,origin,birth_place,king):\n",
        "    super().__init__(core,origin,birth_place)\n",
        "    self.king = king\n",
        "\n",
        "  \n",
        "  def get_info(self):\n",
        "    return(f\"the core of Computers is {self.core},and the king of Mobile phones are {self.king}\")\n"
      ],
      "metadata": {
        "id": "3WFfV8CVKyVF"
      },
      "execution_count": 121,
      "outputs": []
    },
    {
      "cell_type": "code",
      "source": [
        "mobile = Mobile(\"Math\",\"Britian\", \"Bell labs\",\"Apple\")   \n",
        "mobile.get_info()\n",
        "# we viwe method resolution order\n",
        "Mobile.mro()\n"
      ],
      "metadata": {
        "colab": {
          "base_uri": "https://localhost:8080/"
        },
        "id": "NWIulF47QGzw",
        "outputId": "a2d6487d-0434-4915-9b93-12c484d9f768"
      },
      "execution_count": 135,
      "outputs": [
        {
          "output_type": "execute_result",
          "data": {
            "text/plain": [
              "[__main__.Mobile, __main__.Internet, __main__.Computer, __main__.Math, object]"
            ]
          },
          "metadata": {},
          "execution_count": 135
        }
      ]
    },
    {
      "cell_type": "code",
      "source": [
        "class Class1: \n",
        "    def m(self): \n",
        "        print(\"In Class1\") \n",
        "  \n",
        "class Class2(Class1): \n",
        "    def m(self): \n",
        "        print(\"In Class2\") \n",
        "        super().m() \n",
        "  \n",
        "class Class3(Class1): \n",
        "    def m(self): \n",
        "        print(\"In Class3\") \n",
        "        super().m() \n",
        "  \n",
        "class Class4(Class2, Class3): \n",
        "    def m(self): \n",
        "        print(\"In Class4\")    \n",
        "        super().m() \n",
        "       \n",
        "obj = Class4() \n",
        "obj.m()"
      ],
      "metadata": {
        "colab": {
          "base_uri": "https://localhost:8080/"
        },
        "id": "N44OoqgOVqPO",
        "outputId": "be6b78f4-dea3-41b5-d21c-bbd7507155da"
      },
      "execution_count": 134,
      "outputs": [
        {
          "output_type": "stream",
          "name": "stdout",
          "text": [
            "In Class4\n",
            "In Class2\n",
            "In Class3\n",
            "In Class1\n"
          ]
        }
      ]
    },
    {
      "cell_type": "markdown",
      "source": [
        "###Hierarchical Inheritance\n",
        "When we are having the same base class for both or more of our child class, then we are in hierarchical inheritance"
      ],
      "metadata": {
        "id": "jIc1Yi3DQ8j0"
      }
    },
    {
      "cell_type": "code",
      "source": [
        "# Base Class\n",
        "class Math(object):\n",
        "  def __init__(self,core):\n",
        "    self.core = core\n",
        "\n",
        "# derived class 1\n",
        "class Universe(Math):\n",
        "  def get_info(self):\n",
        "    print(f\"Universe can be more explainable using {self.core}\")\n",
        "\n",
        "\n",
        "# derived class 2\n",
        "class Computer(Math):  \n",
        "  def get_info(self):\n",
        "    print(f\"Computer core is {self.core}\")\n"
      ],
      "metadata": {
        "id": "wWF5Ne6IQkYp"
      },
      "execution_count": 131,
      "outputs": []
    },
    {
      "cell_type": "code",
      "source": [
        "universe = Universe(\"Math\")\n",
        "computer = Computer(\"Matrices\")\n",
        "universe.get_info()\n",
        "computer.get_info()\n"
      ],
      "metadata": {
        "colab": {
          "base_uri": "https://localhost:8080/"
        },
        "id": "6M4VOCc9TOLX",
        "outputId": "dcac7b99-d491-467a-f43b-917058fcb25e"
      },
      "execution_count": 132,
      "outputs": [
        {
          "output_type": "stream",
          "name": "stdout",
          "text": [
            "Universe can be more explainable using Math\n",
            "Computer core is Matrices\n"
          ]
        }
      ]
    },
    {
      "cell_type": "code",
      "source": [],
      "metadata": {
        "id": "sH9N5abBUlAt"
      },
      "execution_count": null,
      "outputs": []
    }
  ]
}