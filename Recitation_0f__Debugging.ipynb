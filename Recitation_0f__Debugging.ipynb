{
  "nbformat": 4,
  "nbformat_minor": 0,
  "metadata": {
    "colab": {
      "provenance": [],
      "include_colab_link": true
    },
    "kernelspec": {
      "name": "python3",
      "display_name": "Python 3"
    },
    "language_info": {
      "name": "python"
    }
  },
  "cells": [
    {
      "cell_type": "markdown",
      "metadata": {
        "id": "view-in-github",
        "colab_type": "text"
      },
      "source": [
        "<a href=\"https://colab.research.google.com/github/Lotfullah21/PyLibraries/blob/main/Recitation_0f__Debugging.ipynb\" target=\"_parent\"><img src=\"https://colab.research.google.com/assets/colab-badge.svg\" alt=\"Open In Colab\"/></a>"
      ]
    },
    {
      "cell_type": "markdown",
      "source": [
        "# Recitation 0H Debugging\n",
        "Debugging your code is an indispensable skill when training a model. \n"
      ],
      "metadata": {
        "id": "-IopG3Eoo7Oc"
      }
    },
    {
      "cell_type": "markdown",
      "source": [
        "#  Debugging\n",
        "\n",
        "We will discuss three different ways to debug:\n",
        "- Print\n",
        "- Logging\n",
        "- Python Debugger (Pdb)"
      ],
      "metadata": {
        "id": "u3es1CObplIF"
      }
    },
    {
      "cell_type": "markdown",
      "source": [
        "**1. Print**"
      ],
      "metadata": {
        "id": "OafOD6B4pwVf"
      }
    },
    {
      "cell_type": "code",
      "execution_count": 1,
      "metadata": {
        "id": "VmTZSrzyowvA",
        "colab": {
          "base_uri": "https://localhost:8080/"
        },
        "outputId": "a49e345c-02e4-4839-98ec-cae8509990ff"
      },
      "outputs": [
        {
          "output_type": "stream",
          "name": "stdout",
          "text": [
            "Numpy array: \n",
            "Shape of n_vector: (2, 3)\n",
            "Type of n_vector: <class 'numpy.ndarray'>\n",
            "Data type of n_vector: float64\n",
            "\n",
            "Torch tensor: \n",
            "Shape of t_vector: torch.Size([2, 3])\n",
            "Type of t_vector: <class 'torch.Tensor'>\n",
            "Data type of t_vector: torch.float64\n"
          ]
        }
      ],
      "source": [
        "import torch  \n",
        "import numpy as np\n",
        "import random\n",
        "\n",
        "n_vector = np.random.rand(random.randint(1,5), random.randint(1,5))\n",
        "\n",
        "print('Numpy array: ')\n",
        "print(\"Shape of n_vector: {}\".format(n_vector.shape))\n",
        "print(\"Type of n_vector: {}\".format(type(n_vector)))\n",
        "print(\"Data type of n_vector: {}\\n\".format(n_vector.dtype))\n",
        "\n",
        "t_vector = torch.from_numpy(n_vector)\n",
        "\n",
        "print('Torch tensor: ')\n",
        "print(\"Shape of t_vector: {}\".format(t_vector.shape))\n",
        "print(\"Type of t_vector: {}\".format(type(t_vector)))\n",
        "print(\"Data type of t_vector: {}\".format(t_vector.dtype))"
      ]
    },
    {
      "cell_type": "code",
      "source": [
        "import numpy as np\n",
        "import random \n",
        "\n",
        "length = random.randint(5,7)\n",
        "data = np.random.rand(length)\n",
        "print('Original data:\\n {}'.format(data))\n",
        "\n",
        "sum = 0\n",
        "result = np.zeros(length)\n",
        "for i in range(length):\n",
        "  sum += data[i]\n",
        "  result[i] = sum\n",
        "  print('Result in {}-th iteration:\\n {}'.format(i, result))\n"
      ],
      "metadata": {
        "colab": {
          "base_uri": "https://localhost:8080/"
        },
        "id": "MGVmLmXBud4B",
        "outputId": "2decc120-534a-4789-abbb-b96e68a09103"
      },
      "execution_count": 2,
      "outputs": [
        {
          "output_type": "stream",
          "name": "stdout",
          "text": [
            "Original data:\n",
            " [0.59477586 0.48926419 0.61889125 0.33477756 0.31933974 0.28413547\n",
            " 0.64569087]\n",
            "Result in 0-th iteration:\n",
            " [0.59477586 0.         0.         0.         0.         0.\n",
            " 0.        ]\n",
            "Result in 1-th iteration:\n",
            " [0.59477586 1.08404005 0.         0.         0.         0.\n",
            " 0.        ]\n",
            "Result in 2-th iteration:\n",
            " [0.59477586 1.08404005 1.7029313  0.         0.         0.\n",
            " 0.        ]\n",
            "Result in 3-th iteration:\n",
            " [0.59477586 1.08404005 1.7029313  2.03770885 0.         0.\n",
            " 0.        ]\n",
            "Result in 4-th iteration:\n",
            " [0.59477586 1.08404005 1.7029313  2.03770885 2.35704859 0.\n",
            " 0.        ]\n",
            "Result in 5-th iteration:\n",
            " [0.59477586 1.08404005 1.7029313  2.03770885 2.35704859 2.64118406\n",
            " 0.        ]\n",
            "Result in 6-th iteration:\n",
            " [0.59477586 1.08404005 1.7029313  2.03770885 2.35704859 2.64118406\n",
            " 3.28687494]\n"
          ]
        }
      ]
    },
    {
      "cell_type": "markdown",
      "source": [
        "**2. Logging**\n",
        "\n",
        "Logging is  more  powerful than print statements. \n",
        "Both logging and print statements allow to us to check whether the code is working, but logging has some additional advantages: \n",
        "- Logging uses severity levels to differentiate  which messages are  important and  which are not. \n",
        "- Logging allows to print to a file such that you can leave behind breadcrumbs to trace back to the point where the code breaks. \n",
        "-  Logging can give context information like time and file name etc.\n",
        "\n",
        "https://akshatgupta57.medium.com/logging-in-python-a-gentle-introduction-63150cd297d0"
      ],
      "metadata": {
        "id": "F_KtKq11vM6o"
      }
    },
    {
      "cell_type": "code",
      "source": [
        "import numpy as np\n",
        "import  random \n",
        "import logging\n",
        "\n",
        "#Configuring logger\n",
        "MSGFORMAT = '%(asctime)s  ::  %(levelname)s   :  %(message)s'\n",
        "DATEFMT = '%m/%d/%Y %I:$M:%S  %p' \n",
        "logging.basicConfig(level = logging.WARNING, format = MSGFORMAT, datefmt = DATEFMT)\n",
        "\n",
        "length = random.randint(5,7)\n",
        "data = np.random.rand(length)\n",
        "logging.warning('Original data:\\n {}'.format(data))\n",
        "\n",
        "sum = 0 \n",
        "result = np.zeros(length)\n",
        "for i in range(length):\n",
        "  sum += data[i]\n",
        "  result[i] = sum\n",
        "  logging.warning('Result in {}-th iteration:\\n {}'.format(i, result))"
      ],
      "metadata": {
        "colab": {
          "base_uri": "https://localhost:8080/"
        },
        "id": "j5Q_BrgAvMkO",
        "outputId": "53689548-6b84-4a4d-e6ef-95608d8052d8"
      },
      "execution_count": 3,
      "outputs": [
        {
          "output_type": "stream",
          "name": "stderr",
          "text": [
            "WARNING:root:Original data:\n",
            " [0.32198831 0.52396395 0.0058219  0.96172492 0.36747842 0.11657459\n",
            " 0.25671678]\n",
            "WARNING:root:Result in 0-th iteration:\n",
            " [0.32198831 0.         0.         0.         0.         0.\n",
            " 0.        ]\n",
            "WARNING:root:Result in 1-th iteration:\n",
            " [0.32198831 0.84595226 0.         0.         0.         0.\n",
            " 0.        ]\n",
            "WARNING:root:Result in 2-th iteration:\n",
            " [0.32198831 0.84595226 0.85177416 0.         0.         0.\n",
            " 0.        ]\n",
            "WARNING:root:Result in 3-th iteration:\n",
            " [0.32198831 0.84595226 0.85177416 1.81349909 0.         0.\n",
            " 0.        ]\n",
            "WARNING:root:Result in 4-th iteration:\n",
            " [0.32198831 0.84595226 0.85177416 1.81349909 2.1809775  0.\n",
            " 0.        ]\n",
            "WARNING:root:Result in 5-th iteration:\n",
            " [0.32198831 0.84595226 0.85177416 1.81349909 2.1809775  2.29755209\n",
            " 0.        ]\n",
            "WARNING:root:Result in 6-th iteration:\n",
            " [0.32198831 0.84595226 0.85177416 1.81349909 2.1809775  2.29755209\n",
            " 2.55426887]\n"
          ]
        }
      ]
    },
    {
      "cell_type": "markdown",
      "source": [
        "**3.  Python Debugger (Pdb)**"
      ],
      "metadata": {
        "id": "qNLfphE41cP8"
      }
    },
    {
      "cell_type": "code",
      "source": [
        "import pdb\n",
        "import numpy as np\n",
        "import random\n",
        "\n",
        "length = random.randint(5,7)\n",
        "data = np.random.rand(length)\n",
        "print('Original data:\\n {}'.format(data))\n",
        "\n",
        "sum = 0\n",
        "result = np.zeros(length)\n",
        "for i in range(length):\n",
        "  # pdb.set_trace()\n",
        "  sum += data[i]\n",
        "  result[i] = sum\n",
        "  print('Result in {}-th iteration:\\n {}'.format(i, result))\n",
        "  "
      ],
      "metadata": {
        "colab": {
          "base_uri": "https://localhost:8080/"
        },
        "id": "gUg5ome1ujmm",
        "outputId": "a268658a-46e3-41dc-d605-cacd7632bb4c"
      },
      "execution_count": 4,
      "outputs": [
        {
          "output_type": "stream",
          "name": "stdout",
          "text": [
            "Original data:\n",
            " [0.34493163 0.38726883 0.95286392 0.15068361 0.8015703  0.22445552\n",
            " 0.03668614]\n",
            "Result in 0-th iteration:\n",
            " [0.34493163 0.         0.         0.         0.         0.\n",
            " 0.        ]\n",
            "Result in 1-th iteration:\n",
            " [0.34493163 0.73220045 0.         0.         0.         0.\n",
            " 0.        ]\n",
            "Result in 2-th iteration:\n",
            " [0.34493163 0.73220045 1.68506438 0.         0.         0.\n",
            " 0.        ]\n",
            "Result in 3-th iteration:\n",
            " [0.34493163 0.73220045 1.68506438 1.83574799 0.         0.\n",
            " 0.        ]\n",
            "Result in 4-th iteration:\n",
            " [0.34493163 0.73220045 1.68506438 1.83574799 2.63731829 0.\n",
            " 0.        ]\n",
            "Result in 5-th iteration:\n",
            " [0.34493163 0.73220045 1.68506438 1.83574799 2.63731829 2.86177381\n",
            " 0.        ]\n",
            "Result in 6-th iteration:\n",
            " [0.34493163 0.73220045 1.68506438 1.83574799 2.63731829 2.86177381\n",
            " 2.89845995]\n"
          ]
        }
      ]
    }
  ]
}