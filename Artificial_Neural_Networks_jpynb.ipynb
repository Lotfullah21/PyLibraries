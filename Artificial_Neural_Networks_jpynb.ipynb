{
  "nbformat": 4,
  "nbformat_minor": 0,
  "metadata": {
    "colab": {
      "name": "Artificial Neural Networks.jpynb",
      "provenance": [],
      "authorship_tag": "ABX9TyNow4jFHdP6rh5FvpfinvEK",
      "include_colab_link": true
    },
    "kernelspec": {
      "name": "python3",
      "display_name": "Python 3"
    },
    "language_info": {
      "name": "python"
    }
  },
  "cells": [
    {
      "cell_type": "markdown",
      "metadata": {
        "id": "view-in-github",
        "colab_type": "text"
      },
      "source": [
        "<a href=\"https://colab.research.google.com/github/Lotfullah21/PyLibraries/blob/main/Artificial_Neural_Networks_jpynb.ipynb\" target=\"_parent\"><img src=\"https://colab.research.google.com/assets/colab-badge.svg\" alt=\"Open In Colab\"/></a>"
      ]
    },
    {
      "cell_type": "code",
      "execution_count": 1,
      "metadata": {
        "id": "qSLexjbIDU67",
        "colab": {
          "base_uri": "https://localhost:8080/"
        },
        "outputId": "b7b1e1d3-0a47-434f-b0a5-d5857a84852d"
      },
      "outputs": [
        {
          "output_type": "execute_result",
          "data": {
            "text/plain": [
              "(6, 1)"
            ]
          },
          "metadata": {},
          "execution_count": 1
        }
      ],
      "source": [
        "import numpy as np\n",
        "import matplotlib.pyplot as plt\n",
        "import tensorflow as tf\n",
        "from tensorflow.keras import Sequential\n",
        "X_train = np.array([0., 1, 2, 3, 4, 5], dtype=np.float32).reshape(-1,1)  # 2-D Matrix\n",
        "Y_train = np.array([0,  0, 0, 1, 1, 1], dtype=np.float32).reshape(-1,1)  # 2-D Matrix\n",
        "X_train.shape"
      ]
    },
    {
      "cell_type": "code",
      "source": [
        "pos = Y_train == 1\n",
        "neg = Y_train == 0\n",
        "X_train[pos]\n",
        "X_train[neg]"
      ],
      "metadata": {
        "colab": {
          "base_uri": "https://localhost:8080/"
        },
        "id": "Gk5c_HFp8jlo",
        "outputId": "2c7a201c-994e-470e-86e6-62f2ff48b932"
      },
      "execution_count": 2,
      "outputs": [
        {
          "output_type": "execute_result",
          "data": {
            "text/plain": [
              "array([0., 1., 2.], dtype=float32)"
            ]
          },
          "metadata": {},
          "execution_count": 2
        }
      ]
    },
    {
      "cell_type": "code",
      "source": [
        "pos = Y_train == 1\n",
        "neg = Y_train == 0\n",
        "\n",
        "fig,ax = plt.subplots(1,1,figsize=(4,3))\n",
        "ax.scatter(X_train[pos], Y_train[pos], marker='x', s=80, c = 'red', label=\"y=1\")\n",
        "ax.scatter(X_train[neg], Y_train[neg], marker='o', s=100, label=\"y=0\")\n",
        "\n",
        "ax.set_ylim(-0.08,1.1)\n",
        "ax.set_ylabel('y', fontsize=12)\n",
        "ax.set_xlabel('x', fontsize=12)\n",
        "ax.set_title('one variable plot')\n",
        "ax.legend(fontsize=12)\n",
        "plt.show()"
      ],
      "metadata": {
        "colab": {
          "base_uri": "https://localhost:8080/",
          "height": 244
        },
        "id": "yrM8h5a58l4w",
        "outputId": "2b14cbd1-8409-422e-d038-eb0b69d7d921"
      },
      "execution_count": 3,
      "outputs": [
        {
          "output_type": "display_data",
          "data": {
            "text/plain": [
              "<Figure size 288x216 with 1 Axes>"
            ],
            "image/png": "[encoded data removed]"
          },
          "metadata": {
            "needs_background": "light"
          }
        }
      ]
    },
    {
      "cell_type": "code",
      "source": [
        "model = Sequential(\n",
        "    [\n",
        "        tf.keras.layers.Dense(1, input_dim=1,  activation = 'sigmoid', name='L1')\n",
        "    ]\n",
        ")"
      ],
      "metadata": {
        "id": "OZe9ZuLR8mHV"
      },
      "execution_count": 4,
      "outputs": []
    },
    {
      "cell_type": "code",
      "source": [
        "model.summary"
      ],
      "metadata": {
        "colab": {
          "base_uri": "https://localhost:8080/"
        },
        "id": "12hu_JtP95T-",
        "outputId": "1350fc65-6200-4b5d-c609-b9bff7e9a7c2"
      },
      "execution_count": 6,
      "outputs": [
        {
          "output_type": "execute_result",
          "data": {
            "text/plain": [
              "<bound method Model.summary of <keras.engine.sequential.Sequential object at 0x7f20ab818a90>>"
            ]
          },
          "metadata": {},
          "execution_count": 6
        }
      ]
    },
    {
      "cell_type": "markdown",
      "source": [
        "# Coffee Roasting Example in TensorFlow"
      ],
      "metadata": {
        "id": "jnpOLMeib8J4"
      }
    },
    {
      "cell_type": "code",
      "source": [
        "import numpy as np\n",
        "import matplotlib.pyplot as plt\n",
        "from tensorflow.keras.models import Sequential\n",
        "from tensorflow.keras.layers import Dense\n",
        "from keras.datasets import boston_housing\n",
        "import tensorflow as tf"
      ],
      "metadata": {
        "id": "Sr8pktNbb7Zt"
      },
      "execution_count": 14,
      "outputs": []
    },
    {
      "cell_type": "code",
      "source": [
        "(train_data, train_labels),(test_data, test_labels) = boston_housing.load_data()\n"
      ],
      "metadata": {
        "id": "U0YIhn92dHSZ"
      },
      "execution_count": 29,
      "outputs": []
    },
    {
      "cell_type": "code",
      "source": [
        "train_data.shape\n",
        "train_labels[0:3]"
      ],
      "metadata": {
        "colab": {
          "base_uri": "https://localhost:8080/"
        },
        "id": "HASPLTxgc6d4",
        "outputId": "ea1c982a-ce33-4265-fc9c-eb82d65fa6ec"
      },
      "execution_count": 31,
      "outputs": [
        {
          "output_type": "execute_result",
          "data": {
            "text/plain": [
              "array([15.2, 42.3, 50. ])"
            ]
          },
          "metadata": {},
          "execution_count": 31
        }
      ]
    },
    {
      "cell_type": "code",
      "source": [
        "print(train_data.shape, train_labels.shape)"
      ],
      "metadata": {
        "colab": {
          "base_uri": "https://localhost:8080/"
        },
        "id": "0mrZkp7le5My",
        "outputId": "4723b4c5-c021-42cf-afdd-af847a006a07"
      },
      "execution_count": 33,
      "outputs": [
        {
          "output_type": "stream",
          "name": "stdout",
          "text": [
            "(404, 13) (404,)\n"
          ]
        }
      ]
    },
    {
      "cell_type": "code",
      "source": [
        "plt.plot(train_data, train_labels)"
      ],
      "metadata": {
        "colab": {
          "base_uri": "https://localhost:8080/",
          "height": 490
        },
        "id": "xeYaE9D0e7dN",
        "outputId": "01fcec32-0c90-4f31-e3f5-330460f72a4c"
      },
      "execution_count": 35,
      "outputs": [
        {
          "output_type": "execute_result",
          "data": {
            "text/plain": [
              "[<matplotlib.lines.Line2D at 0x7f20a48fbb90>,\n",
              " <matplotlib.lines.Line2D at 0x7f20a45c7cd0>,\n",
              " <matplotlib.lines.Line2D at 0x7f20a45c7e90>,\n",
              " <matplotlib.lines.Line2D at 0x7f20a45d7090>,\n",
              " <matplotlib.lines.Line2D at 0x7f20a45d7250>,\n",
              " <matplotlib.lines.Line2D at 0x7f20a45d7410>,\n",
              " <matplotlib.lines.Line2D at 0x7f20a45d7650>,\n",
              " <matplotlib.lines.Line2D at 0x7f20a45d7810>,\n",
              " <matplotlib.lines.Line2D at 0x7f20a45d79d0>,\n",
              " <matplotlib.lines.Line2D at 0x7f20a45d7450>,\n",
              " <matplotlib.lines.Line2D at 0x7f20a45c7ad0>,\n",
              " <matplotlib.lines.Line2D at 0x7f20a45d7e50>,\n",
              " <matplotlib.lines.Line2D at 0x7f20a45d7fd0>]"
            ]
          },
          "metadata": {},
          "execution_count": 35
        },
        {
          "output_type": "display_data",
          "data": {
            "text/plain": [
              "<Figure size 432x288 with 1 Axes>"
            ],
            "image/png": "[encoded data removed]"
          },
          "metadata": {
            "needs_background": "light"
          }
        }
      ]
    },
    {
      "cell_type": "markdown",
      "source": [
        "# Normalizing the data\n",
        "fitting and learning will be much easier if the data is normalized , it means the features should have similar range"
      ],
      "metadata": {
        "id": "NR3tsOGvgESH"
      }
    },
    {
      "cell_type": "code",
      "source": [
        "X = train_data\n",
        "\n",
        "train_labels = train_labels.reshape(-1,1)\n",
        "\n",
        "print(f\"the data beofore normalization:  {np.max(train_data[:,:]):0.2f} {np.min(train_data[:,:]):0.2f} \")\n",
        "print(f\"the labels before normalization: {np.max(train_labels[:,0]):0.2f} {np.min(train_labels[:,0]):0.2f}  \")\n",
        "# Now lets normalize them \n",
        "norm_l = tf.keras.layers.Normalization(axis = -1)\n",
        "# adapt learns and save the mean and variance of data\n",
        "norm_l.adapt(train_data)\n",
        "train_data_n = norm_l(train_data) # by this we mean normalized training data\n",
        "\n",
        "\n",
        "norm_l1 = tf.keras.layers.Normalization(axis = -1)\n",
        "norm_l1.adapt(train_labels)\n",
        "train_labels_n = norm_l1(train_labels)\n",
        "\n",
        "print(f\" the data after normalization , Max, Min: {np.max(train_data_n[:,:]):0.2f}, {np.min(train_data_n[:,:]):0.2f}\")\n",
        "print(f\"the labels after normalization Max, Min: {np.max(train_labels_n[:,0]):0.2f}, {np.min(train_labels_n[:,0]):0.2f}\")"
      ],
      "metadata": {
        "colab": {
          "base_uri": "https://localhost:8080/"
        },
        "id": "2992fzxhfyNB",
        "outputId": "032add71-4360-4d35-d48f-90a3cf4f4210"
      },
      "execution_count": 100,
      "outputs": [
        {
          "output_type": "stream",
          "name": "stdout",
          "text": [
            "the data beofore normalization:  711.00 0.00 \n",
            "the labels before normalization: 50.00 5.00  \n",
            " the data after normalization , Max, Min: 9.23, -3.82\n",
            "the labels after normalization Max, Min: 3.00, -1.89\n"
          ]
        }
      ]
    },
    {
      "cell_type": "code",
      "source": [
        "# print(f\"Temperature Max, Min pre normalization: {np.max(X[:,0]):0.2f}, {np.min(X[:,0]):0.2f}\")\n",
        "# print(f\"Duration    Max, Min pre normalization: {np.max(X[:,1]):0.2f}, {np.min(X[:,1]):0.2f}\")\n",
        "# norm_l = tf.keras.layers.Normalization(axis=-1)\n",
        "# norm_l.adapt(X)  # learns mean, variance\n",
        "# Xn = norm_l(X)\n",
        "# print(f\"Temperature Max, Min post normalization: {np.max(Xn[:,0]):0.2f}, {np.min(Xn[:,0]):0.2f}\")\n",
        "# print(f\"Duration    Max, Min post normalization: {np.max(Xn[:,1]):0.2f}, {np.min(Xn[:,1]):0.2f}\")"
      ],
      "metadata": {
        "colab": {
          "base_uri": "https://localhost:8080/"
        },
        "id": "PCeJUKNfg0JB",
        "outputId": "f6bcaa8f-7927-4950-9fa1-215f0a85c0d7"
      },
      "execution_count": 85,
      "outputs": [
        {
          "output_type": "stream",
          "name": "stdout",
          "text": [
            "Temperature Max, Min pre normalization: 88.98, 0.01\n",
            "Duration    Max, Min pre normalization: 100.00, 0.00\n",
            "Temperature Max, Min post normalization: 9.23, -0.41\n",
            "Duration    Max, Min post normalization: 3.73, -0.48\n"
          ]
        }
      ]
    },
    {
      "cell_type": "markdown",
      "source": [
        "Tile/copy our data to increase our training set size"
      ],
      "metadata": {
        "id": "QWevI9HIltQ9"
      }
    },
    {
      "cell_type": "code",
      "source": [
        "Xt = np.tile(train_data_n,(1000,1))\n",
        "Yt= np.tile(train_labels_n,(1000,1))   \n",
        "print(Xt.shape, Yt.shape)   "
      ],
      "metadata": {
        "colab": {
          "base_uri": "https://localhost:8080/"
        },
        "id": "6ivcGDWxjNcT",
        "outputId": "908b71c8-ae49-4315-d4ff-563ac7cf2f51"
      },
      "execution_count": 102,
      "outputs": [
        {
          "output_type": "stream",
          "name": "stdout",
          "text": [
            "(404000, 13) (404000, 1)\n"
          ]
        }
      ]
    },
    {
      "cell_type": "code",
      "source": [
        "tf.random.set_seed(1234)  # applied to achieve consistent results\n",
        "model = Sequential(\n",
        "    [\n",
        "        tf.keras.Input(shape=(13,)),\n",
        "        Dense(13, activation='sigmoid', name = 'layer1'),\n",
        "        Dense(8, activation='sigmoid', name = 'layer2'),\n",
        "        Dense(8, activation='sigmoid', name = 'layer3'),\n",
        "        Dense(8, activation='sigmoid', name = 'layer4'),\n",
        "        Dense(1, activation='sigmoid', name = 'layer5')\n",
        "     ]\n",
        ")"
      ],
      "metadata": {
        "id": "OrDfH5fMlrF8"
      },
      "execution_count": 114,
      "outputs": []
    },
    {
      "cell_type": "code",
      "source": [
        "model.summary()"
      ],
      "metadata": {
        "colab": {
          "base_uri": "https://localhost:8080/"
        },
        "id": "1gvbgZNyl7xc",
        "outputId": "a8fa93e9-3c69-4e91-99a9-a71383bae0f4"
      },
      "execution_count": 123,
      "outputs": [
        {
          "output_type": "stream",
          "name": "stdout",
          "text": [
            "Model: \"sequential_8\"\n",
            "_________________________________________________________________\n",
            " Layer (type)                Output Shape              Param #   \n",
            "=================================================================\n",
            " layer1 (Dense)              (None, 13)                182       \n",
            "                                                                 \n",
            " layer2 (Dense)              (None, 8)                 112       \n",
            "                                                                 \n",
            " layer3 (Dense)              (None, 8)                 72        \n",
            "                                                                 \n",
            " layer4 (Dense)              (None, 8)                 72        \n",
            "                                                                 \n",
            " layer5 (Dense)              (None, 1)                 9         \n",
            "                                                                 \n",
            "=================================================================\n",
            "Total params: 447\n",
            "Trainable params: 447\n",
            "Non-trainable params: 0\n",
            "_________________________________________________________________\n"
          ]
        }
      ]
    },
    {
      "cell_type": "markdown",
      "source": [
        "The parameter counts shown in the summary correspond to the number of elements in the weight and bias arrays as shown below."
      ],
      "metadata": {
        "id": "Dtl81_yuo6ik"
      }
    },
    {
      "cell_type": "code",
      "source": [
        "L1_num_params = 13 * 13 + 13   # W1 parameters  + b1 parameters\n",
        "L2_num_params = 13 * 8 + 8   # W2 parameters  + b2 parameters\\\n",
        "L3_num_params = 8 * 8 + 8\n",
        "L4_num_params = 8 * 8 + 8 \n",
        "L5_num_params  = 8 * 1 + 1\n",
        "print(\"L1 params = \", L1_num_params, \", L2 params = \", L2_num_params, 'L3_num_params', L3_num_params ,'L4_num_params', L4_num_params , 'L5_num_params',L5_num_params )\n",
        "total = (L1_num_params+L2_num_params+L3_num_params+L4_num_params+L5_num_params)\n",
        "print(total)"
      ],
      "metadata": {
        "colab": {
          "base_uri": "https://localhost:8080/"
        },
        "id": "bpPT8oPMmBnz",
        "outputId": "c5b2303e-0070-4f3b-9d80-3f78a304ed81"
      },
      "execution_count": 122,
      "outputs": [
        {
          "output_type": "stream",
          "name": "stdout",
          "text": [
            "L1 params =  182 , L2 params =  112 L3_num_params 72 L4_num_params 72 L5_num_params 9\n",
            "447\n"
          ]
        }
      ]
    },
    {
      "cell_type": "markdown",
      "source": [
        "#### Let's examine the weights and biases Tensorflow has instantiated.  The weights $W$ should be of size (number of features in input, number of units in the layer) while the bias $b$ size should match the number of units in the layer:\n",
        "- In the first layer with 13 units, we expect W to have a size of (13,13) and $b$ should have 13 elements.\n",
        "- In the second layer with 8 unit, we expect W to have a size of (13,8) and $b$ should have 8 element."
      ],
      "metadata": {
        "id": "be02tt1yrVnM"
      }
    },
    {
      "cell_type": "code",
      "source": [
        "W1, b1 = model.get_layer(\"layer1\").get_weights()\n",
        "W2, b2 = model.get_layer(\"layer2\").get_weights()\n",
        "W3, b3 = model.get_layer(\"layer3\").get_weights()\n",
        "W4, b4 = model.get_layer(\"layer4\").get_weights()\n",
        "W5, b5 = model.get_layer(\"layer5\").get_weights()\n",
        "\n",
        "print(f\"W1{W1.shape}:\\n\", W1, f\"\\nb1{b1.shape}:\", b1)\n",
        "print(f\"W2{W2.shape}:\\n\", W2, f\"\\nb2{b2.shape}:\", b2)\n",
        "\n",
        "print(f\"W3{W3.shape}:\\n\", W3, f\"\\nb3{b3.shape}:\", b3)\n",
        "print(f\"W4{W4.shape}:\\n\", W4, f\"\\nb4{b4.shape}:\", b4)\n",
        "print(f\"W5{W5.shape}:\\n\", W5, f\"\\nb5{b5.shape}:\", b5)"
      ],
      "metadata": {
        "colab": {
          "base_uri": "https://localhost:8080/"
        },
        "id": "2uEy9vg4mDUW",
        "outputId": "cde2d3fa-f7cf-4d16-c13c-c24fe8a10a4b"
      },
      "execution_count": 128,
      "outputs": [
        {
          "output_type": "stream",
          "name": "stdout",
          "text": [
            "W1(13, 13):\n",
            " [[ 3.65470052e-02 -1.30070180e-01  7.84276724e-02 -2.46121705e-01\n",
            "  -6.69313669e-02  3.90255928e-01  6.93747401e-03 -1.35643452e-01\n",
            "   2.67909825e-01  8.19556117e-02  2.58267403e-01 -1.60861015e-02\n",
            "   8.39611888e-02]\n",
            " [-4.58574831e-01 -6.18204474e-02  4.59477663e-01  4.62197483e-01\n",
            "  -3.39650035e-01  4.75170255e-01  2.70324409e-01 -2.68890083e-01\n",
            "  -1.05752647e-02  1.27901375e-01  6.12366796e-02 -9.25543606e-02\n",
            "  -9.73262489e-02]\n",
            " [ 1.75526679e-01  2.63374746e-01 -5.23422062e-02 -4.25765038e-01\n",
            "  -2.44081080e-01 -1.87047273e-01 -1.75474554e-01 -2.94940770e-01\n",
            "   3.12400222e-01  8.86974931e-02 -1.20677024e-01  3.29866529e-01\n",
            "  -2.49391720e-01]\n",
            " [ 3.09484124e-01 -3.24269921e-01 -2.23643303e-01 -8.37091208e-02\n",
            "   8.76265764e-02  1.39109194e-01 -1.76673263e-01  4.73301113e-01\n",
            "   2.48866141e-01 -8.56932700e-02 -2.84903467e-01 -5.32788336e-02\n",
            "  -4.57857043e-01]\n",
            " [ 4.61395681e-01  3.39665294e-01 -4.33938175e-01  4.54139531e-01\n",
            "   2.66529322e-01  8.05481076e-02 -1.37335777e-01 -1.79728299e-01\n",
            "  -4.98938262e-02 -2.10394740e-01  4.12218809e-01 -1.31007761e-01\n",
            "  -1.01301670e-01]\n",
            " [ 2.29276836e-01  1.21995866e-01  3.00277948e-01  3.11049104e-01\n",
            "   3.62849891e-01  1.45205319e-01 -9.68967378e-02  4.46594834e-01\n",
            "  -1.13513023e-01  1.69443607e-01  4.38314140e-01 -3.30710769e-01\n",
            "  -1.44917727e-01]\n",
            " [-4.36411053e-01  3.43212128e-01 -2.11258799e-01  1.42080545e-01\n",
            "  -3.73425484e-02 -1.76793516e-01 -1.33984327e-01  1.83147430e-01\n",
            "   2.41672337e-01  4.23293769e-01  6.36900663e-02 -4.65451032e-01\n",
            "   7.04554915e-02]\n",
            " [ 2.22146034e-01  2.24282384e-01  5.44121265e-02  4.27515447e-01\n",
            "   2.77411878e-01 -1.90338254e-01  2.08444476e-01 -2.97970831e-01\n",
            "   1.18902028e-02  3.71664762e-04  1.97270513e-03  3.00899148e-03\n",
            "   1.11051142e-01]\n",
            " [ 4.68927026e-02 -4.17697132e-01  4.55653012e-01  4.30210829e-01\n",
            "  -5.20788729e-02 -7.22082257e-02 -2.11640626e-01  1.95943475e-01\n",
            "  -3.08416188e-01  1.18706226e-02  2.69858003e-01 -2.03552932e-01\n",
            "  -4.12248909e-01]\n",
            " [ 4.64183927e-01  2.24759340e-01  5.09706736e-02  4.09763455e-02\n",
            "   4.25277710e-01 -6.37131929e-03  4.41045523e-01 -1.09958053e-02\n",
            "  -1.13193125e-01 -4.10287201e-01  6.95636272e-02  2.81892955e-01\n",
            "  -6.05710149e-02]\n",
            " [ 3.19248438e-01 -5.49153984e-02  6.53104782e-02  4.15624678e-01\n",
            "   1.65144503e-02 -1.71869189e-01  3.49643826e-01  1.12623453e-01\n",
            "   1.62264407e-01 -5.80390394e-02  5.75966239e-02  4.55319822e-01\n",
            "  -2.53502190e-01]\n",
            " [-1.22176260e-01 -4.49608177e-01 -3.77872318e-01 -2.19322562e-01\n",
            "   3.68067265e-01  2.33743012e-01  2.72290111e-01  3.89237821e-01\n",
            "   1.96166039e-01  3.72476935e-01 -3.10126424e-01 -1.66840762e-01\n",
            "   3.05993259e-01]\n",
            " [ 2.75178969e-01  2.20633864e-01  3.37766647e-01 -2.49613687e-01\n",
            "  -4.78735894e-01 -4.04321074e-01 -3.34528148e-01 -4.77152944e-01\n",
            "   2.61418462e-01  5.94671369e-02  4.13598716e-01 -2.47665480e-01\n",
            "   1.02215648e-01]] \n",
            "b1(13,): [0. 0. 0. 0. 0. 0. 0. 0. 0. 0. 0. 0. 0.]\n",
            "W2(13, 8):\n",
            " [[-0.18669298 -0.3862453   0.15827143 -0.20951316 -0.17450741 -0.39535367\n",
            "   0.22000659  0.23368955]\n",
            " [-0.11743757  0.3281294  -0.02426398  0.01048958 -0.3160736   0.32385254\n",
            "   0.15162796  0.45701098]\n",
            " [ 0.09075695  0.30934095  0.23543447 -0.19153914  0.50351506  0.36178267\n",
            "   0.29697746  0.4605255 ]\n",
            " [-0.27859703 -0.46710795 -0.02028435 -0.31732517 -0.3137041   0.36129993\n",
            "   0.06998271  0.2758934 ]\n",
            " [ 0.40157098  0.07887167  0.36661506  0.08367515  0.4088319  -0.02034277\n",
            "  -0.13078564 -0.48578468]\n",
            " [-0.24150023 -0.5329857   0.4954533  -0.4578526  -0.14018664 -0.27283305\n",
            "  -0.5062211   0.27143937]\n",
            " [ 0.09182441 -0.3104493   0.5227745  -0.04150635  0.29917324 -0.28335628\n",
            "   0.5315146   0.26665604]\n",
            " [ 0.04177511  0.1281206  -0.50240475  0.29272723 -0.19273785 -0.21222293\n",
            "   0.3223852  -0.17987734]\n",
            " [ 0.07099557 -0.3041768   0.09720123  0.36409712  0.01778924  0.0652836\n",
            "   0.2459144  -0.26941383]\n",
            " [ 0.37550604 -0.5207954   0.42620337 -0.27966765  0.16802442  0.49362534\n",
            "   0.2605719  -0.02929056]\n",
            " [ 0.41629046 -0.32694906 -0.4666298   0.03733498 -0.09093425 -0.13474062\n",
            "  -0.10002631 -0.1323854 ]\n",
            " [-0.4342618   0.39478457  0.06290942  0.49172312  0.44482565  0.25989127\n",
            "  -0.24183235  0.38647556]\n",
            " [ 0.38520193 -0.41331792 -0.2807718  -0.34664482  0.11720604 -0.45759976\n",
            "   0.49185497  0.28268337]] \n",
            "b2(8,): [0. 0. 0. 0. 0. 0. 0. 0.]\n",
            "W3(8, 8):\n",
            " [[ 0.1194247  -0.241106    0.60953313  0.37753415 -0.10154253 -0.5834698\n",
            "   0.13535458 -0.58042425]\n",
            " [ 0.58433336 -0.23724398  0.2841652   0.12512797 -0.10966921 -0.3649433\n",
            "   0.2844382  -0.55112374]\n",
            " [-0.05730784 -0.37573713  0.27603453 -0.23278642 -0.33236918 -0.3651756\n",
            "   0.5142512  -0.1518242 ]\n",
            " [-0.03722793  0.27327806 -0.17977846 -0.18099785  0.46959418 -0.57574314\n",
            "   0.60911566 -0.6027583 ]\n",
            " [-0.14155263  0.08594185 -0.26157328 -0.19723344  0.03912008  0.17326957\n",
            "   0.00394523 -0.56438386]\n",
            " [ 0.32376736 -0.5577639   0.5787689   0.10527182 -0.6123123  -0.48887578\n",
            "   0.44536954  0.40785724]\n",
            " [-0.0174616   0.37805843 -0.1990875   0.60541743  0.11312693  0.523583\n",
            "   0.24725175  0.2550732 ]\n",
            " [ 0.24229735 -0.5469513   0.41105717 -0.00782347  0.5306012   0.5480265\n",
            "  -0.09484118  0.2325629 ]] \n",
            "b3(8,): [0. 0. 0. 0. 0. 0. 0. 0.]\n",
            "W4(8, 8):\n",
            " [[ 0.5020444   0.20535988 -0.36817503 -0.21016023 -0.5570416   0.02426755\n",
            "   0.01049471 -0.14828047]\n",
            " [ 0.10262132 -0.46780783  0.28700697 -0.13163841  0.18648672 -0.56453264\n",
            "  -0.49535882 -0.3177057 ]\n",
            " [-0.48473826 -0.6080806   0.2764495  -0.52305055  0.0450353   0.10785824\n",
            "   0.5568865   0.5180177 ]\n",
            " [-0.4029402  -0.0259127  -0.13673079  0.04538965  0.39326352  0.2889067\n",
            "  -0.33773106 -0.4045776 ]\n",
            " [ 0.05905914  0.12449795  0.12150329 -0.13141137 -0.37638992 -0.06541866\n",
            "  -0.393471   -0.49716514]\n",
            " [ 0.1381442   0.20903999  0.56801456  0.27952367 -0.49389574 -0.20021406\n",
            "  -0.11764538  0.41422695]\n",
            " [-0.17361164 -0.26812875 -0.54445267  0.36085457 -0.5044697   0.02252489\n",
            "  -0.07360828  0.41364402]\n",
            " [-0.01042271  0.28615546  0.13862807  0.4369288   0.0054816  -0.49968848\n",
            "  -0.03705943  0.21864039]] \n",
            "b4(8,): [0. 0. 0. 0. 0. 0. 0. 0.]\n",
            "W5(8, 1):\n",
            " [[-0.80976754]\n",
            " [-0.15036172]\n",
            " [ 0.25038445]\n",
            " [-0.5896925 ]\n",
            " [-0.2929083 ]\n",
            " [ 0.42080498]\n",
            " [ 0.5257195 ]\n",
            " [-0.3359171 ]] \n",
            "b5(1,): [0.]\n"
          ]
        }
      ]
    },
    {
      "cell_type": "markdown",
      "source": [
        "The following statements will be described in detail in Week2. For now:\n",
        "- The `model.compile` statement defines a loss function and specifies a compile optimization.\n",
        "- The `model.fit` statement runs gradient descent and fits the weights to the data."
      ],
      "metadata": {
        "id": "kGrXSx1Er8YT"
      }
    },
    {
      "cell_type": "code",
      "source": [
        "model.compile(\n",
        "    loss = tf.keras.losses.MeanAbsoluteError(),\n",
        "    optimizer = tf.keras.optimizers.Adam(learning_rate=0.01),\n",
        ")\n",
        "\n",
        "model.fit(\n",
        "    Xt,Yt,            \n",
        "    epochs=10,\n",
        ")"
      ],
      "metadata": {
        "colab": {
          "base_uri": "https://localhost:8080/"
        },
        "id": "JAh4Zhc2r9vh",
        "outputId": "b057bf81-6c02-4bc3-84ec-d0431781fb40"
      },
      "execution_count": 131,
      "outputs": [
        {
          "metadata": {
            "tags": null
          },
          "name": "stdout",
          "output_type": "stream",
          "text": [
            "Epoch 1/10\n",
            "12625/12625 [==============================] - 22s 2ms/step - loss: 0.5334\n",
            "Epoch 2/10\n",
            "12625/12625 [==============================] - 25s 2ms/step - loss: 0.5219\n",
            "Epoch 3/10\n",
            "12625/12625 [==============================] - 24s 2ms/step - loss: 0.5168\n",
            "Epoch 4/10\n",
            "12625/12625 [==============================] - 22s 2ms/step - loss: 0.5159\n",
            "Epoch 5/10\n",
            "12625/12625 [==============================] - 23s 2ms/step - loss: 0.5148\n",
            "Epoch 6/10\n",
            "12625/12625 [==============================] - 23s 2ms/step - loss: 0.5138\n",
            "Epoch 7/10\n",
            "12625/12625 [==============================] - 22s 2ms/step - loss: 0.5137\n",
            "Epoch 8/10\n",
            "12625/12625 [==============================] - 22s 2ms/step - loss: 0.5136\n",
            "Epoch 9/10\n",
            "12625/12625 [==============================] - 24s 2ms/step - loss: 0.5134\n",
            "Epoch 10/10\n",
            "12625/12625 [==============================] - 22s 2ms/step - loss: 0.5131\n"
          ]
        },
        {
          "output_type": "execute_result",
          "data": {
            "text/plain": [
              "<keras.callbacks.History at 0x7f20a25f56d0>"
            ]
          },
          "metadata": {},
          "execution_count": 131
        }
      ]
    },
    {
      "cell_type": "code",
      "source": [
        "W1, b1 = model.get_layer(\"layer1\").get_weights()\n",
        "W2, b2 = model.get_layer(\"layer2\").get_weights()\n",
        "print(\"W1:\\n\", W1, \"\\nb1:\", b1)\n",
        "print(\"W2:\\n\", W2, \"\\nb2:\", b2)"
      ],
      "metadata": {
        "id": "_JLyRAoAsk1c"
      },
      "execution_count": null,
      "outputs": []
    },
    {
      "cell_type": "code",
      "source": [
        "W1, b1 = model.get_layer(\"layer1\").get_weights()\n",
        "W2, b2 = model.get_layer(\"layer2\").get_weights()\n",
        "W3, b3 = model.get_layer(\"layer3\").get_weights()\n",
        "W4, b4 = model.get_layer(\"layer4\").get_weights()\n",
        "W5, b5 = model.get_layer(\"layer5\").get_weights()\n",
        "\n",
        "print(f\"W1{W1.shape}:\\n\", W1, f\"\\nb1{b1.shape}:\", b1)\n",
        "print(f\"W2{W2.shape}:\\n\", W2, f\"\\nb2{b2.shape}:\", b2)\n",
        "\n",
        "print(f\"W3{W3.shape}:\\n\", W3, f\"\\nb3{b3.shape}:\", b3)\n",
        "print(f\"W4{W4.shape}:\\n\", W4, f\"\\nb4{b4.shape}:\", b4)\n",
        "print(f\"W5{W5.shape}:\\n\", W5, f\"\\nb5{b5.shape}:\", b5)"
      ],
      "metadata": {
        "colab": {
          "base_uri": "https://localhost:8080/"
        },
        "id": "J3YvLD-Tr_kN",
        "outputId": "903d2188-283d-498d-a868-bd0cef273f70"
      },
      "execution_count": 132,
      "outputs": [
        {
          "output_type": "stream",
          "name": "stdout",
          "text": [
            "W1(13, 13):\n",
            " [[-2.8009063e-01 -1.1452181e+00  1.0579045e+00  1.7408226e+00\n",
            "   5.3127891e-01  6.6992888e+00 -2.6379321e+00  3.1689489e-01\n",
            "  -4.0201502e+00  8.6444912e+00  6.4489474e+00 -8.7658701e+00\n",
            "   1.6681755e+00]\n",
            " [-7.7583394e+00 -4.4494863e+00  1.2730513e+00 -5.7697244e+00\n",
            "  -4.6951432e+00 -5.2637750e-01  3.0317171e+00 -2.5181298e+00\n",
            "  -5.2770536e-02  2.7023702e+00 -6.8364203e-01 -1.7665303e+00\n",
            "  -3.8885858e+00]\n",
            " [-3.8667122e-01 -2.4405921e-01  3.9436154e+00 -6.7141615e-02\n",
            "  -4.2017922e+00  4.4471061e-01 -5.2793336e-01  5.9678044e+00\n",
            "  -1.4173430e+00 -3.7673969e+00  5.0024252e+00 -6.5702838e-01\n",
            "  -1.7361816e+00]\n",
            " [-2.2306583e+00 -8.2491779e-01 -8.5876250e-01 -1.2076886e+00\n",
            "  -6.4569879e-01  3.9220884e-01 -2.8496315e+00 -7.1578473e-01\n",
            "   1.6620885e+00 -1.8227351e+00 -1.8874985e+00 -9.4868124e-01\n",
            "   5.7447308e-01]\n",
            " [ 1.0022798e+01  9.5102615e+00 -1.7564863e-01  7.4389052e+00\n",
            "   5.4319353e+00 -1.1248012e+00 -5.3452367e-01  8.5367453e-01\n",
            "  -5.2023187e+00  1.2467035e+00  3.3681783e-01 -3.2175441e+00\n",
            "  -1.5934824e+00]\n",
            " [-2.7035122e+00  7.6058012e-01  2.0444140e-02 -4.4561238e+00\n",
            "   2.0376842e+00  7.1152163e+00  1.6240550e+00 -1.2649423e+01\n",
            "  -1.8022388e+00  3.6014025e+00  1.0143613e+01 -8.7739124e+00\n",
            "  -2.7498171e+00]\n",
            " [-1.8775692e+00  1.3411807e+00 -5.0662217e+00 -1.4670929e+00\n",
            "  -8.1649494e+00 -6.2025552e+00  3.0861340e+00  5.3341045e+00\n",
            "   6.3319550e+00  3.0821173e+00  2.4702501e+00  3.0897117e+00\n",
            "  -8.4486866e-01]\n",
            " [ 5.9973292e+00 -5.8462727e-01  2.0194042e+00  7.4403076e+00\n",
            "  -2.6552448e-01 -1.5452127e+00  7.4643908e+00  3.6236076e+00\n",
            "   4.1205726e+00 -3.7125437e+00  2.0143318e+00  2.6952028e+00\n",
            "   3.0221205e+00]\n",
            " [-2.7005982e+00 -1.0550483e+01  2.5471561e+00 -3.3830483e+00\n",
            "  -9.0730774e-01  6.9392266e+00 -4.2963524e+00 -8.8680553e-01\n",
            "  -3.9271314e+00  1.8880156e-01  4.4640279e+00  7.0189291e-01\n",
            "  -5.2596707e+00]\n",
            " [ 2.1503327e+00  6.6460834e+00 -2.7948699e+00  1.0117172e+00\n",
            "   8.5249166e+00 -4.2257900e+00  4.3332510e+00  4.5950894e+00\n",
            "   4.8100910e+00 -3.5767906e+00  1.8345728e+00  4.0058713e+00\n",
            "   3.4717321e+00]\n",
            " [ 2.4153540e+00 -4.5615711e+00  4.3098536e+00  8.4259140e-01\n",
            "  -5.1251912e+00  5.8678799e+00  7.6298404e+00  1.0850422e+01\n",
            "   1.0003080e+00 -2.3137999e-01 -2.4752660e+00  3.1464434e-01\n",
            "  -3.0522058e+00]\n",
            " [-5.2904568e+00 -1.3350028e-01 -1.1849452e+00  4.6418223e+00\n",
            "   7.4920278e+00 -4.2383364e-01  3.7802565e+00  1.6581771e+00\n",
            "  -2.7038031e+00 -2.5849879e-01  2.4351301e-03  1.9350978e+00\n",
            "  -5.1758676e+00]\n",
            " [ 6.2538829e+00  2.9812604e-01  1.5796378e+01  2.1702070e+00\n",
            "  -1.7959360e+00  1.6144940e+00  1.0453804e+00 -5.3396125e+00\n",
            "   7.7427516e+00 -8.1237679e+00 -4.2128015e+00  6.2731200e-01\n",
            "   1.3061609e+01]] \n",
            "b1(13,): [-1.4085563  -0.56032145 -0.66009915 -2.2605758   3.458211   -1.1630595\n",
            "  2.6248498   1.1007117   0.79660547 -3.6303172  -0.22268906  4.794095\n",
            " -1.6682471 ]\n",
            "W2(13, 8):\n",
            " [[ -4.8480234   -1.6870536   -1.0620333   -3.9796627    7.5006604\n",
            "   -2.7730894    0.8606427    7.7505255 ]\n",
            " [ -3.9939005    2.377449    -1.6873987   -2.6699755   12.096231\n",
            "    7.0325933   -0.9426833    6.87896   ]\n",
            " [-20.47218     -4.884545    -4.942411    -1.2724273   14.35015\n",
            "   12.722754    13.330397    17.13409   ]\n",
            " [ -9.969292    -6.983118    -1.004354     0.5639356    2.826313\n",
            "    3.351825    -4.965786     0.9242764 ]\n",
            " [  2.158662     2.2303224    2.150319    -1.0261436   -3.6077082\n",
            "    3.509845    -4.6970396   -2.2213511 ]\n",
            " [  0.25626755  -2.5215323    4.8443217    0.7500172   -1.633824\n",
            "    2.514439    -5.4053087    0.22577381]\n",
            " [ -4.6196384   -2.1924145   -0.03609739  -3.2628455    3.046944\n",
            "   -4.1569657   -1.1992898    5.473783  ]\n",
            " [ -3.5594254   -2.9500477   -5.1514106   -1.2451117    1.2326654\n",
            "   -4.28276     10.264333    -2.5579822 ]\n",
            " [ -2.7413354   -3.016184     1.5413029   -0.872226     8.892107\n",
            "   -0.42119807   0.6473349    9.689224  ]\n",
            " [  3.1934485    5.414641     3.5343113    6.79112     -2.721253\n",
            "    3.8983479    0.73776335  -2.6093237 ]\n",
            " [  2.8393319    1.7432548    4.720473     4.749357    -9.03109\n",
            "    0.53701824  -4.0550113   -7.4168177 ]\n",
            " [ -2.6459594   -2.1962924    0.39081216  -0.17066      7.6024113\n",
            "   -1.24018     -1.0330492    8.995802  ]\n",
            " [ -3.4912748   -6.318413    -0.9778816  -10.934369    -5.3722634\n",
            "   -7.7407475   -1.5092604   34.310303  ]] \n",
            "b2(8,): [-1.2600029   0.06891225  1.1087097   0.37180698  0.2890887   0.78471\n",
            " -2.713494    1.4254626 ]\n",
            "W3(8, 8):\n",
            " [[ 6.6937938e-02 -5.5567923e+00 -3.1645986e-01 -1.9121448e+00\n",
            "  -6.4977713e+00 -6.4491305e+00  6.4760876e+00 -3.6742003e+00]\n",
            " [-1.3224367e+00  4.6285491e+00  1.6058029e+00 -5.6905355e+00\n",
            "   4.9642944e+00  1.4593804e+01 -1.5184410e+00 -4.3838501e+00]\n",
            " [-3.0180730e-02 -8.6204767e+00 -2.0060362e-01 -6.9064593e+00\n",
            "  -8.7549286e+00 -4.1164942e+00  2.0288000e+00 -6.0155978e+00]\n",
            " [-8.9181060e-01 -2.2738225e+00  5.0817644e-03 -3.8943000e+00\n",
            "  -2.1777334e+00 -1.2016494e+01  1.0630597e+00 -5.1021056e+00]\n",
            " [ 2.4293198e+01 -6.6054636e-01 -2.4797546e+01 -1.0414402e-01\n",
            "  -1.7034388e-01  2.5868175e+00 -3.5932761e-01 -1.6277997e+00]\n",
            " [-2.7799812e-01 -5.3320961e+00  5.2221805e-01 -4.1794519e+00\n",
            "  -4.9208531e+00 -1.1868660e+01  1.4094512e+00 -6.2863326e+00]\n",
            " [-5.9798656e+00  1.8437252e+01  4.3180876e+00  1.0235317e+01\n",
            "   2.0350866e+01  1.0099276e+00  6.3020843e-01  3.3380799e+00]\n",
            " [ 9.1864328e+00 -1.4193460e+00 -8.5052032e+00  2.3513179e-01\n",
            "   5.5196750e-01  1.3593946e+00 -4.6929145e-01 -5.2690721e-01]] \n",
            "b3(8,): [ 0.60436946 -1.6029003  -1.2745355  -1.0885814  -1.1151129  -0.47802445\n",
            "  0.63654476 -1.9475778 ]\n",
            "W4(8, 8):\n",
            " [[  3.8596191   -4.4995327   -9.113439    -4.6952224   -4.410525\n",
            "    2.64459      2.8616905   -4.2005587 ]\n",
            " [  8.12933      5.678037    -9.281662     6.2367773    6.65039\n",
            "   -6.802857    -6.65509      6.179612  ]\n",
            " [-13.948487   -14.129575    18.068066   -14.321669   -14.044787\n",
            "   10.195979    10.412574   -13.820519  ]\n",
            " [ -3.6620338    5.9854465    1.2523693    5.9089327    6.4804296\n",
            "   -5.4677057   -5.8937263    5.7710137 ]\n",
            " [  5.719535     7.8649297   -3.2852004    7.496632     7.255777\n",
            "   -7.665743    -7.84101      7.3894796 ]\n",
            " [  3.5905855    7.177744    -0.7205804    7.1610055    6.345473\n",
            "   -7.1981645   -6.948716     7.5319037 ]\n",
            " [ -0.99415493  -9.417766    -0.63190246  -9.088363    -9.72443\n",
            "    7.952442     7.7765045   -9.290266  ]\n",
            " [ -1.5526097    5.547448    -2.3609235    5.9045067    5.477532\n",
            "   -5.858453    -5.314948     5.7951684 ]] \n",
            "b4(8,): [-1.0699909  -7.601181   -0.01279395 -7.7030635  -7.4187207   5.8825407\n",
            "  5.8293223  -8.013618  ]\n",
            "W5(8, 1):\n",
            " [[-629.16797]\n",
            " [-634.4369 ]\n",
            " [ 557.2134 ]\n",
            " [-634.7984 ]\n",
            " [-634.8717 ]\n",
            " [ 550.76385]\n",
            " [ 550.68414]\n",
            " [-634.5647 ]] \n",
            "b5(1,): [-560.4602]\n"
          ]
        }
      ]
    },
    {
      "cell_type": "code",
      "source": [
        ""
      ],
      "metadata": {
        "colab": {
          "base_uri": "https://localhost:8080/",
          "height": 339
        },
        "id": "XYZdt_vtzPJC",
        "outputId": "8d692a33-4a12-4764-c15e-4928b095ae85"
      },
      "execution_count": 133,
      "outputs": [
        {
          "output_type": "error",
          "ename": "ValueError",
          "evalue": "ignored",
          "traceback": [
            "\u001b[0;31m---------------------------------------------------------------------------\u001b[0m",
            "\u001b[0;31mValueError\u001b[0m                                Traceback (most recent call last)",
            "\u001b[0;32m<ipython-input-133-b28379db3155>\u001b[0m in \u001b[0;36m<module>\u001b[0;34m\u001b[0m\n\u001b[1;32m      8\u001b[0m     [-32.79]])\n\u001b[1;32m      9\u001b[0m \u001b[0mb2\u001b[0m \u001b[0;34m=\u001b[0m \u001b[0mnp\u001b[0m\u001b[0;34m.\u001b[0m\u001b[0marray\u001b[0m\u001b[0;34m(\u001b[0m\u001b[0;34m[\u001b[0m\u001b[0;36m15.54\u001b[0m\u001b[0;34m]\u001b[0m\u001b[0;34m)\u001b[0m\u001b[0;34m\u001b[0m\u001b[0;34m\u001b[0m\u001b[0m\n\u001b[0;32m---> 10\u001b[0;31m \u001b[0mmodel\u001b[0m\u001b[0;34m.\u001b[0m\u001b[0mget_layer\u001b[0m\u001b[0;34m(\u001b[0m\u001b[0;34m\"layer1\"\u001b[0m\u001b[0;34m)\u001b[0m\u001b[0;34m.\u001b[0m\u001b[0mset_weights\u001b[0m\u001b[0;34m(\u001b[0m\u001b[0;34m[\u001b[0m\u001b[0mW1\u001b[0m\u001b[0;34m,\u001b[0m\u001b[0mb1\u001b[0m\u001b[0;34m]\u001b[0m\u001b[0;34m)\u001b[0m\u001b[0;34m\u001b[0m\u001b[0;34m\u001b[0m\u001b[0m\n\u001b[0m\u001b[1;32m     11\u001b[0m \u001b[0mmodel\u001b[0m\u001b[0;34m.\u001b[0m\u001b[0mget_layer\u001b[0m\u001b[0;34m(\u001b[0m\u001b[0;34m\"layer2\"\u001b[0m\u001b[0;34m)\u001b[0m\u001b[0;34m.\u001b[0m\u001b[0mset_weights\u001b[0m\u001b[0;34m(\u001b[0m\u001b[0;34m[\u001b[0m\u001b[0mW2\u001b[0m\u001b[0;34m,\u001b[0m\u001b[0mb2\u001b[0m\u001b[0;34m]\u001b[0m\u001b[0;34m)\u001b[0m\u001b[0;34m\u001b[0m\u001b[0;34m\u001b[0m\u001b[0m\n",
            "\u001b[0;32m/usr/local/lib/python3.7/dist-packages/keras/engine/base_layer.py\u001b[0m in \u001b[0;36mset_weights\u001b[0;34m(self, weights)\u001b[0m\n\u001b[1;32m   1863\u001b[0m         \u001b[0;32mif\u001b[0m \u001b[0;32mnot\u001b[0m \u001b[0mref_shape\u001b[0m\u001b[0;34m.\u001b[0m\u001b[0mis_compatible_with\u001b[0m\u001b[0;34m(\u001b[0m\u001b[0mweight_shape\u001b[0m\u001b[0;34m)\u001b[0m\u001b[0;34m:\u001b[0m\u001b[0;34m\u001b[0m\u001b[0;34m\u001b[0m\u001b[0m\n\u001b[1;32m   1864\u001b[0m           raise ValueError(\n\u001b[0;32m-> 1865\u001b[0;31m               \u001b[0;34mf'Layer {self.name} weight shape {ref_shape} '\u001b[0m\u001b[0;34m\u001b[0m\u001b[0;34m\u001b[0m\u001b[0m\n\u001b[0m\u001b[1;32m   1866\u001b[0m               \u001b[0;34m'is not compatible with provided weight '\u001b[0m\u001b[0;34m\u001b[0m\u001b[0;34m\u001b[0m\u001b[0m\n\u001b[1;32m   1867\u001b[0m               f'shape {weight_shape}.')\n",
            "\u001b[0;31mValueError\u001b[0m: Layer layer1 weight shape (13, 13) is not compatible with provided weight shape (2, 3)."
          ]
        }
      ]
    },
    {
      "cell_type": "code",
      "source": [
        ""
      ],
      "metadata": {
        "colab": {
          "base_uri": "https://localhost:8080/",
          "height": 467
        },
        "id": "_duJH-o06uPI",
        "outputId": "d7317365-ce90-411c-c881-f8a1f7902641"
      },
      "execution_count": 134,
      "outputs": [
        {
          "output_type": "error",
          "ename": "InvalidArgumentError",
          "evalue": "ignored",
          "traceback": [
            "\u001b[0;31m---------------------------------------------------------------------------\u001b[0m",
            "\u001b[0;31mInvalidArgumentError\u001b[0m                      Traceback (most recent call last)",
            "\u001b[0;32m<ipython-input-134-0c4afa2ecb46>\u001b[0m in \u001b[0;36m<module>\u001b[0;34m\u001b[0m\n\u001b[1;32m      2\u001b[0m     \u001b[0;34m[\u001b[0m\u001b[0;36m200\u001b[0m\u001b[0;34m,\u001b[0m\u001b[0;36m13.9\u001b[0m\u001b[0;34m]\u001b[0m\u001b[0;34m,\u001b[0m  \u001b[0;31m# postive example\u001b[0m\u001b[0;34m\u001b[0m\u001b[0;34m\u001b[0m\u001b[0m\n\u001b[1;32m      3\u001b[0m     [200,17]])   # negative example\n\u001b[0;32m----> 4\u001b[0;31m \u001b[0mX_testn\u001b[0m \u001b[0;34m=\u001b[0m \u001b[0mnorm_l\u001b[0m\u001b[0;34m(\u001b[0m\u001b[0mX_test\u001b[0m\u001b[0;34m)\u001b[0m\u001b[0;34m\u001b[0m\u001b[0;34m\u001b[0m\u001b[0m\n\u001b[0m\u001b[1;32m      5\u001b[0m \u001b[0mpredictions\u001b[0m \u001b[0;34m=\u001b[0m \u001b[0mmodel\u001b[0m\u001b[0;34m.\u001b[0m\u001b[0mpredict\u001b[0m\u001b[0;34m(\u001b[0m\u001b[0mX_testn\u001b[0m\u001b[0;34m)\u001b[0m\u001b[0;34m\u001b[0m\u001b[0;34m\u001b[0m\u001b[0m\n\u001b[1;32m      6\u001b[0m \u001b[0mprint\u001b[0m\u001b[0;34m(\u001b[0m\u001b[0;34m\"predictions = \\n\"\u001b[0m\u001b[0;34m,\u001b[0m \u001b[0mpredictions\u001b[0m\u001b[0;34m)\u001b[0m\u001b[0;34m\u001b[0m\u001b[0;34m\u001b[0m\u001b[0m\n",
            "\u001b[0;32m/usr/local/lib/python3.7/dist-packages/keras/utils/traceback_utils.py\u001b[0m in \u001b[0;36merror_handler\u001b[0;34m(*args, **kwargs)\u001b[0m\n\u001b[1;32m     65\u001b[0m     \u001b[0;32mexcept\u001b[0m \u001b[0mException\u001b[0m \u001b[0;32mas\u001b[0m \u001b[0me\u001b[0m\u001b[0;34m:\u001b[0m  \u001b[0;31m# pylint: disable=broad-except\u001b[0m\u001b[0;34m\u001b[0m\u001b[0;34m\u001b[0m\u001b[0m\n\u001b[1;32m     66\u001b[0m       \u001b[0mfiltered_tb\u001b[0m \u001b[0;34m=\u001b[0m \u001b[0m_process_traceback_frames\u001b[0m\u001b[0;34m(\u001b[0m\u001b[0me\u001b[0m\u001b[0;34m.\u001b[0m\u001b[0m__traceback__\u001b[0m\u001b[0;34m)\u001b[0m\u001b[0;34m\u001b[0m\u001b[0;34m\u001b[0m\u001b[0m\n\u001b[0;32m---> 67\u001b[0;31m       \u001b[0;32mraise\u001b[0m \u001b[0me\u001b[0m\u001b[0;34m.\u001b[0m\u001b[0mwith_traceback\u001b[0m\u001b[0;34m(\u001b[0m\u001b[0mfiltered_tb\u001b[0m\u001b[0;34m)\u001b[0m \u001b[0;32mfrom\u001b[0m \u001b[0;32mNone\u001b[0m\u001b[0;34m\u001b[0m\u001b[0;34m\u001b[0m\u001b[0m\n\u001b[0m\u001b[1;32m     68\u001b[0m     \u001b[0;32mfinally\u001b[0m\u001b[0;34m:\u001b[0m\u001b[0;34m\u001b[0m\u001b[0;34m\u001b[0m\u001b[0m\n\u001b[1;32m     69\u001b[0m       \u001b[0;32mdel\u001b[0m \u001b[0mfiltered_tb\u001b[0m\u001b[0;34m\u001b[0m\u001b[0;34m\u001b[0m\u001b[0m\n",
            "\u001b[0;32m/usr/local/lib/python3.7/dist-packages/tensorflow/python/framework/ops.py\u001b[0m in \u001b[0;36mraise_from_not_ok_status\u001b[0;34m(e, name)\u001b[0m\n\u001b[1;32m   7184\u001b[0m \u001b[0;32mdef\u001b[0m \u001b[0mraise_from_not_ok_status\u001b[0m\u001b[0;34m(\u001b[0m\u001b[0me\u001b[0m\u001b[0;34m,\u001b[0m \u001b[0mname\u001b[0m\u001b[0;34m)\u001b[0m\u001b[0;34m:\u001b[0m\u001b[0;34m\u001b[0m\u001b[0;34m\u001b[0m\u001b[0m\n\u001b[1;32m   7185\u001b[0m   \u001b[0me\u001b[0m\u001b[0;34m.\u001b[0m\u001b[0mmessage\u001b[0m \u001b[0;34m+=\u001b[0m \u001b[0;34m(\u001b[0m\u001b[0;34m\" name: \"\u001b[0m \u001b[0;34m+\u001b[0m \u001b[0mname\u001b[0m \u001b[0;32mif\u001b[0m \u001b[0mname\u001b[0m \u001b[0;32mis\u001b[0m \u001b[0;32mnot\u001b[0m \u001b[0;32mNone\u001b[0m \u001b[0;32melse\u001b[0m \u001b[0;34m\"\"\u001b[0m\u001b[0;34m)\u001b[0m\u001b[0;34m\u001b[0m\u001b[0;34m\u001b[0m\u001b[0m\n\u001b[0;32m-> 7186\u001b[0;31m   \u001b[0;32mraise\u001b[0m \u001b[0mcore\u001b[0m\u001b[0;34m.\u001b[0m\u001b[0m_status_to_exception\u001b[0m\u001b[0;34m(\u001b[0m\u001b[0me\u001b[0m\u001b[0;34m)\u001b[0m \u001b[0;32mfrom\u001b[0m \u001b[0;32mNone\u001b[0m  \u001b[0;31m# pylint: disable=protected-access\u001b[0m\u001b[0;34m\u001b[0m\u001b[0;34m\u001b[0m\u001b[0m\n\u001b[0m\u001b[1;32m   7187\u001b[0m \u001b[0;34m\u001b[0m\u001b[0m\n\u001b[1;32m   7188\u001b[0m \u001b[0;34m\u001b[0m\u001b[0m\n",
            "\u001b[0;31mInvalidArgumentError\u001b[0m: Exception encountered when calling layer \"normalization_47\" (type Normalization).\n\nIncompatible shapes: [2,2] vs. [1,13] [Op:Sub]\n\nCall arguments received:\n  • inputs=tf.Tensor(shape=(2, 2), dtype=float32)"
          ]
        }
      ]
    },
    {
      "cell_type": "code",
      "source": [
        ""
      ],
      "metadata": {
        "id": "i4QrEM6361ni"
      },
      "execution_count": null,
      "outputs": []
    }
  ]
}