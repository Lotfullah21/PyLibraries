{
  "nbformat": 4,
  "nbformat_minor": 0,
  "metadata": {
    "colab": {
      "provenance": [],
      "collapsed_sections": [],
      "include_colab_link": true
    },
    "kernelspec": {
      "name": "python3",
      "display_name": "Python 3"
    },
    "language_info": {
      "name": "python"
    },
    "widgets": {
      "application/vnd.jupyter.widget-state+json": {
        "3ada68cd636645aeab70eca8feae4a87": {
          "model_module": "@jupyter-widgets/controls",
          "model_name": "HBoxModel",
          "model_module_version": "1.5.0",
          "state": {
            "_dom_classes": [],
            "_model_module": "@jupyter-widgets/controls",
            "_model_module_version": "1.5.0",
            "_model_name": "HBoxModel",
            "_view_count": null,
            "_view_module": "@jupyter-widgets/controls",
            "_view_module_version": "1.5.0",
            "_view_name": "HBoxView",
            "box_style": "",
            "children": [
              "IPY_MODEL_d7f41fdfa6a64a07a43203bd59dfd8a7",
              "IPY_MODEL_7a6bd411ad8a48f690c1c1798535fcae",
              "IPY_MODEL_c6efcbe5eb8b4d959ebfc5a47c2a7ebc"
            ],
            "layout": "IPY_MODEL_3dc0f6cfd28a4f66aec4b7e813df4370"
          }
        },
        "d7f41fdfa6a64a07a43203bd59dfd8a7": {
          "model_module": "@jupyter-widgets/controls",
          "model_name": "HTMLModel",
          "model_module_version": "1.5.0",
          "state": {
            "_dom_classes": [],
            "_model_module": "@jupyter-widgets/controls",
            "_model_module_version": "1.5.0",
            "_model_name": "HTMLModel",
            "_view_count": null,
            "_view_module": "@jupyter-widgets/controls",
            "_view_module_version": "1.5.0",
            "_view_name": "HTMLView",
            "description": "",
            "description_tooltip": null,
            "layout": "IPY_MODEL_56e31b57fa6c4696a4ef0282e01689c5",
            "placeholder": "​",
            "style": "IPY_MODEL_10cd9fb597854d41940c7330fe9ac213",
            "value": "100%"
          }
        },
        "7a6bd411ad8a48f690c1c1798535fcae": {
          "model_module": "@jupyter-widgets/controls",
          "model_name": "FloatProgressModel",
          "model_module_version": "1.5.0",
          "state": {
            "_dom_classes": [],
            "_model_module": "@jupyter-widgets/controls",
            "_model_module_version": "1.5.0",
            "_model_name": "FloatProgressModel",
            "_view_count": null,
            "_view_module": "@jupyter-widgets/controls",
            "_view_module_version": "1.5.0",
            "_view_name": "ProgressView",
            "bar_style": "success",
            "description": "",
            "description_tooltip": null,
            "layout": "IPY_MODEL_2ec4b81b75a64610946d89eeed9404e3",
            "max": 26421880,
            "min": 0,
            "orientation": "horizontal",
            "style": "IPY_MODEL_29464f621708439d8eb7c68239589c58",
            "value": 26421880
          }
        },
        "c6efcbe5eb8b4d959ebfc5a47c2a7ebc": {
          "model_module": "@jupyter-widgets/controls",
          "model_name": "HTMLModel",
          "model_module_version": "1.5.0",
          "state": {
            "_dom_classes": [],
            "_model_module": "@jupyter-widgets/controls",
            "_model_module_version": "1.5.0",
            "_model_name": "HTMLModel",
            "_view_count": null,
            "_view_module": "@jupyter-widgets/controls",
            "_view_module_version": "1.5.0",
            "_view_name": "HTMLView",
            "description": "",
            "description_tooltip": null,
            "layout": "IPY_MODEL_702076f1ca9a435a8766496e19218153",
            "placeholder": "​",
            "style": "IPY_MODEL_3d26c4abe71245a386ad32f6af12de7a",
            "value": " 26421880/26421880 [00:01&lt;00:00, 29090142.30it/s]"
          }
        },
        "3dc0f6cfd28a4f66aec4b7e813df4370": {
          "model_module": "@jupyter-widgets/base",
          "model_name": "LayoutModel",
          "model_module_version": "1.2.0",
          "state": {
            "_model_module": "@jupyter-widgets/base",
            "_model_module_version": "1.2.0",
            "_model_name": "LayoutModel",
            "_view_count": null,
            "_view_module": "@jupyter-widgets/base",
            "_view_module_version": "1.2.0",
            "_view_name": "LayoutView",
            "align_content": null,
            "align_items": null,
            "align_self": null,
            "border": null,
            "bottom": null,
            "display": null,
            "flex": null,
            "flex_flow": null,
            "grid_area": null,
            "grid_auto_columns": null,
            "grid_auto_flow": null,
            "grid_auto_rows": null,
            "grid_column": null,
            "grid_gap": null,
            "grid_row": null,
            "grid_template_areas": null,
            "grid_template_columns": null,
            "grid_template_rows": null,
            "height": null,
            "justify_content": null,
            "justify_items": null,
            "left": null,
            "margin": null,
            "max_height": null,
            "max_width": null,
            "min_height": null,
            "min_width": null,
            "object_fit": null,
            "object_position": null,
            "order": null,
            "overflow": null,
            "overflow_x": null,
            "overflow_y": null,
            "padding": null,
            "right": null,
            "top": null,
            "visibility": null,
            "width": null
          }
        },
        "56e31b57fa6c4696a4ef0282e01689c5": {
          "model_module": "@jupyter-widgets/base",
          "model_name": "LayoutModel",
          "model_module_version": "1.2.0",
          "state": {
            "_model_module": "@jupyter-widgets/base",
            "_model_module_version": "1.2.0",
            "_model_name": "LayoutModel",
            "_view_count": null,
            "_view_module": "@jupyter-widgets/base",
            "_view_module_version": "1.2.0",
            "_view_name": "LayoutView",
            "align_content": null,
            "align_items": null,
            "align_self": null,
            "border": null,
            "bottom": null,
            "display": null,
            "flex": null,
            "flex_flow": null,
            "grid_area": null,
            "grid_auto_columns": null,
            "grid_auto_flow": null,
            "grid_auto_rows": null,
            "grid_column": null,
            "grid_gap": null,
            "grid_row": null,
            "grid_template_areas": null,
            "grid_template_columns": null,
            "grid_template_rows": null,
            "height": null,
            "justify_content": null,
            "justify_items": null,
            "left": null,
            "margin": null,
            "max_height": null,
            "max_width": null,
            "min_height": null,
            "min_width": null,
            "object_fit": null,
            "object_position": null,
            "order": null,
            "overflow": null,
            "overflow_x": null,
            "overflow_y": null,
            "padding": null,
            "right": null,
            "top": null,
            "visibility": null,
            "width": null
          }
        },
        "10cd9fb597854d41940c7330fe9ac213": {
          "model_module": "@jupyter-widgets/controls",
          "model_name": "DescriptionStyleModel",
          "model_module_version": "1.5.0",
          "state": {
            "_model_module": "@jupyter-widgets/controls",
            "_model_module_version": "1.5.0",
            "_model_name": "DescriptionStyleModel",
            "_view_count": null,
            "_view_module": "@jupyter-widgets/base",
            "_view_module_version": "1.2.0",
            "_view_name": "StyleView",
            "description_width": ""
          }
        },
        "2ec4b81b75a64610946d89eeed9404e3": {
          "model_module": "@jupyter-widgets/base",
          "model_name": "LayoutModel",
          "model_module_version": "1.2.0",
          "state": {
            "_model_module": "@jupyter-widgets/base",
            "_model_module_version": "1.2.0",
            "_model_name": "LayoutModel",
            "_view_count": null,
            "_view_module": "@jupyter-widgets/base",
            "_view_module_version": "1.2.0",
            "_view_name": "LayoutView",
            "align_content": null,
            "align_items": null,
            "align_self": null,
            "border": null,
            "bottom": null,
            "display": null,
            "flex": null,
            "flex_flow": null,
            "grid_area": null,
            "grid_auto_columns": null,
            "grid_auto_flow": null,
            "grid_auto_rows": null,
            "grid_column": null,
            "grid_gap": null,
            "grid_row": null,
            "grid_template_areas": null,
            "grid_template_columns": null,
            "grid_template_rows": null,
            "height": null,
            "justify_content": null,
            "justify_items": null,
            "left": null,
            "margin": null,
            "max_height": null,
            "max_width": null,
            "min_height": null,
            "min_width": null,
            "object_fit": null,
            "object_position": null,
            "order": null,
            "overflow": null,
            "overflow_x": null,
            "overflow_y": null,
            "padding": null,
            "right": null,
            "top": null,
            "visibility": null,
            "width": null
          }
        },
        "29464f621708439d8eb7c68239589c58": {
          "model_module": "@jupyter-widgets/controls",
          "model_name": "ProgressStyleModel",
          "model_module_version": "1.5.0",
          "state": {
            "_model_module": "@jupyter-widgets/controls",
            "_model_module_version": "1.5.0",
            "_model_name": "ProgressStyleModel",
            "_view_count": null,
            "_view_module": "@jupyter-widgets/base",
            "_view_module_version": "1.2.0",
            "_view_name": "StyleView",
            "bar_color": null,
            "description_width": ""
          }
        },
        "702076f1ca9a435a8766496e19218153": {
          "model_module": "@jupyter-widgets/base",
          "model_name": "LayoutModel",
          "model_module_version": "1.2.0",
          "state": {
            "_model_module": "@jupyter-widgets/base",
            "_model_module_version": "1.2.0",
            "_model_name": "LayoutModel",
            "_view_count": null,
            "_view_module": "@jupyter-widgets/base",
            "_view_module_version": "1.2.0",
            "_view_name": "LayoutView",
            "align_content": null,
            "align_items": null,
            "align_self": null,
            "border": null,
            "bottom": null,
            "display": null,
            "flex": null,
            "flex_flow": null,
            "grid_area": null,
            "grid_auto_columns": null,
            "grid_auto_flow": null,
            "grid_auto_rows": null,
            "grid_column": null,
            "grid_gap": null,
            "grid_row": null,
            "grid_template_areas": null,
            "grid_template_columns": null,
            "grid_template_rows": null,
            "height": null,
            "justify_content": null,
            "justify_items": null,
            "left": null,
            "margin": null,
            "max_height": null,
            "max_width": null,
            "min_height": null,
            "min_width": null,
            "object_fit": null,
            "object_position": null,
            "order": null,
            "overflow": null,
            "overflow_x": null,
            "overflow_y": null,
            "padding": null,
            "right": null,
            "top": null,
            "visibility": null,
            "width": null
          }
        },
        "3d26c4abe71245a386ad32f6af12de7a": {
          "model_module": "@jupyter-widgets/controls",
          "model_name": "DescriptionStyleModel",
          "model_module_version": "1.5.0",
          "state": {
            "_model_module": "@jupyter-widgets/controls",
            "_model_module_version": "1.5.0",
            "_model_name": "DescriptionStyleModel",
            "_view_count": null,
            "_view_module": "@jupyter-widgets/base",
            "_view_module_version": "1.2.0",
            "_view_name": "StyleView",
            "description_width": ""
          }
        },
        "ef0ee735ed7c4f6fb7ecfc45a5981217": {
          "model_module": "@jupyter-widgets/controls",
          "model_name": "HBoxModel",
          "model_module_version": "1.5.0",
          "state": {
            "_dom_classes": [],
            "_model_module": "@jupyter-widgets/controls",
            "_model_module_version": "1.5.0",
            "_model_name": "HBoxModel",
            "_view_count": null,
            "_view_module": "@jupyter-widgets/controls",
            "_view_module_version": "1.5.0",
            "_view_name": "HBoxView",
            "box_style": "",
            "children": [
              "IPY_MODEL_e2748578dc4f4454abab200d57347510",
              "IPY_MODEL_beaa42f59a944b888d28776b910d4558",
              "IPY_MODEL_980309a659c74bf59d89afedd49d0f24"
            ],
            "layout": "IPY_MODEL_dc38cf08f1d4424b83ebde4bf8fd42bb"
          }
        },
        "e2748578dc4f4454abab200d57347510": {
          "model_module": "@jupyter-widgets/controls",
          "model_name": "HTMLModel",
          "model_module_version": "1.5.0",
          "state": {
            "_dom_classes": [],
            "_model_module": "@jupyter-widgets/controls",
            "_model_module_version": "1.5.0",
            "_model_name": "HTMLModel",
            "_view_count": null,
            "_view_module": "@jupyter-widgets/controls",
            "_view_module_version": "1.5.0",
            "_view_name": "HTMLView",
            "description": "",
            "description_tooltip": null,
            "layout": "IPY_MODEL_5c72b62a7e2643c5acea99fbd2f3e295",
            "placeholder": "​",
            "style": "IPY_MODEL_23292b1765b04bb1833ad63d795d5a6a",
            "value": "100%"
          }
        },
        "beaa42f59a944b888d28776b910d4558": {
          "model_module": "@jupyter-widgets/controls",
          "model_name": "FloatProgressModel",
          "model_module_version": "1.5.0",
          "state": {
            "_dom_classes": [],
            "_model_module": "@jupyter-widgets/controls",
            "_model_module_version": "1.5.0",
            "_model_name": "FloatProgressModel",
            "_view_count": null,
            "_view_module": "@jupyter-widgets/controls",
            "_view_module_version": "1.5.0",
            "_view_name": "ProgressView",
            "bar_style": "success",
            "description": "",
            "description_tooltip": null,
            "layout": "IPY_MODEL_a58b82c301784dbfbc25e91228a3108a",
            "max": 29515,
            "min": 0,
            "orientation": "horizontal",
            "style": "IPY_MODEL_43f7529be25e4188a90d9ff196034833",
            "value": 29515
          }
        },
        "980309a659c74bf59d89afedd49d0f24": {
          "model_module": "@jupyter-widgets/controls",
          "model_name": "HTMLModel",
          "model_module_version": "1.5.0",
          "state": {
            "_dom_classes": [],
            "_model_module": "@jupyter-widgets/controls",
            "_model_module_version": "1.5.0",
            "_model_name": "HTMLModel",
            "_view_count": null,
            "_view_module": "@jupyter-widgets/controls",
            "_view_module_version": "1.5.0",
            "_view_name": "HTMLView",
            "description": "",
            "description_tooltip": null,
            "layout": "IPY_MODEL_2921ea4ae38144108fa5e85683596c69",
            "placeholder": "​",
            "style": "IPY_MODEL_d4b515d50b9946b2b15e741965dcf018",
            "value": " 29515/29515 [00:00&lt;00:00, 316458.79it/s]"
          }
        },
        "dc38cf08f1d4424b83ebde4bf8fd42bb": {
          "model_module": "@jupyter-widgets/base",
          "model_name": "LayoutModel",
          "model_module_version": "1.2.0",
          "state": {
            "_model_module": "@jupyter-widgets/base",
            "_model_module_version": "1.2.0",
            "_model_name": "LayoutModel",
            "_view_count": null,
            "_view_module": "@jupyter-widgets/base",
            "_view_module_version": "1.2.0",
            "_view_name": "LayoutView",
            "align_content": null,
            "align_items": null,
            "align_self": null,
            "border": null,
            "bottom": null,
            "display": null,
            "flex": null,
            "flex_flow": null,
            "grid_area": null,
            "grid_auto_columns": null,
            "grid_auto_flow": null,
            "grid_auto_rows": null,
            "grid_column": null,
            "grid_gap": null,
            "grid_row": null,
            "grid_template_areas": null,
            "grid_template_columns": null,
            "grid_template_rows": null,
            "height": null,
            "justify_content": null,
            "justify_items": null,
            "left": null,
            "margin": null,
            "max_height": null,
            "max_width": null,
            "min_height": null,
            "min_width": null,
            "object_fit": null,
            "object_position": null,
            "order": null,
            "overflow": null,
            "overflow_x": null,
            "overflow_y": null,
            "padding": null,
            "right": null,
            "top": null,
            "visibility": null,
            "width": null
          }
        },
        "5c72b62a7e2643c5acea99fbd2f3e295": {
          "model_module": "@jupyter-widgets/base",
          "model_name": "LayoutModel",
          "model_module_version": "1.2.0",
          "state": {
            "_model_module": "@jupyter-widgets/base",
            "_model_module_version": "1.2.0",
            "_model_name": "LayoutModel",
            "_view_count": null,
            "_view_module": "@jupyter-widgets/base",
            "_view_module_version": "1.2.0",
            "_view_name": "LayoutView",
            "align_content": null,
            "align_items": null,
            "align_self": null,
            "border": null,
            "bottom": null,
            "display": null,
            "flex": null,
            "flex_flow": null,
            "grid_area": null,
            "grid_auto_columns": null,
            "grid_auto_flow": null,
            "grid_auto_rows": null,
            "grid_column": null,
            "grid_gap": null,
            "grid_row": null,
            "grid_template_areas": null,
            "grid_template_columns": null,
            "grid_template_rows": null,
            "height": null,
            "justify_content": null,
            "justify_items": null,
            "left": null,
            "margin": null,
            "max_height": null,
            "max_width": null,
            "min_height": null,
            "min_width": null,
            "object_fit": null,
            "object_position": null,
            "order": null,
            "overflow": null,
            "overflow_x": null,
            "overflow_y": null,
            "padding": null,
            "right": null,
            "top": null,
            "visibility": null,
            "width": null
          }
        },
        "23292b1765b04bb1833ad63d795d5a6a": {
          "model_module": "@jupyter-widgets/controls",
          "model_name": "DescriptionStyleModel",
          "model_module_version": "1.5.0",
          "state": {
            "_model_module": "@jupyter-widgets/controls",
            "_model_module_version": "1.5.0",
            "_model_name": "DescriptionStyleModel",
            "_view_count": null,
            "_view_module": "@jupyter-widgets/base",
            "_view_module_version": "1.2.0",
            "_view_name": "StyleView",
            "description_width": ""
          }
        },
        "a58b82c301784dbfbc25e91228a3108a": {
          "model_module": "@jupyter-widgets/base",
          "model_name": "LayoutModel",
          "model_module_version": "1.2.0",
          "state": {
            "_model_module": "@jupyter-widgets/base",
            "_model_module_version": "1.2.0",
            "_model_name": "LayoutModel",
            "_view_count": null,
            "_view_module": "@jupyter-widgets/base",
            "_view_module_version": "1.2.0",
            "_view_name": "LayoutView",
            "align_content": null,
            "align_items": null,
            "align_self": null,
            "border": null,
            "bottom": null,
            "display": null,
            "flex": null,
            "flex_flow": null,
            "grid_area": null,
            "grid_auto_columns": null,
            "grid_auto_flow": null,
            "grid_auto_rows": null,
            "grid_column": null,
            "grid_gap": null,
            "grid_row": null,
            "grid_template_areas": null,
            "grid_template_columns": null,
            "grid_template_rows": null,
            "height": null,
            "justify_content": null,
            "justify_items": null,
            "left": null,
            "margin": null,
            "max_height": null,
            "max_width": null,
            "min_height": null,
            "min_width": null,
            "object_fit": null,
            "object_position": null,
            "order": null,
            "overflow": null,
            "overflow_x": null,
            "overflow_y": null,
            "padding": null,
            "right": null,
            "top": null,
            "visibility": null,
            "width": null
          }
        },
        "43f7529be25e4188a90d9ff196034833": {
          "model_module": "@jupyter-widgets/controls",
          "model_name": "ProgressStyleModel",
          "model_module_version": "1.5.0",
          "state": {
            "_model_module": "@jupyter-widgets/controls",
            "_model_module_version": "1.5.0",
            "_model_name": "ProgressStyleModel",
            "_view_count": null,
            "_view_module": "@jupyter-widgets/base",
            "_view_module_version": "1.2.0",
            "_view_name": "StyleView",
            "bar_color": null,
            "description_width": ""
          }
        },
        "2921ea4ae38144108fa5e85683596c69": {
          "model_module": "@jupyter-widgets/base",
          "model_name": "LayoutModel",
          "model_module_version": "1.2.0",
          "state": {
            "_model_module": "@jupyter-widgets/base",
            "_model_module_version": "1.2.0",
            "_model_name": "LayoutModel",
            "_view_count": null,
            "_view_module": "@jupyter-widgets/base",
            "_view_module_version": "1.2.0",
            "_view_name": "LayoutView",
            "align_content": null,
            "align_items": null,
            "align_self": null,
            "border": null,
            "bottom": null,
            "display": null,
            "flex": null,
            "flex_flow": null,
            "grid_area": null,
            "grid_auto_columns": null,
            "grid_auto_flow": null,
            "grid_auto_rows": null,
            "grid_column": null,
            "grid_gap": null,
            "grid_row": null,
            "grid_template_areas": null,
            "grid_template_columns": null,
            "grid_template_rows": null,
            "height": null,
            "justify_content": null,
            "justify_items": null,
            "left": null,
            "margin": null,
            "max_height": null,
            "max_width": null,
            "min_height": null,
            "min_width": null,
            "object_fit": null,
            "object_position": null,
            "order": null,
            "overflow": null,
            "overflow_x": null,
            "overflow_y": null,
            "padding": null,
            "right": null,
            "top": null,
            "visibility": null,
            "width": null
          }
        },
        "d4b515d50b9946b2b15e741965dcf018": {
          "model_module": "@jupyter-widgets/controls",
          "model_name": "DescriptionStyleModel",
          "model_module_version": "1.5.0",
          "state": {
            "_model_module": "@jupyter-widgets/controls",
            "_model_module_version": "1.5.0",
            "_model_name": "DescriptionStyleModel",
            "_view_count": null,
            "_view_module": "@jupyter-widgets/base",
            "_view_module_version": "1.2.0",
            "_view_name": "StyleView",
            "description_width": ""
          }
        },
        "c5526ebbf2cf40aeb4c97b78fc5e0cd7": {
          "model_module": "@jupyter-widgets/controls",
          "model_name": "HBoxModel",
          "model_module_version": "1.5.0",
          "state": {
            "_dom_classes": [],
            "_model_module": "@jupyter-widgets/controls",
            "_model_module_version": "1.5.0",
            "_model_name": "HBoxModel",
            "_view_count": null,
            "_view_module": "@jupyter-widgets/controls",
            "_view_module_version": "1.5.0",
            "_view_name": "HBoxView",
            "box_style": "",
            "children": [
              "IPY_MODEL_35b4b1dcf95d42c4a3aa9595925e4e91",
              "IPY_MODEL_86345faaddec44fea66c4208bd68ea70",
              "IPY_MODEL_b19b7256a41d4a0f88007d2dee4b67d5"
            ],
            "layout": "IPY_MODEL_56fcda956b784b3f87edda099c815d6d"
          }
        },
        "35b4b1dcf95d42c4a3aa9595925e4e91": {
          "model_module": "@jupyter-widgets/controls",
          "model_name": "HTMLModel",
          "model_module_version": "1.5.0",
          "state": {
            "_dom_classes": [],
            "_model_module": "@jupyter-widgets/controls",
            "_model_module_version": "1.5.0",
            "_model_name": "HTMLModel",
            "_view_count": null,
            "_view_module": "@jupyter-widgets/controls",
            "_view_module_version": "1.5.0",
            "_view_name": "HTMLView",
            "description": "",
            "description_tooltip": null,
            "layout": "IPY_MODEL_2ac3087ad5df4208aa645fef78de5262",
            "placeholder": "​",
            "style": "IPY_MODEL_4437b007eccd4665a9c03bcecf443ddf",
            "value": "100%"
          }
        },
        "86345faaddec44fea66c4208bd68ea70": {
          "model_module": "@jupyter-widgets/controls",
          "model_name": "FloatProgressModel",
          "model_module_version": "1.5.0",
          "state": {
            "_dom_classes": [],
            "_model_module": "@jupyter-widgets/controls",
            "_model_module_version": "1.5.0",
            "_model_name": "FloatProgressModel",
            "_view_count": null,
            "_view_module": "@jupyter-widgets/controls",
            "_view_module_version": "1.5.0",
            "_view_name": "ProgressView",
            "bar_style": "success",
            "description": "",
            "description_tooltip": null,
            "layout": "IPY_MODEL_64cd8d5af5f144a4a61a022da063ef42",
            "max": 4422102,
            "min": 0,
            "orientation": "horizontal",
            "style": "IPY_MODEL_580ec01090744421b12ab8df3b7f0e8b",
            "value": 4422102
          }
        },
        "b19b7256a41d4a0f88007d2dee4b67d5": {
          "model_module": "@jupyter-widgets/controls",
          "model_name": "HTMLModel",
          "model_module_version": "1.5.0",
          "state": {
            "_dom_classes": [],
            "_model_module": "@jupyter-widgets/controls",
            "_model_module_version": "1.5.0",
            "_model_name": "HTMLModel",
            "_view_count": null,
            "_view_module": "@jupyter-widgets/controls",
            "_view_module_version": "1.5.0",
            "_view_name": "HTMLView",
            "description": "",
            "description_tooltip": null,
            "layout": "IPY_MODEL_84fc89e2c8d3482a9c14a5cd39ee0ace",
            "placeholder": "​",
            "style": "IPY_MODEL_1b20ce07d18745b09e1aa5f515cef6f5",
            "value": " 4422102/4422102 [00:00&lt;00:00, 6164930.64it/s]"
          }
        },
        "56fcda956b784b3f87edda099c815d6d": {
          "model_module": "@jupyter-widgets/base",
          "model_name": "LayoutModel",
          "model_module_version": "1.2.0",
          "state": {
            "_model_module": "@jupyter-widgets/base",
            "_model_module_version": "1.2.0",
            "_model_name": "LayoutModel",
            "_view_count": null,
            "_view_module": "@jupyter-widgets/base",
            "_view_module_version": "1.2.0",
            "_view_name": "LayoutView",
            "align_content": null,
            "align_items": null,
            "align_self": null,
            "border": null,
            "bottom": null,
            "display": null,
            "flex": null,
            "flex_flow": null,
            "grid_area": null,
            "grid_auto_columns": null,
            "grid_auto_flow": null,
            "grid_auto_rows": null,
            "grid_column": null,
            "grid_gap": null,
            "grid_row": null,
            "grid_template_areas": null,
            "grid_template_columns": null,
            "grid_template_rows": null,
            "height": null,
            "justify_content": null,
            "justify_items": null,
            "left": null,
            "margin": null,
            "max_height": null,
            "max_width": null,
            "min_height": null,
            "min_width": null,
            "object_fit": null,
            "object_position": null,
            "order": null,
            "overflow": null,
            "overflow_x": null,
            "overflow_y": null,
            "padding": null,
            "right": null,
            "top": null,
            "visibility": null,
            "width": null
          }
        },
        "2ac3087ad5df4208aa645fef78de5262": {
          "model_module": "@jupyter-widgets/base",
          "model_name": "LayoutModel",
          "model_module_version": "1.2.0",
          "state": {
            "_model_module": "@jupyter-widgets/base",
            "_model_module_version": "1.2.0",
            "_model_name": "LayoutModel",
            "_view_count": null,
            "_view_module": "@jupyter-widgets/base",
            "_view_module_version": "1.2.0",
            "_view_name": "LayoutView",
            "align_content": null,
            "align_items": null,
            "align_self": null,
            "border": null,
            "bottom": null,
            "display": null,
            "flex": null,
            "flex_flow": null,
            "grid_area": null,
            "grid_auto_columns": null,
            "grid_auto_flow": null,
            "grid_auto_rows": null,
            "grid_column": null,
            "grid_gap": null,
            "grid_row": null,
            "grid_template_areas": null,
            "grid_template_columns": null,
            "grid_template_rows": null,
            "height": null,
            "justify_content": null,
            "justify_items": null,
            "left": null,
            "margin": null,
            "max_height": null,
            "max_width": null,
            "min_height": null,
            "min_width": null,
            "object_fit": null,
            "object_position": null,
            "order": null,
            "overflow": null,
            "overflow_x": null,
            "overflow_y": null,
            "padding": null,
            "right": null,
            "top": null,
            "visibility": null,
            "width": null
          }
        },
        "4437b007eccd4665a9c03bcecf443ddf": {
          "model_module": "@jupyter-widgets/controls",
          "model_name": "DescriptionStyleModel",
          "model_module_version": "1.5.0",
          "state": {
            "_model_module": "@jupyter-widgets/controls",
            "_model_module_version": "1.5.0",
            "_model_name": "DescriptionStyleModel",
            "_view_count": null,
            "_view_module": "@jupyter-widgets/base",
            "_view_module_version": "1.2.0",
            "_view_name": "StyleView",
            "description_width": ""
          }
        },
        "64cd8d5af5f144a4a61a022da063ef42": {
          "model_module": "@jupyter-widgets/base",
          "model_name": "LayoutModel",
          "model_module_version": "1.2.0",
          "state": {
            "_model_module": "@jupyter-widgets/base",
            "_model_module_version": "1.2.0",
            "_model_name": "LayoutModel",
            "_view_count": null,
            "_view_module": "@jupyter-widgets/base",
            "_view_module_version": "1.2.0",
            "_view_name": "LayoutView",
            "align_content": null,
            "align_items": null,
            "align_self": null,
            "border": null,
            "bottom": null,
            "display": null,
            "flex": null,
            "flex_flow": null,
            "grid_area": null,
            "grid_auto_columns": null,
            "grid_auto_flow": null,
            "grid_auto_rows": null,
            "grid_column": null,
            "grid_gap": null,
            "grid_row": null,
            "grid_template_areas": null,
            "grid_template_columns": null,
            "grid_template_rows": null,
            "height": null,
            "justify_content": null,
            "justify_items": null,
            "left": null,
            "margin": null,
            "max_height": null,
            "max_width": null,
            "min_height": null,
            "min_width": null,
            "object_fit": null,
            "object_position": null,
            "order": null,
            "overflow": null,
            "overflow_x": null,
            "overflow_y": null,
            "padding": null,
            "right": null,
            "top": null,
            "visibility": null,
            "width": null
          }
        },
        "580ec01090744421b12ab8df3b7f0e8b": {
          "model_module": "@jupyter-widgets/controls",
          "model_name": "ProgressStyleModel",
          "model_module_version": "1.5.0",
          "state": {
            "_model_module": "@jupyter-widgets/controls",
            "_model_module_version": "1.5.0",
            "_model_name": "ProgressStyleModel",
            "_view_count": null,
            "_view_module": "@jupyter-widgets/base",
            "_view_module_version": "1.2.0",
            "_view_name": "StyleView",
            "bar_color": null,
            "description_width": ""
          }
        },
        "84fc89e2c8d3482a9c14a5cd39ee0ace": {
          "model_module": "@jupyter-widgets/base",
          "model_name": "LayoutModel",
          "model_module_version": "1.2.0",
          "state": {
            "_model_module": "@jupyter-widgets/base",
            "_model_module_version": "1.2.0",
            "_model_name": "LayoutModel",
            "_view_count": null,
            "_view_module": "@jupyter-widgets/base",
            "_view_module_version": "1.2.0",
            "_view_name": "LayoutView",
            "align_content": null,
            "align_items": null,
            "align_self": null,
            "border": null,
            "bottom": null,
            "display": null,
            "flex": null,
            "flex_flow": null,
            "grid_area": null,
            "grid_auto_columns": null,
            "grid_auto_flow": null,
            "grid_auto_rows": null,
            "grid_column": null,
            "grid_gap": null,
            "grid_row": null,
            "grid_template_areas": null,
            "grid_template_columns": null,
            "grid_template_rows": null,
            "height": null,
            "justify_content": null,
            "justify_items": null,
            "left": null,
            "margin": null,
            "max_height": null,
            "max_width": null,
            "min_height": null,
            "min_width": null,
            "object_fit": null,
            "object_position": null,
            "order": null,
            "overflow": null,
            "overflow_x": null,
            "overflow_y": null,
            "padding": null,
            "right": null,
            "top": null,
            "visibility": null,
            "width": null
          }
        },
        "1b20ce07d18745b09e1aa5f515cef6f5": {
          "model_module": "@jupyter-widgets/controls",
          "model_name": "DescriptionStyleModel",
          "model_module_version": "1.5.0",
          "state": {
            "_model_module": "@jupyter-widgets/controls",
            "_model_module_version": "1.5.0",
            "_model_name": "DescriptionStyleModel",
            "_view_count": null,
            "_view_module": "@jupyter-widgets/base",
            "_view_module_version": "1.2.0",
            "_view_name": "StyleView",
            "description_width": ""
          }
        },
        "e501027fb5034a54ac0250fc0edbe6a9": {
          "model_module": "@jupyter-widgets/controls",
          "model_name": "HBoxModel",
          "model_module_version": "1.5.0",
          "state": {
            "_dom_classes": [],
            "_model_module": "@jupyter-widgets/controls",
            "_model_module_version": "1.5.0",
            "_model_name": "HBoxModel",
            "_view_count": null,
            "_view_module": "@jupyter-widgets/controls",
            "_view_module_version": "1.5.0",
            "_view_name": "HBoxView",
            "box_style": "",
            "children": [
              "IPY_MODEL_d918fcfaadcd4c44947e4221aa10e924",
              "IPY_MODEL_c63d6f9f718a495f82f1a96c00861d82",
              "IPY_MODEL_0a8eda7a4b1346429c25693a61420d11"
            ],
            "layout": "IPY_MODEL_80147993f4044e978b57fa7e6dc7a2c1"
          }
        },
        "d918fcfaadcd4c44947e4221aa10e924": {
          "model_module": "@jupyter-widgets/controls",
          "model_name": "HTMLModel",
          "model_module_version": "1.5.0",
          "state": {
            "_dom_classes": [],
            "_model_module": "@jupyter-widgets/controls",
            "_model_module_version": "1.5.0",
            "_model_name": "HTMLModel",
            "_view_count": null,
            "_view_module": "@jupyter-widgets/controls",
            "_view_module_version": "1.5.0",
            "_view_name": "HTMLView",
            "description": "",
            "description_tooltip": null,
            "layout": "IPY_MODEL_29e2415148e9433c8a35597e7e4bc284",
            "placeholder": "​",
            "style": "IPY_MODEL_1d55a5c00b334285a35d2b80a46f8cda",
            "value": "100%"
          }
        },
        "c63d6f9f718a495f82f1a96c00861d82": {
          "model_module": "@jupyter-widgets/controls",
          "model_name": "FloatProgressModel",
          "model_module_version": "1.5.0",
          "state": {
            "_dom_classes": [],
            "_model_module": "@jupyter-widgets/controls",
            "_model_module_version": "1.5.0",
            "_model_name": "FloatProgressModel",
            "_view_count": null,
            "_view_module": "@jupyter-widgets/controls",
            "_view_module_version": "1.5.0",
            "_view_name": "ProgressView",
            "bar_style": "success",
            "description": "",
            "description_tooltip": null,
            "layout": "IPY_MODEL_03b8737f3d1d4540b1c52f719200bb3f",
            "max": 5148,
            "min": 0,
            "orientation": "horizontal",
            "style": "IPY_MODEL_9a5cb741b1df46398033605e462f7106",
            "value": 5148
          }
        },
        "0a8eda7a4b1346429c25693a61420d11": {
          "model_module": "@jupyter-widgets/controls",
          "model_name": "HTMLModel",
          "model_module_version": "1.5.0",
          "state": {
            "_dom_classes": [],
            "_model_module": "@jupyter-widgets/controls",
            "_model_module_version": "1.5.0",
            "_model_name": "HTMLModel",
            "_view_count": null,
            "_view_module": "@jupyter-widgets/controls",
            "_view_module_version": "1.5.0",
            "_view_name": "HTMLView",
            "description": "",
            "description_tooltip": null,
            "layout": "IPY_MODEL_240e70cd44dc401994b227a43d128e42",
            "placeholder": "​",
            "style": "IPY_MODEL_22f535aeaf574f6e9ddf01b7e00edde5",
            "value": " 5148/5148 [00:00&lt;00:00, 160933.43it/s]"
          }
        },
        "80147993f4044e978b57fa7e6dc7a2c1": {
          "model_module": "@jupyter-widgets/base",
          "model_name": "LayoutModel",
          "model_module_version": "1.2.0",
          "state": {
            "_model_module": "@jupyter-widgets/base",
            "_model_module_version": "1.2.0",
            "_model_name": "LayoutModel",
            "_view_count": null,
            "_view_module": "@jupyter-widgets/base",
            "_view_module_version": "1.2.0",
            "_view_name": "LayoutView",
            "align_content": null,
            "align_items": null,
            "align_self": null,
            "border": null,
            "bottom": null,
            "display": null,
            "flex": null,
            "flex_flow": null,
            "grid_area": null,
            "grid_auto_columns": null,
            "grid_auto_flow": null,
            "grid_auto_rows": null,
            "grid_column": null,
            "grid_gap": null,
            "grid_row": null,
            "grid_template_areas": null,
            "grid_template_columns": null,
            "grid_template_rows": null,
            "height": null,
            "justify_content": null,
            "justify_items": null,
            "left": null,
            "margin": null,
            "max_height": null,
            "max_width": null,
            "min_height": null,
            "min_width": null,
            "object_fit": null,
            "object_position": null,
            "order": null,
            "overflow": null,
            "overflow_x": null,
            "overflow_y": null,
            "padding": null,
            "right": null,
            "top": null,
            "visibility": null,
            "width": null
          }
        },
        "29e2415148e9433c8a35597e7e4bc284": {
          "model_module": "@jupyter-widgets/base",
          "model_name": "LayoutModel",
          "model_module_version": "1.2.0",
          "state": {
            "_model_module": "@jupyter-widgets/base",
            "_model_module_version": "1.2.0",
            "_model_name": "LayoutModel",
            "_view_count": null,
            "_view_module": "@jupyter-widgets/base",
            "_view_module_version": "1.2.0",
            "_view_name": "LayoutView",
            "align_content": null,
            "align_items": null,
            "align_self": null,
            "border": null,
            "bottom": null,
            "display": null,
            "flex": null,
            "flex_flow": null,
            "grid_area": null,
            "grid_auto_columns": null,
            "grid_auto_flow": null,
            "grid_auto_rows": null,
            "grid_column": null,
            "grid_gap": null,
            "grid_row": null,
            "grid_template_areas": null,
            "grid_template_columns": null,
            "grid_template_rows": null,
            "height": null,
            "justify_content": null,
            "justify_items": null,
            "left": null,
            "margin": null,
            "max_height": null,
            "max_width": null,
            "min_height": null,
            "min_width": null,
            "object_fit": null,
            "object_position": null,
            "order": null,
            "overflow": null,
            "overflow_x": null,
            "overflow_y": null,
            "padding": null,
            "right": null,
            "top": null,
            "visibility": null,
            "width": null
          }
        },
        "1d55a5c00b334285a35d2b80a46f8cda": {
          "model_module": "@jupyter-widgets/controls",
          "model_name": "DescriptionStyleModel",
          "model_module_version": "1.5.0",
          "state": {
            "_model_module": "@jupyter-widgets/controls",
            "_model_module_version": "1.5.0",
            "_model_name": "DescriptionStyleModel",
            "_view_count": null,
            "_view_module": "@jupyter-widgets/base",
            "_view_module_version": "1.2.0",
            "_view_name": "StyleView",
            "description_width": ""
          }
        },
        "03b8737f3d1d4540b1c52f719200bb3f": {
          "model_module": "@jupyter-widgets/base",
          "model_name": "LayoutModel",
          "model_module_version": "1.2.0",
          "state": {
            "_model_module": "@jupyter-widgets/base",
            "_model_module_version": "1.2.0",
            "_model_name": "LayoutModel",
            "_view_count": null,
            "_view_module": "@jupyter-widgets/base",
            "_view_module_version": "1.2.0",
            "_view_name": "LayoutView",
            "align_content": null,
            "align_items": null,
            "align_self": null,
            "border": null,
            "bottom": null,
            "display": null,
            "flex": null,
            "flex_flow": null,
            "grid_area": null,
            "grid_auto_columns": null,
            "grid_auto_flow": null,
            "grid_auto_rows": null,
            "grid_column": null,
            "grid_gap": null,
            "grid_row": null,
            "grid_template_areas": null,
            "grid_template_columns": null,
            "grid_template_rows": null,
            "height": null,
            "justify_content": null,
            "justify_items": null,
            "left": null,
            "margin": null,
            "max_height": null,
            "max_width": null,
            "min_height": null,
            "min_width": null,
            "object_fit": null,
            "object_position": null,
            "order": null,
            "overflow": null,
            "overflow_x": null,
            "overflow_y": null,
            "padding": null,
            "right": null,
            "top": null,
            "visibility": null,
            "width": null
          }
        },
        "9a5cb741b1df46398033605e462f7106": {
          "model_module": "@jupyter-widgets/controls",
          "model_name": "ProgressStyleModel",
          "model_module_version": "1.5.0",
          "state": {
            "_model_module": "@jupyter-widgets/controls",
            "_model_module_version": "1.5.0",
            "_model_name": "ProgressStyleModel",
            "_view_count": null,
            "_view_module": "@jupyter-widgets/base",
            "_view_module_version": "1.2.0",
            "_view_name": "StyleView",
            "bar_color": null,
            "description_width": ""
          }
        },
        "240e70cd44dc401994b227a43d128e42": {
          "model_module": "@jupyter-widgets/base",
          "model_name": "LayoutModel",
          "model_module_version": "1.2.0",
          "state": {
            "_model_module": "@jupyter-widgets/base",
            "_model_module_version": "1.2.0",
            "_model_name": "LayoutModel",
            "_view_count": null,
            "_view_module": "@jupyter-widgets/base",
            "_view_module_version": "1.2.0",
            "_view_name": "LayoutView",
            "align_content": null,
            "align_items": null,
            "align_self": null,
            "border": null,
            "bottom": null,
            "display": null,
            "flex": null,
            "flex_flow": null,
            "grid_area": null,
            "grid_auto_columns": null,
            "grid_auto_flow": null,
            "grid_auto_rows": null,
            "grid_column": null,
            "grid_gap": null,
            "grid_row": null,
            "grid_template_areas": null,
            "grid_template_columns": null,
            "grid_template_rows": null,
            "height": null,
            "justify_content": null,
            "justify_items": null,
            "left": null,
            "margin": null,
            "max_height": null,
            "max_width": null,
            "min_height": null,
            "min_width": null,
            "object_fit": null,
            "object_position": null,
            "order": null,
            "overflow": null,
            "overflow_x": null,
            "overflow_y": null,
            "padding": null,
            "right": null,
            "top": null,
            "visibility": null,
            "width": null
          }
        },
        "22f535aeaf574f6e9ddf01b7e00edde5": {
          "model_module": "@jupyter-widgets/controls",
          "model_name": "DescriptionStyleModel",
          "model_module_version": "1.5.0",
          "state": {
            "_model_module": "@jupyter-widgets/controls",
            "_model_module_version": "1.5.0",
            "_model_name": "DescriptionStyleModel",
            "_view_count": null,
            "_view_module": "@jupyter-widgets/base",
            "_view_module_version": "1.2.0",
            "_view_name": "StyleView",
            "description_width": ""
          }
        }
      }
    }
  },
  "cells": [
    {
      "cell_type": "markdown",
      "metadata": {
        "id": "view-in-github",
        "colab_type": "text"
      },
      "source": [
        "<a href=\"https://colab.research.google.com/github/Lotfullah21/PyLibraries/blob/main/Dataloaders.ipynb\" target=\"_parent\"><img src=\"https://colab.research.google.com/assets/colab-badge.svg\" alt=\"Open In Colab\"/></a>"
      ]
    },
    {
      "cell_type": "markdown",
      "metadata": {
        "id": "gK4aLhBA5vgN"
      },
      "source": [
        "# DataLoaders - Reading, Writing, Saving\n",
        "## Reading & Saving"
      ]
    },
    {
      "cell_type": "code",
      "source": [
        "import numpy as np\n",
        "temp_array = np.ones((4,4))\n",
        "np.save(\"temp_array.npy\",temp_array)\n",
        "read_the_array = np.load(\"temp_array.npy\")\n",
        "np_arr_pickle = np.array([[3,1,3,1],[42,32,12],[\"me\",21]], dtype = object)\n",
        "np.save(\"pickle_array.npy\",np_arr_pickle,allow_pickle= True)\n",
        "read_pickle_array = np.load(\"pickle_array.npy\",allow_pickle=True)\n",
        "print(read_pickle_array)\n",
        "print(read_the_array)"
      ],
      "metadata": {
        "colab": {
          "base_uri": "https://localhost:8080/"
        },
        "id": "WFFC40zyZYcP",
        "outputId": "780d8c38-3048-4c34-9ff3-40c85f7b6f38"
      },
      "execution_count": 1,
      "outputs": [
        {
          "output_type": "stream",
          "name": "stdout",
          "text": [
            "[list([3, 1, 3, 1]) list([42, 32, 12]) list(['me', 21])]\n",
            "[[1. 1. 1. 1.]\n",
            " [1. 1. 1. 1.]\n",
            " [1. 1. 1. 1.]\n",
            " [1. 1. 1. 1.]]\n"
          ]
        }
      ]
    },
    {
      "cell_type": "code",
      "source": [
        "import numpy as np\n",
        "\n",
        "# npy\n",
        "# saving as numpy array\n",
        "# creates a numpy array of ones of given sizse\n",
        "tmp_array = np.ones((3,3))\n",
        "# saves the passed numpy array with the passed name the current directory\n",
        "np.save(\"tmp_array.npy\", tmp_array)\n",
        "# np.load loads numpy arrays\n",
        "read_array = np.load(\"tmp_array.npy\")\n",
        "\n",
        "# Pickle is  used to help with serialiization\n",
        "# Here we have list of lists of different sizes which is converted to numpy array\n",
        "tmp_array_pkl = np.array([[0,1],[2,3,4],[5,6,7,8]], dtype=object)\n",
        "# The above has become a list of objects so to be able to save it we need to allow pickle\n",
        "np.save(\"tmp_array_pkl.npy\", tmp_array_pkl, allow_pickle=True)\n",
        "# We'll use numpy.load() but since are file is pickled we need to set allow_pickle=True\n",
        "read_array_pkl = np.load(\"tmp_array_pkl.npy\", allow_pickle=True)\n",
        "\n",
        "print(read_array)\n",
        "print(read_array_pkl)"
      ],
      "metadata": {
        "colab": {
          "base_uri": "https://localhost:8080/"
        },
        "id": "9AEFoKRnHqV9",
        "outputId": "98d4b700-6034-476f-8388-438c13b33cd6"
      },
      "execution_count": 2,
      "outputs": [
        {
          "output_type": "stream",
          "name": "stdout",
          "text": [
            "[[1. 1. 1.]\n",
            " [1. 1. 1.]\n",
            " [1. 1. 1.]]\n",
            "[list([0, 1]) list([2, 3, 4]) list([5, 6, 7, 8])]\n"
          ]
        }
      ]
    },
    {
      "cell_type": "code",
      "source": [
        "# we zip the above files using np.savez  in npz format\n",
        "np.savez(\"temp.npz\",temp_arr =temp_array , temp_pickle =np_arr_pickle)\n",
        "npz_data = np.load(\"temp.npz\",allow_pickle=True, encoding = 'bytes')\n",
        "read_npz_ar = npz_data[\"temp_arr\"]\n",
        "read_pickle_arr = npz_data[\"temp_pickle\"]\n",
        "print(read_npz_ar)\n",
        "print(read_pickle_arr)"
      ],
      "metadata": {
        "colab": {
          "base_uri": "https://localhost:8080/"
        },
        "id": "im8qpwtlbXlP",
        "outputId": "792e33bb-952f-44d8-b510-42c493908031"
      },
      "execution_count": 3,
      "outputs": [
        {
          "output_type": "stream",
          "name": "stdout",
          "text": [
            "[[1. 1. 1. 1.]\n",
            " [1. 1. 1. 1.]\n",
            " [1. 1. 1. 1.]\n",
            " [1. 1. 1. 1.]]\n",
            "[list([3, 1, 3, 1]) list([42, 32, 12]) list(['me', 21])]\n"
          ]
        }
      ]
    },
    {
      "cell_type": "code",
      "source": [
        "# # npz \n",
        "# # npz file format is a zipped archive of files named after the variables they contain\n",
        "# # In this case the variables are the two arrays we defined above\n",
        "# np.savez('tmp.npz', tmp_array=tmp_array, tmp_array_pkl=tmp_array_pkl)\n",
        "# # Again, set allow_pickle=True because one of them is pickled\n",
        "# npz_data = np.load('tmp.npz', allow_pickle=True, encoding='bytes')\n",
        "# # We access the specific variables using their names as keys\n",
        "# read_array = npz_data['tmp_array']\n",
        "# read_array_pkl = npz_data['tmp_array_pkl']\n",
        "\n",
        "# print(read_array)\n",
        "# print(read_array_pkl)"
      ],
      "metadata": {
        "id": "_n3kip7VK8qP"
      },
      "execution_count": 4,
      "outputs": []
    },
    {
      "cell_type": "code",
      "source": [
        "import pandas as pd\n",
        "output = pd.DataFrame()\n",
        "output['id'] = np.array(range(10))\n",
        "output['label'] = np.array(range(10,20))\n",
        "print(output)"
      ],
      "metadata": {
        "colab": {
          "base_uri": "https://localhost:8080/"
        },
        "id": "sPc74pCwdIsm",
        "outputId": "8429b6e1-0c88-43e1-8724-37410ed1cff6"
      },
      "execution_count": 5,
      "outputs": [
        {
          "output_type": "stream",
          "name": "stdout",
          "text": [
            "   id  label\n",
            "0   0     10\n",
            "1   1     11\n",
            "2   2     12\n",
            "3   3     13\n",
            "4   4     14\n",
            "5   5     15\n",
            "6   6     16\n",
            "7   7     17\n",
            "8   8     18\n",
            "9   9     19\n"
          ]
        }
      ]
    },
    {
      "cell_type": "code",
      "source": [
        "output.to_csv(\"output.csv\",index = False)\n",
        "output_csv = pd.read_csv(\"output.csv\")\n",
        "print(output_csv)"
      ],
      "metadata": {
        "colab": {
          "base_uri": "https://localhost:8080/"
        },
        "id": "7_bpk7Oh3hJJ",
        "outputId": "add93865-527f-4cc5-e00a-b0151d3aa101"
      },
      "execution_count": 6,
      "outputs": [
        {
          "output_type": "stream",
          "name": "stdout",
          "text": [
            "   id  label\n",
            "0   0     10\n",
            "1   1     11\n",
            "2   2     12\n",
            "3   3     13\n",
            "4   4     14\n",
            "5   5     15\n",
            "6   6     16\n",
            "7   7     17\n",
            "8   8     18\n",
            "9   9     19\n"
          ]
        }
      ]
    },
    {
      "cell_type": "code",
      "source": [
        "# # csv\n",
        "# # Useful in P2s, we'll be submitting csv files to kaggle\n",
        "# import pandas as pd\n",
        "# #Create a dataframe\n",
        "# output = pd.DataFrame()\n",
        "# # Set the column names as 'id' and 'label'\n",
        "# output['id'] = np.array(range(10))\n",
        "# output['label'] = np.array(range(10,20))\n",
        "# # print(output.head())"
      ],
      "metadata": {
        "id": "qIILXNgxK8zl"
      },
      "execution_count": 7,
      "outputs": []
    },
    {
      "cell_type": "code",
      "source": [],
      "metadata": {
        "id": "7UKi3gD_dIND"
      },
      "execution_count": 7,
      "outputs": []
    },
    {
      "cell_type": "code",
      "source": [
        "# #saving the dataframe as a csv\n",
        "# output.to_csv(\"submission.csv\", index = False)\n",
        "\n",
        "# output_read = pd.read_csv(\"submission.csv\")\n",
        "# print(output_read.head())"
      ],
      "metadata": {
        "id": "K32NDtxtWNZx"
      },
      "execution_count": 8,
      "outputs": []
    },
    {
      "cell_type": "markdown",
      "source": [
        "## Custom Dataset & Dataloader"
      ],
      "metadata": {
        "id": "WhM8EFRyHstP"
      }
    },
    {
      "cell_type": "code",
      "metadata": {
        "colab": {
          "base_uri": "https://localhost:8080/"
        },
        "id": "Q4xLCpiUscQl",
        "outputId": "1804eee3-baf2-4858-b5d6-308c5b5d55f8"
      },
      "source": [
        "# We are creating a dummy dataset to understand Datasets and Dataloaders better\n",
        "# It's not neccessary for your dataset to target labels, for eg. self-supervised learning\n",
        "# For simplicity, int the following case we can assume xs to input and ys to be target\n",
        "xs = list(range(10))\n",
        "ys = list(range(10,20))\n",
        "print('xs values: ', xs)\n",
        "print('ys values: ', ys)"
      ],
      "execution_count": 9,
      "outputs": [
        {
          "output_type": "stream",
          "name": "stdout",
          "text": [
            "xs values:  [0, 1, 2, 3, 4, 5, 6, 7, 8, 9]\n",
            "ys values:  [10, 11, 12, 13, 14, 15, 16, 17, 18, 19]\n"
          ]
        }
      ]
    },
    {
      "cell_type": "code",
      "source": [
        "x = list(range(10))\n",
        "y = list(range(10,20))\n",
        "print(\"training values\",x)\n",
        "print(\"targes\",y)"
      ],
      "metadata": {
        "colab": {
          "base_uri": "https://localhost:8080/"
        },
        "id": "l0Qh61cc4GUr",
        "outputId": "3a28405d-f1c9-4ff3-f556-d7e162bd163b"
      },
      "execution_count": 10,
      "outputs": [
        {
          "output_type": "stream",
          "name": "stdout",
          "text": [
            "training values [0, 1, 2, 3, 4, 5, 6, 7, 8, 9]\n",
            "targes [10, 11, 12, 13, 14, 15, 16, 17, 18, 19]\n"
          ]
        }
      ]
    },
    {
      "cell_type": "code",
      "metadata": {
        "colab": {
          "base_uri": "https://localhost:8080/"
        },
        "id": "bOvoSj9yscDL",
        "outputId": "c9b123c8-7ebf-4ddc-dca7-fa876451db31"
      },
      "source": [
        "data = zip(xs, ys) # creates zip object\n",
        "print(type(data), \"zipped\")\n",
        "data = list(zip(xs,ys)) # creates a list of tuples\n",
        "print(data, \"list of zipped\")\n",
        "print(data[0]) # returns the tuple (x[0], y[0])"
      ],
      "execution_count": 11,
      "outputs": [
        {
          "output_type": "stream",
          "name": "stdout",
          "text": [
            "<class 'zip'> zipped\n",
            "[(0, 10), (1, 11), (2, 12), (3, 13), (4, 14), (5, 15), (6, 16), (7, 17), (8, 18), (9, 19)] list of zipped\n",
            "(0, 10)\n"
          ]
        }
      ]
    },
    {
      "cell_type": "code",
      "source": [
        "data = zip(x,y)\n",
        "print(type(data))\n",
        "data = list(zip(x,y))\n",
        "print(data,\"list of zipped\")"
      ],
      "metadata": {
        "colab": {
          "base_uri": "https://localhost:8080/"
        },
        "id": "pmWeyN8-4tRL",
        "outputId": "7f936690-8957-4d17-e33b-37943869cc9f"
      },
      "execution_count": 12,
      "outputs": [
        {
          "output_type": "stream",
          "name": "stdout",
          "text": [
            "<class 'zip'>\n",
            "[(0, 10), (1, 11), (2, 12), (3, 13), (4, 14), (5, 15), (6, 16), (7, 17), (8, 18), (9, 19)] list of zipped\n"
          ]
        }
      ]
    },
    {
      "cell_type": "code",
      "metadata": {
        "colab": {
          "base_uri": "https://localhost:8080/"
        },
        "id": "FUu9t0uuoJp6",
        "outputId": "4c42a78e-c582-45dc-a103-ac79df39551a"
      },
      "source": [
        "len(data)"
      ],
      "execution_count": 13,
      "outputs": [
        {
          "output_type": "execute_result",
          "data": {
            "text/plain": [
              "10"
            ]
          },
          "metadata": {},
          "execution_count": 13
        }
      ]
    },
    {
      "cell_type": "code",
      "source": [
        "from torch.utils.data import Dataset, DataLoader\n",
        "\n",
        "class Mydata(Dataset):\n",
        "  def __init__(self,x,y):\n",
        "    self.x = x\n",
        "    self.y = y\n",
        "  def __lent__(self):\n",
        "    return len(self.x)\n",
        "\n",
        "  def __getitems__(self,i):\n",
        "    return self.x[i], self.y[i]  "
      ],
      "metadata": {
        "id": "Wo2PUmAT4_Lf"
      },
      "execution_count": 14,
      "outputs": []
    },
    {
      "cell_type": "code",
      "source": [],
      "metadata": {
        "id": "Hyd_G8_35280"
      },
      "execution_count": 14,
      "outputs": []
    },
    {
      "cell_type": "code",
      "source": [],
      "metadata": {
        "id": "YYIh30cQ54n2"
      },
      "execution_count": 14,
      "outputs": []
    },
    {
      "cell_type": "code",
      "metadata": {
        "id": "ssoP34npsb1A"
      },
      "source": [
        "from torch.utils.data import Dataset, DataLoader\n",
        "# Dataset class will have access to the data or contain the data\n",
        "# And will be used by the dataloader class to access parts of it\n",
        "# Dataloader will use it to create batches, process data etc.\n",
        "\n",
        "# torch.utils.data.Dataset is an abstract class representing a dataset. Your custom dataset should inherit Dataset and override the following methods:\n",
        "# __len__ so that len(dataset) returns the size of the dataset.\n",
        "# __getitem__ to support the indexing such that dataset[i] can be used to get ith sample.\n",
        "class MyDataset(Dataset):\n",
        "    #constructor\n",
        "    # In this case it contains the data\n",
        "    def __init__(self, xs, ys):\n",
        "        self.xs = xs\n",
        "        self.ys = ys\n",
        "    \n",
        "    #len()\n",
        "    # returns the length of the dataset\n",
        "    def __len__(self):\n",
        "        return len(self.xs)  #len(self.ys)\n",
        "    #[]\n",
        "    # returns the item at index i\n",
        "    def __getitem__(self, i):\n",
        "        return self.xs[i], self.ys[i]"
      ],
      "execution_count": 15,
      "outputs": []
    },
    {
      "cell_type": "code",
      "source": [
        "from torch.utils.data import Dataset, DataLoader\n",
        "\n",
        "class Mydata(Dataset):\n",
        "  def __init__(self,x,y):\n",
        "    self.x = x\n",
        "    self.y = y\n",
        "  def __lent__(self):\n",
        "    return len(self.x)\n",
        "\n",
        "  def __getitems__(self,i):\n",
        "    return self.x[i], self.y[i]  "
      ],
      "metadata": {
        "id": "DgVfqUn06gZR"
      },
      "execution_count": 16,
      "outputs": []
    },
    {
      "cell_type": "code",
      "source": [
        "# datas = Mydata(x,y)\n",
        "# print(datas[0])"
      ],
      "metadata": {
        "id": "aVLOyMDK58Aa"
      },
      "execution_count": 18,
      "outputs": []
    },
    {
      "cell_type": "code",
      "metadata": {
        "colab": {
          "base_uri": "https://localhost:8080/"
        },
        "id": "qXVsfXfZswm0",
        "outputId": "fa012dda-b115-4f4b-d5a0-99d3fff11729"
      },
      "source": [
        "# Create an instance of MyDataset class\n",
        "dataset = MyDataset(xs, ys)\n",
        "print(dataset[0]) # returns the tuple (x[2], y[2])\n",
        "# This is basically same as \n",
        "print(dataset.__getitem__(0))\n",
        "\n",
        "# Which the dataloader needs"
      ],
      "execution_count": 19,
      "outputs": [
        {
          "output_type": "stream",
          "name": "stdout",
          "text": [
            "(0, 10)\n",
            "(0, 10)\n"
          ]
        }
      ]
    },
    {
      "cell_type": "code",
      "metadata": {
        "colab": {
          "base_uri": "https://localhost:8080/"
        },
        "id": "eJWGIftas42A",
        "outputId": "5279e068-fb7c-4e1d-f828-bc0b4ac1f6d0"
      },
      "source": [
        "# Let's lookt at different ways of creating the Dataloader object using the Dataloader class\n",
        "from torch.utils.data import DataLoader\n",
        "#batch size of 1, so we the size of x and y is 1 and no shuffling\n",
        "for x, y in DataLoader(dataset):\n",
        "    print(x,y)"
      ],
      "execution_count": 20,
      "outputs": [
        {
          "output_type": "stream",
          "name": "stdout",
          "text": [
            "tensor([0]) tensor([10])\n",
            "tensor([1]) tensor([11])\n",
            "tensor([2]) tensor([12])\n",
            "tensor([3]) tensor([13])\n",
            "tensor([4]) tensor([14])\n",
            "tensor([5]) tensor([15])\n",
            "tensor([6]) tensor([16])\n",
            "tensor([7]) tensor([17])\n",
            "tensor([8]) tensor([18])\n",
            "tensor([9]) tensor([19])\n"
          ]
        }
      ]
    },
    {
      "cell_type": "code",
      "metadata": {
        "colab": {
          "base_uri": "https://localhost:8080/"
        },
        "id": "3bU-x17Bs7aP",
        "outputId": "39c62d52-532a-43ed-be40-2540e5c3eb77"
      },
      "source": [
        "# batch size of 2, so x and y both have a size of 2\n",
        "for x, y in DataLoader(dataset, batch_size=4):\n",
        "    print(x,y)"
      ],
      "execution_count": 23,
      "outputs": [
        {
          "output_type": "stream",
          "name": "stdout",
          "text": [
            "tensor([0, 1, 2, 3]) tensor([10, 11, 12, 13])\n",
            "tensor([4, 5, 6, 7]) tensor([14, 15, 16, 17])\n",
            "tensor([8, 9]) tensor([18, 19])\n"
          ]
        }
      ]
    },
    {
      "cell_type": "code",
      "metadata": {
        "colab": {
          "base_uri": "https://localhost:8080/"
        },
        "id": "EyIyOs_dtEW-",
        "outputId": "f3a19c9b-ca69-44ea-ba67-4873626f873b"
      },
      "source": [
        "# enumerate - this works the same way as the loops above except that it gives an index as well\n",
        "# shuffle is True so we get shuffled xs and ys\n",
        "for index, (x, y) in enumerate(DataLoader(dataset, batch_size=2, shuffle=True)):\n",
        "    print(\"index: \", index, \"x,y:\", x,y)"
      ],
      "execution_count": 24,
      "outputs": [
        {
          "output_type": "stream",
          "name": "stdout",
          "text": [
            "index:  0 x,y: tensor([8, 0]) tensor([18, 10])\n",
            "index:  1 x,y: tensor([7, 3]) tensor([17, 13])\n",
            "index:  2 x,y: tensor([9, 1]) tensor([19, 11])\n",
            "index:  3 x,y: tensor([2, 5]) tensor([12, 15])\n",
            "index:  4 x,y: tensor([6, 4]) tensor([16, 14])\n"
          ]
        }
      ]
    },
    {
      "cell_type": "code",
      "source": [
        "# Training\n",
        "# Create an object of the Dataloader Class\n",
        "train_loader_args = dict(shuffle=True, batch_size=2, num_workers=2, pin_memory=True) \n",
        "train_loader = DataLoader(dataset, **train_loader_args)"
      ],
      "metadata": {
        "id": "pfIdnr6YYa3A"
      },
      "execution_count": 25,
      "outputs": []
    },
    {
      "cell_type": "code",
      "source": [
        "# enumerate\n",
        "for index, (x, y) in enumerate(train_loader):\n",
        "    print(\"index: \", index, \"x,y:\", x,y)"
      ],
      "metadata": {
        "id": "QlTFJs4g17NQ",
        "colab": {
          "base_uri": "https://localhost:8080/"
        },
        "outputId": "10288cc4-8fc9-440a-d81c-14ac6978d7df"
      },
      "execution_count": 26,
      "outputs": [
        {
          "output_type": "stream",
          "name": "stdout",
          "text": [
            "index:  0 x,y: tensor([7, 6]) tensor([17, 16])\n",
            "index:  1 x,y: tensor([2, 3]) tensor([12, 13])\n",
            "index:  2 x,y: tensor([9, 8]) tensor([19, 18])\n",
            "index:  3 x,y: tensor([4, 5]) tensor([14, 15])\n",
            "index:  4 x,y: tensor([1, 0]) tensor([11, 10])\n"
          ]
        }
      ]
    },
    {
      "cell_type": "markdown",
      "source": [
        "## Torch Dataset & Dataloader"
      ],
      "metadata": {
        "id": "TyJ8oG-0106b"
      }
    },
    {
      "cell_type": "code",
      "metadata": {
        "id": "gibYD_zK42gc",
        "colab": {
          "base_uri": "https://localhost:8080/",
          "height": 422,
          "referenced_widgets": [
            "3ada68cd636645aeab70eca8feae4a87",
            "d7f41fdfa6a64a07a43203bd59dfd8a7",
            "7a6bd411ad8a48f690c1c1798535fcae",
            "c6efcbe5eb8b4d959ebfc5a47c2a7ebc",
            "3dc0f6cfd28a4f66aec4b7e813df4370",
            "56e31b57fa6c4696a4ef0282e01689c5",
            "10cd9fb597854d41940c7330fe9ac213",
            "2ec4b81b75a64610946d89eeed9404e3",
            "29464f621708439d8eb7c68239589c58",
            "702076f1ca9a435a8766496e19218153",
            "3d26c4abe71245a386ad32f6af12de7a",
            "ef0ee735ed7c4f6fb7ecfc45a5981217",
            "e2748578dc4f4454abab200d57347510",
            "beaa42f59a944b888d28776b910d4558",
            "980309a659c74bf59d89afedd49d0f24",
            "dc38cf08f1d4424b83ebde4bf8fd42bb",
            "5c72b62a7e2643c5acea99fbd2f3e295",
            "23292b1765b04bb1833ad63d795d5a6a",
            "a58b82c301784dbfbc25e91228a3108a",
            "43f7529be25e4188a90d9ff196034833",
            "2921ea4ae38144108fa5e85683596c69",
            "d4b515d50b9946b2b15e741965dcf018",
            "c5526ebbf2cf40aeb4c97b78fc5e0cd7",
            "35b4b1dcf95d42c4a3aa9595925e4e91",
            "86345faaddec44fea66c4208bd68ea70",
            "b19b7256a41d4a0f88007d2dee4b67d5",
            "56fcda956b784b3f87edda099c815d6d",
            "2ac3087ad5df4208aa645fef78de5262",
            "4437b007eccd4665a9c03bcecf443ddf",
            "64cd8d5af5f144a4a61a022da063ef42",
            "580ec01090744421b12ab8df3b7f0e8b",
            "84fc89e2c8d3482a9c14a5cd39ee0ace",
            "1b20ce07d18745b09e1aa5f515cef6f5",
            "e501027fb5034a54ac0250fc0edbe6a9",
            "d918fcfaadcd4c44947e4221aa10e924",
            "c63d6f9f718a495f82f1a96c00861d82",
            "0a8eda7a4b1346429c25693a61420d11",
            "80147993f4044e978b57fa7e6dc7a2c1",
            "29e2415148e9433c8a35597e7e4bc284",
            "1d55a5c00b334285a35d2b80a46f8cda",
            "03b8737f3d1d4540b1c52f719200bb3f",
            "9a5cb741b1df46398033605e462f7106",
            "240e70cd44dc401994b227a43d128e42",
            "22f535aeaf574f6e9ddf01b7e00edde5"
          ]
        },
        "outputId": "e05d8d95-73a5-40f3-f815-e80bd6a0f7f9"
      },
      "source": [
        "import torch\n",
        "from torch.utils.data import Dataset\n",
        "from torchvision import datasets\n",
        "from torchvision.transforms import ToTensor\n",
        "import matplotlib.pyplot as plt\n",
        "\n",
        "# FashionMNIST dataset from TorchVision\n",
        "# Each image of size 28x28\n",
        "# Torchvision provides the dataset and the dataset class\n",
        "# We create a trainig_data object and a test_data object\n",
        "training_data = datasets.FashionMNIST(\n",
        "    root=\"data\",\n",
        "    train=True,\n",
        "    download=True,\n",
        "    transform=ToTensor()\n",
        ")\n",
        "# test_data object \n",
        "test_data = datasets.FashionMNIST(\n",
        "    root=\"data\",\n",
        "    train=False,\n",
        "    download=True,\n",
        "    transform=ToTensor()\n",
        ")"
      ],
      "execution_count": 27,
      "outputs": [
        {
          "output_type": "stream",
          "name": "stdout",
          "text": [
            "Downloading http://fashion-mnist.s3-website.eu-central-1.amazonaws.com/train-images-idx3-ubyte.gz\n",
            "Downloading http://fashion-mnist.s3-website.eu-central-1.amazonaws.com/train-images-idx3-ubyte.gz to data/FashionMNIST/raw/train-images-idx3-ubyte.gz\n"
          ]
        },
        {
          "output_type": "display_data",
          "data": {
            "text/plain": [
              "  0%|          | 0/26421880 [00:00<?, ?it/s]"
            ],
            "application/vnd.jupyter.widget-view+json": {
              "version_major": 2,
              "version_minor": 0,
              "model_id": "3ada68cd636645aeab70eca8feae4a87"
            }
          },
          "metadata": {}
        },
        {
          "output_type": "stream",
          "name": "stdout",
          "text": [
            "Extracting data/FashionMNIST/raw/train-images-idx3-ubyte.gz to data/FashionMNIST/raw\n",
            "\n",
            "Downloading http://fashion-mnist.s3-website.eu-central-1.amazonaws.com/train-labels-idx1-ubyte.gz\n",
            "Downloading http://fashion-mnist.s3-website.eu-central-1.amazonaws.com/train-labels-idx1-ubyte.gz to data/FashionMNIST/raw/train-labels-idx1-ubyte.gz\n"
          ]
        },
        {
          "output_type": "display_data",
          "data": {
            "text/plain": [
              "  0%|          | 0/29515 [00:00<?, ?it/s]"
            ],
            "application/vnd.jupyter.widget-view+json": {
              "version_major": 2,
              "version_minor": 0,
              "model_id": "ef0ee735ed7c4f6fb7ecfc45a5981217"
            }
          },
          "metadata": {}
        },
        {
          "output_type": "stream",
          "name": "stdout",
          "text": [
            "Extracting data/FashionMNIST/raw/train-labels-idx1-ubyte.gz to data/FashionMNIST/raw\n",
            "\n",
            "Downloading http://fashion-mnist.s3-website.eu-central-1.amazonaws.com/t10k-images-idx3-ubyte.gz\n",
            "Downloading http://fashion-mnist.s3-website.eu-central-1.amazonaws.com/t10k-images-idx3-ubyte.gz to data/FashionMNIST/raw/t10k-images-idx3-ubyte.gz\n"
          ]
        },
        {
          "output_type": "display_data",
          "data": {
            "text/plain": [
              "  0%|          | 0/4422102 [00:00<?, ?it/s]"
            ],
            "application/vnd.jupyter.widget-view+json": {
              "version_major": 2,
              "version_minor": 0,
              "model_id": "c5526ebbf2cf40aeb4c97b78fc5e0cd7"
            }
          },
          "metadata": {}
        },
        {
          "output_type": "stream",
          "name": "stdout",
          "text": [
            "Extracting data/FashionMNIST/raw/t10k-images-idx3-ubyte.gz to data/FashionMNIST/raw\n",
            "\n",
            "Downloading http://fashion-mnist.s3-website.eu-central-1.amazonaws.com/t10k-labels-idx1-ubyte.gz\n",
            "Downloading http://fashion-mnist.s3-website.eu-central-1.amazonaws.com/t10k-labels-idx1-ubyte.gz to data/FashionMNIST/raw/t10k-labels-idx1-ubyte.gz\n"
          ]
        },
        {
          "output_type": "display_data",
          "data": {
            "text/plain": [
              "  0%|          | 0/5148 [00:00<?, ?it/s]"
            ],
            "application/vnd.jupyter.widget-view+json": {
              "version_major": 2,
              "version_minor": 0,
              "model_id": "e501027fb5034a54ac0250fc0edbe6a9"
            }
          },
          "metadata": {}
        },
        {
          "output_type": "stream",
          "name": "stdout",
          "text": [
            "Extracting data/FashionMNIST/raw/t10k-labels-idx1-ubyte.gz to data/FashionMNIST/raw\n",
            "\n"
          ]
        }
      ]
    },
    {
      "cell_type": "code",
      "metadata": {
        "colab": {
          "base_uri": "https://localhost:8080/",
          "height": 482
        },
        "id": "Z8WnGm675PLi",
        "outputId": "45ba4822-1c4c-411d-e189-31a1307724e9"
      },
      "source": [
        "# Visualizing the objects\n",
        "labels_map = {\n",
        "    0: \"T-Shirt\",\n",
        "    1: \"Trouser\",\n",
        "    2: \"Pullover\",\n",
        "    3: \"Dress\",\n",
        "    4: \"Coat\",\n",
        "    5: \"Sandal\",\n",
        "    6: \"Shirt\",\n",
        "    7: \"Sneaker\",\n",
        "    8: \"Bag\",\n",
        "    9: \"Ankle Boot\"\n",
        "}\n",
        "figure = plt.figure(figsize=(8, 8))\n",
        "cols, rows = 3, 3\n",
        "for i in range(1, cols * rows + 1):\n",
        "    sample_idx = torch.randint(len(training_data), size=(1,)).item()\n",
        "    img, label = training_data[sample_idx]\n",
        "    figure.add_subplot(rows, cols, i)\n",
        "    plt.title(labels_map[label])\n",
        "    plt.axis(\"off\")\n",
        "    plt.imshow(img.squeeze(), cmap=\"gray\")\n",
        "plt.show()"
      ],
      "execution_count": 28,
      "outputs": [
        {
          "output_type": "display_data",
          "data": {
            "text/plain": [
              "<Figure size 576x576 with 9 Axes>"
            ],
            "image/png": "[encoded data removed]"
          },
          "metadata": {
            "needs_background": "light"
          }
        }
      ]
    },
    {
      "cell_type": "code",
      "metadata": {
        "id": "BENUTMfE8qUB"
      },
      "source": [
        "from torch.utils.data import DataLoader\n",
        "# We got the dataset objects using the pytorch dataset class for MNIST dataset\n",
        "# Now we pass that object to the Dataloader constructor\n",
        "# Two separate dataloader for training and testing \n",
        "train_dataloader = DataLoader(training_data, batch_size=64, shuffle=True) # shuffle True for training\n",
        "test_dataloader = DataLoader(test_data, batch_size=64, shuffle=False) # shuffle False for testing"
      ],
      "execution_count": 29,
      "outputs": []
    },
    {
      "cell_type": "code",
      "metadata": {
        "colab": {
          "base_uri": "https://localhost:8080/",
          "height": 317
        },
        "id": "aqe-LKwp8e_S",
        "outputId": "e269a5e9-42ba-415f-ef68-996edd832693"
      },
      "source": [
        "# Display image and label.\n",
        "# use iter and next\n",
        "# iter returns an iterable for the object and next helps iterate it\n",
        "train_features, train_labels = next(iter(train_dataloader))\n",
        "print(f\"Feature batch shape: {train_features.size()}\")\n",
        "print(f\"Labels batch shape: {train_labels.size()}\")\n",
        "img = train_features[0].squeeze()\n",
        "label = train_labels[0]\n",
        "plt.imshow(img, cmap=\"gray\")\n",
        "plt.show()\n",
        "print(f\"Label: {label}\")"
      ],
      "execution_count": 30,
      "outputs": [
        {
          "output_type": "stream",
          "name": "stdout",
          "text": [
            "Feature batch shape: torch.Size([64, 1, 28, 28])\n",
            "Labels batch shape: torch.Size([64])\n"
          ]
        },
        {
          "output_type": "display_data",
          "data": {
            "text/plain": [
              "<Figure size 432x288 with 1 Axes>"
            ],
            "image/png": "[encoded data removed]"
          },
          "metadata": {
            "needs_background": "light"
          }
        },
        {
          "output_type": "stream",
          "name": "stdout",
          "text": [
            "Label: 1\n"
          ]
        }
      ]
    },
    {
      "cell_type": "markdown",
      "source": [
        "## Custom Image Dataset"
      ],
      "metadata": {
        "id": "byUFrzff3Hjx"
      }
    },
    {
      "cell_type": "code",
      "source": [
        "#Save MNIST images in zip and labels in annotations file\n",
        "# Create a dataset for demonstration\n",
        "train_images_custom = []\n",
        "train_labels_custom = []\n",
        "# Create a list of numpy arrays\n",
        "for i in range(10):\n",
        "  train_images_custom.append(training_data[i][0].numpy())\n",
        "  train_labels_custom.append(training_data[i][1])\n",
        "# Convert the list to a numpy array\n",
        "images_npy = np.array(train_images_custom)\n",
        "np.save(\"images_npy.npy\", images_npy)\n",
        "\n",
        "labels_npy = np.array(train_labels_custom)\n",
        "np.save(\"labels_npy.npy\", labels_npy)\n"
      ],
      "metadata": {
        "id": "oJ6zb_PKPIWT"
      },
      "execution_count": 31,
      "outputs": []
    },
    {
      "cell_type": "code",
      "metadata": {
        "id": "EepabNTy5WK3"
      },
      "source": [
        "# Create the custom dataset class, as explained before, the dataset class should\n",
        "# have a constructor(__init__), length(__len__(self)) &  get item(__getitem__(self,index))\n",
        "# Do as much processing as you can in the init function since the getitem is called many times \n",
        "# Collate helps in working with batches, we'll go deeper into this in the future homeworks\n",
        "class CustomImageDataset(Dataset):\n",
        "    def __init__(self, images_npy, labels_npy):\n",
        "        self.imgs = np.load(images_npy)\n",
        "        self.img_labels = np.load(labels_npy)\n",
        "        \n",
        "    def __len__(self):\n",
        "        return len(self.img_labels)\n",
        "\n",
        "    def __getitem__(self, idx):\n",
        "        image = self.imgs[idx]\n",
        "        label = self.img_labels[idx]\n",
        "        return image, label\n",
        "\n",
        "    def collate_fn(self,batch):\n",
        "      # get the training and test from the batch\n",
        "      xs, ys = zip(*batch)\n",
        "      # Process it\n",
        "      #For demo - padding border\n",
        "      xs = [np.pad(x_i, ((0,0),(20, 20), (20, 20)), constant_values=0) for x_i in list(xs) ] \n",
        "      return tuple(xs), ys\n"
      ],
      "execution_count": 33,
      "outputs": []
    },
    {
      "cell_type": "code",
      "source": [
        "# Create an object of the custom dataset class\n",
        "train_data_custom = CustomImageDataset(\"images_npy.npy\", \"labels_npy.npy\")\n",
        "# create a dict of arguments, another way of passing arguments\n",
        "# Used the custom collate_fn\n",
        "train_args = dict(batch_size=2, shuffle=True, collate_fn= train_data_custom.collate_fn)\n",
        "# pass the arguments\n",
        "train_dataloader_custom = DataLoader(train_data_custom, **train_args)\n",
        "\n",
        "# Display image and label.\n",
        "train_features, train_labels = next(iter(train_dataloader_custom))\n",
        "img = train_features[0].squeeze()\n",
        "label = train_labels[0]\n",
        "plt.imshow(img, cmap=\"gray\")\n",
        "plt.show()\n",
        "print(f\"Label: {label}\")"
      ],
      "metadata": {
        "colab": {
          "base_uri": "https://localhost:8080/",
          "height": 285
        },
        "id": "TWxaBNizTHLv",
        "outputId": "c8757422-619d-4a53-f7f7-affdcca6447a"
      },
      "execution_count": 34,
      "outputs": [
        {
          "output_type": "display_data",
          "data": {
            "text/plain": [
              "<Figure size 432x288 with 1 Axes>"
            ],
            "image/png": "[encoded data removed]"
          },
          "metadata": {
            "needs_background": "light"
          }
        },
        {
          "output_type": "stream",
          "name": "stdout",
          "text": [
            "Label: 9\n"
          ]
        }
      ]
    },
    {
      "cell_type": "code",
      "source": [
        "\"\"\"Some references:\n",
        "\n",
        "    1. Numpy save and load - https://numpy.org/doc/stable/reference/generated/numpy.save.html\n",
        "                             https://numpy.org/doc/stable/reference/generated/numpy.load.html\n",
        "                             https://numpy.org/doc/stable/reference/generated/numpy.savez.html#numpy.savez\n",
        "\n",
        "    2. Pandas read and save csv - https://pandas.pydata.org/docs/reference/api/pandas.read_csv.html\n",
        "                                  https://pandas.pydata.org/docs/reference/api/pandas.DataFrame.to_csv.html\n",
        "\n",
        "    2. Pytorch Datasets and Datloader - https://pytorch.org/tutorials/beginner/basics/data_tutorial.html\n",
        "                                        https://pytorch.org/docs/stable/data.html\n",
        "\n",
        "\"\"\""
      ],
      "metadata": {
        "id": "IjtRHoSsQ2lf"
      },
      "execution_count": null,
      "outputs": []
    }
  ]
}