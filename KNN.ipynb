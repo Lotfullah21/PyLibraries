{
  "nbformat": 4,
  "nbformat_minor": 0,
  "metadata": {
    "colab": {
      "provenance": [],
      "collapsed_sections": [],
      "authorship_tag": "ABX9TyP93PUGWFsyQtrwfoe3KQzB",
      "include_colab_link": true
    },
    "kernelspec": {
      "name": "python3",
      "display_name": "Python 3"
    },
    "language_info": {
      "name": "python"
    }
  },
  "cells": [
    {
      "cell_type": "markdown",
      "metadata": {
        "id": "view-in-github",
        "colab_type": "text"
      },
      "source": [
        "<a href=\"https://colab.research.google.com/github/Lotfullah21/PyLibraries/blob/main/KNN.ipynb\" target=\"_parent\"><img src=\"https://colab.research.google.com/assets/colab-badge.svg\" alt=\"Open In Colab\"/></a>"
      ]
    },
    {
      "cell_type": "code",
      "source": [],
      "metadata": {
        "id": "MAwqh1Hs5eBe"
      },
      "execution_count": null,
      "outputs": []
    },
    {
      "cell_type": "code",
      "source": [],
      "metadata": {
        "id": "mS_DVIWVsi6a"
      },
      "execution_count": 1,
      "outputs": []
    },
    {
      "cell_type": "code",
      "source": [
        "# Xtr,Ytr,Xte,Yte = load_CIFAR10('data/cifar10/')"
      ],
      "metadata": {
        "id": "eXfBdMaQtD8Q"
      },
      "execution_count": 2,
      "outputs": []
    },
    {
      "cell_type": "code",
      "source": [
        "import tensorflow as tf"
      ],
      "metadata": {
        "id": "0BQBHYhNtcC7"
      },
      "execution_count": 3,
      "outputs": []
    },
    {
      "cell_type": "code",
      "source": [
        "(train_x, train_y), (test_x, test_y) = tf.keras.datasets.cifar100.load_data()"
      ],
      "metadata": {
        "id": "fCPQzy2EtB05"
      },
      "execution_count": 4,
      "outputs": []
    },
    {
      "cell_type": "code",
      "source": [
        "train_x.shape\n",
        "train_x.shape[0]\n",
        "train_x.shape[1]\n",
        "train_x.shape[2]"
      ],
      "metadata": {
        "colab": {
          "base_uri": "https://localhost:8080/"
        },
        "id": "hBTyQyH7uAz9",
        "outputId": "4a9ea89e-346e-4d69-837b-6f242854ef28"
      },
      "execution_count": 5,
      "outputs": [
        {
          "output_type": "execute_result",
          "data": {
            "text/plain": [
              "32"
            ]
          },
          "metadata": {},
          "execution_count": 5
        }
      ]
    },
    {
      "cell_type": "code",
      "source": [
        "Xtr_rows = train_x.reshape(train_x.shape[0],32*32*3)"
      ],
      "metadata": {
        "id": "G7kzYG6vtaIk"
      },
      "execution_count": 6,
      "outputs": []
    },
    {
      "cell_type": "code",
      "source": [
        "from sklearn.neighbors import KNeighborsClassifier"
      ],
      "metadata": {
        "id": "vmIhJuMtuWr_"
      },
      "execution_count": 7,
      "outputs": []
    },
    {
      "cell_type": "code",
      "source": [
        "import numpy as np\n",
        "\n",
        "class KNN(object):\n",
        "  def __init__(self):\n",
        "    pass\n",
        "  \n",
        "  def train(self,x,y):\n",
        "    self.Xtr = x\n",
        "    self.Ytr = y\n",
        "\n",
        "  def predict(self,x,k):\n",
        "    num_test = x.shape[0]\n",
        "    y_pred = np.zeros(num_test,dtype = self.Ytr.dtype)\n",
        "\n",
        "    for i in range(num_test):\n",
        "      distance = np.sum(np.abs(self.Xtr - x[i,:]) , axis = 1)\n",
        "      min_index = np.argmin(distance)\n",
        "      y_pred[i] = self.Ytr[min_index]\n",
        "    return y_pred"
      ],
      "metadata": {
        "id": "QJfV29Ldu1Kr"
      },
      "execution_count": 8,
      "outputs": []
    },
    {
      "cell_type": "code",
      "source": [],
      "metadata": {
        "id": "IefVwTjfwSVA"
      },
      "execution_count": 8,
      "outputs": []
    },
    {
      "cell_type": "code",
      "source": [
        "Xtr = train_x.reshape(train_x.shape[0],32*32*3)\n",
        "Xte = test_x.reshape(test_x.shape[0],32*32*3)"
      ],
      "metadata": {
        "id": "0icFcyDCxvOO"
      },
      "execution_count": 9,
      "outputs": []
    },
    {
      "cell_type": "code",
      "source": [
        "nn = KNN()\n",
        "nn.train(Xtr,train_y)"
      ],
      "metadata": {
        "id": "87FHWVMyx09a"
      },
      "execution_count": 10,
      "outputs": []
    },
    {
      "cell_type": "code",
      "source": [
        "# pred = nn.predict(Xte)"
      ],
      "metadata": {
        "id": "4CtFgCypxbxr"
      },
      "execution_count": 11,
      "outputs": []
    },
    {
      "cell_type": "code",
      "source": [
        "\n",
        "X = [[0], [1], [2], [3]]\n",
        "y = [0, 0, 1, 1]\n",
        "from sklearn.neighbors import KNeighborsClassifier\n",
        "neigh = KNeighborsClassifier(n_neighbors=3)\n",
        "neigh.fit(X, y)\n",
        "print(neigh.predict([[1.1]]))\n",
        "\n",
        "print(neigh.predict_proba([[0.9]]))\n"
      ],
      "metadata": {
        "colab": {
          "base_uri": "https://localhost:8080/"
        },
        "id": "0Eizs8Kouwpk",
        "outputId": "0bac1986-6954-43ce-8c89-3ca262802a4b"
      },
      "execution_count": 12,
      "outputs": [
        {
          "output_type": "stream",
          "name": "stdout",
          "text": [
            "[0]\n",
            "[[0.66666667 0.33333333]]\n"
          ]
        }
      ]
    },
    {
      "cell_type": "markdown",
      "source": [
        "### Evaluating the model\n",
        "we can seperate a chunk of our training as validation set,so that we can use that later as a fake test data during training our model.\n",
        "\n",
        "if we have more computational power we can use k fold cross validation, where we divide our data into k folds"
      ],
      "metadata": {
        "id": "3gAWEbHqz5xN"
      }
    },
    {
      "cell_type": "markdown",
      "source": [],
      "metadata": {
        "id": "z3Ps2xp-z5zq"
      }
    },
    {
      "cell_type": "code",
      "source": [
        "# Xtr is a 50000x3072 matrix\n",
        "Xtr_val = Xtr[:1000,:]\n",
        "Ytr_val = train_y[:1000]\n",
        "\n",
        "Xtr_new = Xtr[1000:,:]\n",
        "Ytr_new = train_y[1000:]\n",
        "\n",
        "Validation_accuracy = []\n"
      ],
      "metadata": {
        "id": "BCretymu02Jk"
      },
      "execution_count": 13,
      "outputs": []
    },
    {
      "cell_type": "code",
      "source": [
        "# for k in [1,3,5,10,20,50,100]:\n",
        "#   nn = KNN()\n",
        "#   nn.train(Xtr_new,Ytr_new)\n",
        "#   # Y_val_predict = nn.predict(Xtr_val,k=k)\n",
        "#   acc = np.mean(Y_val_predict == Ytr_val)\n",
        "#   print ('accuracy: %f' %(acc,))\n",
        "#   Validation_accuracy.append((k,acc))"
      ],
      "metadata": {
        "id": "QpBHQDlj1mtL"
      },
      "execution_count": 14,
      "outputs": []
    },
    {
      "cell_type": "code",
      "source": [],
      "metadata": {
        "id": "jnklZjDS239u"
      },
      "execution_count": 14,
      "outputs": []
    }
  ]
}