{
  "nbformat": 4,
  "nbformat_minor": 0,
  "metadata": {
    "kernelspec": {
      "display_name": "Python 3",
      "language": "python",
      "name": "python3"
    },
    "language_info": {
      "codemirror_mode": {
        "name": "ipython",
        "version": 3
      },
      "file_extension": ".py",
      "mimetype": "text/x-python",
      "name": "python",
      "nbconvert_exporter": "python",
      "pygments_lexer": "ipython3",
      "version": "3.7.3"
    },
    "colab": {
      "provenance": [],
      "collapsed_sections": [],
      "include_colab_link": true
    }
  },
  "cells": [
    {
      "cell_type": "markdown",
      "metadata": {
        "id": "view-in-github",
        "colab_type": "text"
      },
      "source": [
        "<a href=\"https://colab.research.google.com/github/Lotfullah21/PyLibraries/blob/main/CMU_Recitation0A_Python_Fundamentals.ipynb\" target=\"_parent\"><img src=\"https://colab.research.google.com/assets/colab-badge.svg\" alt=\"Open In Colab\"/></a>"
      ]
    },
    {
      "cell_type": "markdown",
      "metadata": {
        "id": "9fF0fMGYyvGK"
      },
      "source": [
        "# **Python Fundamentals**"
      ]
    },
    {
      "cell_type": "markdown",
      "metadata": {
        "id": "Sogw6xzY_o6F"
      },
      "source": [
        "**Objective**\n",
        "\n",
        "- To help students get familiar with Python fundamentals.\n",
        "\n",
        "**Outline**\n",
        "1. Data Types\n",
        "1. Conditional statements and loops\n",
        "1. Saving and Loading Files"
      ]
    },
    {
      "cell_type": "markdown",
      "metadata": {
        "id": "qkt6dEnVdAvl"
      },
      "source": [
        "## **1 Data Types**\n",
        "\n",
        "Built-in data types in Python include:\n",
        "1. Numeric types - int, float, complex\n",
        "1. Sequence types - list, tuple, range\n",
        "1. Set types - set, frozenset\n",
        "1. Mapping type - dict\n",
        "1. Text sequence type - str\n",
        "\n",
        ".... and many others\n",
        "\n",
        "Reference: [Python Official Documentation](https://docs.python.org/3/library/stdtypes.html)"
      ]
    },
    {
      "cell_type": "markdown",
      "metadata": {
        "id": "8rjYluh9iCbP"
      },
      "source": [
        "### **1.1 Numeric types**"
      ]
    },
    {
      "cell_type": "markdown",
      "metadata": {
        "id": "sm8IWWieimqX"
      },
      "source": [
        "#### **int**\n",
        "Int corresponds to integers and it is generally not used while training models since weights and biases have to be precise and not approximations"
      ]
    },
    {
      "cell_type": "code",
      "metadata": {
        "colab": {
          "base_uri": "https://localhost:8080/"
        },
        "id": "9cuJSFldsrFr",
        "outputId": "efff338b-6a1a-43ce-e0f3-af2590997457"
      },
      "source": [
        "# assigning an int value to a variable\n",
        "\n",
        "intVar = 1\n",
        "\n",
        "# converting float to int\n",
        "\n",
        "floatVar = 2.5\n",
        "convVar = int(floatVar)\n",
        "\n",
        "print(\"Integer equivalent of float number: \"+str(convVar))\n",
        "print(\"Note: int function floors the decimal/ float value\")\n",
        "print(\"You can do various mathematical operations with int variables such as addition(+), subtraction (-), division (/), multiplication (*), floored quotient (//), remainder (%), etc.\")\n",
        "print(\"You can try these yourselves as an exercise\")"
      ],
      "execution_count": 3,
      "outputs": [
        {
          "output_type": "stream",
          "name": "stdout",
          "text": [
            "Integer equivalent of float number:  2\n",
            "Note: int function floors the decimal/ float value\n",
            "You can do various mathematical operations with int variables such as addition(+), subtraction (-), division (/), multiplication (*), floored quotient (//), remainder (%), etc.\n",
            "You can try these yourselves as an exercise\n"
          ]
        }
      ]
    },
    {
      "cell_type": "code",
      "source": [
        "import numpy as np\n",
        "import math\n",
        "f32 = np.float32(f64)\n",
        "print(f32.dtype)\n",
        "print(type(f32[0]))"
      ],
      "metadata": {
        "colab": {
          "base_uri": "https://localhost:8080/"
        },
        "id": "5AS4IaAw6pC_",
        "outputId": "21f17ef8-7232-44d8-acd4-5cb214e284e9"
      },
      "execution_count": 11,
      "outputs": [
        {
          "output_type": "stream",
          "name": "stdout",
          "text": [
            "float32\n",
            "<class 'numpy.float32'>\n"
          ]
        }
      ]
    },
    {
      "cell_type": "markdown",
      "metadata": {
        "id": "87id1PEhmKSr"
      },
      "source": [
        "#### **float**\n",
        "\n",
        "Float corresponds to floating point numbers which can be of different precisions ex. float16, float32 etc."
      ]
    },
    {
      "cell_type": "code",
      "metadata": {
        "colab": {
          "base_uri": "https://localhost:8080/"
        },
        "id": "5GXabWnw03gx",
        "outputId": "af34a39b-dda8-46a2-f911-fd16aaad3c04"
      },
      "source": [
        "\n",
        "import numpy as np\n",
        "import math\n",
        "\n",
        "f64 = np.zeros(10,dtype=\"float64\") \n",
        "print(f64.dtype) # use dtype to find the type of an array/ column in df\n",
        "print(type(f64[0]))\n",
        "f32 = np.float32(f64)\n",
        "print(f32.dtype)\n",
        "print(type(f32[0]))\n",
        "\n",
        "# some additional operations with float type\n",
        "\n",
        "print('-'*194)\n",
        "# rounding numbers\n",
        "fNum = 7.336\n",
        "rfNum = round(fNum)\n",
        "rf_2 = round(fNum,2)\n",
        "print(\"Original number is: \"+str(fNum))\n",
        "print(\"Rounded float number is: \"+str(rfNum))\n",
        "print(\"Number rounded upto 2 decimals is: \"+str(rf_2))\n",
        "\n",
        "# floor and ceiling\n",
        "floorNum = math.floor(fNum)\n",
        "ceilNum = math.ceil(fNum)\n",
        "print(\"Result after floor operation: \"+str(floorNum))\n",
        "print(\"Result after ceiling operation: \"+str(ceilNum))"
      ],
      "execution_count": 6,
      "outputs": [
        {
          "output_type": "stream",
          "name": "stdout",
          "text": [
            "The result of dividing 15 by 7.5 is: 2.0\n",
            "float64\n",
            "<class 'numpy.float64'>\n",
            "float32\n",
            "<class 'numpy.float32'>\n",
            "--------------------------------------------------------------------------------------------------------------------------------------------------------------------------------------------------\n",
            "Original number is: 7.336\n",
            "Rounded float number is: 7\n",
            "Number rounded upto 2 decimals is: 7.34\n",
            "Result after floor operation: 7\n",
            "Result after ceiling operation: 8\n"
          ]
        }
      ]
    },
    {
      "cell_type": "code",
      "source": [
        "fnum = 5.23242\n",
        "rf_num = round(fnum,2)\n",
        "floor_num = math.floor(fnum)\n",
        "# floor_num\n",
        "cell_num = math.ceil(fnum)\n",
        "cell_num"
      ],
      "metadata": {
        "colab": {
          "base_uri": "https://localhost:8080/"
        },
        "id": "efy2CyQo7IkK",
        "outputId": "f16c38ab-9195-4d1a-81d7-22d5a526b25b"
      },
      "execution_count": 19,
      "outputs": [
        {
          "output_type": "execute_result",
          "data": {
            "text/plain": [
              "6"
            ]
          },
          "metadata": {},
          "execution_count": 19
        }
      ]
    },
    {
      "cell_type": "markdown",
      "metadata": {
        "id": "liTjZBYaK2WM"
      },
      "source": [
        "### **1.2 Sequence types**"
      ]
    },
    {
      "cell_type": "markdown",
      "metadata": {
        "id": "K6823IOseuQA"
      },
      "source": [
        "#### **Lists**\n",
        "\n",
        "Lists are mutable sequences that are mostly used to store items of the same type but they can also store heterogenous items.\n",
        "\n",
        "List items can store duplicate values and the items can be indexed (zero-indexed)"
      ]
    },
    {
      "cell_type": "code",
      "metadata": {
        "colab": {
          "base_uri": "https://localhost:8080/"
        },
        "id": "XWv4pNgfhU9Y",
        "outputId": "ca43b55a-d9ad-485e-d3de-c3f747d656e5"
      },
      "source": [
        "# Construction using square brackets\n",
        "similar_items = [1, 2, 3, 4, 5, 5]\n",
        "different_items = [1, 2, 3, 'a', 'a', 'b']\n",
        "\n",
        "# print list items\n",
        "print(similar_items)\n",
        "print(different_items)\n",
        "\n",
        "# get item at index 4\n",
        "print(similar_items[4])\n",
        "print(different_items[4])"
      ],
      "execution_count": null,
      "outputs": [
        {
          "output_type": "stream",
          "text": [
            "[1, 2, 3, 4, 5, 5]\n",
            "[1, 2, 3, 'a', 'a', 'b']\n",
            "5\n",
            "a\n"
          ],
          "name": "stdout"
        }
      ]
    },
    {
      "cell_type": "code",
      "source": [],
      "metadata": {
        "id": "6vCWBx9K9_Uh"
      },
      "execution_count": 49,
      "outputs": []
    },
    {
      "cell_type": "code",
      "metadata": {
        "colab": {
          "base_uri": "https://localhost:8080/"
        },
        "id": "ft4B1VvwihlY",
        "outputId": "d625e20f-07dc-4f3b-a037-0f6104904df0"
      },
      "source": [
        "# Construction using list comprehension\n",
        "first_five = [i for i in range(5)]\n",
        "print(first_five)\n",
        "\n",
        "last_five = [i for i in range(5, 10)]\n",
        "print(last_five)\n",
        "\n",
        "# append tweets\n",
        "all_data = first_five + last_five\n",
        "print(all_data)\n"
      ],
      "execution_count": 50,
      "outputs": [
        {
          "output_type": "stream",
          "name": "stdout",
          "text": [
            "[0, 1, 2, 3, 4]\n",
            "[5, 6, 7, 8, 9]\n",
            "[0, 1, 2, 3, 4, 5, 6, 7, 8, 9]\n"
          ]
        }
      ]
    },
    {
      "cell_type": "markdown",
      "metadata": {
        "id": "PokV1ckGk5R8"
      },
      "source": [
        "#### **Tuples**\n",
        "\n",
        "Tuple are ordered and unchangeable/immutable (new items can't be added to it). \n",
        "\n",
        "Tuples can store duplicate items. \n",
        "\n"
      ]
    },
    {
      "cell_type": "code",
      "metadata": {
        "colab": {
          "base_uri": "https://localhost:8080/"
        },
        "id": "Px2IdiAKtva0",
        "outputId": "b415da4a-6b06-4bfe-d945-dee61b841ce5"
      },
      "source": [
        "similar_items = (1, 2, 3)\n",
        "different_items = (4, 2, 3, \"four\")\n",
        "\n",
        "print(similar_items)\n",
        "print(different_items)\n",
        "# tuples are immutable and can store duplicate items and also they are ordered\n",
        "# indexing is similar to lists\n",
        "\n",
        "print(similar_items[0])\n",
        "print(different_items[-2]) # negative indexing starts from the end of the list/ tuple"
      ],
      "execution_count": 51,
      "outputs": [
        {
          "output_type": "stream",
          "name": "stdout",
          "text": [
            "(1, 2, 3)\n",
            "(4, 2, 3, 'four')\n",
            "1\n",
            "3\n"
          ]
        }
      ]
    },
    {
      "cell_type": "markdown",
      "metadata": {
        "id": "4RtskBVXM2ub"
      },
      "source": [
        "#### **Range**\n",
        "\n",
        "Range is a very important function for iteration and it is immutable"
      ]
    },
    {
      "cell_type": "code",
      "metadata": {
        "id": "Dj8JSkE6TzAr"
      },
      "source": [
        "# simple range iterator\n",
        "\n",
        "# print(\"Range with stop number and default step\")\n",
        "# print(list(range(10)))\n",
        "# print(\"Note: The iterator does not stop at the number specified\")\n",
        "\n",
        "# print(\"Range with start, stop and step 2\")\n",
        "# print(list(range(0,12,2)))\n",
        "\n",
        "# print(\"Reverse direction with negative step size\")\n",
        "# print(list(range(10,0,-2)))"
      ],
      "execution_count": 53,
      "outputs": []
    },
    {
      "cell_type": "code",
      "source": [
        "print(range(10))\n",
        "print([i for i in range(10)])\n",
        "print([range(10)])"
      ],
      "metadata": {
        "colab": {
          "base_uri": "https://localhost:8080/"
        },
        "id": "9dcic1IR_69B",
        "outputId": "804027f7-0d07-4c28-e5c4-b8fa0739b6b5"
      },
      "execution_count": 49,
      "outputs": [
        {
          "output_type": "stream",
          "name": "stdout",
          "text": [
            "range(0, 10)\n",
            "[0, 1, 2, 3, 4, 5, 6, 7, 8, 9]\n",
            "[range(0, 10)]\n"
          ]
        }
      ]
    },
    {
      "cell_type": "markdown",
      "metadata": {
        "id": "zLwfItmzzCzn"
      },
      "source": [
        "### **1.3 Set types**\n",
        "\n",
        "Sets are mutable and they store unordered and unindexed data.\n",
        "\n",
        "They can not store duplicate items.\n",
        "\n",
        "**Frozen sets** are immutable and hashable but they will not be covered in this recitation."
      ]
    },
    {
      "cell_type": "code",
      "metadata": {
        "colab": {
          "base_uri": "https://localhost:8080/"
        },
        "id": "4HaeOlWdzEvR",
        "outputId": "c45ddfdf-ccca-4746-ddb7-79274e0a00cc"
      },
      "source": [
        "#  sets are mutable,stores unordered and unidexed data, one of the main difference from previous data is that it does not allow duplicate \n",
        "# data and it is undexed\n",
        "set1 = {30, 534, 3, 442, 2}\n",
        "print(set1)\n",
        "\n",
        "set2 = {\"nince\",'one', 'two',\"six\", 'three', 'one', 'two'}\n",
        "print(set2)\n",
        "# print(set2[0])"
      ],
      "execution_count": 64,
      "outputs": [
        {
          "output_type": "stream",
          "name": "stdout",
          "text": [
            "{2, 3, 534, 442, 30}\n",
            "{'one', 'three', 'nince', 'six', 'two'}\n"
          ]
        }
      ]
    },
    {
      "cell_type": "markdown",
      "metadata": {
        "id": "pExgsNMlexkx"
      },
      "source": [
        "### **1.4 Mapping type**\n",
        "\n"
      ]
    },
    {
      "cell_type": "markdown",
      "metadata": {
        "id": "yykE-HH6MtE6"
      },
      "source": [
        "#### **Dictionary**\n",
        "\n",
        "Stores items in key-value pairs. Keys must be unique, hence duplicates can't be stored.\n",
        "\n",
        "From Python 3.7 dictionary items are ordered."
      ]
    },
    {
      "cell_type": "markdown",
      "metadata": {
        "id": "XBxr9swwlUHt"
      },
      "source": [
        "**Different ways of constructing dictionaries**"
      ]
    },
    {
      "cell_type": "code",
      "metadata": {
        "colab": {
          "base_uri": "https://localhost:8080/"
        },
        "id": "T8rqlfZ8j_fU",
        "outputId": "0d2c55a1-72e9-46c2-b10a-76203907e7f7"
      },
      "source": [
        "# comma-separated key-value pairs\n",
        "dict1 = {'one': 1, 'two': 2, 'three': 3,\"bbay\":2}\n",
        "print(dict1)\n",
        "\n",
        "dict2 = dict(one=1, two=2, three=3)\n",
        "print(dict2)\n",
        "# print(dict1[7])\n",
        "\n",
        "# using zip function\n",
        "dict3 = dict(zip(['one', 'two', 'three'], [1, 2, 3]))\n",
        "print(dict3)\n",
        "\n",
        "# using tuples in a list\n",
        "dict4 = dict([('two', 2), ('three', 3), ('one', 1),])\n",
        "print(dict4)"
      ],
      "execution_count": 69,
      "outputs": [
        {
          "output_type": "stream",
          "name": "stdout",
          "text": [
            "{'one': 1, 'two': 2, 'three': 3, 'bbay': 2}\n",
            "{'one': 1, 'two': 2, 'three': 3}\n",
            "{'one': 1, 'two': 2, 'three': 3}\n",
            "{'two': 2, 'three': 3, 'one': 1}\n"
          ]
        }
      ]
    },
    {
      "cell_type": "markdown",
      "metadata": {
        "id": "mXFWScINl7TW"
      },
      "source": [
        "**Dictionary operations**"
      ]
    },
    {
      "cell_type": "code",
      "metadata": {
        "colab": {
          "base_uri": "https://localhost:8080/"
        },
        "id": "Zv_va_3Fl-Jx",
        "outputId": "92c823cd-0a87-43e4-ad9a-88101317a16a"
      },
      "source": [
        "# get item\n",
        "print('Different ways of getting items')\n",
        "\n",
        "print(dict1['one'])\n",
        "print(dict1.get('one'))\n",
        "print(dict1.get(\"four\", \"number 4 does not exist\"))\n",
        "\n",
        "# save new item\n",
        "print('\\nStore new item')\n",
        "\n",
        "dict1['four'] = 4\n",
        "print(dict1)\n",
        "print(dict1.get(\"four\", \"number 4 does not exist\"))\n"
      ],
      "execution_count": null,
      "outputs": [
        {
          "output_type": "stream",
          "text": [
            "Different ways of getting items\n",
            "1\n",
            "1\n",
            "number 4 does not exist\n",
            "\n",
            "Store new item\n",
            "{'one': 1, 'two': 2, 'three': 3, 'four': 4}\n",
            "4\n"
          ],
          "name": "stdout"
        }
      ]
    },
    {
      "cell_type": "markdown",
      "metadata": {
        "id": "XBrQICatEyEC"
      },
      "source": [
        "## **2 Conditional statements and loops**"
      ]
    },
    {
      "cell_type": "markdown",
      "metadata": {
        "id": "0h57Js-TTgK0"
      },
      "source": [
        "### **2. 1 Conditional statements**\n",
        "\n",
        "They enable you to perform specific actions based on the boolean value returned by a condition\n",
        "\n",
        "They can be implemented using if-statements"
      ]
    },
    {
      "cell_type": "markdown",
      "metadata": {
        "id": "ld3ypUbVVAQ8"
      },
      "source": [
        "**If statements**"
      ]
    },
    {
      "cell_type": "code",
      "metadata": {
        "id": "c0Lk9qSyKjUg",
        "colab": {
          "base_uri": "https://localhost:8080/"
        },
        "outputId": "00687e80-6e85-45c8-941b-62a6f3a60df1"
      },
      "source": [
        "# they enable you to perform specific action based on the boolean value returned by a condition.\n",
        "x, y = 1, 2\n",
        "\n",
        "if x > y:\n",
        "  print('x is greater than y')\n",
        "elif x < y:\n",
        "  print(' x is less than y')\n",
        "else:\n",
        "  print('x is equal than y')"
      ],
      "execution_count": 70,
      "outputs": [
        {
          "output_type": "stream",
          "name": "stdout",
          "text": [
            " x is less than y\n"
          ]
        }
      ]
    },
    {
      "cell_type": "markdown",
      "metadata": {
        "id": "KP6dB_IQVD_N"
      },
      "source": [
        "### **2.2 Loops**\n",
        "\n",
        "Loops are helpful when you need to iterate over a sequence. A sequence can be a list, a tuple, a dictionary, a set or even a range of numbers.\n",
        "\n",
        "They can be implemented using for or while loops\n",
        "\n"
      ]
    },
    {
      "cell_type": "code",
      "metadata": {
        "colab": {
          "base_uri": "https://localhost:8080/"
        },
        "id": "WUyHZd7SXUEY",
        "outputId": "121feb45-3257-477c-f28c-4543dac55e9b"
      },
      "source": [
        "# Iterate through a sequence\n",
        "# loops are helpful when we iterate over a sequence. \n",
        "numbers = ['one', 'two', 'three', 'four', 'five']\n",
        "\n",
        "for n in numbers:\n",
        "  print(n)\n"
      ],
      "execution_count": 71,
      "outputs": [
        {
          "output_type": "stream",
          "name": "stdout",
          "text": [
            "one\n",
            "two\n",
            "three\n",
            "four\n",
            "five\n"
          ]
        }
      ]
    },
    {
      "cell_type": "code",
      "metadata": {
        "colab": {
          "base_uri": "https://localhost:8080/"
        },
        "id": "yHtrmKcJXjTx",
        "outputId": "2e6910b4-bbb8-4710-c74d-2b343a921e24"
      },
      "source": [
        "# Iterate through a range of numbers\n",
        "\n",
        "print('Iterate through numbers 0-4')\n",
        "for i in range(5):\n",
        "  print(i)\n",
        "\n",
        "print('Iterate through numbers 1-5')\n",
        "for i in range(1, 6):\n",
        "  print(i)"
      ],
      "execution_count": 72,
      "outputs": [
        {
          "output_type": "stream",
          "name": "stdout",
          "text": [
            "Iterate through numbers 0-4\n",
            "0\n",
            "1\n",
            "2\n",
            "3\n",
            "4\n",
            "Iterate through numbers 1-5\n",
            "1\n",
            "2\n",
            "3\n",
            "4\n",
            "5\n"
          ]
        }
      ]
    },
    {
      "cell_type": "markdown",
      "metadata": {
        "id": "JcB5rcUdX_UB"
      },
      "source": [
        "**While loop**\n",
        "\n",
        "Used to iterate through statements as long as the condition being checked is true"
      ]
    },
    {
      "cell_type": "code",
      "metadata": {
        "colab": {
          "base_uri": "https://localhost:8080/"
        },
        "id": "Q_lGzZlvX-zu",
        "outputId": "bbf46c76-f789-4f55-e475-119e193d1bf2"
      },
      "source": [
        "x = 0\n",
        "\n",
        "while x < 10:\n",
        "  x = x + 2\n",
        "  print(x)\n",
        "\n",
        "print('Final value is ', x)"
      ],
      "execution_count": null,
      "outputs": [
        {
          "output_type": "stream",
          "text": [
            "2\n",
            "4\n",
            "6\n",
            "8\n",
            "10\n",
            "Final value is  10\n"
          ],
          "name": "stdout"
        }
      ]
    },
    {
      "cell_type": "code",
      "source": [
        "x = 0\n",
        "while x<32:\n",
        "  x = x+10\n",
        "  \n",
        "  print(\"\\n\",x)\n"
      ],
      "metadata": {
        "colab": {
          "base_uri": "https://localhost:8080/"
        },
        "id": "KWWVZKi8Dc3B",
        "outputId": "f23ed607-3d3f-4d3f-ea89-8c3d5248bc13"
      },
      "execution_count": 77,
      "outputs": [
        {
          "output_type": "stream",
          "name": "stdout",
          "text": [
            "\n",
            " 10\n",
            "\n",
            " 20\n",
            "\n",
            " 30\n",
            "\n",
            " 40\n"
          ]
        }
      ]
    },
    {
      "cell_type": "markdown",
      "metadata": {
        "id": "3VAnQX_ndImk"
      },
      "source": [
        "## **3. Saving and Loading Files**"
      ]
    },
    {
      "cell_type": "markdown",
      "metadata": {
        "id": "boFjg0areRKx"
      },
      "source": [
        "### **3.1 Save Data to CSV**"
      ]
    },
    {
      "cell_type": "code",
      "metadata": {
        "id": "bGdf8mx46QDP"
      },
      "source": [
        "# Method 1\n",
        "\n",
        "import csv\n",
        "\n",
        "fields = ['No', 'Name']\n",
        "  \n",
        "students = [\n",
        "{'No': 1, 'Name': 'Jane Doe'},\n",
        "{'No': 2, 'Name': 'John Doe'},\n",
        "]\n",
        "\n",
        "with open('students.csv', 'w') as csv_file:\n",
        "  writer = csv.DictWriter(csv_file, fieldnames = fields)\n",
        "  writer.writeheader()\n",
        "  writer.writerows(students)\n",
        "\n",
        "# Method 2: Save dictionary as csv using pandas\n",
        "\n",
        "import pandas as pd\n",
        "\n",
        "studentDict = {'No': [1,2,3],\n",
        "               'Name': ['Sheila Mbadi', 'Jane Doe', 'John Doe']}\n",
        "\n",
        "studentDf = pd.DataFrame(studentDict)\n",
        "studentDf.to_csv('students_2.csv', index=None) #Imp: index=None is important before making submissions to Kaggle"
      ],
      "execution_count": null,
      "outputs": []
    },
    {
      "cell_type": "code",
      "source": [
        "import pandas as pd\n",
        "\n",
        "studentDict = {'No': [1,2,3],\n",
        "               'Name': ['Sheila Mbadi', 'Jane Doe', 'John Doe']}\n",
        "\n",
        "studentDf = pd.DataFrame(studentDict)\n",
        "studentDf.to_csv('students_2.csv', index=None) #Imp: index=None is important before making submissions to Kaggle"
      ],
      "metadata": {
        "id": "g_wFxqeMNDsn"
      },
      "execution_count": null,
      "outputs": []
    },
    {
      "cell_type": "code",
      "source": [
        "import pandas as pd\n",
        "Name = [\"Baghlan\",\"Paktika\",\"Paktia\",\"Nimroz\",\"Kpaisa\",\"Takhar\",\"Kabul\",\"Herat\",\"Balkh\",\"Bamyan\"]\n",
        "Afgprovince = {\"No\": [i for i in range(0,10)],\n",
        "               \"Name\" : Name}\n",
        "# print(len(Name\n",
        "Afg_province_df = pd.DataFrame(Afgprovince) \n",
        "\n",
        "\n",
        "d = Afg_province_df.to_csv(\"Provinces.csv\", index = None)\n",
        "cs = pd.read_csv(\"Provinces.csv\")\n",
        "\n"
      ],
      "metadata": {
        "id": "3f3qV53ONE47"
      },
      "execution_count": 90,
      "outputs": []
    },
    {
      "cell_type": "markdown",
      "metadata": {
        "id": "RMhekrMZeVrD"
      },
      "source": [
        "### **3.2 Load CSV Data**"
      ]
    },
    {
      "cell_type": "code",
      "metadata": {
        "id": "E-NzoKORdC_Y",
        "colab": {
          "base_uri": "https://localhost:8080/",
          "height": 110
        },
        "outputId": "10601e46-0ed6-4b2a-fa4d-96fba7d12a7b"
      },
      "source": [
        "import pandas as pd\n",
        "\n",
        "data = pd.read_csv('students.csv')\n",
        "data"
      ],
      "execution_count": null,
      "outputs": [
        {
          "output_type": "execute_result",
          "data": {
            "text/html": [
              "<div>\n",
              "<style scoped>\n",
              "    .dataframe tbody tr th:only-of-type {\n",
              "        vertical-align: middle;\n",
              "    }\n",
              "\n",
              "    .dataframe tbody tr th {\n",
              "        vertical-align: top;\n",
              "    }\n",
              "\n",
              "    .dataframe thead th {\n",
              "        text-align: right;\n",
              "    }\n",
              "</style>\n",
              "<table border=\"1\" class=\"dataframe\">\n",
              "  <thead>\n",
              "    <tr style=\"text-align: right;\">\n",
              "      <th></th>\n",
              "      <th>No</th>\n",
              "      <th>Name</th>\n",
              "    </tr>\n",
              "  </thead>\n",
              "  <tbody>\n",
              "    <tr>\n",
              "      <th>0</th>\n",
              "      <td>1</td>\n",
              "      <td>Jane Doe</td>\n",
              "    </tr>\n",
              "    <tr>\n",
              "      <th>1</th>\n",
              "      <td>2</td>\n",
              "      <td>John Doe</td>\n",
              "    </tr>\n",
              "  </tbody>\n",
              "</table>\n",
              "</div>"
            ],
            "text/plain": [
              "   No      Name\n",
              "0   1  Jane Doe\n",
              "1   2  John Doe"
            ]
          },
          "metadata": {
            "tags": []
          },
          "execution_count": 10
        }
      ]
    },
    {
      "cell_type": "markdown",
      "source": [
        "## **4. Comprehension**\n",
        "\n",
        "Comprehension is set/list builder notation is can be useful in Python to write compact and clean code.\n",
        "\n",
        "The general structure of comprehension is\n",
        "\n",
        "![comprehension](https://4.bp.blogspot.com/-uRPZqKbIGwQ/XRtgWhC6qqI/AAAAAAAAH0w/--oGnwKsnpo00GwQgH2gV3RPwHwK8uONgCLcBGAs/s1600/comprehension.PNG)"
      ],
      "metadata": {
        "id": "zZfw9iTy5exH"
      }
    },
    {
      "cell_type": "code",
      "source": [
        "#Set Comprehension\n",
        "set_1 = {x for x in range(6)}\n",
        "print(\"a set of number from 0 to 5:\", set_1)\n",
        "set_2 = {x**2 for x in range(6) if x % 2 == 0}\n",
        "print(\"a set of squares of even number from 0 to 5:\", set_2, \"\\n\")\n",
        "\n",
        "#List comprehension\n",
        "list_1 = [x for x in range(6)]\n",
        "print(\"a list of number from 0 to 5:\", set_1)\n",
        "set_2 = [x**2 for x in range(6) if x % 2 == 0]\n",
        "print(\"a list of squares of even number from 0 to 5:\", set_2, \"\\n\")\n",
        "d = [x**2/2 for x in range(10) if x%2==0]\n",
        "d\n",
        "#Comprehension based operation\n",
        "set_1 = {(1, 2), (4, 5), (7, 8)}\n",
        "set_2 = {(2, 3), (5, 6), (8, 9)}\n",
        "joined_set = {(t1[0], t1[1], t2[1]) for t1 in set_1 for t2 in set_2 if (t1[1] == t2[0])}\n",
        "print(\"joined set:\", joined_set)"
      ],
      "metadata": {
        "colab": {
          "base_uri": "https://localhost:8080/"
        },
        "id": "Pt_S3kTK51xQ",
        "outputId": "f85dfcde-40a9-46f1-d56b-d21a418458d2"
      },
      "execution_count": 91,
      "outputs": [
        {
          "output_type": "stream",
          "name": "stdout",
          "text": [
            "a set of number from 0 to 5: {0, 1, 2, 3, 4, 5}\n",
            "a set of squares of even number from 0 to 5: {0, 16, 4} \n",
            "\n",
            "a list of number from 0 to 5: {0, 1, 2, 3, 4, 5}\n",
            "a list of squares of even number from 0 to 5: [0, 4, 16] \n",
            "\n",
            "joined set: {(4, 5, 6), (7, 8, 9), (1, 2, 3)}\n"
          ]
        }
      ]
    },
    {
      "cell_type": "code",
      "source": [
        "d = [[x,x**2/2] for x in range(13) if (x%2==0 and x<=10)]\n",
        "d"
      ],
      "metadata": {
        "colab": {
          "base_uri": "https://localhost:8080/"
        },
        "id": "bDwsE3R8PeGo",
        "outputId": "ec804415-fa39-46e3-91df-76bddd8c203d"
      },
      "execution_count": 101,
      "outputs": [
        {
          "output_type": "execute_result",
          "data": {
            "text/plain": [
              "[[0, 0.0], [2, 2.0], [4, 8.0], [6, 18.0], [8, 32.0], [10, 50.0]]"
            ]
          },
          "metadata": {},
          "execution_count": 101
        }
      ]
    },
    {
      "cell_type": "code",
      "source": [],
      "metadata": {
        "id": "UIAP2HdWPdEo"
      },
      "execution_count": null,
      "outputs": []
    }
  ]
}