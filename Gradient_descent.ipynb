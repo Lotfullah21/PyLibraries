{
  "nbformat": 4,
  "nbformat_minor": 0,
  "metadata": {
    "colab": {
      "name": "Gradient_descent.ipynb",
      "provenance": [],
      "collapsed_sections": [],
      "authorship_tag": "ABX9TyPV10NDwxTiXFr34V3Sg0vT",
      "include_colab_link": true
    },
    "kernelspec": {
      "name": "python3",
      "display_name": "Python 3"
    },
    "language_info": {
      "name": "python"
    }
  },
  "cells": [
    {
      "cell_type": "markdown",
      "metadata": {
        "id": "view-in-github",
        "colab_type": "text"
      },
      "source": [
        "<a href=\"https://colab.research.google.com/github/Lotfullah21/PyLibraries/blob/main/Gradient_descent.ipynb\" target=\"_parent\"><img src=\"https://colab.research.google.com/assets/colab-badge.svg\" alt=\"Open In Colab\"/></a>"
      ]
    },
    {
      "cell_type": "code",
      "execution_count": 17,
      "metadata": {
        "id": "6r4AEF_-jh2e"
      },
      "outputs": [],
      "source": [
        "import numpy as np\n",
        "import matplotlib.pyplot as plt"
      ]
    },
    {
      "cell_type": "code",
      "source": [
        "x = np.array([1,2,3,4,5,6,7])\n",
        "y = [2,3,4,5,6,7,6]\n",
        "\n",
        "x_train = x[0:4]\n",
        "y_train = y[0:4]\n",
        "x.shape[0]"
      ],
      "metadata": {
        "colab": {
          "base_uri": "https://localhost:8080/"
        },
        "id": "MXuHuuTFZ4k2",
        "outputId": "d426e902-4b20-4edd-d801-d82c85ed165d"
      },
      "execution_count": 18,
      "outputs": [
        {
          "output_type": "execute_result",
          "data": {
            "text/plain": [
              "7"
            ]
          },
          "metadata": {},
          "execution_count": 18
        }
      ]
    },
    {
      "cell_type": "code",
      "source": [
        "x = [1,2,3,4,5,6,7]\n",
        "len(x)"
      ],
      "metadata": {
        "colab": {
          "base_uri": "https://localhost:8080/"
        },
        "id": "0jFgsUffbNps",
        "outputId": "3c6b68e9-8a7a-4be1-b7c5-03cd1b17ddca"
      },
      "execution_count": 19,
      "outputs": [
        {
          "output_type": "execute_result",
          "data": {
            "text/plain": [
              "7"
            ]
          },
          "metadata": {},
          "execution_count": 19
        }
      ]
    },
    {
      "cell_type": "code",
      "source": [
        "b = 10\n",
        "w = 0.1\n",
        "y_pred = np.multiply(w,x)+b"
      ],
      "metadata": {
        "id": "VPLTtxCOTQon"
      },
      "execution_count": 20,
      "outputs": []
    },
    {
      "cell_type": "code",
      "source": [
        "def compute_model_output(x, w, b):\n",
        "    \"\"\"\n",
        "    Computes the prediction of a linear model\n",
        "    Args:\n",
        "      x (ndarray (m,)): Data, m examples \n",
        "      w,b (scalar)    : model parameters  \n",
        "    Returns\n",
        "      y (ndarray (m,)): target values\n",
        "    \"\"\"\n",
        "    m = len(x)\n",
        "    f_wb = np.zeros(m)\n",
        "    print(f_wb)\n",
        "    for i in range(m):\n",
        "        f_wb[i] = w * x[i] + b\n",
        "        \n",
        "    return f_wb"
      ],
      "metadata": {
        "id": "XPdZW47kbmZn"
      },
      "execution_count": 21,
      "outputs": []
    },
    {
      "cell_type": "code",
      "source": [
        "\n",
        "m = len(x)\n",
        "w_wb = np.zeros(m)\n",
        "def compute(x,w,b):\n",
        "  for i in range(m):\n",
        "    f_wb[i] = w*x[i]+b\n",
        "  return f_wb  "
      ],
      "metadata": {
        "id": "wLbN0wnF-xXt"
      },
      "execution_count": 22,
      "outputs": []
    },
    {
      "cell_type": "code",
      "source": [
        "print(x_train,y_train)\n",
        "plt.scatter(x,y_pred)\n",
        "\n",
        "plt.plot(x,y_pred)\n",
        "plt.plot(x,y_pred,color = \"r\")\n",
        "\n",
        "plt.plot(x,y)\n",
        "plt.scatter(x,y,marker=\"x\")\n"
      ],
      "metadata": {
        "colab": {
          "base_uri": "https://localhost:8080/",
          "height": 300
        },
        "id": "SGVSh94TULj7",
        "outputId": "6cec7a42-beaa-4f10-c2e0-ae7f54ed005c"
      },
      "execution_count": 23,
      "outputs": [
        {
          "output_type": "stream",
          "name": "stdout",
          "text": [
            "[1 2 3 4] [2, 3, 4, 5]\n"
          ]
        },
        {
          "output_type": "execute_result",
          "data": {
            "text/plain": [
              "<matplotlib.collections.PathCollection at 0x7f38e9d42810>"
            ]
          },
          "metadata": {},
          "execution_count": 23
        },
        {
          "output_type": "display_data",
          "data": {
            "text/plain": [
              "<Figure size 432x288 with 1 Axes>"
            ],
            "image/png": "[encoded data removed]"
          },
          "metadata": {
            "needs_background": "light"
          }
        }
      ]
    },
    {
      "cell_type": "markdown",
      "source": [
        "#   Compute Cost"
      ],
      "metadata": {
        "id": "1gR9AAjbAUNF"
      }
    },
    {
      "cell_type": "code",
      "source": [
        "x = np.array([1,2,3,4,4,5,6,10])\n",
        "y = np.array([0,3,4,5,6,7,8,9])\n",
        "x_train = x[0:4]\n",
        "y_train = y[0:4]\n"
      ],
      "metadata": {
        "id": "safPxbtRacn-"
      },
      "execution_count": 24,
      "outputs": []
    },
    {
      "cell_type": "markdown",
      "source": [
        "# 1. Function"
      ],
      "metadata": {
        "id": "cnPeRkR3JFkJ"
      }
    },
    {
      "cell_type": "code",
      "source": [
        "m = len(x)\n",
        "f_wb = np.zeros(m)\n",
        "def compute_output(x,w,b):\n",
        "  \"\"\"\n",
        "  x as input\n",
        "  b as bias , and w as the weight\n",
        "  \"\"\"\n",
        "  for i in range(m):\n",
        "    f_wb[i] = w*x[i]+b\n",
        "    # print(x,w_fb[i])\n",
        "\n",
        "  return f_wb\n",
        "compute_output(x,0.2,3) \n",
        "print(\"f_wb\",f_wb)   "
      ],
      "metadata": {
        "id": "mCVHSirIj0Df",
        "colab": {
          "base_uri": "https://localhost:8080/"
        },
        "outputId": "4fc0777a-1b0b-427f-eefb-e97636fb2296"
      },
      "execution_count": 25,
      "outputs": [
        {
          "output_type": "stream",
          "name": "stdout",
          "text": [
            "f_wb [3.2 3.4 3.6 3.8 3.8 4.  4.2 5. ]\n"
          ]
        }
      ]
    },
    {
      "cell_type": "markdown",
      "source": [
        ""
      ],
      "metadata": {
        "id": "O3u-p9Rgwwp3"
      }
    },
    {
      "cell_type": "code",
      "source": [
        "x = np.array([1,2,3,4,4,5,6,10])\n",
        "y = np.array([0,3,4,5,6,7,8,9])"
      ],
      "metadata": {
        "id": "URd_iVgFFJsE"
      },
      "execution_count": 26,
      "outputs": []
    },
    {
      "cell_type": "code",
      "source": [
        ""
      ],
      "metadata": {
        "id": "7HMfbjH0ASlf"
      },
      "execution_count": 26,
      "outputs": []
    },
    {
      "cell_type": "markdown",
      "source": [
        "# 2. Cost"
      ],
      "metadata": {
        "id": "nptKWQmUwyBZ"
      }
    },
    {
      "cell_type": "code",
      "source": [
        ""
      ],
      "metadata": {
        "id": "dr3eXxe4GU6q"
      },
      "execution_count": 26,
      "outputs": []
    },
    {
      "cell_type": "code",
      "source": [
        "def compute_cost(x, y, w, b): \n",
        "\n",
        "    \"\"\"\n",
        "    Computes the cost function for linear regression.\n",
        "    \n",
        "    Args:\n",
        "      x (ndarray (m,)): Data, m examples \n",
        "      y (ndarray (m,)): target values\n",
        "      w,b (scalar)    : model parameters  \n",
        "    \n",
        "    Returns\n",
        "        total_cost (float): The cost of using w,b as the parameters for linear regression\n",
        "               to fit the data points in x and y\n",
        "    \"\"\"\n",
        "    # number of training examples\n",
        "    \n",
        "    m = x.shape[0] \n",
        "    print(m)\n",
        "    cost_sum = 0 \n",
        "    for i in range(m): \n",
        "        \n",
        "        f_wb = w * x[i] + b   \n",
        "        cost = (f_wb - y[i]) ** 2  \n",
        "        cost_sum = cost_sum + cost  \n",
        "    total_cost = (1 / (2 * m)) * cost_sum  \n",
        "    print(\"total cost\",total_cost)\n",
        "\n",
        "    return total_cost\n",
        "a = compute_cost(x,y,0.4,2)    "
      ],
      "metadata": {
        "colab": {
          "base_uri": "https://localhost:8080/"
        },
        "id": "0sFTlA5TD_75",
        "outputId": "092f1d51-3d4b-46f2-ad09-0d0b755f268a"
      },
      "execution_count": 27,
      "outputs": [
        {
          "output_type": "stream",
          "name": "stdout",
          "text": [
            "8\n",
            "total cost 2.8199999999999994\n"
          ]
        }
      ]
    },
    {
      "cell_type": "code",
      "source": [
        "# cost_sum = 0\n",
        "def compute1_cost(x,y,w,b):\n",
        "  m = len(x)\n",
        "  cost_sum = 0\n",
        "  for i in range(m):\n",
        "    f_wb = w*x[i] + b\n",
        "    # cost = (f_wb - y[i])**2\n",
        "    cost = (f_wb - y[i])**2\n",
        "    cost_sum = cost_sum + cost\n",
        "    print(f_wb,cost,cost_sum)\n",
        "    # cost_sum = cost_sum + cost\n",
        "  total_cost = (1 / (2 * m)) * cost_sum  \n",
        "  # total_cost = ( 1 /(2 * m)) * cost_sum\n",
        "\n",
        "  return total_cost \n",
        "compute1_cost(x,y,0.2,1)"
      ],
      "metadata": {
        "id": "JmF9YwXKkHna",
        "colab": {
          "base_uri": "https://localhost:8080/"
        },
        "outputId": "95510e0c-e885-4f40-e05a-fe99fb76eef6"
      },
      "execution_count": 28,
      "outputs": [
        {
          "output_type": "stream",
          "name": "stdout",
          "text": [
            "1.2 1.44 1.44\n",
            "1.4 2.5600000000000005 4.0\n",
            "1.6 5.76 9.76\n",
            "1.8 10.240000000000002 20.0\n",
            "1.8 17.64 37.64\n",
            "2.0 25.0 62.64\n",
            "2.2 33.64 96.28\n",
            "3.0 36.0 132.28\n"
          ]
        },
        {
          "output_type": "execute_result",
          "data": {
            "text/plain": [
              "8.2675"
            ]
          },
          "metadata": {},
          "execution_count": 28
        }
      ]
    },
    {
      "cell_type": "markdown",
      "source": [
        "# 3. Compute Gradients"
      ],
      "metadata": {
        "id": "CaUiWV-2w3qJ"
      }
    },
    {
      "cell_type": "code",
      "source": [
        "x = np.array([2,1,3])\n",
        "y = np.array([4,2,6])\n",
        "def compute_gradient(x,y,w,b):\n",
        "  dj_dw = 0\n",
        "  dj_db = 0\n",
        "  sum_db = 0\n",
        "  sum_dw = 0\n",
        "  m = len(x)\n",
        "  \n",
        "  for i in range(m):\n",
        "\n",
        "\n",
        "    f_wb = w * x[i] + b\n",
        "    dj_dw = (f_wb - y[i]) * x[i]\n",
        "    dj_db = (f_wb - y[i])\n",
        "    sum_dw = sum_dw +dj_dw\n",
        "    sum_db = sum_db + dj_db\n",
        "\n",
        "\n",
        "  total_dj  = sum_dw/m\n",
        "  total_db = sum_db/m\n",
        "  return total_dj, total_db\n",
        "compute_gradient(x,y,1,2) "
      ],
      "metadata": {
        "colab": {
          "base_uri": "https://localhost:8080/"
        },
        "id": "uEm25TiTw24g",
        "outputId": "045cfcc5-5cc6-47e7-8d3b-650d2d41e7c8"
      },
      "execution_count": 29,
      "outputs": [
        {
          "output_type": "execute_result",
          "data": {
            "text/plain": [
              "(-0.6666666666666666, 0.0)"
            ]
          },
          "metadata": {},
          "execution_count": 29
        }
      ]
    },
    {
      "cell_type": "code",
      "source": [
        "x = np.array([1.0, 2.0])   #features\n",
        "y = np.array([300.0, 500.0])\n",
        "def compute_gradients(x, y, w, b): \n",
        "    \"\"\"\n",
        "    Computes the gradient for linear regression \n",
        "    Args:\n",
        "      x (ndarray (m,)): Data, m examples \n",
        "      y (ndarray (m,)): target values\n",
        "      w,b (scalar)    : model parameters  \n",
        "    Returns\n",
        "      dj_dw (scalar): The gradient of the cost w.r.t. the parameters w\n",
        "      dj_db (scalar): The gradient of the cost w.r.t. the parameter b     \n",
        "     \"\"\"\n",
        "    \n",
        "    # Number of training examples\n",
        "    m = x.shape[0]    \n",
        "    dj_dw = 0\n",
        "    dj_db = 0\n",
        "    \n",
        "    for i in range(m):  \n",
        "        f_wb = w * x[i] + b \n",
        "        dj_dw_i = (f_wb - y[i]) * x[i] \n",
        "        dj_db_i = f_wb - y[i] \n",
        "        dj_db += dj_db_i\n",
        "        dj_dw += dj_dw_i \n",
        "    dj_dw = dj_dw / m \n",
        "    dj_db = dj_db / m \n",
        "        \n",
        "    return dj_dw, dj_db\n",
        "compute_gradients(x, y, 0.2, 1)    "
      ],
      "metadata": {
        "colab": {
          "base_uri": "https://localhost:8080/"
        },
        "id": "jEtNxHf4wtE2",
        "outputId": "04045554-90db-47c3-8524-1efdfaad7050"
      },
      "execution_count": 30,
      "outputs": [
        {
          "output_type": "execute_result",
          "data": {
            "text/plain": [
              "(-648.0, -398.70000000000005)"
            ]
          },
          "metadata": {},
          "execution_count": 30
        }
      ]
    },
    {
      "cell_type": "code",
      "source": [
        "def compute_gradient(x, y, w, b): \n",
        "    \"\"\"\n",
        "    Computes the gradient for linear regression \n",
        "    Args:\n",
        "      x (ndarray (m,)): Data, m examples \n",
        "      y (ndarray (m,)): target values\n",
        "      w,b (scalar)    : model parameters  \n",
        "    Returns\n",
        "      dj_dw (scalar): The gradient of the cost w.r.t. the parameters w\n",
        "      dj_db (scalar): The gradient of the cost w.r.t. the parameter b     \n",
        "     \"\"\"\n",
        "    \n",
        "    # Number of training examples\n",
        "    m = x.shape[0]    \n",
        "    dj_dw = 0\n",
        "    dj_db = 0\n",
        "    \n",
        "    for i in range(m):  \n",
        "        f_wb = w * x[i] + b \n",
        "        dj_dw_i = (f_wb - y[i]) * x[i] \n",
        "        dj_db_i = f_wb - y[i] \n",
        "        dj_db += dj_db_i\n",
        "        dj_dw += dj_dw_i \n",
        "    dj_dw = dj_dw / m \n",
        "    dj_db = dj_db / m \n",
        "        \n",
        "    return dj_dw, dj_db\n",
        "    "
      ],
      "metadata": {
        "id": "bttRXvkyuK46"
      },
      "execution_count": 31,
      "outputs": []
    },
    {
      "cell_type": "code",
      "source": [
        "import math, copy\n",
        "import numpy as np\n",
        "import matplotlib.pyplot as plt\n",
        "# plt.style.use('./deeplearning.mplstyle')\n",
        "# from lab_utils_uni import plt_house_x, plt_contour_wgrad, plt_divergence, plt_gradients"
      ],
      "metadata": {
        "id": "XjZM7Dnr9OkE"
      },
      "execution_count": 32,
      "outputs": []
    },
    {
      "cell_type": "code",
      "source": [
        "def gradient_descent(x, y, w_in, b_in, alpha, num_iters, cost_function, gradient_function): \n",
        "    \"\"\"\n",
        "    Performs gradient descent to fit w,b. Updates w,b by taking \n",
        "    num_iters gradient steps with learning rate alpha\n",
        "    \n",
        "    Args:\n",
        "      x (ndarray (m,))  : Data, m examples \n",
        "      y (ndarray (m,))  : target values\n",
        "      w_in,b_in (scalar): initial values of model parameters  \n",
        "      alpha (float):     Learning rate\n",
        "      num_iters (int):   number of iterations to run gradient descent\n",
        "      cost_function:     function to call to produce cost\n",
        "      gradient_function: function to call to produce gradient\n",
        "      \n",
        "    Returns:\n",
        "      w (scalar): Updated value of parameter after running gradient descent\n",
        "      b (scalar): Updated value of parameter after running gradient descent\n",
        "      J_history (List): History of cost values\n",
        "      p_history (list): History of parameters [w,b] \n",
        "      \"\"\"\n",
        "    \n",
        "    w = copy.deepcopy(w_in) # avoid modifying global w_in\n",
        "    # An array to store cost J and w's at each iteration primarily for graphing later\n",
        "    J_history = []\n",
        "    p_history = []\n",
        "    b = b_in\n",
        "    w = w_in\n",
        "    \n",
        "    for i in range(num_iters):\n",
        "        # Calculate the gradient and update the parameters using gradient_function\n",
        "        dj_dw, dj_db = gradient_function(x, y, w , b)     \n",
        "\n",
        "        # Update Parameters using equation (3) above\n",
        "        b = b - alpha * dj_db                            \n",
        "        w = w - alpha * dj_dw                            \n",
        "\n",
        "        # Save cost J at each iteration\n",
        "        if i<100000:      # prevent resource exhaustion \n",
        "            J_history.append( cost_function(x, y, w , b))\n",
        "            p_history.append([w,b])\n",
        "        # Print cost every at intervals 10 times or as many iterations if < 10\n",
        "        if i% math.ceil(num_iters/10) == 0:\n",
        "            print(f\"Iteration {i:4}: Cost {J_history[-1]:0.2e} \",\n",
        "                  f\"dj_dw: {dj_dw: 0.3e}, dj_db: {dj_db: 0.3e}  \",\n",
        "                  f\"w: {w: 0.3e}, b:{b: 0.5e}\")\n",
        " \n",
        "    return w, b, J_history, p_history #return w and J,w history for graphing"
      ],
      "metadata": {
        "id": "4O0emXof9Jkl"
      },
      "execution_count": 33,
      "outputs": []
    },
    {
      "cell_type": "code",
      "source": [
        "# initialize parameters\n",
        "w_init = 0\n",
        "b_init = 0\n",
        "# some gradient descent settings\n",
        "iterations = 10000\n",
        "tmp_alpha = 1.0e-2\n",
        "# run gradient descent\n",
        "# w_final, b_final, J_hist, p_hist = gradient_descent(x_train ,y_train, w_init, b_init, tmp_alpha, \n",
        "#                                                     iterations, compute_cost, compute_gradient)\n",
        "# print(f\"(w,b) found by gradient descent: ({w_final:8.4f},{b_final:8.4f})\")"
      ],
      "metadata": {
        "id": "HkEi2npXkjVx"
      },
      "execution_count": 70,
      "outputs": []
    },
    {
      "cell_type": "code",
      "source": [
        "print(f\"1000 sqft house prediction {w_final*1.0 + b_final:0.1f} Thousand dollars\")\n",
        "print(f\"1200 sqft house prediction {w_final*1.2 + b_final:0.1f} Thousand dollars\")\n",
        "print(f\"2000 sqft house prediction {w_final*2.0 + b_final:0.1f} Thousand dollars\")"
      ],
      "metadata": {
        "id": "ujjTtQdRl-cG",
        "colab": {
          "base_uri": "https://localhost:8080/"
        },
        "outputId": "b8923458-4248-43f6-df01-5a4aa92e6d3c"
      },
      "execution_count": 35,
      "outputs": [
        {
          "output_type": "stream",
          "name": "stdout",
          "text": [
            "1000 sqft house prediction 0.6 Thousand dollars\n",
            "1200 sqft house prediction 0.9 Thousand dollars\n",
            "2000 sqft house prediction 2.2 Thousand dollars\n"
          ]
        }
      ]
    },
    {
      "cell_type": "code",
      "source": [
        "# NumPy routines which allocate memory and fill arrays with value\n",
        "a = np.zeros(4);                print(f\"np.zeros(4) :   a = {a}, a shape = {a.shape}, a data type = {a.dtype}\")\n",
        "a = np.zeros((4,));             print(f\"np.zeros(4,) :  a = {a}, a shape = {a.shape}, a data type = {a.dtype}\")\n",
        "a = np.random.random_sample(4); print(f\"np.random.random_sample(4): a = {a}, a shape = {a.shape}, a data type = {a.dtype}\")"
      ],
      "metadata": {
        "id": "5WqnX7g5pRHU",
        "colab": {
          "base_uri": "https://localhost:8080/"
        },
        "outputId": "5aada2b4-e7ed-4523-d2e0-8b1fd3b50cd9"
      },
      "execution_count": 36,
      "outputs": [
        {
          "output_type": "stream",
          "name": "stdout",
          "text": [
            "np.zeros(4) :   a = [0. 0. 0. 0.], a shape = (4,), a data type = float64\n",
            "np.zeros(4,) :  a = [0. 0. 0. 0.], a shape = (4,), a data type = float64\n",
            "np.random.random_sample(4): a = [0.23577372 0.1662974  0.84883991 0.74589598], a shape = (4,), a data type = float64\n"
          ]
        }
      ]
    },
    {
      "cell_type": "code",
      "source": [
        ""
      ],
      "metadata": {
        "id": "gJVeGNngk_Ro"
      },
      "execution_count": 36,
      "outputs": []
    },
    {
      "cell_type": "markdown",
      "source": [
        "# Dot Product \n"
      ],
      "metadata": {
        "id": "eltiBpKke6Ru"
      }
    },
    {
      "cell_type": "code",
      "source": [
        "def dot_prod(a,b):\n",
        "  x = 0\n",
        "  for i in range(len(b)):\n",
        "    dot = a[i]*b[i]\n",
        "    x = x+dot\n",
        "  return x\n",
        "dot_prod([1,2,3],[4,2,4])  \n"
      ],
      "metadata": {
        "id": "q6dGbdDal0v6",
        "colab": {
          "base_uri": "https://localhost:8080/"
        },
        "outputId": "204d4ee6-12a5-4b77-d5c6-894c8f19ba8f"
      },
      "execution_count": 51,
      "outputs": [
        {
          "output_type": "execute_result",
          "data": {
            "text/plain": [
              "20"
            ]
          },
          "metadata": {},
          "execution_count": 51
        }
      ]
    },
    {
      "cell_type": "code",
      "source": [
        "a = np.array([1, 2, 3, 4])\n",
        "b = np.array([-1, 4, 3, 2])\n",
        "print(f\"dot_prod(a,b) =  {dot_prod(a,b)}\")\n"
      ],
      "metadata": {
        "colab": {
          "base_uri": "https://localhost:8080/"
        },
        "id": "LjltYmGvgWlB",
        "outputId": "4b6ccd10-9a99-4443-a38c-3636024b6301"
      },
      "execution_count": 55,
      "outputs": [
        {
          "output_type": "stream",
          "name": "stdout",
          "text": [
            "dot_prod(a,b) =  24\n"
          ]
        }
      ]
    },
    {
      "cell_type": "code",
      "source": [
        "print(f\"dot_prod(a,b) =  {dot_prod(b,a)}\")"
      ],
      "metadata": {
        "colab": {
          "base_uri": "https://localhost:8080/"
        },
        "id": "0rB7gchCfpgW",
        "outputId": "d8991cce-0cd7-4f11-a344-cddf2110505b"
      },
      "execution_count": 56,
      "outputs": [
        {
          "output_type": "stream",
          "name": "stdout",
          "text": [
            "dot_prod(a,b) =  24\n"
          ]
        }
      ]
    },
    {
      "cell_type": "markdown",
      "source": [
        "# The Need for Speed: vector vs for loop\n",
        "We utilized the NumPy  library because it improves speed memory efficiency. Let's demonstrate:"
      ],
      "metadata": {
        "id": "x-joi8LQg4K8"
      }
    },
    {
      "cell_type": "markdown",
      "source": [
        ""
      ],
      "metadata": {
        "id": "CDZiawb5g4QW"
      }
    },
    {
      "cell_type": "code",
      "source": [
        "np.dot(a,b)"
      ],
      "metadata": {
        "colab": {
          "base_uri": "https://localhost:8080/"
        },
        "id": "2HAiLb2LfWTC",
        "outputId": "484f67bf-9393-4c6d-d08e-68923878c4e5"
      },
      "execution_count": 57,
      "outputs": [
        {
          "output_type": "execute_result",
          "data": {
            "text/plain": [
              "24"
            ]
          },
          "metadata": {},
          "execution_count": 57
        }
      ]
    },
    {
      "cell_type": "code",
      "source": [
        "import time\n",
        "np.random.seed(1)\n",
        "a = np.random.rand(10000000)  # very large arrays\n",
        "b = np.random.rand(10000000)\n",
        "\n",
        "tic = time.time()  # capture start time\n",
        "c = np.dot(a, b)\n",
        "toc = time.time()  # capture end time\n",
        "\n",
        "print(f\"np.dot(a, b) =  {c:.1f}\")\n",
        "print(f\"Vectorized version duration: {1000*(toc-tic):.4f} ms \")\n",
        "\n",
        "tic = time.time()  # capture start time\n",
        "c = dot_prod(a,b)\n",
        "toc = time.time()  # capture end time\n",
        "\n",
        "print(f\"my_dot(a, b) =  {c:.4f}\")\n",
        "print(f\"loop version duration: {1000*(toc-tic):.4f} ms \")\n",
        "\n",
        "del(a);del(b)  #remove these big arrays from memory"
      ],
      "metadata": {
        "colab": {
          "base_uri": "https://localhost:8080/"
        },
        "id": "EGxQXrr-gxik",
        "outputId": "c008d017-1194-4d66-90e1-c33e1c0f1f35"
      },
      "execution_count": 61,
      "outputs": [
        {
          "output_type": "stream",
          "name": "stdout",
          "text": [
            "np.dot(a, b) =  2501072.6\n",
            "Vectorized version duration: 13.1063 ms \n",
            "my_dot(a, b) =  2501072.5817\n",
            "loop version duration: 3799.3653 ms \n"
          ]
        }
      ]
    },
    {
      "cell_type": "markdown",
      "source": [
        "# Matrices"
      ],
      "metadata": {
        "id": "Xk54TjHmh4Kx"
      }
    },
    {
      "cell_type": "code",
      "source": [
        "a = np.zeros((1, 5))                                       \n",
        "print(f\"a shape = {a.shape}, a = {a}\")                     \n",
        "\n",
        "a = np.zeros((2, 1))                                                                   \n",
        "print(f\"a shape = {a.shape}, a = {a}\") \n",
        "\n",
        "a = np.random.random_sample((1, 1))  \n",
        "\n",
        "print(f\"a shape = {a.shape}, a = {a}\") "
      ],
      "metadata": {
        "colab": {
          "base_uri": "https://localhost:8080/"
        },
        "id": "Hqmb-ZDOhEsu",
        "outputId": "cb65c63a-b481-4eeb-c81b-ca3faa142d20"
      },
      "execution_count": 63,
      "outputs": [
        {
          "output_type": "stream",
          "name": "stdout",
          "text": [
            "a shape = (1, 5), a = [[0. 0. 0. 0. 0.]]\n",
            "a shape = (2, 1), a = [[0.]\n",
            " [0.]]\n",
            "a shape = (1, 1), a = [[0.04997798]]\n"
          ]
        }
      ]
    },
    {
      "cell_type": "code",
      "source": [
        "# NumPy routines which allocate memory and fill with user specified values\n",
        "a = np.array([[5], [4], [3]]);   print(f\" a shape = {a.shape}, np.array: a = {a}\")\n",
        "a = np.array([[5],   # One can also\n",
        "              [4],   # separate values\n",
        "              [3]]); #into separate rows\n",
        "print(f\" a shape = {a.shape}, np.array: a = {a}\")"
      ],
      "metadata": {
        "colab": {
          "base_uri": "https://localhost:8080/"
        },
        "id": "AEqnUrlNh3IJ",
        "outputId": "44808fff-dea5-438e-9889-f6e43a3e53b8"
      },
      "execution_count": 64,
      "outputs": [
        {
          "output_type": "stream",
          "name": "stdout",
          "text": [
            " a shape = (3, 1), np.array: a = [[5]\n",
            " [4]\n",
            " [3]]\n",
            " a shape = (3, 1), np.array: a = [[5]\n",
            " [4]\n",
            " [3]]\n"
          ]
        }
      ]
    },
    {
      "cell_type": "code",
      "source": [
        "#vector indexing operations on matrices\n",
        "a = np.arange(6).reshape(-1, 2)   #reshape is a convenient way to create matrices\n",
        "print(f\"a.shape: {a.shape}, \\na= {a}\")\n",
        "\n",
        "#access an element\n",
        "print(f\"\\na[2,0].shape:   {a[2, 0].shape}, a[1,0] = {a[1, 0]},     type(a[2,0]) = {type(a[2, 0])} Accessing an element returns a scalar\\n\")\n",
        "\n",
        "#access a row\n",
        "print(f\"a[2].shape:   {a[2].shape}, a[2]   = {a[2]}, type(a[2])   = {type(a[2])}\")"
      ],
      "metadata": {
        "colab": {
          "base_uri": "https://localhost:8080/"
        },
        "id": "BtcMAYuEh_c1",
        "outputId": "607fe9b1-ca20-469b-8d4a-93dfba417f7b"
      },
      "execution_count": 67,
      "outputs": [
        {
          "output_type": "stream",
          "name": "stdout",
          "text": [
            "a.shape: (3, 2), \n",
            "a= [[0 1]\n",
            " [2 3]\n",
            " [4 5]]\n",
            "\n",
            "a[2,0].shape:   (), a[1,0] = 2,     type(a[2,0]) = <class 'numpy.int64'> Accessing an element returns a scalar\n",
            "\n",
            "a[2].shape:   (2,), a[2]   = [4 5], type(a[2])   = <class 'numpy.ndarray'>\n"
          ]
        }
      ]
    },
    {
      "cell_type": "code",
      "source": [
        "#vector 2-D slicing operations\n",
        "a = np.arange(20).reshape(-1, 10)\n",
        "print(f\"a = \\n{a}\")\n",
        "\n",
        "#access 5 consecutive elements (start:stop:step)\n",
        "print(\"a[0, 2:7:1] = \", a[0, 2:7:1], \",  a[0, 2:7:1].shape =\", a[0, 2:7:1].shape, \"a 1-D array\")\n",
        "\n",
        "#access 5 consecutive elements (start:stop:step) in two rows\n",
        "print(\"a[:, 2:7:1] = \\n\", a[:, 2:7:1], \",  a[:, 2:7:1].shape =\", a[:, 2:7:1].shape, \"a 2-D array\")\n",
        "\n",
        "# access all elements\n",
        "print(\"a[:,:] = \\n\", a[:,:], \",  a[:,:].shape =\", a[:,:].shape)\n",
        "\n",
        "# access all elements in one row (very common usage)\n",
        "print(\"a[1,:] = \", a[1,:], \",  a[1,:].shape =\", a[1,:].shape, \"a 1-D array\")\n",
        "# same as\n",
        "print(\"a[1]   = \", a[1],   \",  a[1].shape   =\", a[1].shape, \"a 1-D array\")\n"
      ],
      "metadata": {
        "colab": {
          "base_uri": "https://localhost:8080/"
        },
        "id": "4qOvDwtXiNOO",
        "outputId": "1afbcafd-f9ef-46c3-9722-44f3dda5d902"
      },
      "execution_count": 68,
      "outputs": [
        {
          "output_type": "stream",
          "name": "stdout",
          "text": [
            "a = \n",
            "[[ 0  1  2  3  4  5  6  7  8  9]\n",
            " [10 11 12 13 14 15 16 17 18 19]]\n",
            "a[0, 2:7:1] =  [2 3 4 5 6] ,  a[0, 2:7:1].shape = (5,) a 1-D array\n",
            "a[:, 2:7:1] = \n",
            " [[ 2  3  4  5  6]\n",
            " [12 13 14 15 16]] ,  a[:, 2:7:1].shape = (2, 5) a 2-D array\n",
            "a[:,:] = \n",
            " [[ 0  1  2  3  4  5  6  7  8  9]\n",
            " [10 11 12 13 14 15 16 17 18 19]] ,  a[:,:].shape = (2, 10)\n",
            "a[1,:] =  [10 11 12 13 14 15 16 17 18 19] ,  a[1,:].shape = (10,) a 1-D array\n",
            "a[1]   =  [10 11 12 13 14 15 16 17 18 19] ,  a[1].shape   = (10,) a 1-D array\n"
          ]
        }
      ]
    },
    {
      "cell_type": "markdown",
      "source": [
        "# Reshape"
      ],
      "metadata": {
        "id": "UGbKiQAEitEP"
      }
    },
    {
      "cell_type": "markdown",
      "source": [
        "**Reshape**  \n",
        "The previous example used [reshape](https://numpy.org/doc/stable/reference/generated/numpy.reshape.html) to shape the array.  \n",
        "`a = np.arange(6).reshape(-1, 2) `   \n",
        "This line of code first created a *1-D Vector* of six elements. It then reshaped that vector into a *2-D* array using the reshape command. This could have been written:  \n",
        "`a = np.arange(6).reshape(3, 2) `  \n",
        "To arrive at the same 3 row, 2 column array.\n",
        "The -1 argument tells the routine to compute the number of rows given the size of the array and the number of columns."
      ],
      "metadata": {
        "id": "PiyxPpXniquw"
      }
    },
    {
      "cell_type": "code",
      "source": [
        "a = np.arange(6).reshape(-1, 2) \n",
        "a = np.arange(6).reshape(3, 2) "
      ],
      "metadata": {
        "id": "UQw8IhnMig0J"
      },
      "execution_count": null,
      "outputs": []
    },
    {
      "cell_type": "code",
      "source": [
        "#vector 2-D slicing operations\n",
        "a = np.arange(20).reshape(-1, 10)\n",
        "print(f\"a = \\n{a}\")\n",
        "\n",
        "#access 5 consecutive elements (start:stop:step)\n",
        "print(\"a[0, 2:7:1] = \", a[0, 2:7:1], \",  a[0, 2:7:1].shape =\", a[0, 2:7:1].shape, \"a 1-D array\")\n",
        "\n",
        "#access 5 consecutive elements (start:stop:step) in two rows\n",
        "print(\"a[:, 2:7:1] = \\n\", a[:, 2:7:1], \",  a[:, 2:7:1].shape =\", a[:, 2:7:1].shape, \"a 2-D array\")\n",
        "\n",
        "# access all elements\n",
        "print(\"a[:,:] = \\n\", a[:,:], \",  a[:,:].shape =\", a[:,:].shape)\n",
        "\n",
        "# access all elements in one row (very common usage)\n",
        "print(\"a[1,:] = \", a[1,:], \",  a[1,:].shape =\", a[1,:].shape, \"a 1-D array\")\n",
        "# same as\n",
        "print(\"a[1]   = \", a[1],   \",  a[1].shape   =\", a[1].shape, \"a 1-D array\")\n"
      ],
      "metadata": {
        "colab": {
          "base_uri": "https://localhost:8080/"
        },
        "id": "QjQooCVmjUJA",
        "outputId": "7ea93b19-358d-4654-d3ca-e291fb999316"
      },
      "execution_count": 69,
      "outputs": [
        {
          "output_type": "stream",
          "name": "stdout",
          "text": [
            "a = \n",
            "[[ 0  1  2  3  4  5  6  7  8  9]\n",
            " [10 11 12 13 14 15 16 17 18 19]]\n",
            "a[0, 2:7:1] =  [2 3 4 5 6] ,  a[0, 2:7:1].shape = (5,) a 1-D array\n",
            "a[:, 2:7:1] = \n",
            " [[ 2  3  4  5  6]\n",
            " [12 13 14 15 16]] ,  a[:, 2:7:1].shape = (2, 5) a 2-D array\n",
            "a[:,:] = \n",
            " [[ 0  1  2  3  4  5  6  7  8  9]\n",
            " [10 11 12 13 14 15 16 17 18 19]] ,  a[:,:].shape = (2, 10)\n",
            "a[1,:] =  [10 11 12 13 14 15 16 17 18 19] ,  a[1,:].shape = (10,) a 1-D array\n",
            "a[1]   =  [10 11 12 13 14 15 16 17 18 19] ,  a[1].shape   = (10,) a 1-D array\n"
          ]
        }
      ]
    },
    {
      "cell_type": "code",
      "source": [
        ""
      ],
      "metadata": {
        "id": "MsTGD6gJjUiK"
      },
      "execution_count": null,
      "outputs": []
    }
  ]
}