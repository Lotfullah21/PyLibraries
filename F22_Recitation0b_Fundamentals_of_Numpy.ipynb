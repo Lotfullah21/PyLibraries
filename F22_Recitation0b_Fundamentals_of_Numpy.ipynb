{
  "nbformat": 4,
  "nbformat_minor": 0,
  "metadata": {
    "colab": {
      "provenance": [],
      "collapsed_sections": [],
      "include_colab_link": true
    },
    "kernelspec": {
      "name": "python3",
      "display_name": "Python 3"
    },
    "language_info": {
      "name": "python"
    }
  },
  "cells": [
    {
      "cell_type": "markdown",
      "metadata": {
        "id": "view-in-github",
        "colab_type": "text"
      },
      "source": [
        "<a href=\"https://colab.research.google.com/github/Lotfullah21/PyLibraries/blob/main/F22_Recitation0b_Fundamentals_of_Numpy.ipynb\" target=\"_parent\"><img src=\"https://colab.research.google.com/assets/colab-badge.svg\" alt=\"Open In Colab\"/></a>"
      ]
    },
    {
      "cell_type": "markdown",
      "metadata": {
        "id": "loZ63Om16QA8"
      },
      "source": [
        "# Recitation0b-NumPy\n",
        "## Contents\n",
        "1. Installation\n",
        "2. Initialization\n",
        "3. Accessing and modifying data\n",
        "4. Pivoting data\n",
        "5. Combining data\n",
        "6. Math operations"
      ]
    },
    {
      "cell_type": "markdown",
      "source": [
        "NumPy is the fundamental package for scientific computing in Python. It is a Python library that provides and an assortment of operations for fast operations on arrays - from mathematical, logical operations to basic linear algebra, random simulation and much more."
      ],
      "metadata": {
        "id": "sm-BB-P9DJay"
      }
    },
    {
      "cell_type": "markdown",
      "metadata": {
        "id": "4dDmfMwy670N"
      },
      "source": [
        "# 1. Installation\n",
        "Generally NumPy is pre-installed on CoLab/AWS. You should first check if NumPy is available and its version.\n",
        "\n",
        "To manually install Numpy, please follow the instructions below."
      ]
    },
    {
      "cell_type": "code",
      "metadata": {
        "id": "3heYhmvK7d-Z",
        "colab": {
          "base_uri": "https://localhost:8080/"
        },
        "outputId": "7c2ace9b-c1ef-4c0e-902f-ed3252c65e3b"
      },
      "source": [
        "# Check the installation of NumPy\n",
        "!pip show numpy\n",
        "\n",
        "# Install NumPy\n",
        "# !pip install numpy"
      ],
      "execution_count": 2,
      "outputs": [
        {
          "output_type": "stream",
          "name": "stdout",
          "text": [
            "Name: numpy\n",
            "Version: 1.21.6\n",
            "Summary: NumPy is the fundamental package for array computing with Python.\n",
            "Home-page: https://www.numpy.org\n",
            "Author: Travis E. Oliphant et al.\n",
            "Author-email: None\n",
            "License: BSD\n",
            "Location: /usr/local/lib/python3.7/dist-packages\n",
            "Requires: \n",
            "Required-by: yellowbrick, xgboost, xarray, xarray-einstats, wordcloud, torchvision, torchtext, tifffile, thinc, tensorflow, tensorflow-probability, tensorflow-hub, tensorflow-datasets, tensorboard, tables, statsmodels, spacy, sklearn-pandas, seaborn, scs, scipy, scikit-learn, scikit-image, resampy, qudida, qdldl, PyWavelets, python-louvain, pystan, pysndfile, pymc, pyerfa, pyemd, pycocotools, pyarrow, prophet, plotnine, patsy, pandas, osqp, opt-einsum, opencv-python, opencv-python-headless, opencv-contrib-python, numexpr, numba, nibabel, netCDF4, moviepy, mlxtend, mizani, missingno, matplotlib, matplotlib-venn, lightgbm, librosa, Keras-Preprocessing, kapre, jpeg4py, jaxlib, jax, imgaug, imbalanced-learn, imageio, hyperopt, httpstan, holoviews, h5py, gym, gensim, folium, fix-yahoo-finance, fastdtw, fa2, ecos, datascience, daft, cvxpy, cufflinks, cmdstanpy, cftime, bokeh, blis, autograd, atari-py, astropy, arviz, altair, albumentations, aesara, aeppl\n"
          ]
        }
      ]
    },
    {
      "cell_type": "code",
      "metadata": {
        "id": "wTW-VKUc7wDn"
      },
      "source": [
        "# Import the NumPy \n",
        "import numpy as np"
      ],
      "execution_count": 3,
      "outputs": []
    },
    {
      "cell_type": "markdown",
      "metadata": {
        "id": "pe99Qb1M8LJ6"
      },
      "source": [
        "# 2. Initialization\n"
      ]
    },
    {
      "cell_type": "markdown",
      "metadata": {
        "id": "f0Hznd64893f"
      },
      "source": [
        "Initialize new NumPy arrays"
      ]
    },
    {
      "cell_type": "markdown",
      "metadata": {
        "id": "mRG9AhXkXXAJ"
      },
      "source": [
        "## a. Create an empty array/ zeros array/ ones array"
      ]
    },
    {
      "cell_type": "code",
      "metadata": {
        "id": "hxa3gpMk8K0E",
        "colab": {
          "base_uri": "https://localhost:8080/"
        },
        "outputId": "6a35666a-5b4c-4282-c7b0-7302e80ca44a"
      },
      "source": [
        "# initialize an empty array with size 2 x 2\n",
        "empty_arr = np.empty((2, 2))\n",
        "print(\"An empty array is \\n\", empty_arr, \" with dimensions \", empty_arr.shape, \"\\n\")"
      ],
      "execution_count": 4,
      "outputs": [
        {
          "output_type": "stream",
          "name": "stdout",
          "text": [
            "An empty array is \n",
            " [[5.e-324 5.e-324]\n",
            " [5.e-324 0.e+000]]  with dimensions  (2, 2) \n",
            "\n"
          ]
        }
      ]
    },
    {
      "cell_type": "code",
      "source": [
        "empty_array = np.empty((2,2))\n",
        "print(empty_array)"
      ],
      "metadata": {
        "colab": {
          "base_uri": "https://localhost:8080/"
        },
        "id": "Qy4H_hA5KkUA",
        "outputId": "a888628a-644b-43cf-a253-3bd1c85d7be1"
      },
      "execution_count": 5,
      "outputs": [
        {
          "output_type": "stream",
          "name": "stdout",
          "text": [
            "[[5.e-324 5.e-324]\n",
            " [5.e-324 0.e+000]]\n"
          ]
        }
      ]
    },
    {
      "cell_type": "code",
      "source": [
        "zero_array = np.zeros((4,4,2))\n",
        "print(zero_array)"
      ],
      "metadata": {
        "colab": {
          "base_uri": "https://localhost:8080/"
        },
        "id": "_FZsqm00K047",
        "outputId": "ad17283a-4ae5-4021-9bcd-600ae58ba662"
      },
      "execution_count": 6,
      "outputs": [
        {
          "output_type": "stream",
          "name": "stdout",
          "text": [
            "[[[0. 0.]\n",
            "  [0. 0.]\n",
            "  [0. 0.]\n",
            "  [0. 0.]]\n",
            "\n",
            " [[0. 0.]\n",
            "  [0. 0.]\n",
            "  [0. 0.]\n",
            "  [0. 0.]]\n",
            "\n",
            " [[0. 0.]\n",
            "  [0. 0.]\n",
            "  [0. 0.]\n",
            "  [0. 0.]]\n",
            "\n",
            " [[0. 0.]\n",
            "  [0. 0.]\n",
            "  [0. 0.]\n",
            "  [0. 0.]]]\n"
          ]
        }
      ]
    },
    {
      "cell_type": "code",
      "source": [],
      "metadata": {
        "id": "i8-o5RXcK1CA"
      },
      "execution_count": 6,
      "outputs": []
    },
    {
      "cell_type": "code",
      "source": [
        "# initialize an all zero array with size 2 x 3\n",
        "zeros_arr = np.zeros((2, 3))\n",
        "print(\"A zeros array is \\n\", zeros_arr, \" with dimensions \", zeros_arr.shape, \"\\n\")"
      ],
      "metadata": {
        "colab": {
          "base_uri": "https://localhost:8080/"
        },
        "id": "Cf7p-h_ynrN8",
        "outputId": "8e583d2e-530f-4728-e407-cfdb1385dd65"
      },
      "execution_count": 7,
      "outputs": [
        {
          "output_type": "stream",
          "name": "stdout",
          "text": [
            "A zeros array is \n",
            " [[0. 0. 0.]\n",
            " [0. 0. 0.]]  with dimensions  (2, 3) \n",
            "\n"
          ]
        }
      ]
    },
    {
      "cell_type": "code",
      "source": [
        "# initialize an all one array with size 4 x 2\n",
        "ones_arr = np.ones((4, 2))\n",
        "print(\"A ones array is \\n\", ones_arr, \" with dimensions \", ones_arr.shape[0], \"\\n\")"
      ],
      "metadata": {
        "colab": {
          "base_uri": "https://localhost:8080/"
        },
        "id": "WPGWcLeAnru9",
        "outputId": "90e2e9f4-7d4d-499c-ed60-a7bbdae5135d"
      },
      "execution_count": 8,
      "outputs": [
        {
          "output_type": "stream",
          "name": "stdout",
          "text": [
            "A ones array is \n",
            " [[1. 1.]\n",
            " [1. 1.]\n",
            " [1. 1.]\n",
            " [1. 1.]]  with dimensions  4 \n",
            "\n"
          ]
        }
      ]
    },
    {
      "cell_type": "code",
      "source": [
        "ones_array = np.ones((4,3))\n",
        "print(\"ones_array\",ones_array,\"\\n Number of rows\",ones_array.shape[0],\"\\n dimension of our array\",ones_array.shape)"
      ],
      "metadata": {
        "colab": {
          "base_uri": "https://localhost:8080/"
        },
        "id": "PgIkcvJkLQth",
        "outputId": "9a82d3a8-9578-445f-bb62-b032a853fa34"
      },
      "execution_count": 9,
      "outputs": [
        {
          "output_type": "stream",
          "name": "stdout",
          "text": [
            "ones_array [[1. 1. 1.]\n",
            " [1. 1. 1.]\n",
            " [1. 1. 1.]\n",
            " [1. 1. 1.]] \n",
            " Number of rows 4 \n",
            " dimension of our array (4, 3)\n"
          ]
        }
      ]
    },
    {
      "cell_type": "code",
      "source": [
        "# return a new array of given shape and type, filled with fill_value\n",
        "tens_arr = np.full((2,2), 10)\n",
        "print(\"A filled array is \\n\", tens_arr, \" with dimensions \", tens_arr.shape, \"\\n\")"
      ],
      "metadata": {
        "colab": {
          "base_uri": "https://localhost:8080/"
        },
        "id": "tLYmsF_lnsCM",
        "outputId": "4524cdbd-e880-42b4-98e8-aa0e125c4bab"
      },
      "execution_count": 10,
      "outputs": [
        {
          "output_type": "stream",
          "name": "stdout",
          "text": [
            "A filled array is \n",
            " [[10 10]\n",
            " [10 10]]  with dimensions  (2, 2) \n",
            "\n"
          ]
        }
      ]
    },
    {
      "cell_type": "code",
      "source": [
        "twentys_array = np.full((4,4),10)\n",
        "print(\"array filled with 20's\\n= \",twentys_array)"
      ],
      "metadata": {
        "colab": {
          "base_uri": "https://localhost:8080/"
        },
        "id": "n3TgC7p1L1WK",
        "outputId": "d1d2194e-c54c-4570-bec5-3009a289e3f9"
      },
      "execution_count": 11,
      "outputs": [
        {
          "output_type": "stream",
          "name": "stdout",
          "text": [
            "array filled with 20's\n",
            "=  [[10 10 10 10]\n",
            " [10 10 10 10]\n",
            " [10 10 10 10]\n",
            " [10 10 10 10]]\n"
          ]
        }
      ]
    },
    {
      "cell_type": "code",
      "source": [
        "# return an array of zeros with the same shape and type as a given array\n",
        "zeros_like_arr = np.zeros_like(ones_arr)\n",
        "print(\"A zero like array is \\n\", zeros_like_arr, \" with dimensions \", zeros_like_arr.shape, \"\\n\")"
      ],
      "metadata": {
        "colab": {
          "base_uri": "https://localhost:8080/"
        },
        "id": "PH1D_PzynshO",
        "outputId": "320bde40-7976-4c7f-eeb7-a57d4be58f89"
      },
      "execution_count": 12,
      "outputs": [
        {
          "output_type": "stream",
          "name": "stdout",
          "text": [
            "A zero like array is \n",
            " [[0. 0.]\n",
            " [0. 0.]\n",
            " [0. 0.]\n",
            " [0. 0.]]  with dimensions  (4, 2) \n",
            "\n"
          ]
        }
      ]
    },
    {
      "cell_type": "code",
      "source": [
        "zeros_like_array = np.zeros_like(twentys_array)\n",
        "print(\"same shape and type as twentys array\\n=\",zeros_like_array)"
      ],
      "metadata": {
        "colab": {
          "base_uri": "https://localhost:8080/"
        },
        "id": "rgt2S9fGMQ8L",
        "outputId": "9513d592-75d6-4298-edc8-1ecced7a2061"
      },
      "execution_count": 13,
      "outputs": [
        {
          "output_type": "stream",
          "name": "stdout",
          "text": [
            "same shape and type as twentys array\n",
            "= [[0 0 0 0]\n",
            " [0 0 0 0]\n",
            " [0 0 0 0]\n",
            " [0 0 0 0]]\n"
          ]
        }
      ]
    },
    {
      "cell_type": "code",
      "source": [
        "# return an array of ones with the same shape and type as a given array\n",
        "ones_like_arr = np.ones_like(twentys_array)\n",
        "print(\"A ones like array is \\n\", ones_like_arr, \" with dimensions \", ones_like_arr.shape, \"\\n\")"
      ],
      "metadata": {
        "colab": {
          "base_uri": "https://localhost:8080/"
        },
        "id": "4gPnqtr5ns3p",
        "outputId": "14486a37-8a60-4930-bd76-3c505806ae8a"
      },
      "execution_count": 14,
      "outputs": [
        {
          "output_type": "stream",
          "name": "stdout",
          "text": [
            "A ones like array is \n",
            " [[1 1 1 1]\n",
            " [1 1 1 1]\n",
            " [1 1 1 1]\n",
            " [1 1 1 1]]  with dimensions  (4, 4) \n",
            "\n"
          ]
        }
      ]
    },
    {
      "cell_type": "code",
      "source": [
        "# Return a full array with the same shape and type as a given array.\n",
        "full_like_arr = np.full_like(zeros_arr, 0.1, dtype=np.double)\n",
        "print(\"A full like array is \\n\", full_like_arr, \" with dimensions \", full_like_arr.shape, \"\\n\")"
      ],
      "metadata": {
        "colab": {
          "base_uri": "https://localhost:8080/"
        },
        "id": "D9bVQzhmntMu",
        "outputId": "c0c3d661-ae99-4458-e955-2aab5ae0d438"
      },
      "execution_count": 15,
      "outputs": [
        {
          "output_type": "stream",
          "name": "stdout",
          "text": [
            "A full like array is \n",
            " [[0.1 0.1 0.1]\n",
            " [0.1 0.1 0.1]]  with dimensions  (2, 3) \n",
            "\n"
          ]
        }
      ]
    },
    {
      "cell_type": "markdown",
      "metadata": {
        "id": "lfeuBVaoXhTa"
      },
      "source": [
        "## b. Create an array from existing data"
      ]
    },
    {
      "cell_type": "code",
      "metadata": {
        "id": "SmfEOOQV9KhT",
        "colab": {
          "base_uri": "https://localhost:8080/"
        },
        "outputId": "d5a01aaf-c81a-45c5-d626-e6f1f66c879a"
      },
      "source": [
        "# initialize an array with the given list\n",
        "new_list = [1, 2, 3, 4]\n",
        "arr_from_list = np.array(new_list)\n",
        "print(\"An array from given list is \\n\", arr_from_list, \" with dimensions \", arr_from_list.shape, \"\\n\")"
      ],
      "execution_count": 25,
      "outputs": [
        {
          "output_type": "stream",
          "name": "stdout",
          "text": [
            "An array from given list is \n",
            " [1 2 3 4]  with dimensions  (4,) \n",
            "\n"
          ]
        }
      ]
    },
    {
      "cell_type": "code",
      "source": [
        "\n"
      ],
      "metadata": {
        "id": "b521afH5dLI6"
      },
      "execution_count": 24,
      "outputs": []
    },
    {
      "cell_type": "code",
      "source": [
        "# # initialize an array by loading data from a txt file\n",
        "# # txt_arr = np.loadtxt(path_to_txt_file)\n",
        "\n",
        "# # initialize an array by loading data from a npy file\n",
        "# loaded_arr = np.load(path_to_npy_file)"
      ],
      "metadata": {
        "id": "0JaGLx-y4hZO",
        "colab": {
          "base_uri": "https://localhost:8080/",
          "height": 235
        },
        "outputId": "d3f1eec8-3bc3-414a-a748-01876ba4eb08"
      },
      "execution_count": 26,
      "outputs": [
        {
          "output_type": "error",
          "ename": "NameError",
          "evalue": "ignored",
          "traceback": [
            "\u001b[0;31m---------------------------------------------------------------------------\u001b[0m",
            "\u001b[0;31mNameError\u001b[0m                                 Traceback (most recent call last)",
            "\u001b[0;32m<ipython-input-26-0bf9a9bcce99>\u001b[0m in \u001b[0;36m<module>\u001b[0;34m\u001b[0m\n\u001b[1;32m      1\u001b[0m \u001b[0;31m# initialize an array by loading data from a txt file\u001b[0m\u001b[0;34m\u001b[0m\u001b[0;34m\u001b[0m\u001b[0;34m\u001b[0m\u001b[0m\n\u001b[0;32m----> 2\u001b[0;31m \u001b[0mtxt_arr\u001b[0m \u001b[0;34m=\u001b[0m \u001b[0mnp\u001b[0m\u001b[0;34m.\u001b[0m\u001b[0mloadtxt\u001b[0m\u001b[0;34m(\u001b[0m\u001b[0mpath_to_txt_file\u001b[0m\u001b[0;34m)\u001b[0m\u001b[0;34m\u001b[0m\u001b[0;34m\u001b[0m\u001b[0m\n\u001b[0m\u001b[1;32m      3\u001b[0m \u001b[0;34m\u001b[0m\u001b[0m\n\u001b[1;32m      4\u001b[0m \u001b[0;31m# initialize an array by loading data from a npy file\u001b[0m\u001b[0;34m\u001b[0m\u001b[0;34m\u001b[0m\u001b[0;34m\u001b[0m\u001b[0m\n\u001b[1;32m      5\u001b[0m \u001b[0mloaded_arr\u001b[0m \u001b[0;34m=\u001b[0m \u001b[0mnp\u001b[0m\u001b[0;34m.\u001b[0m\u001b[0mload\u001b[0m\u001b[0;34m(\u001b[0m\u001b[0mpath_to_npy_file\u001b[0m\u001b[0;34m)\u001b[0m\u001b[0;34m\u001b[0m\u001b[0;34m\u001b[0m\u001b[0m\n",
            "\u001b[0;31mNameError\u001b[0m: name 'path_to_txt_file' is not defined"
          ]
        }
      ]
    },
    {
      "cell_type": "code",
      "source": [
        "# loaded_arr = np.load(path_to_npy_file)"
      ],
      "metadata": {
        "id": "UTSVa0EFd1xd"
      },
      "execution_count": 28,
      "outputs": []
    },
    {
      "cell_type": "markdown",
      "metadata": {
        "id": "F4sTWi44Ybo8"
      },
      "source": [
        "## c. Numerical ranges"
      ]
    },
    {
      "cell_type": "code",
      "metadata": {
        "id": "0nm-SFyi9c5V",
        "colab": {
          "base_uri": "https://localhost:8080/"
        },
        "outputId": "ec86980a-e923-4d45-ad5c-d9d726f02c45"
      },
      "source": [
        "# return evenly spaced values within a given interval\n",
        "range_arr = np.arange(10)\n",
        "print(\"An array given range is \\n\", range_arr, \" with dimensions \", range_arr.shape, \"\\n\")\n",
        "\n",
        "# return evenly spaced numbers over a specified interval\n",
        "linspace_arr = np.linspace(2.0, 3.0, num=5, endpoint=False)\n",
        "print(\"An evenly spaced array given range is \\n\", linspace_arr, \" with dimensions \", linspace_arr.shape, \"\\n\")"
      ],
      "execution_count": 31,
      "outputs": [
        {
          "output_type": "stream",
          "name": "stdout",
          "text": [
            "An array given range is \n",
            " [0 1 2 3 4 5 6 7 8 9]  with dimensions  (10,) \n",
            "\n",
            "An evenly spaced array given range is \n",
            " [2.  2.2 2.4 2.6 2.8]  with dimensions  (5,) \n",
            "\n"
          ]
        }
      ]
    },
    {
      "cell_type": "code",
      "source": [
        "range_array = np.arange(8)\n",
        "print(range_array,\"the shape of the array is\",range_array.shape)\n",
        "linspace_array = np.linspace(2,4,9,endpoint = True)\n",
        "print(\"the evenly distributed array\",linspace_array, \"the shape is\",linspace_array.shape)"
      ],
      "metadata": {
        "colab": {
          "base_uri": "https://localhost:8080/"
        },
        "id": "InCKVpFrd6wO",
        "outputId": "2ca3de97-e966-45b5-d0cf-66d4af41d6c1"
      },
      "execution_count": 37,
      "outputs": [
        {
          "output_type": "stream",
          "name": "stdout",
          "text": [
            "[0 1 2 3 4 5 6 7] the shape of the array is (8,)\n",
            "the evenly distributed array [2.   2.25 2.5  2.75 3.   3.25 3.5  3.75 4.  ] the shape is (9,)\n"
          ]
        }
      ]
    },
    {
      "cell_type": "markdown",
      "metadata": {
        "id": "PRZ68lJcYxg6"
      },
      "source": [
        "## d. Create an array with random values"
      ]
    },
    {
      "cell_type": "code",
      "source": [
        "a = np.random.randint(0, 10, size = (1,4))\n",
        "print(\"Random integer array\", a, \"of shape \", a.shape)"
      ],
      "metadata": {
        "id": "S4D1xztDHfFQ"
      },
      "execution_count": null,
      "outputs": []
    },
    {
      "cell_type": "code",
      "source": [
        "ar = np.random.randint(0,20,size=(4,4))\n",
        "ar"
      ],
      "metadata": {
        "colab": {
          "base_uri": "https://localhost:8080/"
        },
        "id": "Zw7UikMNe_hv",
        "outputId": "ce034dbd-2cd1-4439-a827-8a0de2faafc5"
      },
      "execution_count": 39,
      "outputs": [
        {
          "output_type": "execute_result",
          "data": {
            "text/plain": [
              "array([[16, 12,  1,  0],\n",
              "       [ 7, 12,  2,  3],\n",
              "       [17,  9,  3,  5],\n",
              "       [ 9,  5, 12,  2]])"
            ]
          },
          "metadata": {},
          "execution_count": 39
        }
      ]
    },
    {
      "cell_type": "code",
      "source": [
        "np.random.seed(0)\n",
        "a = np.random.randint(0, 10, size = (1,4))\n",
        "print(\"Random integer array with seed\", a, \"of shape \", a.shape)"
      ],
      "metadata": {
        "colab": {
          "base_uri": "https://localhost:8080/"
        },
        "id": "_nFSk3suHsi4",
        "outputId": "de100be5-9eae-4a13-fd15-46f09a527479"
      },
      "execution_count": 44,
      "outputs": [
        {
          "output_type": "stream",
          "name": "stdout",
          "text": [
            "Random integer array with seed [[5 0 3 3]] of shape  (1, 4)\n"
          ]
        }
      ]
    },
    {
      "cell_type": "code",
      "source": [
        "# array of given shape and uniform distribution over [0,1)\n",
        "uniform_random_array = np.random.rand(4,3)\n",
        "uniform_random_array"
      ],
      "metadata": {
        "colab": {
          "base_uri": "https://localhost:8080/"
        },
        "id": "cXNQBunifhgp",
        "outputId": "38c72533-b787-4a60-e23a-89ed96c09985"
      },
      "execution_count": 46,
      "outputs": [
        {
          "output_type": "execute_result",
          "data": {
            "text/plain": [
              "array([[0.64817187, 0.36824154, 0.95715516],\n",
              "       [0.14035078, 0.87008726, 0.47360805],\n",
              "       [0.80091075, 0.52047748, 0.67887953],\n",
              "       [0.72063265, 0.58201979, 0.53737323]])"
            ]
          },
          "metadata": {},
          "execution_count": 46
        }
      ]
    },
    {
      "cell_type": "code",
      "metadata": {
        "id": "HWqRwu4e9vqA",
        "colab": {
          "base_uri": "https://localhost:8080/"
        },
        "outputId": "ad737ddc-4a71-4e59-dd86-fb7ac6ee44d2"
      },
      "source": [
        "# create an array of the given shape and populate it with random samples from a uniform distribution over [0, 1)\n",
        "uniform_rand_arr = np.random.rand(3,2)\n",
        "print(\"A random array from a uniform distribution is \\n\", uniform_rand_arr, \" with dimensions \", uniform_rand_arr.shape, \"\\n\")\n",
        "\n",
        "# return random integers from low (inclusive) to high (exclusive).\n",
        "range_rand_int_arr = np.random.randint(5, size=(2, 4))\n",
        "print(\"A random integer array from a range is \\n\", range_rand_int_arr, \" with dimensions \", range_rand_int_arr.shape, \"\\n\")\n",
        "\n",
        "# For random samples from N(\\mu, \\sigma^2), use:\n",
        "# sigma * np.random.randn(...) + mu\n",
        "mu = 3\n",
        "sigma =0.5\n",
        "sample_normal_arr = mu + sigma * np.random.randn(2, 4)\n",
        "print(\"A random array from a gaussian distribution is \\n\", sample_normal_arr)\n",
        "print(\"with mu: \", mu)\n",
        "print(\"with sigma: \", sigma)\n",
        "print(\"with dimensions \", sample_normal_arr.shape)"
      ],
      "execution_count": 48,
      "outputs": [
        {
          "output_type": "stream",
          "name": "stdout",
          "text": [
            "A random array from a uniform distribution is \n",
            " [[0.32504723 0.03842543]\n",
            " [0.63427406 0.95894927]\n",
            " [0.65279032 0.63505887]]  with dimensions  (3, 2) \n",
            "\n",
            "A random integer array from a range is \n",
            " [[4 4 4 0]\n",
            " [4 3 2 0]]  with dimensions  (2, 4) \n",
            "\n",
            "A random array from a gaussian distribution is \n",
            " [[2.84631759 2.81673803 3.55985598 2.77103879]\n",
            " [3.2126967  2.98601441 3.73799492 3.32339005]]\n",
            "with mu:  3\n",
            "with sigma:  0.5\n",
            "with dimensions  (2, 4)\n"
          ]
        }
      ]
    },
    {
      "cell_type": "code",
      "source": [
        "d = np.random.randn(2, 4)\n",
        "d"
      ],
      "metadata": {
        "colab": {
          "base_uri": "https://localhost:8080/"
        },
        "id": "cNd8dBM4gbJ8",
        "outputId": "1271a432-4b39-4c43-ca34-a31642a16da4"
      },
      "execution_count": 49,
      "outputs": [
        {
          "output_type": "execute_result",
          "data": {
            "text/plain": [
              "array([[-0.36433431, -0.67877739, -0.35362786, -0.74074747],\n",
              "       [-0.67502183, -0.13278426,  0.61980106,  1.79116846]])"
            ]
          },
          "metadata": {},
          "execution_count": 49
        }
      ]
    },
    {
      "cell_type": "markdown",
      "metadata": {
        "id": "Tsyba3mo-2xd"
      },
      "source": [
        "# 3. Accessing and modifying data"
      ]
    },
    {
      "cell_type": "markdown",
      "metadata": {
        "id": "NN2IKIjC5kU9"
      },
      "source": [
        "## a. Indexing: Accessing values from Numpy Arrays"
      ]
    },
    {
      "cell_type": "code",
      "metadata": {
        "id": "oBZkqksi5icN",
        "colab": {
          "base_uri": "https://localhost:8080/"
        },
        "outputId": "b588d29a-a502-4b72-9d40-e28a9e7f74ae"
      },
      "source": [
        "n = np.random.rand(4, 5, 6) # see this as 4 batches, each containing 5 rows and 6 columns\n",
        "n"
      ],
      "execution_count": 68,
      "outputs": [
        {
          "output_type": "execute_result",
          "data": {
            "text/plain": [
              "array([[[0.21876935, 0.75249617, 0.10687958, 0.74460324, 0.46978529,\n",
              "         0.59825567],\n",
              "        [0.14762019, 0.18403482, 0.64507213, 0.04862801, 0.24861251,\n",
              "         0.54240852],\n",
              "        [0.22677334, 0.38141153, 0.92223279, 0.92535687, 0.56674992,\n",
              "         0.53347088],\n",
              "        [0.01486002, 0.97789926, 0.5730289 , 0.791757  , 0.56155736,\n",
              "         0.87733524],\n",
              "        [0.58419583, 0.70884983, 0.14853345, 0.42845074, 0.69389007,\n",
              "         0.10461974]],\n",
              "\n",
              "       [[0.43960524, 0.16620215, 0.50697863, 0.81903586, 0.09010673,\n",
              "         0.80006875],\n",
              "        [0.56512635, 0.58934771, 0.19810066, 0.43611826, 0.29590376,\n",
              "         0.03755768],\n",
              "        [0.03068484, 0.453105  , 0.74486408, 0.55729541, 0.3851136 ,\n",
              "         0.1680728 ],\n",
              "        [0.83826132, 0.5990518 , 0.78271482, 0.84850918, 0.60316298,\n",
              "         0.78106062],\n",
              "        [0.61573688, 0.02116519, 0.75046461, 0.17604213, 0.45851421,\n",
              "         0.51312271]],\n",
              "\n",
              "       [[0.48402089, 0.84438579, 0.17481389, 0.01463488, 0.84876407,\n",
              "         0.74267458],\n",
              "        [0.45669754, 0.41689841, 0.11672951, 0.33867913, 0.09465904,\n",
              "         0.71583087],\n",
              "        [0.0770854 , 0.20595026, 0.57377623, 0.29383156, 0.65572674,\n",
              "         0.80356835],\n",
              "        [0.3512135 , 0.09344038, 0.81331608, 0.78486672, 0.39341911,\n",
              "         0.86447919],\n",
              "        [0.38403077, 0.25730289, 0.82940192, 0.7363827 , 0.50760091,\n",
              "         0.64432662]],\n",
              "\n",
              "       [[0.21318657, 0.89570895, 0.96594625, 0.31700156, 0.86555262,\n",
              "         0.31028371],\n",
              "        [0.02526395, 0.04919516, 0.18462684, 0.06903334, 0.25747542,\n",
              "         0.91358173],\n",
              "        [0.45784951, 0.13021179, 0.80989167, 0.40346984, 0.02443264,\n",
              "         0.85683104],\n",
              "        [0.27429482, 0.70910596, 0.35577234, 0.79430906, 0.84461886,\n",
              "         0.53814752],\n",
              "        [0.55908652, 0.12250998, 0.37764192, 0.42874733, 0.51120865,\n",
              "         0.89176257]]])"
            ]
          },
          "metadata": {},
          "execution_count": 68
        }
      ]
    },
    {
      "cell_type": "code",
      "source": [
        "ar = np.random.rand(2, 3, 4)\n",
        "ar"
      ],
      "metadata": {
        "colab": {
          "base_uri": "https://localhost:8080/"
        },
        "id": "MlXf_K3sglqG",
        "outputId": "e5f94379-467e-4f88-e084-da9bf8208865"
      },
      "execution_count": 53,
      "outputs": [
        {
          "output_type": "execute_result",
          "data": {
            "text/plain": [
              "array([[[0.34851937, 0.81496648, 0.98549143, 0.9689717 ],\n",
              "        [0.90494835, 0.29655627, 0.99201124, 0.24942004],\n",
              "        [0.10590615, 0.95095261, 0.23342026, 0.68976827]],\n",
              "\n",
              "       [[0.05835636, 0.7307091 , 0.88172021, 0.2724369 ],\n",
              "        [0.3790569 , 0.37429618, 0.74878826, 0.23780724],\n",
              "        [0.1718531 , 0.44929165, 0.30446841, 0.83918912]]])"
            ]
          },
          "metadata": {},
          "execution_count": 53
        }
      ]
    },
    {
      "cell_type": "code",
      "source": [
        "ar[0,0,0] + ar[1,0,-1]"
      ],
      "metadata": {
        "colab": {
          "base_uri": "https://localhost:8080/"
        },
        "id": "wSAM1GRjg2U_",
        "outputId": "3f27b78e-c35a-4375-bf10-67b2cb720f55"
      },
      "execution_count": 55,
      "outputs": [
        {
          "output_type": "execute_result",
          "data": {
            "text/plain": [
              "0.6209562649585257"
            ]
          },
          "metadata": {},
          "execution_count": 55
        }
      ]
    },
    {
      "cell_type": "code",
      "source": [
        "ar[1,0,-1]"
      ],
      "metadata": {
        "colab": {
          "base_uri": "https://localhost:8080/"
        },
        "id": "AX5w_ZolhFJU",
        "outputId": "640a44bd-6c91-447d-9fda-3920526364ba"
      },
      "execution_count": 56,
      "outputs": [
        {
          "output_type": "execute_result",
          "data": {
            "text/plain": [
              "0.2724368954659625"
            ]
          },
          "metadata": {},
          "execution_count": 56
        }
      ]
    },
    {
      "cell_type": "code",
      "metadata": {
        "id": "1KyiwoIHFltJ",
        "colab": {
          "base_uri": "https://localhost:8080/"
        },
        "outputId": "39429bb1-de80-4b18-d62e-5043a12e338e"
      },
      "source": [
        "n[1, 2, 3] # returns the element located in the forth column of third row of the second batch."
      ],
      "execution_count": 58,
      "outputs": [
        {
          "output_type": "execute_result",
          "data": {
            "text/plain": [
              "0.2326269928297655"
            ]
          },
          "metadata": {},
          "execution_count": 58
        }
      ]
    },
    {
      "cell_type": "code",
      "source": [
        "a = np.random.seed(10)\n"
      ],
      "metadata": {
        "id": "ZbONhqlPc_Yd"
      },
      "execution_count": 61,
      "outputs": []
    },
    {
      "cell_type": "markdown",
      "metadata": {
        "id": "5_3UUm7sCJqK"
      },
      "source": [
        "## b. Slicing: Accessing subsections of Numpy Arrays based on Indices"
      ]
    },
    {
      "cell_type": "code",
      "metadata": {
        "id": "pQh3PPGpCZ3g",
        "colab": {
          "base_uri": "https://localhost:8080/"
        },
        "outputId": "77f5fbb9-2308-4167-9398-5d2fa5dbb16e"
      },
      "source": [
        "# slice along a batch\n",
        "print(n[0, :, :]) # same as: n[0]"
      ],
      "execution_count": 62,
      "outputs": [
        {
          "output_type": "stream",
          "name": "stdout",
          "text": [
            "[[0.990345   0.4090541  0.16295443 0.63876176]\n",
            " [0.49030535 0.98940978 0.06530421 0.78323444]\n",
            " [0.2883985  0.24141862 0.66250457 0.24606318]]\n"
          ]
        }
      ]
    },
    {
      "cell_type": "code",
      "metadata": {
        "id": "Rr58Qx0MWt0C",
        "colab": {
          "base_uri": "https://localhost:8080/"
        },
        "outputId": "09d29618-b4bf-42bf-d6d9-b1377b9f6a73"
      },
      "source": [
        "print(n[0, 0:3, 0:4])"
      ],
      "execution_count": 63,
      "outputs": [
        {
          "output_type": "stream",
          "name": "stdout",
          "text": [
            "[[0.990345   0.4090541  0.16295443 0.63876176]\n",
            " [0.49030535 0.98940978 0.06530421 0.78323444]\n",
            " [0.2883985  0.24141862 0.66250457 0.24606318]]\n"
          ]
        }
      ]
    },
    {
      "cell_type": "code",
      "metadata": {
        "id": "_E-9XB0hSi9h",
        "colab": {
          "base_uri": "https://localhost:8080/"
        },
        "outputId": "2255ad43-6197-4903-95c1-fb95ad09a84b"
      },
      "source": [
        "# slice along multiple batches\n",
        "print(n[:, 3, 4]) # returns the elements in the 4th row and 5th column across all batches"
      ],
      "execution_count": 66,
      "outputs": [
        {
          "output_type": "stream",
          "name": "stdout",
          "text": [
            "[0.37334076 0.82110566 0.59783665 0.67346693]\n"
          ]
        }
      ]
    },
    {
      "cell_type": "markdown",
      "metadata": {
        "id": "z4kunElTPZOp"
      },
      "source": [
        "### Slicing at Interval"
      ]
    },
    {
      "cell_type": "code",
      "source": [
        "#syntax for slicing at interval is start:stop:step_size "
      ],
      "metadata": {
        "id": "EPiHiJnBjFPJ"
      },
      "execution_count": null,
      "outputs": []
    },
    {
      "cell_type": "code",
      "metadata": {
        "id": "cPnvdl1ZPLzJ",
        "colab": {
          "base_uri": "https://localhost:8080/"
        },
        "outputId": "4bdb5467-928f-4504-9e54-5bc01b593950"
      },
      "source": [
        "print(n[0::2]) # slices from index 0 to the end of the dimension at intervals of 2"
      ],
      "execution_count": 67,
      "outputs": [
        {
          "output_type": "stream",
          "name": "stdout",
          "text": [
            "[[[0.77132064 0.02075195 0.63364823 0.74880388 0.49850701 0.22479665]\n",
            "  [0.19806286 0.76053071 0.16911084 0.08833981 0.68535982 0.95339335]\n",
            "  [0.00394827 0.51219226 0.81262096 0.61252607 0.72175532 0.29187607]\n",
            "  [0.91777412 0.71457578 0.54254437 0.14217005 0.37334076 0.67413362]\n",
            "  [0.44183317 0.43401399 0.61776698 0.51313824 0.65039718 0.60103895]]\n",
            "\n",
            " [[0.59737165 0.90283176 0.53455795 0.59020136 0.03928177 0.35718176]\n",
            "  [0.07961309 0.30545992 0.33071931 0.7738303  0.03995921 0.42949218]\n",
            "  [0.31492687 0.63649114 0.34634715 0.04309736 0.87991517 0.76324059]\n",
            "  [0.87809664 0.41750914 0.60557756 0.51346663 0.59783665 0.26221566]\n",
            "  [0.30087131 0.02539978 0.30306256 0.24207588 0.55757819 0.56550702]]]\n"
          ]
        }
      ]
    },
    {
      "cell_type": "code",
      "metadata": {
        "id": "dSyHxIdJP_Vj",
        "colab": {
          "base_uri": "https://localhost:8080/"
        },
        "outputId": "7af6e149-d61d-4cf8-a71a-2285c6dd720e"
      },
      "source": [
        "print(n[0::2, 1:4, 1::2]) # rows (2-5) and columns at an interval of 2, starting from 1"
      ],
      "execution_count": 69,
      "outputs": [
        {
          "output_type": "stream",
          "name": "stdout",
          "text": [
            "[[[0.18403482 0.04862801 0.54240852]\n",
            "  [0.38141153 0.92535687 0.53347088]\n",
            "  [0.97789926 0.791757   0.87733524]]\n",
            "\n",
            " [[0.41689841 0.33867913 0.71583087]\n",
            "  [0.20595026 0.29383156 0.80356835]\n",
            "  [0.09344038 0.78486672 0.86447919]]]\n"
          ]
        }
      ]
    },
    {
      "cell_type": "markdown",
      "source": [],
      "metadata": {
        "id": "z-C696VYjI68"
      }
    },
    {
      "cell_type": "markdown",
      "metadata": {
        "id": "HfrNmXUPCac7"
      },
      "source": [
        "## c. Modifying Numpy Arrays"
      ]
    },
    {
      "cell_type": "code",
      "metadata": {
        "id": "vDw0M4qLCmmO"
      },
      "source": [
        "n_copy = np.copy(n)"
      ],
      "execution_count": 70,
      "outputs": []
    },
    {
      "cell_type": "code",
      "source": [
        "# check if values in the two arrays are the same before copy, it is a boolean operation.\n",
        "print(n_copy[2, 4, 1] == n[2, 4, 1])\n",
        "\n",
        "n_copy[2, 4, 1] = 0.005\n",
        "\n",
        "# check if values in the two arrays are the same after copy\n",
        "print(n_copy[2, 4, 1] == n[2, 4, 1])"
      ],
      "metadata": {
        "colab": {
          "base_uri": "https://localhost:8080/"
        },
        "id": "esYe-wUzjipz",
        "outputId": "932bb0f5-32a0-4772-c089-72429338ef30"
      },
      "execution_count": 76,
      "outputs": [
        {
          "output_type": "stream",
          "name": "stdout",
          "text": [
            "False\n",
            "False\n"
          ]
        }
      ]
    },
    {
      "cell_type": "markdown",
      "metadata": {
        "id": "bhPKGV0_ChxG"
      },
      "source": [
        "### Modify single values"
      ]
    },
    {
      "cell_type": "code",
      "metadata": {
        "id": "0WoT4FviDj7V",
        "colab": {
          "base_uri": "https://localhost:8080/"
        },
        "outputId": "9d65e8e1-5ab2-469f-bede-4bc92518b6b2"
      },
      "source": [
        "# check if values in the two arrays are the same before copy, it is a boolean operation.\n",
        "print(n_copy[2, 4, 1] == n[2, 4, 1])\n",
        "\n",
        "n_copy[2, 4, 1] = 0.005\n",
        "\n",
        "# check if values in the two arrays are the same after copy\n",
        "print(n_copy[2, 4, 1] == n[2, 4, 1])"
      ],
      "execution_count": 77,
      "outputs": [
        {
          "output_type": "stream",
          "name": "stdout",
          "text": [
            "False\n",
            "False\n"
          ]
        }
      ]
    },
    {
      "cell_type": "code",
      "metadata": {
        "colab": {
          "base_uri": "https://localhost:8080/"
        },
        "id": "tMdjXJpzbJvY",
        "outputId": "08572666-97f0-4030-d87b-110608af44e0"
      },
      "source": [
        "print(n_copy[2, 4, 1])"
      ],
      "execution_count": 78,
      "outputs": [
        {
          "output_type": "stream",
          "name": "stdout",
          "text": [
            "0.005\n"
          ]
        }
      ]
    },
    {
      "cell_type": "markdown",
      "metadata": {
        "id": "gg8WVOaxCoIH"
      },
      "source": [
        "### Modifying multiple values"
      ]
    },
    {
      "cell_type": "code",
      "metadata": {
        "id": "VgHHOWIzFYI2",
        "colab": {
          "base_uri": "https://localhost:8080/"
        },
        "outputId": "0abd9b34-c31a-4ae9-e829-b88a8ae5bd09"
      },
      "source": [
        "# check if values in the two arrays are the same before copy\n",
        "print(f\"Are the arrays the same before modification: {n_copy[2, 3] == n[2, 3]}\")\n",
        "print(f\"Before modifying values: {n_copy[2, 3]}\")\n",
        "\n",
        "n_copy[2, 3] = 0.5\n",
        "\n",
        "print(f\"After modifying values: {n_copy[2, 3]}\")\n",
        "\n",
        "# check if values in the two arrays are the same after copy\n",
        "print(f\"Are the arrays the same after modification: {n_copy[2, 3] == n[2, 3]}\")"
      ],
      "execution_count": 80,
      "outputs": [
        {
          "output_type": "stream",
          "name": "stdout",
          "text": [
            "Are the arrays the same before modification: [False False False False False False]\n",
            "Before modifying values: [0.5 0.5 0.5 0.5 0.5 0.5]\n",
            "After modifying values: [0.5 0.5 0.5 0.5 0.5 0.5]\n",
            "Are the arrays the same after modification: [False False False False False False]\n"
          ]
        }
      ]
    },
    {
      "cell_type": "markdown",
      "metadata": {
        "id": "CTJmCIlu-6jO"
      },
      "source": [
        "# 4.Pivoting data"
      ]
    },
    {
      "cell_type": "markdown",
      "metadata": {
        "id": "qbaHAEkI0L2u"
      },
      "source": [
        "## a. Reshaping Arrays\n",
        "Array reshaping is an operation that changes the shape of an arrays whilst maintaining the same data in the array. \n",
        "\n",
        "For instance, reshaping from (3, 4, 5) -> (2, 5, 6) or from (3, 4, 5) -> (6, 10). A reshape operation is valid, so long as the product of the new shape specified matched the product of the old shape."
      ]
    },
    {
      "cell_type": "markdown",
      "metadata": {
        "id": "1dTwTABxDjOb"
      },
      "source": [
        "#### Reshaping within the same number of dimensions"
      ]
    },
    {
      "cell_type": "code",
      "metadata": {
        "id": "3HRpSRrCDqPS",
        "colab": {
          "base_uri": "https://localhost:8080/"
        },
        "outputId": "ed6bb4b5-e93c-4575-95ff-a8119263e33b"
      },
      "source": [
        "s = np.random.rand(3, 4, 5)\n",
        "print(f\"Original Shape: {s.shape}\")"
      ],
      "execution_count": 92,
      "outputs": [
        {
          "output_type": "stream",
          "name": "stdout",
          "text": [
            "Original Shape: (3, 4, 5)\n"
          ]
        }
      ]
    },
    {
      "cell_type": "code",
      "source": [
        "a = np.random.rand(4,3,3)\n",
        "d = a.reshape(3,4,3)\n",
        "d\n"
      ],
      "metadata": {
        "colab": {
          "base_uri": "https://localhost:8080/"
        },
        "id": "vpyy5qgJkDTk",
        "outputId": "c599ffaa-5c10-421e-8ca5-e036eaf10204"
      },
      "execution_count": 106,
      "outputs": [
        {
          "output_type": "execute_result",
          "data": {
            "text/plain": [
              "array([[[0.08046362, 0.59427557, 0.28092147],\n",
              "        [0.74244759, 0.2988272 , 0.75753668],\n",
              "        [0.22636014, 0.00440764, 0.13978028],\n",
              "        [0.2957637 , 0.19559382, 0.54888204]],\n",
              "\n",
              "       [[0.20999217, 0.77849217, 0.4846799 ],\n",
              "        [0.63934039, 0.16769631, 0.9246826 ],\n",
              "        [0.71733995, 0.15481361, 0.72363361],\n",
              "        [0.18640993, 0.82966457, 0.19664176]],\n",
              "\n",
              "       [[0.96130067, 0.54759758, 0.2228636 ],\n",
              "        [0.21272669, 0.62798796, 0.63327613],\n",
              "        [0.30327904, 0.81636775, 0.41905672],\n",
              "        [0.81385829, 0.26521517, 0.98342547]]])"
            ]
          },
          "metadata": {},
          "execution_count": 106
        }
      ]
    },
    {
      "cell_type": "code",
      "source": [
        "a.shape"
      ],
      "metadata": {
        "colab": {
          "base_uri": "https://localhost:8080/"
        },
        "id": "PSATcpkfkfHB",
        "outputId": "fb81a9b4-c3e6-454e-a469-2d50d7c88789"
      },
      "execution_count": 100,
      "outputs": [
        {
          "output_type": "execute_result",
          "data": {
            "text/plain": [
              "(4, 3, 3)"
            ]
          },
          "metadata": {},
          "execution_count": 100
        }
      ]
    },
    {
      "cell_type": "code",
      "metadata": {
        "colab": {
          "base_uri": "https://localhost:8080/"
        },
        "id": "nR56niCdcQrG",
        "outputId": "484fc4ff-4a22-4f8b-b94f-089407ee1e86"
      },
      "source": [
        "print(s)"
      ],
      "execution_count": 101,
      "outputs": [
        {
          "output_type": "stream",
          "name": "stdout",
          "text": [
            "[[[0.41330466 0.53546872 0.34264313 0.12957678 0.66282175]\n",
            "  [0.93567    0.61272918 0.8427385  0.21790844 0.90317174]\n",
            "  [0.00976998 0.22581273 0.13205513 0.90754295 0.91023064]\n",
            "  [0.58105791 0.08749305 0.11687944 0.77107126 0.73279527]]\n",
            "\n",
            " [[0.08712836 0.3574632  0.77321162 0.1314716  0.53783243]\n",
            "  [0.75472357 0.27252618 0.566517   0.47668497 0.55662069]\n",
            "  [0.44073706 0.69373736 0.71823718 0.75638236 0.03732201]\n",
            "  [0.6788354  0.4772208  0.10017139 0.61419623 0.83791451]]\n",
            "\n",
            " [[0.73389404 0.32156558 0.06785531 0.03733024 0.5591253 ]\n",
            "  [0.1608527  0.26788819 0.23571196 0.01934746 0.15168642]\n",
            "  [0.03390251 0.98183486 0.36048531 0.82546453 0.41223741]\n",
            "  [0.25317915 0.23671088 0.7731156  0.67125691 0.70633089]]]\n"
          ]
        }
      ]
    },
    {
      "cell_type": "code",
      "metadata": {
        "id": "0hClk9ebHgMU",
        "colab": {
          "base_uri": "https://localhost:8080/"
        },
        "outputId": "f5539d09-2e88-4c64-bc35-cd27dfbf829d"
      },
      "source": [
        "s1 = s.reshape(2, 6, 5)\n",
        "print(f\"Reshaped from s: {s1.shape}\")"
      ],
      "execution_count": 109,
      "outputs": [
        {
          "output_type": "stream",
          "name": "stdout",
          "text": [
            "Reshaped from s: (2, 6, 5)\n"
          ]
        }
      ]
    },
    {
      "cell_type": "code",
      "metadata": {
        "id": "URYrMZr0cc7q"
      },
      "source": [
        "print(s1)"
      ],
      "execution_count": null,
      "outputs": []
    },
    {
      "cell_type": "markdown",
      "metadata": {
        "id": "NqgGF9dcDZQO"
      },
      "source": [
        "### Reshaping to a different number of dimensions"
      ]
    },
    {
      "cell_type": "code",
      "metadata": {
        "id": "MKckDfOOAXji"
      },
      "source": [
        "r = np.arange(0,1200,6)"
      ],
      "execution_count": 126,
      "outputs": []
    },
    {
      "cell_type": "code",
      "metadata": {
        "id": "Vkv3TnnjC1D2",
        "colab": {
          "base_uri": "https://localhost:8080/"
        },
        "outputId": "372ef2ed-1e9e-4667-9533-c716662e9fe4"
      },
      "source": [
        "print(f\"Original shape: {r.shape}\")\n"
      ],
      "execution_count": 127,
      "outputs": [
        {
          "output_type": "stream",
          "name": "stdout",
          "text": [
            "Original shape: (200,)\n"
          ]
        }
      ]
    },
    {
      "cell_type": "code",
      "metadata": {
        "colab": {
          "base_uri": "https://localhost:8080/"
        },
        "id": "k1L6BOSXc2o5",
        "outputId": "4b6fd658-6a47-4cc5-b2b6-a04bf709a142"
      },
      "source": [
        "print(r)"
      ],
      "execution_count": 128,
      "outputs": [
        {
          "output_type": "stream",
          "name": "stdout",
          "text": [
            "[   0    6   12   18   24   30   36   42   48   54   60   66   72   78\n",
            "   84   90   96  102  108  114  120  126  132  138  144  150  156  162\n",
            "  168  174  180  186  192  198  204  210  216  222  228  234  240  246\n",
            "  252  258  264  270  276  282  288  294  300  306  312  318  324  330\n",
            "  336  342  348  354  360  366  372  378  384  390  396  402  408  414\n",
            "  420  426  432  438  444  450  456  462  468  474  480  486  492  498\n",
            "  504  510  516  522  528  534  540  546  552  558  564  570  576  582\n",
            "  588  594  600  606  612  618  624  630  636  642  648  654  660  666\n",
            "  672  678  684  690  696  702  708  714  720  726  732  738  744  750\n",
            "  756  762  768  774  780  786  792  798  804  810  816  822  828  834\n",
            "  840  846  852  858  864  870  876  882  888  894  900  906  912  918\n",
            "  924  930  936  942  948  954  960  966  972  978  984  990  996 1002\n",
            " 1008 1014 1020 1026 1032 1038 1044 1050 1056 1062 1068 1074 1080 1086\n",
            " 1092 1098 1104 1110 1116 1122 1128 1134 1140 1146 1152 1158 1164 1170\n",
            " 1176 1182 1188 1194]\n"
          ]
        }
      ]
    },
    {
      "cell_type": "code",
      "metadata": {
        "id": "w4u53ymMDBHr",
        "colab": {
          "base_uri": "https://localhost:8080/"
        },
        "outputId": "4bd7ff9d-f15a-4930-ad10-880863db9253"
      },
      "source": [
        "# (120,) -> (3, 4, 10)\n",
        "r1 = r.reshape(5, 4, 10) # this can also be written as r.reshape((3, 4, 10))\n",
        "print(f\"Reshaped from r: {r1.shape}\")"
      ],
      "execution_count": 129,
      "outputs": [
        {
          "output_type": "stream",
          "name": "stdout",
          "text": [
            "Reshaped from r: (5, 4, 10)\n"
          ]
        }
      ]
    },
    {
      "cell_type": "code",
      "metadata": {
        "colab": {
          "base_uri": "https://localhost:8080/"
        },
        "id": "RWpI9eVXdL6i",
        "outputId": "178c0720-5a12-48a3-c721-1d78aa498528"
      },
      "source": [
        "print(r1)"
      ],
      "execution_count": 130,
      "outputs": [
        {
          "output_type": "stream",
          "name": "stdout",
          "text": [
            "[[[   0    6   12   18   24   30   36   42   48   54]\n",
            "  [  60   66   72   78   84   90   96  102  108  114]\n",
            "  [ 120  126  132  138  144  150  156  162  168  174]\n",
            "  [ 180  186  192  198  204  210  216  222  228  234]]\n",
            "\n",
            " [[ 240  246  252  258  264  270  276  282  288  294]\n",
            "  [ 300  306  312  318  324  330  336  342  348  354]\n",
            "  [ 360  366  372  378  384  390  396  402  408  414]\n",
            "  [ 420  426  432  438  444  450  456  462  468  474]]\n",
            "\n",
            " [[ 480  486  492  498  504  510  516  522  528  534]\n",
            "  [ 540  546  552  558  564  570  576  582  588  594]\n",
            "  [ 600  606  612  618  624  630  636  642  648  654]\n",
            "  [ 660  666  672  678  684  690  696  702  708  714]]\n",
            "\n",
            " [[ 720  726  732  738  744  750  756  762  768  774]\n",
            "  [ 780  786  792  798  804  810  816  822  828  834]\n",
            "  [ 840  846  852  858  864  870  876  882  888  894]\n",
            "  [ 900  906  912  918  924  930  936  942  948  954]]\n",
            "\n",
            " [[ 960  966  972  978  984  990  996 1002 1008 1014]\n",
            "  [1020 1026 1032 1038 1044 1050 1056 1062 1068 1074]\n",
            "  [1080 1086 1092 1098 1104 1110 1116 1122 1128 1134]\n",
            "  [1140 1146 1152 1158 1164 1170 1176 1182 1188 1194]]]\n"
          ]
        }
      ]
    },
    {
      "cell_type": "code",
      "metadata": {
        "id": "5CiMlVDEER6T",
        "colab": {
          "base_uri": "https://localhost:8080/"
        },
        "outputId": "a706459f-da71-43f3-c04b-e4bb76e299b0"
      },
      "source": [
        "# (3, 4, 10) -> (6, 20)\n",
        "r2 = r1.reshape(10, 20)\n",
        "print(f\"Reshaped from r1: {r2.shape}\")"
      ],
      "execution_count": 132,
      "outputs": [
        {
          "output_type": "stream",
          "name": "stdout",
          "text": [
            "Reshaped from r1: (10, 20)\n"
          ]
        }
      ]
    },
    {
      "cell_type": "code",
      "metadata": {
        "colab": {
          "base_uri": "https://localhost:8080/"
        },
        "id": "1BJPHamudbEC",
        "outputId": "437877e7-5c92-4333-91e4-7b210a99b750"
      },
      "source": [
        "print(r2)"
      ],
      "execution_count": 133,
      "outputs": [
        {
          "output_type": "stream",
          "name": "stdout",
          "text": [
            "[[   0    6   12   18   24   30   36   42   48   54   60   66   72   78\n",
            "    84   90   96  102  108  114]\n",
            " [ 120  126  132  138  144  150  156  162  168  174  180  186  192  198\n",
            "   204  210  216  222  228  234]\n",
            " [ 240  246  252  258  264  270  276  282  288  294  300  306  312  318\n",
            "   324  330  336  342  348  354]\n",
            " [ 360  366  372  378  384  390  396  402  408  414  420  426  432  438\n",
            "   444  450  456  462  468  474]\n",
            " [ 480  486  492  498  504  510  516  522  528  534  540  546  552  558\n",
            "   564  570  576  582  588  594]\n",
            " [ 600  606  612  618  624  630  636  642  648  654  660  666  672  678\n",
            "   684  690  696  702  708  714]\n",
            " [ 720  726  732  738  744  750  756  762  768  774  780  786  792  798\n",
            "   804  810  816  822  828  834]\n",
            " [ 840  846  852  858  864  870  876  882  888  894  900  906  912  918\n",
            "   924  930  936  942  948  954]\n",
            " [ 960  966  972  978  984  990  996 1002 1008 1014 1020 1026 1032 1038\n",
            "  1044 1050 1056 1062 1068 1074]\n",
            " [1080 1086 1092 1098 1104 1110 1116 1122 1128 1134 1140 1146 1152 1158\n",
            "  1164 1170 1176 1182 1188 1194]]\n"
          ]
        }
      ]
    },
    {
      "cell_type": "markdown",
      "metadata": {
        "id": "-VvoSc0H0AY-"
      },
      "source": [
        "## b. Transposing Arrays\n",
        "The transpose operation reverses the order of an array. It switches the rows to columns and vice versa. In a multi-dimensional array, the transpose operation moves the data from one axis to another in the order specified in the transpose method."
      ]
    },
    {
      "cell_type": "code",
      "source": [
        "x=np.arange(50).reshape((5,10))\n",
        "print(\"Shape of the original array\", x.shape)\n",
        "print(\"Original array\\n\", x)"
      ],
      "metadata": {
        "colab": {
          "base_uri": "https://localhost:8080/"
        },
        "id": "bSg9JdsreupQ",
        "outputId": "c0191e05-8199-4f4a-e8a6-10aa3a53b476"
      },
      "execution_count": 134,
      "outputs": [
        {
          "output_type": "stream",
          "name": "stdout",
          "text": [
            "Shape of the original array (5, 10)\n",
            "Original array\n",
            " [[ 0  1  2  3  4  5  6  7  8  9]\n",
            " [10 11 12 13 14 15 16 17 18 19]\n",
            " [20 21 22 23 24 25 26 27 28 29]\n",
            " [30 31 32 33 34 35 36 37 38 39]\n",
            " [40 41 42 43 44 45 46 47 48 49]]\n"
          ]
        }
      ]
    },
    {
      "cell_type": "code",
      "source": [
        "x1=np.transpose(x)\n",
        "print(\"Shape of the transposed array\", x1.shape)\n",
        "print(\"Transposed array\\n\", x1)"
      ],
      "metadata": {
        "colab": {
          "base_uri": "https://localhost:8080/"
        },
        "id": "WoTugnQke534",
        "outputId": "1a45a34d-68a7-43b4-e000-8098ed97a20a"
      },
      "execution_count": 137,
      "outputs": [
        {
          "output_type": "stream",
          "name": "stdout",
          "text": [
            "Shape of the transposed array (10, 5)\n",
            "Transposed array\n",
            " [[ 0 10 20 30 40]\n",
            " [ 1 11 21 31 41]\n",
            " [ 2 12 22 32 42]\n",
            " [ 3 13 23 33 43]\n",
            " [ 4 14 24 34 44]\n",
            " [ 5 15 25 35 45]\n",
            " [ 6 16 26 36 46]\n",
            " [ 7 17 27 37 47]\n",
            " [ 8 18 28 38 48]\n",
            " [ 9 19 29 39 49]]\n"
          ]
        }
      ]
    },
    {
      "cell_type": "code",
      "source": [
        "x2 = np.transpose(x1)\n",
        "x2\n"
      ],
      "metadata": {
        "colab": {
          "base_uri": "https://localhost:8080/"
        },
        "id": "debMA8cFmFdx",
        "outputId": "00fcdedb-0576-4d14-b959-3d2e2fbb7a48"
      },
      "execution_count": 140,
      "outputs": [
        {
          "output_type": "execute_result",
          "data": {
            "text/plain": [
              "array([[ 0,  1,  2,  3,  4,  5,  6,  7,  8,  9],\n",
              "       [10, 11, 12, 13, 14, 15, 16, 17, 18, 19],\n",
              "       [20, 21, 22, 23, 24, 25, 26, 27, 28, 29],\n",
              "       [30, 31, 32, 33, 34, 35, 36, 37, 38, 39],\n",
              "       [40, 41, 42, 43, 44, 45, 46, 47, 48, 49]])"
            ]
          },
          "metadata": {},
          "execution_count": 140
        }
      ]
    },
    {
      "cell_type": "code",
      "source": [
        "x2.T"
      ],
      "metadata": {
        "colab": {
          "base_uri": "https://localhost:8080/"
        },
        "id": "X9--GiucetMr",
        "outputId": "41691f52-c743-4400-90a7-73af0b4f55da"
      },
      "execution_count": 141,
      "outputs": [
        {
          "output_type": "execute_result",
          "data": {
            "text/plain": [
              "array([[ 0, 10, 20, 30, 40],\n",
              "       [ 1, 11, 21, 31, 41],\n",
              "       [ 2, 12, 22, 32, 42],\n",
              "       [ 3, 13, 23, 33, 43],\n",
              "       [ 4, 14, 24, 34, 44],\n",
              "       [ 5, 15, 25, 35, 45],\n",
              "       [ 6, 16, 26, 36, 46],\n",
              "       [ 7, 17, 27, 37, 47],\n",
              "       [ 8, 18, 28, 38, 48],\n",
              "       [ 9, 19, 29, 39, 49]])"
            ]
          },
          "metadata": {},
          "execution_count": 141
        }
      ]
    },
    {
      "cell_type": "code",
      "metadata": {
        "id": "_tA8FZ7e0JDG",
        "colab": {
          "base_uri": "https://localhost:8080/"
        },
        "outputId": "c2cf215f-0876-423a-f27c-81caa097267b"
      },
      "source": [
        "w = np.arange(60).reshape((3, 4, 5))\n",
        "w\n",
        "\n",
        "print(\"Shape of the Original array\", w.shape)\n",
        "print(\"Original array\\n\", w)"
      ],
      "execution_count": 143,
      "outputs": [
        {
          "output_type": "stream",
          "name": "stdout",
          "text": [
            "Shape of the Original array (3, 4, 5)\n",
            "Original array\n",
            " [[[ 0  1  2  3  4]\n",
            "  [ 5  6  7  8  9]\n",
            "  [10 11 12 13 14]\n",
            "  [15 16 17 18 19]]\n",
            "\n",
            " [[20 21 22 23 24]\n",
            "  [25 26 27 28 29]\n",
            "  [30 31 32 33 34]\n",
            "  [35 36 37 38 39]]\n",
            "\n",
            " [[40 41 42 43 44]\n",
            "  [45 46 47 48 49]\n",
            "  [50 51 52 53 54]\n",
            "  [55 56 57 58 59]]]\n"
          ]
        }
      ]
    },
    {
      "cell_type": "markdown",
      "metadata": {
        "id": "Lkfwv2HrK5xl"
      },
      "source": [
        "#### Transpose without specifying axes"
      ]
    },
    {
      "cell_type": "code",
      "metadata": {
        "id": "9ziuTtSRKIzS",
        "colab": {
          "base_uri": "https://localhost:8080/"
        },
        "outputId": "eabaa89f-59ea-4d27-e730-8913e06b6be9"
      },
      "source": [
        "# Original Shape: 3,4,5\n",
        "\n",
        "w1 = np.transpose(w)  # 0->2, 1->1, 2->0   (0,1,2)->(2,1,0)\n",
        "print(\"Shape of the transposed array\", w1.shape)\n",
        "print(\"Transposed array\\n\", w1)"
      ],
      "execution_count": 144,
      "outputs": [
        {
          "output_type": "stream",
          "name": "stdout",
          "text": [
            "Shape of the transposed array (5, 4, 3)\n",
            "Transposed array\n",
            " [[[ 0 20 40]\n",
            "  [ 5 25 45]\n",
            "  [10 30 50]\n",
            "  [15 35 55]]\n",
            "\n",
            " [[ 1 21 41]\n",
            "  [ 6 26 46]\n",
            "  [11 31 51]\n",
            "  [16 36 56]]\n",
            "\n",
            " [[ 2 22 42]\n",
            "  [ 7 27 47]\n",
            "  [12 32 52]\n",
            "  [17 37 57]]\n",
            "\n",
            " [[ 3 23 43]\n",
            "  [ 8 28 48]\n",
            "  [13 33 53]\n",
            "  [18 38 58]]\n",
            "\n",
            " [[ 4 24 44]\n",
            "  [ 9 29 49]\n",
            "  [14 34 54]\n",
            "  [19 39 59]]]\n"
          ]
        }
      ]
    },
    {
      "cell_type": "markdown",
      "metadata": {
        "id": "l_wJ3i7sLEuQ"
      },
      "source": [
        "#### Transpose along specified axes"
      ]
    },
    {
      "cell_type": "code",
      "source": [
        "w"
      ],
      "metadata": {
        "colab": {
          "base_uri": "https://localhost:8080/"
        },
        "id": "O6jH1FejRHvB",
        "outputId": "e324c1e4-1791-4128-e254-a2ca17798304"
      },
      "execution_count": 145,
      "outputs": [
        {
          "output_type": "execute_result",
          "data": {
            "text/plain": [
              "array([[[ 0,  1,  2,  3,  4],\n",
              "        [ 5,  6,  7,  8,  9],\n",
              "        [10, 11, 12, 13, 14],\n",
              "        [15, 16, 17, 18, 19]],\n",
              "\n",
              "       [[20, 21, 22, 23, 24],\n",
              "        [25, 26, 27, 28, 29],\n",
              "        [30, 31, 32, 33, 34],\n",
              "        [35, 36, 37, 38, 39]],\n",
              "\n",
              "       [[40, 41, 42, 43, 44],\n",
              "        [45, 46, 47, 48, 49],\n",
              "        [50, 51, 52, 53, 54],\n",
              "        [55, 56, 57, 58, 59]]])"
            ]
          },
          "metadata": {},
          "execution_count": 145
        }
      ]
    },
    {
      "cell_type": "code",
      "metadata": {
        "id": "LakyyLPVLJDg",
        "colab": {
          "base_uri": "https://localhost:8080/"
        },
        "outputId": "9b43d762-e052-4857-e0f2-535015c84e47"
      },
      "source": [
        "# Original Shape: 3,4,5\n",
        "\n",
        "w2 = np.transpose(w, axes=(0, 2, 1)) # 0, 1, 2\n",
        "print(\"Shape of the transposed array\", w2.shape)\n",
        "print(\"Transposed array\\n\", w2)"
      ],
      "execution_count": 146,
      "outputs": [
        {
          "output_type": "stream",
          "name": "stdout",
          "text": [
            "Shape of the transposed array (3, 5, 4)\n",
            "Transposed array\n",
            " [[[ 0  5 10 15]\n",
            "  [ 1  6 11 16]\n",
            "  [ 2  7 12 17]\n",
            "  [ 3  8 13 18]\n",
            "  [ 4  9 14 19]]\n",
            "\n",
            " [[20 25 30 35]\n",
            "  [21 26 31 36]\n",
            "  [22 27 32 37]\n",
            "  [23 28 33 38]\n",
            "  [24 29 34 39]]\n",
            "\n",
            " [[40 45 50 55]\n",
            "  [41 46 51 56]\n",
            "  [42 47 52 57]\n",
            "  [43 48 53 58]\n",
            "  [44 49 54 59]]]\n"
          ]
        }
      ]
    },
    {
      "cell_type": "code",
      "source": [
        "w"
      ],
      "metadata": {
        "id": "m60Xm5GMRUdg"
      },
      "execution_count": null,
      "outputs": []
    },
    {
      "cell_type": "code",
      "metadata": {
        "id": "Hvw9jUvBLcl5",
        "colab": {
          "base_uri": "https://localhost:8080/"
        },
        "outputId": "eac0dcad-4745-4861-f128-1494f401f9ae"
      },
      "source": [
        "# Original Shape: 3,4,5\n",
        "\n",
        "w3 = np.transpose(w, axes=(1, 2, 0))\n",
        "print(\"Shape of the transposed array\", w3.shape)\n",
        "print(\"Transposed array\\n\", w3)"
      ],
      "execution_count": 147,
      "outputs": [
        {
          "output_type": "stream",
          "name": "stdout",
          "text": [
            "Shape of the transposed array (4, 5, 3)\n",
            "Transposed array\n",
            " [[[ 0 20 40]\n",
            "  [ 1 21 41]\n",
            "  [ 2 22 42]\n",
            "  [ 3 23 43]\n",
            "  [ 4 24 44]]\n",
            "\n",
            " [[ 5 25 45]\n",
            "  [ 6 26 46]\n",
            "  [ 7 27 47]\n",
            "  [ 8 28 48]\n",
            "  [ 9 29 49]]\n",
            "\n",
            " [[10 30 50]\n",
            "  [11 31 51]\n",
            "  [12 32 52]\n",
            "  [13 33 53]\n",
            "  [14 34 54]]\n",
            "\n",
            " [[15 35 55]\n",
            "  [16 36 56]\n",
            "  [17 37 57]\n",
            "  [18 38 58]\n",
            "  [19 39 59]]]\n"
          ]
        }
      ]
    },
    {
      "cell_type": "markdown",
      "metadata": {
        "id": "nCpBAlJLzQev"
      },
      "source": [
        "## c. Flattening Arrays\n",
        "The flatten operation in Numpy collapses arrays of multiple dimensions into one dimension.\n",
        "\n",
        "\n",
        "Different orders can be specified when flattening Numpy Arrays. See examples below."
      ]
    },
    {
      "cell_type": "code",
      "metadata": {
        "id": "IrtInQA8Lfo1"
      },
      "source": [
        "k = np.random.rand(5, 6)"
      ],
      "execution_count": 148,
      "outputs": []
    },
    {
      "cell_type": "code",
      "metadata": {
        "colab": {
          "base_uri": "https://localhost:8080/"
        },
        "id": "Qbx4EHbZgdEI",
        "outputId": "d001acf2-d4ce-4bc4-a93f-2d92bb6a1847"
      },
      "source": [
        "k"
      ],
      "execution_count": 149,
      "outputs": [
        {
          "output_type": "execute_result",
          "data": {
            "text/plain": [
              "array([[0.87230532, 0.44852459, 0.33538451, 0.02970605, 0.99093675,\n",
              "        0.68094952],\n",
              "       [0.18915819, 0.04504555, 0.01313955, 0.66181062, 0.10751234,\n",
              "        0.30995764],\n",
              "       [0.30794745, 0.11747223, 0.94693142, 0.97739055, 0.90447925,\n",
              "        0.79618015],\n",
              "       [0.06542942, 0.71703863, 0.45591043, 0.15148371, 0.6467202 ,\n",
              "        0.02923457],\n",
              "       [0.75352087, 0.88973295, 0.01038004, 0.32742784, 0.82849109,\n",
              "        0.11259759]])"
            ]
          },
          "metadata": {},
          "execution_count": 149
        }
      ]
    },
    {
      "cell_type": "markdown",
      "metadata": {
        "id": "krXRrnsOJy6O"
      },
      "source": [
        "### Flattening Arrays along the row (default order)"
      ]
    },
    {
      "cell_type": "code",
      "metadata": {
        "id": "2mn0tANc-9LT",
        "colab": {
          "base_uri": "https://localhost:8080/"
        },
        "outputId": "fe379893-00b7-4e4b-8878-e61e4a06882d"
      },
      "source": [
        "k1 = k.flatten() # all rows are stacked on each other into a 1D array.\n",
        "k1"
      ],
      "execution_count": 150,
      "outputs": [
        {
          "output_type": "execute_result",
          "data": {
            "text/plain": [
              "array([0.87230532, 0.44852459, 0.33538451, 0.02970605, 0.99093675,\n",
              "       0.68094952, 0.18915819, 0.04504555, 0.01313955, 0.66181062,\n",
              "       0.10751234, 0.30995764, 0.30794745, 0.11747223, 0.94693142,\n",
              "       0.97739055, 0.90447925, 0.79618015, 0.06542942, 0.71703863,\n",
              "       0.45591043, 0.15148371, 0.6467202 , 0.02923457, 0.75352087,\n",
              "       0.88973295, 0.01038004, 0.32742784, 0.82849109, 0.11259759])"
            ]
          },
          "metadata": {},
          "execution_count": 150
        }
      ]
    },
    {
      "cell_type": "code",
      "metadata": {
        "colab": {
          "base_uri": "https://localhost:8080/"
        },
        "id": "vmvNMqoxgmd1",
        "outputId": "22018de0-10a1-49ae-8063-08bc606de7b8"
      },
      "source": [
        "k1.shape"
      ],
      "execution_count": 151,
      "outputs": [
        {
          "output_type": "execute_result",
          "data": {
            "text/plain": [
              "(30,)"
            ]
          },
          "metadata": {},
          "execution_count": 151
        }
      ]
    },
    {
      "cell_type": "markdown",
      "metadata": {
        "id": "KzC2kEdRKODv"
      },
      "source": [
        "### Flattening Arrays along the column"
      ]
    },
    {
      "cell_type": "code",
      "metadata": {
        "id": "U1KgPP4HKM3X",
        "colab": {
          "base_uri": "https://localhost:8080/"
        },
        "outputId": "8f55d606-e56d-4bed-8f6f-96e6019efea6"
      },
      "source": [
        "k2= k.flatten('F') # forms a 1D array where elements in a column are listed before moving to the next column.\n",
        "k2"
      ],
      "execution_count": 154,
      "outputs": [
        {
          "output_type": "execute_result",
          "data": {
            "text/plain": [
              "array([0.87230532, 0.18915819, 0.30794745, 0.06542942, 0.75352087,\n",
              "       0.44852459, 0.04504555, 0.11747223, 0.71703863, 0.88973295,\n",
              "       0.33538451, 0.01313955, 0.94693142, 0.45591043, 0.01038004,\n",
              "       0.02970605, 0.66181062, 0.97739055, 0.15148371, 0.32742784,\n",
              "       0.99093675, 0.10751234, 0.90447925, 0.6467202 , 0.82849109,\n",
              "       0.68094952, 0.30995764, 0.79618015, 0.02923457, 0.11259759])"
            ]
          },
          "metadata": {},
          "execution_count": 154
        }
      ]
    },
    {
      "cell_type": "markdown",
      "metadata": {
        "id": "d_kl2pC6Max8"
      },
      "source": [
        "### Flattening Arrays using Ravel"
      ]
    },
    {
      "cell_type": "code",
      "metadata": {
        "id": "cTF9riClMeiZ",
        "colab": {
          "base_uri": "https://localhost:8080/"
        },
        "outputId": "4791586e-a1c6-4299-bd7f-b658c48f40c4"
      },
      "source": [
        "k3 = k.ravel()\n",
        "k3"
      ],
      "execution_count": 155,
      "outputs": [
        {
          "output_type": "execute_result",
          "data": {
            "text/plain": [
              "array([0.87230532, 0.44852459, 0.33538451, 0.02970605, 0.99093675,\n",
              "       0.68094952, 0.18915819, 0.04504555, 0.01313955, 0.66181062,\n",
              "       0.10751234, 0.30995764, 0.30794745, 0.11747223, 0.94693142,\n",
              "       0.97739055, 0.90447925, 0.79618015, 0.06542942, 0.71703863,\n",
              "       0.45591043, 0.15148371, 0.6467202 , 0.02923457, 0.75352087,\n",
              "       0.88973295, 0.01038004, 0.32742784, 0.82849109, 0.11259759])"
            ]
          },
          "metadata": {},
          "execution_count": 155
        }
      ]
    },
    {
      "cell_type": "markdown",
      "metadata": {
        "id": "BuO6iLKjQyUz"
      },
      "source": [
        "### Flattening Arrays using Numpy Reshape\n"
      ]
    },
    {
      "cell_type": "code",
      "metadata": {
        "id": "8YOai7ZqL6y0",
        "colab": {
          "base_uri": "https://localhost:8080/"
        },
        "outputId": "20c37638-9788-4a99-fdc7-31227bd21183"
      },
      "source": [
        "k4= k.reshape(-1)\n",
        "k4"
      ],
      "execution_count": 156,
      "outputs": [
        {
          "output_type": "execute_result",
          "data": {
            "text/plain": [
              "array([0.87230532, 0.44852459, 0.33538451, 0.02970605, 0.99093675,\n",
              "       0.68094952, 0.18915819, 0.04504555, 0.01313955, 0.66181062,\n",
              "       0.10751234, 0.30995764, 0.30794745, 0.11747223, 0.94693142,\n",
              "       0.97739055, 0.90447925, 0.79618015, 0.06542942, 0.71703863,\n",
              "       0.45591043, 0.15148371, 0.6467202 , 0.02923457, 0.75352087,\n",
              "       0.88973295, 0.01038004, 0.32742784, 0.82849109, 0.11259759])"
            ]
          },
          "metadata": {},
          "execution_count": 156
        }
      ]
    },
    {
      "cell_type": "markdown",
      "metadata": {
        "id": "92Xhx3ytPpoX"
      },
      "source": [
        "### Flatten vs Ravel\n",
        "Bothe functions take in the same kind of arguments and order to flatten can be specified in both arrays. The difference lies in how the result 1D arrays are are created in both cases."
      ]
    },
    {
      "cell_type": "code",
      "metadata": {
        "id": "LAXKU1i5QZkN"
      },
      "source": [
        "test = np.random.rand(4, 5)"
      ],
      "execution_count": 157,
      "outputs": []
    },
    {
      "cell_type": "code",
      "metadata": {
        "id": "IYRe4_vWPteC",
        "colab": {
          "base_uri": "https://localhost:8080/"
        },
        "outputId": "b0204755-b533-430b-c5a2-1967e74d7132"
      },
      "source": [
        "test_flatten = test.flatten()\n",
        "test_ravel = test.ravel()\n",
        "\n",
        "print(f\"test_flatten: {test_flatten}\")\n",
        "print(f\"test_ravel: {test_ravel}\")"
      ],
      "execution_count": 158,
      "outputs": [
        {
          "output_type": "stream",
          "name": "stdout",
          "text": [
            "test_flatten: [0.02469574 0.81435353 0.24890527 0.2491966  0.1582368  0.27605595\n",
            " 0.42871035 0.25842181 0.36694704 0.34929559 0.33303578 0.3033672\n",
            " 0.31512729 0.27022518 0.90029462 0.9669742  0.89669855 0.37327538\n",
            " 0.64827922 0.31144182]\n",
            "test_ravel: [0.02469574 0.81435353 0.24890527 0.2491966  0.1582368  0.27605595\n",
            " 0.42871035 0.25842181 0.36694704 0.34929559 0.33303578 0.3033672\n",
            " 0.31512729 0.27022518 0.90029462 0.9669742  0.89669855 0.37327538\n",
            " 0.64827922 0.31144182]\n"
          ]
        }
      ]
    },
    {
      "cell_type": "code",
      "metadata": {
        "id": "TVZpAu6nQmd3",
        "colab": {
          "base_uri": "https://localhost:8080/"
        },
        "outputId": "a215daeb-23ec-430c-eff5-9a8fe3c39902"
      },
      "source": [
        "test_flatten[0] = 5\n",
        "print(f\"Modified test_flatten: {test_flatten}\")\n",
        "print(f\"Original Array: {test}\")"
      ],
      "execution_count": 159,
      "outputs": [
        {
          "output_type": "stream",
          "name": "stdout",
          "text": [
            "Modified test_flatten: [5.         0.81435353 0.24890527 0.2491966  0.1582368  0.27605595\n",
            " 0.42871035 0.25842181 0.36694704 0.34929559 0.33303578 0.3033672\n",
            " 0.31512729 0.27022518 0.90029462 0.9669742  0.89669855 0.37327538\n",
            " 0.64827922 0.31144182]\n",
            "Original Array: [[0.02469574 0.81435353 0.24890527 0.2491966  0.1582368 ]\n",
            " [0.27605595 0.42871035 0.25842181 0.36694704 0.34929559]\n",
            " [0.33303578 0.3033672  0.31512729 0.27022518 0.90029462]\n",
            " [0.9669742  0.89669855 0.37327538 0.64827922 0.31144182]]\n"
          ]
        }
      ]
    },
    {
      "cell_type": "code",
      "metadata": {
        "id": "SYVgIianQ73X",
        "colab": {
          "base_uri": "https://localhost:8080/"
        },
        "outputId": "3bb87302-e3d2-4d52-f5d0-b2861c595f66"
      },
      "source": [
        "test_ravel[0] = 5\n",
        "print(f\"Modified test_ravel: {test_ravel}\")\n",
        "print(f\"Original Array: {test}\")"
      ],
      "execution_count": 160,
      "outputs": [
        {
          "output_type": "stream",
          "name": "stdout",
          "text": [
            "Modified test_ravel: [5.         0.81435353 0.24890527 0.2491966  0.1582368  0.27605595\n",
            " 0.42871035 0.25842181 0.36694704 0.34929559 0.33303578 0.3033672\n",
            " 0.31512729 0.27022518 0.90029462 0.9669742  0.89669855 0.37327538\n",
            " 0.64827922 0.31144182]\n",
            "Original Array: [[5.         0.81435353 0.24890527 0.2491966  0.1582368 ]\n",
            " [0.27605595 0.42871035 0.25842181 0.36694704 0.34929559]\n",
            " [0.33303578 0.3033672  0.31512729 0.27022518 0.90029462]\n",
            " [0.9669742  0.89669855 0.37327538 0.64827922 0.31144182]]\n"
          ]
        }
      ]
    },
    {
      "cell_type": "markdown",
      "metadata": {
        "id": "lv_Lxkf2z18l"
      },
      "source": [
        "## d. Squeezing & Expanding Arrays"
      ]
    },
    {
      "cell_type": "markdown",
      "metadata": {
        "id": "rEbqqVfrz_zI"
      },
      "source": [
        "### Squeezing Numpy Arrays\n",
        "\n",
        "The squeeze operation allows reduction of numpy arrays axes by dropping a specified axis, so long as it is of **unit length**. The product of the shape (overall size of the array) remains the same."
      ]
    },
    {
      "cell_type": "code",
      "metadata": {
        "id": "KWRHkIRwU3fn",
        "colab": {
          "base_uri": "https://localhost:8080/"
        },
        "outputId": "e26b9d57-6195-4c05-82ce-03980693949c"
      },
      "source": [
        "sq = np.random.rand(4, 1, 5)\n",
        "print(f\"Original Array: \\n{sq}\\n\")\n",
        "print(f\"Shape of Original Array: {sq.shape}\")"
      ],
      "execution_count": 162,
      "outputs": [
        {
          "output_type": "stream",
          "name": "stdout",
          "text": [
            "Original Array: \n",
            "[[[0.9011415  0.81358265 0.35906171 0.97570374 0.3859861 ]]\n",
            "\n",
            " [[0.01620939 0.01867446 0.54413954 0.44314632 0.02570015]]\n",
            "\n",
            " [[0.36830451 0.42032051 0.40540396 0.99807766 0.15667538]]\n",
            "\n",
            " [[0.43695891 0.27023265 0.96896344 0.58980904 0.70418642]]]\n",
            "\n",
            "Shape of Original Array: (4, 1, 5)\n"
          ]
        }
      ]
    },
    {
      "cell_type": "code",
      "metadata": {
        "id": "0wMvcLbRU7ZO",
        "colab": {
          "base_uri": "https://localhost:8080/"
        },
        "outputId": "91e90685-412e-4915-c7a9-4127fec5737c"
      },
      "source": [
        "# transforms from (4, 1, 5) -> (4, 5)\n",
        "sq1 = np.squeeze(sq)\n",
        "print(f\"Squeezed Array: \\n {sq1}\\n\")\n",
        "print(f\"Shape of Squeezed Array: {sq1.shape}\")"
      ],
      "execution_count": 163,
      "outputs": [
        {
          "output_type": "stream",
          "name": "stdout",
          "text": [
            "Squeezed Array: \n",
            " [[0.9011415  0.81358265 0.35906171 0.97570374 0.3859861 ]\n",
            " [0.01620939 0.01867446 0.54413954 0.44314632 0.02570015]\n",
            " [0.36830451 0.42032051 0.40540396 0.99807766 0.15667538]\n",
            " [0.43695891 0.27023265 0.96896344 0.58980904 0.70418642]]\n",
            "\n",
            "Shape of Squeezed Array: (4, 5)\n"
          ]
        }
      ]
    },
    {
      "cell_type": "markdown",
      "metadata": {
        "id": "PTkp8T21Xzvc"
      },
      "source": [
        "#### Squeezing Multiple Axes\n",
        "Multiple unit length axes can be squeezed as shown below"
      ]
    },
    {
      "cell_type": "code",
      "metadata": {
        "id": "b5FfAJWNXAgB",
        "colab": {
          "base_uri": "https://localhost:8080/"
        },
        "outputId": "14eea242-00ca-4b79-cba4-77ffb377e8d5"
      },
      "source": [
        "q = np.random.rand(1, 4, 1, 5)\n",
        "print(f\"Original Array: \\n {q}\\n\")\n",
        "print(f\"Shape of Original Array: {q.shape}\")\n"
      ],
      "execution_count": 164,
      "outputs": [
        {
          "output_type": "stream",
          "name": "stdout",
          "text": [
            "Original Array: \n",
            " [[[[0.64993667 0.75540708 0.88531427 0.25305273 0.22799381]]\n",
            "\n",
            "  [[0.60264171 0.23616416 0.7309863  0.66399892 0.23927492]]\n",
            "\n",
            "  [[0.18591473 0.31277572 0.36632897 0.58990679 0.75923894]]\n",
            "\n",
            "  [[0.32235078 0.50202215 0.58383107 0.26660088 0.71384664]]]]\n",
            "\n",
            "Shape of Original Array: (1, 4, 1, 5)\n"
          ]
        }
      ]
    },
    {
      "cell_type": "code",
      "metadata": {
        "id": "N1UV_58ZYEId",
        "colab": {
          "base_uri": "https://localhost:8080/"
        },
        "outputId": "1ff48c6e-2840-457d-f9bf-23be4a64a259"
      },
      "source": [
        "q1 = np.squeeze(q)\n",
        "print(f\"Multiple Squeezed Array: \\n {q1}\\n\")\n",
        "print(f\"Shape of Multiple Squeezed Array: {q1.shape}\")"
      ],
      "execution_count": 165,
      "outputs": [
        {
          "output_type": "stream",
          "name": "stdout",
          "text": [
            "Multiple Squeezed Array: \n",
            " [[0.64993667 0.75540708 0.88531427 0.25305273 0.22799381]\n",
            " [0.60264171 0.23616416 0.7309863  0.66399892 0.23927492]\n",
            " [0.18591473 0.31277572 0.36632897 0.58990679 0.75923894]\n",
            " [0.32235078 0.50202215 0.58383107 0.26660088 0.71384664]]\n",
            "\n",
            "Shape of Multiple Squeezed Array: (4, 5)\n"
          ]
        }
      ]
    },
    {
      "cell_type": "markdown",
      "metadata": {
        "id": "Xaq-rqWGY4Vv"
      },
      "source": [
        "#### Squeezing specified axes"
      ]
    },
    {
      "cell_type": "code",
      "metadata": {
        "id": "itvXlWOcY7f1",
        "colab": {
          "base_uri": "https://localhost:8080/"
        },
        "outputId": "7f3efb1a-cdab-4ac2-b5b3-ea1edd830ee4"
      },
      "source": [
        "q2 = np.squeeze(q, axis=2)\n",
        "print(f\"Specified axis Squeezed Array: \\n {q2}\\n\")\n",
        "print(f\"Shape of Specified axis Squeezed Array: {q2.shape}\")"
      ],
      "execution_count": 166,
      "outputs": [
        {
          "output_type": "stream",
          "name": "stdout",
          "text": [
            "Specified axis Squeezed Array: \n",
            " [[[0.64993667 0.75540708 0.88531427 0.25305273 0.22799381]\n",
            "  [0.60264171 0.23616416 0.7309863  0.66399892 0.23927492]\n",
            "  [0.18591473 0.31277572 0.36632897 0.58990679 0.75923894]\n",
            "  [0.32235078 0.50202215 0.58383107 0.26660088 0.71384664]]]\n",
            "\n",
            "Shape of Specified axis Squeezed Array: (1, 4, 5)\n"
          ]
        }
      ]
    },
    {
      "cell_type": "markdown",
      "metadata": {
        "id": "4OErK4oLZZyd"
      },
      "source": [
        "### Unsqueezing (Expanding) Numpy Arrays\n",
        "This is the direct opposite of squeezing. A new unit axis is inserted in specified position. Multiple unit axes can be inserted by using a tuple on the axis attribute of the `expand_dims` method."
      ]
    },
    {
      "cell_type": "code",
      "metadata": {
        "id": "oaE5pGBAaFDD",
        "colab": {
          "base_uri": "https://localhost:8080/"
        },
        "outputId": "786ebf0f-ccab-4e82-b9a4-108c3a97670b"
      },
      "source": [
        "y = np.random.rand(4, 5)\n",
        "print(f\"Original Array: \\n {y}\\n\")\n",
        "print(f\"Shape of Original Array: {y.shape}\")"
      ],
      "execution_count": 167,
      "outputs": [
        {
          "output_type": "stream",
          "name": "stdout",
          "text": [
            "Original Array: \n",
            " [[0.45727111 0.65023137 0.50266884 0.43139357 0.71776646]\n",
            " [0.01236084 0.08029438 0.57637295 0.81362172 0.56153623]\n",
            " [0.6035917  0.22058083 0.91954104 0.2055007  0.68833856]\n",
            " [0.37520982 0.21152903 0.82099134 0.11457444 0.77305069]]\n",
            "\n",
            "Shape of Original Array: (4, 5)\n"
          ]
        }
      ]
    },
    {
      "cell_type": "code",
      "metadata": {
        "id": "k4Me0R0LaQKZ",
        "colab": {
          "base_uri": "https://localhost:8080/"
        },
        "outputId": "0ae7d92e-bece-4ad7-c3aa-8b5a98bfdb6c"
      },
      "source": [
        "# transforms from (4, 5) -> (4, 1, 5)\n",
        "y1 = np.expand_dims(y, axis=1)\n",
        "print(f\"Expanded Array: \\n {y1}\\n\")\n",
        "print(f\"Shape of Expanded Array: {y1.shape}\")"
      ],
      "execution_count": 168,
      "outputs": [
        {
          "output_type": "stream",
          "name": "stdout",
          "text": [
            "Expanded Array: \n",
            " [[[0.45727111 0.65023137 0.50266884 0.43139357 0.71776646]]\n",
            "\n",
            " [[0.01236084 0.08029438 0.57637295 0.81362172 0.56153623]]\n",
            "\n",
            " [[0.6035917  0.22058083 0.91954104 0.2055007  0.68833856]]\n",
            "\n",
            " [[0.37520982 0.21152903 0.82099134 0.11457444 0.77305069]]]\n",
            "\n",
            "Shape of Expanded Array: (4, 1, 5)\n"
          ]
        }
      ]
    },
    {
      "cell_type": "code",
      "metadata": {
        "id": "p0-bX_qCah5W",
        "colab": {
          "base_uri": "https://localhost:8080/"
        },
        "outputId": "ea46f47d-4391-48d9-9158-3c7dab44d886"
      },
      "source": [
        "# transforms from (4, 5) -> (1, 4, 1, 5)\n",
        "y2 = np.expand_dims(y, axis=(0, 2))\n",
        "print(f\"Multi-axes Expanded Array: \\n {y2}\\n\")\n",
        "print(f\"Shape of Multi-axes Expanded Array: {y2.shape}\")"
      ],
      "execution_count": 169,
      "outputs": [
        {
          "output_type": "stream",
          "name": "stdout",
          "text": [
            "Multi-axes Expanded Array: \n",
            " [[[[0.45727111 0.65023137 0.50266884 0.43139357 0.71776646]]\n",
            "\n",
            "  [[0.01236084 0.08029438 0.57637295 0.81362172 0.56153623]]\n",
            "\n",
            "  [[0.6035917  0.22058083 0.91954104 0.2055007  0.68833856]]\n",
            "\n",
            "  [[0.37520982 0.21152903 0.82099134 0.11457444 0.77305069]]]]\n",
            "\n",
            "Shape of Multi-axes Expanded Array: (1, 4, 1, 5)\n"
          ]
        }
      ]
    },
    {
      "cell_type": "markdown",
      "metadata": {
        "id": "zgNG6cvF-9ol"
      },
      "source": [
        "# 5.Combining data"
      ]
    },
    {
      "cell_type": "markdown",
      "metadata": {
        "id": "C5lnL5dLTsnP"
      },
      "source": [
        "### 5a. Concatenation"
      ]
    },
    {
      "cell_type": "markdown",
      "metadata": {
        "id": "dN9Gwkd_Tp74"
      },
      "source": [
        "A concatenation operation joins a sequence of arrays along an *existing* axis. All arrays must either have the same shape (except in the concatenating dimension) or be empty.\n",
        "\n",
        "---\n",
        "\n"
      ]
    },
    {
      "cell_type": "code",
      "metadata": {
        "colab": {
          "base_uri": "https://localhost:8080/"
        },
        "id": "c0Txtg39VRGw",
        "outputId": "439ef33d-875b-4673-cfa7-7a05b56eb413"
      },
      "source": [
        "# Concatenating 2-d Arrays\n",
        "\n",
        "array1 = np.array([[1, 2], [3, 4]])\n",
        "print(\"Array 1 is \\n\", array1, \" with dimensions \", array1.shape, \"\\n\")\n",
        "\n",
        "array2 = np.array([[5, 6]])\n",
        "print(\"Array 2 is \\n\", array2, \" with dimensions \", array2.shape, \"\\n\")\n",
        "\n",
        "\n",
        "concatenated_array1 = np.concatenate((array1, array2), axis = 0) \n",
        "print(\"Concatenated array 1 along axis 0 (row-wise for 2-d arrays) is \\n\", concatenated_array1, \"with dimensions \", concatenated_array1.shape, '\\n')\n",
        "\n",
        "# concatenated_array2 = np.concatenate((array1, array2), axis = 1) \n",
        "print(\"Concatenated array 2 along axis 0 (column-wise for 2-d arrays) is \\n\", concatenated_array1, \"with dimensions \", concatenated_array1.shape)\n"
      ],
      "execution_count": 174,
      "outputs": [
        {
          "output_type": "stream",
          "name": "stdout",
          "text": [
            "Array 1 is \n",
            " [[1 2]\n",
            " [3 4]]  with dimensions  (2, 2) \n",
            "\n",
            "Array 2 is \n",
            " [[5 6]]  with dimensions  (1, 2) \n",
            "\n",
            "Concatenated array 1 along axis 0 (row-wise for 2-d arrays) is \n",
            " [[1 2]\n",
            " [3 4]\n",
            " [5 6]] with dimensions  (3, 2) \n",
            "\n",
            "Concatenated array 2 along axis 0 (column-wise for 2-d arrays) is \n",
            " [[1 2]\n",
            " [3 4]\n",
            " [5 6]] with dimensions  (3, 2)\n"
          ]
        }
      ]
    },
    {
      "cell_type": "code",
      "metadata": {
        "colab": {
          "base_uri": "https://localhost:8080/"
        },
        "id": "_dnrpzRvTLs1",
        "outputId": "1f7b1b3a-cc07-48d9-cbdc-549427fd404b"
      },
      "source": [
        "# Concatenating Numpy Arrays\n",
        "\n",
        "array1 = np.random.randint(3, size = (3, 2, 2))\n",
        "print(\"Array 1 is \\n\", array1, \" with dimensions \", array1.shape, \"\\n\")\n",
        "\n",
        "array2 = np.random.randint(4, size = (3, 2, 2))\n",
        "print(\"Array 2 is \\n\", array2, \" with dimensions \", array2.shape, \"\\n\")\n",
        "\n",
        "concatenated_array1 = np.concatenate((array1, array2), axis = 0) \n",
        "print(\"Concatenated array 1 is \\n\", concatenated_array1, \"\\n\\n\", \"and the dimensions of the concatenated array 1 are: \\n\", concatenated_array1.shape)\n",
        "\n",
        "concatenated_array2 = np.concatenate((array1, array2), axis = 1) \n",
        "print(\"Concatenated array 2 is \\n\", concatenated_array2, \"\\n\\n\", \"and the dimensions of the concatenated array 2 are: \\n\", concatenated_array2.shape)\n",
        "\n",
        "concatenated_array3 = np.concatenate((array1, array2), axis = 2) \n",
        "print(\"Concatenated array 3 is \\n\", concatenated_array3, \"\\n\\n\", \"and the dimensions of the concatenated array 3 are: \\n\", concatenated_array3.shape)\n"
      ],
      "execution_count": 175,
      "outputs": [
        {
          "output_type": "stream",
          "name": "stdout",
          "text": [
            "Array 1 is \n",
            " [[[0 2]\n",
            "  [0 1]]\n",
            "\n",
            " [[1 1]\n",
            "  [0 2]]\n",
            "\n",
            " [[1 0]\n",
            "  [0 1]]]  with dimensions  (3, 2, 2) \n",
            "\n",
            "Array 2 is \n",
            " [[[2 1]\n",
            "  [3 0]]\n",
            "\n",
            " [[1 1]\n",
            "  [2 0]]\n",
            "\n",
            " [[3 0]\n",
            "  [2 0]]]  with dimensions  (3, 2, 2) \n",
            "\n",
            "Concatenated array 1 is \n",
            " [[[0 2]\n",
            "  [0 1]]\n",
            "\n",
            " [[1 1]\n",
            "  [0 2]]\n",
            "\n",
            " [[1 0]\n",
            "  [0 1]]\n",
            "\n",
            " [[2 1]\n",
            "  [3 0]]\n",
            "\n",
            " [[1 1]\n",
            "  [2 0]]\n",
            "\n",
            " [[3 0]\n",
            "  [2 0]]] \n",
            "\n",
            " and the dimensions of the concatenated array 1 are: \n",
            " (6, 2, 2)\n",
            "Concatenated array 2 is \n",
            " [[[0 2]\n",
            "  [0 1]\n",
            "  [2 1]\n",
            "  [3 0]]\n",
            "\n",
            " [[1 1]\n",
            "  [0 2]\n",
            "  [1 1]\n",
            "  [2 0]]\n",
            "\n",
            " [[1 0]\n",
            "  [0 1]\n",
            "  [3 0]\n",
            "  [2 0]]] \n",
            "\n",
            " and the dimensions of the concatenated array 2 are: \n",
            " (3, 4, 2)\n",
            "Concatenated array 3 is \n",
            " [[[0 2 2 1]\n",
            "  [0 1 3 0]]\n",
            "\n",
            " [[1 1 1 1]\n",
            "  [0 2 2 0]]\n",
            "\n",
            " [[1 0 3 0]\n",
            "  [0 1 2 0]]] \n",
            "\n",
            " and the dimensions of the concatenated array 3 are: \n",
            " (3, 2, 4)\n"
          ]
        }
      ]
    },
    {
      "cell_type": "markdown",
      "metadata": {
        "id": "tL8qvApgZDZi"
      },
      "source": [
        "### 5b. Stacking"
      ]
    },
    {
      "cell_type": "markdown",
      "metadata": {
        "id": "FgrcUuNCZY3J"
      },
      "source": [
        "The stack operation joins a sequence of arrays along a *new* axis. The axis parameter specifies the index of the new axis in the dimensions of the result. For example, if axis=0 it will be the first dimension and if axis=-1 it will be the last dimension. All arrays need to be of the same size.  The stacked array has one more dimension than the input arrays."
      ]
    },
    {
      "cell_type": "code",
      "metadata": {
        "colab": {
          "base_uri": "https://localhost:8080/"
        },
        "id": "8VnRi569ZbYr",
        "outputId": "39e67f84-3cc5-44de-a501-018ab2b2a25c"
      },
      "source": [
        "# Stacking 1-d Arrays\n",
        "\n",
        "array1 = np.array([1, 2, 3])\n",
        "print(\"Array 1 is \\n\", array1, \" with dimensions \", array1.shape, \"\\n\")\n",
        "\n",
        "array2 = np.array([4, 5, 6])\n",
        "print(\"Array 2 is \\n\", array2, \" with dimensions \", array2.shape, \"\\n\")\n",
        "\n",
        "\n",
        "stacked_array1 = np.stack((array1, array2), axis = 0)\n",
        "print(\"Stacked array 1 is \\n\", stacked_array1, \" with dimensions \", stacked_array1.shape)\n",
        "\n",
        "stacked_array2 = np.stack((array1, array2), axis = 1) \n",
        "print(\"Stacked array 2 is \\n\", stacked_array2, \" with dimensions \", stacked_array2.shape)\n",
        "\n",
        "stacked_array3 = np.stack((array1, array2), axis = -1) \n",
        "print(\"Stacked array 3 is \\n\", stacked_array3, \" with dimensions \", stacked_array3.shape)\n"
      ],
      "execution_count": 177,
      "outputs": [
        {
          "output_type": "stream",
          "name": "stdout",
          "text": [
            "Array 1 is \n",
            " [1 2 3]  with dimensions  (3,) \n",
            "\n",
            "Array 2 is \n",
            " [4 5 6]  with dimensions  (3,) \n",
            "\n",
            "Stacked array 1 is \n",
            " [[1 2 3]\n",
            " [4 5 6]]  with dimensions  (2, 3)\n",
            "Stacked array 2 is \n",
            " [[1 4]\n",
            " [2 5]\n",
            " [3 6]]  with dimensions  (3, 2)\n",
            "Stacked array 3 is \n",
            " [[1 4]\n",
            " [2 5]\n",
            " [3 6]]  with dimensions  (3, 2)\n"
          ]
        }
      ]
    },
    {
      "cell_type": "code",
      "metadata": {
        "colab": {
          "base_uri": "https://localhost:8080/"
        },
        "id": "BWCGag2Kadlj",
        "outputId": "2a36247b-53aa-48df-f2f9-8690949dec66"
      },
      "source": [
        "\n",
        "# Stacking Numpy Arrays\n",
        "\n",
        "array1 = np.random.randint(3, size = (3, 4, 5))\n",
        "print(\"Array 1 has dimensions \", array1.shape, \"\\n\")\n",
        "\n",
        "array2 = np.random.randint(4, size = (3, 4, 5))\n",
        "print(\"Array 2 has dimensions \", array2.shape, \"\\n\")\n",
        "\n",
        "stacked_array1 = np.stack((array1, array2), axis = 0)\n",
        "print(\"Stacked array 1 has dimensions\", stacked_array1.shape, \"\\n\")\n",
        "\n",
        "stacked_array2 = np.stack((array1, array2), axis = 1) \n",
        "print(\"Stacked array 2 has dimensions\", stacked_array2.shape, \"\\n\")\n",
        "\n",
        "stacked_array3 = np.stack((array1, array2), axis = 2) \n",
        "print(stacked_array3)\n",
        "print(\"Stacked array 3 has dimensions\", stacked_array3.shape, \"\\n\")\n",
        "\n",
        "stacked_array4 = np.stack((array1, array2), axis = -1)\n",
        "print(\"Stacked array 4 has dimensions\", stacked_array4.shape, \"\\n\")\n",
        "\n"
      ],
      "execution_count": 179,
      "outputs": [
        {
          "output_type": "stream",
          "name": "stdout",
          "text": [
            "Array 1 has dimensions  (3, 4, 5) \n",
            "\n",
            "Array 2 has dimensions  (3, 4, 5) \n",
            "\n",
            "Stacked array 1 has dimensions (2, 3, 4, 5) \n",
            "\n",
            "Stacked array 2 has dimensions (3, 2, 4, 5) \n",
            "\n",
            "[[[[0 1 0 0 1]\n",
            "   [0 0 3 1 2]]\n",
            "\n",
            "  [[1 2 2 0 1]\n",
            "   [1 3 1 3 1]]\n",
            "\n",
            "  [[1 0 2 0 1]\n",
            "   [1 1 3 1 1]]\n",
            "\n",
            "  [[0 0 2 0 0]\n",
            "   [2 1 2 1 1]]]\n",
            "\n",
            "\n",
            " [[[1 2 1 2 0]\n",
            "   [3 1 1 2 0]]\n",
            "\n",
            "  [[2 0 1 2 2]\n",
            "   [3 2 2 3 2]]\n",
            "\n",
            "  [[1 1 0 1 0]\n",
            "   [2 0 1 3 0]]\n",
            "\n",
            "  [[0 1 1 0 2]\n",
            "   [1 3 3 1 1]]]\n",
            "\n",
            "\n",
            " [[[2 1 0 2 2]\n",
            "   [1 1 2 1 3]]\n",
            "\n",
            "  [[2 0 2 2 0]\n",
            "   [1 0 2 2 1]]\n",
            "\n",
            "  [[2 1 2 0 1]\n",
            "   [2 3 0 1 2]]\n",
            "\n",
            "  [[2 1 0 2 2]\n",
            "   [1 3 1 3 3]]]]\n",
            "Stacked array 3 has dimensions (3, 4, 2, 5) \n",
            "\n",
            "Stacked array 4 has dimensions (3, 4, 5, 2) \n",
            "\n"
          ]
        }
      ]
    },
    {
      "cell_type": "markdown",
      "metadata": {
        "id": "8261iA_qa4vP"
      },
      "source": [
        "###5c. Repeat"
      ]
    },
    {
      "cell_type": "markdown",
      "metadata": {
        "id": "hhmrx2g2a-kW"
      },
      "source": [
        "The repeat operation repeats elements of an array. The number of repetitions for each element is broadcasted to fit the shape of the given axis. The axis parameter specifies along which axis to repeat values. By default, it uses the flattened input array, and return a flat output array."
      ]
    },
    {
      "cell_type": "code",
      "metadata": {
        "colab": {
          "base_uri": "https://localhost:8080/"
        },
        "id": "HROTjVJsa8cG",
        "outputId": "aee19f11-004b-4b99-8fa0-3d0be5dace4c"
      },
      "source": [
        "\n",
        "# Repeat in Numpy Arrays\n",
        "\n",
        "original_array = np.array([[1,2],[3,4]])\n",
        "print(\"Array is \\n\", original_array, \" with dimensions \", original_array.shape, \"\\n\")\n",
        "\n",
        "repeated_array1 = np.repeat(original_array, 2)\n",
        "print(\"Repeated array 1 is \\n\", repeated_array1, \"\\n\\n\", \"and the dimensions of the repeated array 1 are: \\n\", repeated_array1.shape, \"\\n\")\n",
        "\n",
        "repeated_array2 = np.repeat(original_array, 3, axis=0)\n",
        "print(\"Repeated array 2 is \\n\", repeated_array2, \"\\n\\n\", \"and the dimensions of the repeated array 2 are: \\n\", repeated_array2.shape, \"\\n\")\n",
        "\n",
        "repeated_array3 = np.repeat(original_array, 3, axis=1)\n",
        "print(\"Repeated array 3 is \\n\", repeated_array3, \"\\n\\n\", \"and the dimensions of the repeated array 3 are: \\n\", repeated_array3.shape, \"\\n\")\n",
        "\n",
        "repeated_array4 = np.repeat(original_array, [2,3], axis=0)\n",
        "print(\"Repeated array 4 is \\n\", repeated_array4, \"\\n\\n\", \"and the dimensions of the repeated array 4 are: \\n\", repeated_array4.shape, \"\\n\")\n"
      ],
      "execution_count": 180,
      "outputs": [
        {
          "output_type": "stream",
          "name": "stdout",
          "text": [
            "Array is \n",
            " [[1 2]\n",
            " [3 4]]  with dimensions  (2, 2) \n",
            "\n",
            "Repeated array 1 is \n",
            " [1 1 2 2 3 3 4 4] \n",
            "\n",
            " and the dimensions of the repeated array 1 are: \n",
            " (8,) \n",
            "\n",
            "Repeated array 2 is \n",
            " [[1 2]\n",
            " [1 2]\n",
            " [1 2]\n",
            " [3 4]\n",
            " [3 4]\n",
            " [3 4]] \n",
            "\n",
            " and the dimensions of the repeated array 2 are: \n",
            " (6, 2) \n",
            "\n",
            "Repeated array 3 is \n",
            " [[1 1 1 2 2 2]\n",
            " [3 3 3 4 4 4]] \n",
            "\n",
            " and the dimensions of the repeated array 3 are: \n",
            " (2, 6) \n",
            "\n",
            "Repeated array 4 is \n",
            " [[1 2]\n",
            " [1 2]\n",
            " [3 4]\n",
            " [3 4]\n",
            " [3 4]] \n",
            "\n",
            " and the dimensions of the repeated array 4 are: \n",
            " (5, 2) \n",
            "\n"
          ]
        }
      ]
    },
    {
      "cell_type": "markdown",
      "metadata": {
        "id": "zOlZOF8r_AXO"
      },
      "source": [
        "# 6. Math operations"
      ]
    },
    {
      "cell_type": "markdown",
      "metadata": {
        "id": "Qu8ZLACkSvaU"
      },
      "source": [
        "In this section we will cover some commonly used mathematical operations\n",
        "1. Broadcasting\n",
        "1. Point-wise/element-wise operations\n",
        "1. Redution operations\n",
        "1. Comparison operations\n",
        "1. Vector/Matrix operations"
      ]
    },
    {
      "cell_type": "markdown",
      "metadata": {
        "id": "j1hTl9b4_Jre"
      },
      "source": [
        "## a. Broadcasting"
      ]
    },
    {
      "cell_type": "code",
      "metadata": {
        "id": "PbC7tpbM_DGV",
        "colab": {
          "base_uri": "https://localhost:8080/"
        },
        "outputId": "8ad8000a-acfb-4c10-e145-53bc0cac5436"
      },
      "source": [
        "# Broadcasting b/w arrays of different dimensions\n",
        "# Note: When broadting two multi-dimensional tensors, match their corresponding dimensions beginning from the last dimension.\n",
        "# All dimensions should either match or one of the arrays should have length 1 in that specific dimension\n",
        "\n",
        "row_arr = np.random.rand(1,3)\n",
        "print(\"A row array: \\n\", row_arr, \" with dimensions \", row_arr.shape, \"\\n\")\n",
        "col_arr = np.random.rand(4,1)\n",
        "print(\"A column array: \\n\", col_arr, \" with dimensions \", col_arr.shape, \"\\n\")\n",
        "\n",
        "add_arr = row_arr + col_arr\n",
        "print(\"row array + column array = \")\n",
        "print(add_arr,\" with dimensions \", add_arr.shape, \"\\n\")\n",
        "mul_arr = row_arr * col_arr\n",
        "print(\"row array * column array = \")\n",
        "print(mul_arr,\" with dimensions \", mul_arr.shape, \"\\n\")\n"
      ],
      "execution_count": 182,
      "outputs": [
        {
          "output_type": "stream",
          "name": "stdout",
          "text": [
            "A row array: \n",
            " [[0.88519079 0.89641751 0.80681856]]  with dimensions  (1, 3) \n",
            "\n",
            "A column array: \n",
            " [[0.78703743]\n",
            " [0.81153715]\n",
            " [0.32456205]\n",
            " [0.62083596]]  with dimensions  (4, 1) \n",
            "\n",
            "row array + column array = \n",
            "[[1.67222821 1.68345494 1.59385598]\n",
            " [1.69672793 1.70795466 1.61835571]\n",
            " [1.20975283 1.22097956 1.13138061]\n",
            " [1.50602674 1.51725347 1.42765452]]  with dimensions  (4, 3) \n",
            "\n",
            "row array * column array = \n",
            "[[0.69667828 0.70551413 0.6349964 ]\n",
            " [0.71836521 0.72747611 0.65476323]\n",
            " [0.28729933 0.2909431  0.26186268]\n",
            " [0.54955827 0.55652823 0.50090197]]  with dimensions  (4, 3) \n",
            "\n"
          ]
        }
      ]
    },
    {
      "cell_type": "markdown",
      "metadata": {
        "id": "AnNUVLDg_Y0Y"
      },
      "source": [
        "\n",
        "## b.Element-wise operations"
      ]
    },
    {
      "cell_type": "code",
      "metadata": {
        "id": "miu5scYG_b7I",
        "colab": {
          "base_uri": "https://localhost:8080/"
        },
        "outputId": "4ae1516f-759c-4f06-96be-94203cb41065"
      },
      "source": [
        "rand_arr_1 = np.random.rand(2,3)\n",
        "print(\"A random array1 : \\n\", rand_arr_1, \" with dimensions \", rand_arr_1.shape, \"\\n\")\n",
        "rand_arr_2 = np.random.rand(2,3)\n",
        "print(\"A random array2 : \\n\", rand_arr_2, \" with dimensions \", rand_arr_2.shape, \"\\n\")\n",
        "scalar = 5.0\n",
        "\n",
        "# Addition with Scalars\n",
        "\n",
        "new_arr_1 = rand_arr_1 + scalar\n",
        "print(\"random array1 + 5.0 =\")\n",
        "print(new_arr_1, \"\\n\")\n",
        "\n",
        "# Multiplication with Scalars\n",
        "new_arr_2 = rand_arr_1 * scalar\n",
        "print(\"random array1 * 5.0 =\")\n",
        "print(new_arr_2, \"\\n\")\n",
        "\n",
        "# Elementwise Addition of Arrays\n",
        "new_arr_3 = rand_arr_1 + rand_arr_2\n",
        "print(\"random array1 + random array2 =\")\n",
        "print(new_arr_3, \"\\n\")\n",
        "\n",
        "# Elementwise Multiplication of Arrays aka Hadmard Product\n",
        "new_arr_4 = rand_arr_1 * rand_arr_2\n",
        "print(\"random array1 * random array2 =\")\n",
        "print(new_arr_4, \"\\n\") # also equivalent to np.multiply(array1, array2)\n",
        "\n",
        "# Absolute value\n",
        "new_arr_5 = np.abs(-10*rand_arr_1)\n",
        "print(\"abs (-10 * random array1) =\")\n",
        "print(new_arr_5, \"\\n\")\n",
        "\n",
        "# Square root value\n",
        "new_arr_6 = np.sqrt(rand_arr_1)\n",
        "print('sqrt(random array1) = \\n', new_arr_6, \"\\n\")"
      ],
      "execution_count": 183,
      "outputs": [
        {
          "output_type": "stream",
          "name": "stdout",
          "text": [
            "A random array1 : \n",
            " [[0.18159119 0.85264606 0.95783722]\n",
            " [0.25259335 0.06943365 0.72945206]]  with dimensions  (2, 3) \n",
            "\n",
            "A random array2 : \n",
            " [[0.91705518 0.84345826 0.01306861]\n",
            " [0.4308811  0.39540359 0.42141242]]  with dimensions  (2, 3) \n",
            "\n",
            "random array1 + 5.0 =\n",
            "[[5.18159119 5.85264606 5.95783722]\n",
            " [5.25259335 5.06943365 5.72945206]] \n",
            "\n",
            "random array1 * 5.0 =\n",
            "[[0.90795593 4.26323029 4.78918611]\n",
            " [1.26296675 0.34716825 3.64726028]] \n",
            "\n",
            "random array1 + random array2 =\n",
            "[[1.09864637 1.69610432 0.97090584]\n",
            " [0.68347445 0.46483724 1.15086448]] \n",
            "\n",
            "random array1 * random array2 =\n",
            "[[0.16652914 0.71917136 0.0125176 ]\n",
            " [0.1088377  0.02745431 0.30740016]] \n",
            "\n",
            "abs (-10 * random array1) =\n",
            "[[1.81591186 8.52646059 9.57837222]\n",
            " [2.52593349 0.6943365  7.29452056]] \n",
            "\n",
            "sqrt(random array1) = \n",
            " [[0.42613517 0.92338836 0.97869159]\n",
            " [0.50258666 0.26350266 0.85407965]] \n",
            "\n"
          ]
        }
      ]
    },
    {
      "cell_type": "markdown",
      "metadata": {
        "id": "YE_Gl8fd_wxc"
      },
      "source": [
        "## c.Reduction"
      ]
    },
    {
      "cell_type": "code",
      "metadata": {
        "id": "2BEc2arl_y3Z",
        "colab": {
          "base_uri": "https://localhost:8080/"
        },
        "outputId": "5fba3aa5-c3b5-4373-918a-10aeae4e44bc"
      },
      "source": [
        "rand_arr = np.random.rand(2,3)\n",
        "print('random array: \\n', rand_arr, \"\\n\")\n",
        "\n",
        "max_val = np.max(rand_arr)\n",
        "print('Maximum value of array \\n', max_val, \"\\n\")\n",
        "min_val = np.min(rand_arr)\n",
        "print('Minimum value of array \\n', min_val, \"\\n\")\n",
        "\n",
        "sum_val = np.sum(rand_arr)\n",
        "print('Sum of array \\n', sum_val, \"\\n\")\n",
        "max_idx = np.argmax(rand_arr, axis=0)\n",
        "print('Maximum value\\'s index of array along axis 0 \\n', max_idx, \"\\n\")\n",
        "min_idx = np.argmin(rand_arr, axis=1)\n",
        "print('Minimum value\\'s index of array along axis 1 \\n', min_idx, \"\\n\")\n",
        "\n",
        "mean_val = np.mean(rand_arr)\n",
        "print('Mean value of array \\n', mean_val, \"\\n\")\n",
        "std_val = np.std(rand_arr)\n",
        "print('Standard deviation value of array \\n', std_val, \"\\n\")\n",
        "norm_val = np.linalg.norm(rand_arr)\n",
        "print('Norm value of array \\n', norm_val, \"\\n\")"
      ],
      "execution_count": 184,
      "outputs": [
        {
          "output_type": "stream",
          "name": "stdout",
          "text": [
            "random array: \n",
            " [[0.1402355  0.76123849 0.6924583 ]\n",
            " [0.61182749 0.92891012 0.71541838]] \n",
            "\n",
            "Maximum value of array \n",
            " 0.9289101150237433 \n",
            "\n",
            "Minimum value of array \n",
            " 0.1402354961897605 \n",
            "\n",
            "Sum of array \n",
            " 3.850088275806984 \n",
            "\n",
            "Maximum value's index of array along axis 0 \n",
            " [1 1 1] \n",
            "\n",
            "Minimum value's index of array along axis 1 \n",
            " [0 0] \n",
            "\n",
            "Mean value of array \n",
            " 0.641681379301164 \n",
            "\n",
            "Standard deviation value of array \n",
            " 0.24397708895024586 \n",
            "\n",
            "Norm value of array \n",
            " 1.6815703597669895 \n",
            "\n"
          ]
        }
      ]
    },
    {
      "cell_type": "markdown",
      "metadata": {
        "id": "7dX2TV-DANcv"
      },
      "source": [
        "## d.Comparision"
      ]
    },
    {
      "cell_type": "code",
      "metadata": {
        "id": "_WknmTBnAPV0",
        "colab": {
          "base_uri": "https://localhost:8080/"
        },
        "outputId": "849a6ffb-22de-49c9-cd88-601f6af8ca28"
      },
      "source": [
        "rand_arr_1 = np.random.rand(2,3)\n",
        "print('random array1: \\n', rand_arr_1, '\\n')\n",
        "rand_arr_2 = np.random.rand(2,3)\n",
        "print('random array2: \\n', rand_arr_2, '\\n')\n",
        "\n",
        "# Element-wise Comparison Operations\n",
        "greater_compare = rand_arr_1 > rand_arr_2\n",
        "print('random array1 > random array2')\n",
        "print(greater_compare, '\\n')\n",
        "\n",
        "less_compare = rand_arr_1 < rand_arr_2\n",
        "print('random array1 < random array2')\n",
        "print(less_compare, '\\n')\n",
        "\n",
        "not_equal_compare = rand_arr_1 != rand_arr_2\n",
        "print('random array1 != random array2')\n",
        "print(not_equal_compare, '\\n')\n",
        "\n",
        "# Combining reduction operations with boolean arrays\n",
        "print(\"any values for random array1 > random array2:\")\n",
        "print((rand_arr_1 > rand_arr_2).any(), \"\\n\")\n",
        "\n",
        "print(\"all values for random array1 > random array2:\")\n",
        "print((rand_arr_1 > rand_arr_2).all(), \"\\n\")\n",
        "\n",
        "print(\"any values along first axis for random array1 > random array2:\")\n",
        "print((rand_arr_1 > rand_arr_2).any(axis=0), \"\\n\")\n",
        "\n",
        "print(\"any values along second axis for random array1 > random array2:\")\n",
        "print((rand_arr_1 > rand_arr_2).any(axis=1), \"\\n\")\n",
        "\n",
        "print(\"any values for random array1 != random array2:\")\n",
        "print((rand_arr_1 != rand_arr_2).any(), \"\\n\")\n",
        "\n",
        "print(\"all values for random array1 != random array2:\")\n",
        "print((rand_arr_1 != rand_arr_2).all(), \"\\n\")"
      ],
      "execution_count": 186,
      "outputs": [
        {
          "output_type": "stream",
          "name": "stdout",
          "text": [
            "random array1: \n",
            " [[0.64318656 0.49611844 0.65693785]\n",
            " [0.2930088  0.14126333 0.83674618]] \n",
            "\n",
            "random array2: \n",
            " [[0.11316804 0.11198337 0.45891261]\n",
            " [0.4149644  0.94542654 0.41213633]] \n",
            "\n",
            "random array1 > random array2\n",
            "[[ True  True  True]\n",
            " [False False  True]] \n",
            "\n",
            "random array1 < random array2\n",
            "[[False False False]\n",
            " [ True  True False]] \n",
            "\n",
            "random array1 != random array2\n",
            "[[ True  True  True]\n",
            " [ True  True  True]] \n",
            "\n",
            "any values for random array1 > random array2:\n",
            "True \n",
            "\n",
            "all values for random array1 > random array2:\n",
            "False \n",
            "\n",
            "any values along first axis for random array1 > random array2:\n",
            "[ True  True  True] \n",
            "\n",
            "any values along second axis for random array1 > random array2:\n",
            "[ True  True] \n",
            "\n",
            "any values for random array1 != random array2:\n",
            "True \n",
            "\n",
            "all values for random array1 != random array2:\n",
            "True \n",
            "\n"
          ]
        }
      ]
    },
    {
      "cell_type": "markdown",
      "metadata": {
        "id": "eKQLWKRaAW2_"
      },
      "source": [
        "## e.Vector/Matrix operations"
      ]
    },
    {
      "cell_type": "code",
      "metadata": {
        "colab": {
          "base_uri": "https://localhost:8080/"
        },
        "id": "TLVtVbbvXUor",
        "outputId": "89a25bb3-27eb-47b1-c9a8-a0fb3d19eebe"
      },
      "source": [
        "# Vector x Vector\n",
        "array1 = np.random.randn(3)\n",
        "array2 = np.random.randn(3)\n",
        "\n",
        "print('Array1 \\n', array1, 'with dimension ', array1.shape, '\\n')\n",
        "print('Array2 \\n', array2, 'with dimension ', array2.shape, '\\n')\n",
        "\n",
        "matmul_arr = np.matmul(array1, array2)\n",
        "another_arr = array1@array2\n",
        "print('Matmul of the two arrays can be derived by using np.matmul(array1, array2) \\n', matmul_arr)\n",
        "print(\"Matmul of the two arrays can also be derived by using array1@array2 \\n\", another_arr)\n",
        "print('Dimensions of resulting product: \\n', matmul_arr.shape)\n",
        "\n",
        "# Matrix x Vector\n",
        "array3 = np.random.randn(3, 4)\n",
        "array4 = np.random.randn(4)\n",
        "\n",
        "print('Array3 \\n', array3, 'with dimension ', array3.shape, '\\n')\n",
        "print('Array4 \\n', array4, 'with dimension ', array4.shape, '\\n')\n",
        "\n",
        "matmul_arr = np.matmul(array3, array4)\n",
        "another_arr = array3@array4\n",
        "print('Matmul of a vector and a matrix can be derived by using np.matmul(array3, array4) \\n', matmul_arr)\n",
        "print('Matmul of a vector and a matrix can also be derived by using array3@array4 \\n', another_arr)\n",
        "print('Dimensions of resulting product: \\n', matmul_arr.shape)\n",
        "\n",
        "# Matrix x Matrix \n",
        "\n",
        "matrix1 = np.random.randint(4, size = (2, 3))\n",
        "matrix2 = np.random.randint(4, size = (3, 2))\n",
        "\n",
        "print('Matrix1 \\n', matrix1, 'with dimension ', matrix1.shape, '\\n')\n",
        "print('Matrix2 \\n', matrix2, 'with dimension ', matrix2.shape, '\\n')\n",
        "\n",
        "matmul_mat = np.matmul(matrix1, matrix2)\n",
        "print('Matmul of two matrices can be derived by using np.matmul(matrix1, matrix2) \\n', matmul_mat)\n",
        "print('Dimensions of resulting product: \\n', matmul_mat.shape, \"\\n\")"
      ],
      "execution_count": 187,
      "outputs": [
        {
          "output_type": "stream",
          "name": "stdout",
          "text": [
            "Array1 \n",
            " [-1.19376926 -1.16472182  0.83583178] with dimension  (3,) \n",
            "\n",
            "Array2 \n",
            " [-0.87731628  0.06730311 -0.21366744] with dimension  (3,) \n",
            "\n",
            "Matmul of the two arrays can be derived by using np.matmul(array1, array2) \n",
            " 0.7903337780545778\n",
            "Matmul of the two arrays can also be derived by using array1@array2 \n",
            " 0.7903337780545778\n",
            "Dimensions of resulting product: \n",
            " ()\n",
            "Array3 \n",
            " [[ 0.18352954 -0.28802781  0.67252175 -1.06059989]\n",
            " [ 0.76610474 -0.04469236 -0.0673834  -1.2281184 ]\n",
            " [-0.21345513 -0.58338066 -1.17613076  0.93616502]] with dimension  (3, 4) \n",
            "\n",
            "Array4 \n",
            " [-0.33002594 -0.14039343  0.79584245 -0.4422713 ] with dimension  (4,) \n",
            "\n",
            "Matmul of a vector and a matrix can be derived by using np.matmul(array3, array4) \n",
            " [ 0.98416196  0.24297502 -1.19770517]\n",
            "Matmul of a vector and a matrix can also be derived by using array3@array4 \n",
            " [ 0.98416196  0.24297502 -1.19770517]\n",
            "Dimensions of resulting product: \n",
            " (3,)\n",
            "Matrix1 \n",
            " [[0 3 0]\n",
            " [1 0 2]] with dimension  (2, 3) \n",
            "\n",
            "Matrix2 \n",
            " [[3 2]\n",
            " [2 3]\n",
            " [0 0]] with dimension  (3, 2) \n",
            "\n",
            "Matmul of two matrices can be derived by using np.matmul(matrix1, matrix2) \n",
            " [[6 9]\n",
            " [3 2]]\n",
            "Dimensions of resulting product: \n",
            " (2, 2) \n",
            "\n"
          ]
        }
      ]
    },
    {
      "cell_type": "code",
      "metadata": {
        "id": "FUfwyTPiAbC7",
        "colab": {
          "base_uri": "https://localhost:8080/"
        },
        "outputId": "adc91205-1788-4940-dfcf-42bf7ad61eff"
      },
      "source": [
        "rand_mat_1 = np.random.rand(4,2)\n",
        "rand_mat_2 = np.random.rand(2,3)\n",
        "print('Matrix1 \\n', rand_mat_1, 'with dimension ', rand_mat_1.shape, '\\n')\n",
        "print('Matrix2 \\n', rand_mat_2, 'with dimension ', rand_mat_2.shape, '\\n')\n",
        "\n",
        "# dot product\n",
        "dot_mat = np.dot(rand_mat_1, rand_mat_2)\n",
        "another_mat = rand_mat_1@rand_mat_2\n",
        "print('Dot product of two matrices can be derived by using np.dot(mat1, mat2) \\n', dot_mat)\n",
        "print('Dot product of two matrices can also be derived by using mat1@mat2 \\n', another_mat)\n",
        "print('Dimensions of resulting product: \\n', dot_mat.shape)\n",
        "\n",
        "a = np.ones([9, 5, 7, 4])\n",
        "b = np.ones([9, 5, 4, 3])\n",
        "print('array1 \\'s dimension ', a.shape, '\\n')\n",
        "print('array2 \\'s dimension ', b.shape, '\\n')\n",
        "\n",
        "# matmul with multi-dimenstion arrays\n",
        "c = np.matmul(a,b)\n",
        "print('Matmul of two multi-dimension arrays can be derived by using np.matmul(array1, array2) \\n')\n",
        "print('Dimensions of resulting product: \\n', c.shape)"
      ],
      "execution_count": 188,
      "outputs": [
        {
          "output_type": "stream",
          "name": "stdout",
          "text": [
            "Matrix1 \n",
            " [[0.17284379 0.02700308]\n",
            " [0.22909131 0.40195862]\n",
            " [0.51558873 0.21015325]\n",
            " [0.16511258 0.68994799]] with dimension  (4, 2) \n",
            "\n",
            "Matrix2 \n",
            " [[0.09518928 0.34832992 0.80896286]\n",
            " [0.45963719 0.6261243  0.20364683]] with dimension  (2, 3) \n",
            "\n",
            "Dot product of two matrices can be derived by using np.dot(mat1, mat2) \n",
            " [[0.0288645  0.07711395 0.1453233 ]\n",
            " [0.20656217 0.33147542 0.26718396]\n",
            " [0.14567277 0.31117704 0.45988918]\n",
            " [0.3328427  0.48950685 0.27407566]]\n",
            "Dot product of two matrices can also be derived by using mat1@mat2 \n",
            " [[0.0288645  0.07711395 0.1453233 ]\n",
            " [0.20656217 0.33147542 0.26718396]\n",
            " [0.14567277 0.31117704 0.45988918]\n",
            " [0.3328427  0.48950685 0.27407566]]\n",
            "Dimensions of resulting product: \n",
            " (4, 3)\n",
            "array1 's dimension  (9, 5, 7, 4) \n",
            "\n",
            "array2 's dimension  (9, 5, 4, 3) \n",
            "\n",
            "Matmul of two multi-dimension arrays can be derived by using np.matmul(array1, array2) \n",
            "\n",
            "Dimensions of resulting product: \n",
            " (9, 5, 7, 3)\n"
          ]
        }
      ]
    },
    {
      "cell_type": "markdown",
      "metadata": {
        "id": "xkoAAwWVam3U"
      },
      "source": [
        "###Tensordot\n",
        "\n",
        "Understanding tensordot function will help you in writing succint code for your homeworks especially in Convolutional Neural Net assignment.\n",
        "\n",
        "To give a brief overview: \n",
        "We input the arrays and the respective axes along which the sum-reductions are intended. The axes that take part in sum-reduction are removed in the output and all of the remaining axes from the input arrays are spread-out as different axes in the output keeping the order in which the input arrays are fed.\n",
        "\n",
        "To understand in depth please checkout: https://stackoverflow.com/questions/41870228/understanding-tensordot"
      ]
    },
    {
      "cell_type": "code",
      "metadata": {
        "colab": {
          "base_uri": "https://localhost:8080/"
        },
        "id": "uksWAaQxarn1",
        "outputId": "d67f8939-7ca2-4792-f559-88931aeb1c5c"
      },
      "source": [
        "a = np.arange(60.).reshape(3,4,5)\n",
        "b = np.arange(24.).reshape(4,3,2)\n",
        "print('A \\'s dimension ', a.shape, '\\n')\n",
        "print('B \\'s dimension ', b.shape, '\\n')\n",
        "\n",
        "# compute tensor dot product along specified axes.\n",
        "c = np.tensordot(a,b, axes=([1,0],[0,1]))\n",
        "print(\"A⨂B =\\n\", c, ' with dimension', c.shape, '\\n')\n",
        "\n",
        "# this equals to \n",
        "d = np.zeros((5,2))\n",
        "for i in range(5):\n",
        "  for j in range(2):\n",
        "    for k in range(3):\n",
        "      for n in range(4):\n",
        "        d[i,j] += a[k,n,i] * b[n,k,j]\n",
        "print(\"tensor dot is equal to sum over certain dimensions.\\n\")\n",
        "print(c==d)"
      ],
      "execution_count": 189,
      "outputs": [
        {
          "output_type": "stream",
          "name": "stdout",
          "text": [
            "A 's dimension  (3, 4, 5) \n",
            "\n",
            "B 's dimension  (4, 3, 2) \n",
            "\n",
            "A⨂B =\n",
            " [[4400. 4730.]\n",
            " [4532. 4874.]\n",
            " [4664. 5018.]\n",
            " [4796. 5162.]\n",
            " [4928. 5306.]]  with dimension (5, 2) \n",
            "\n",
            "tensor dot is equal to sum over certain dimensions.\n",
            "\n",
            "[[ True  True]\n",
            " [ True  True]\n",
            " [ True  True]\n",
            " [ True  True]\n",
            " [ True  True]]\n"
          ]
        }
      ]
    }
  ]
}