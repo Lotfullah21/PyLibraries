{
  "nbformat": 4,
  "nbformat_minor": 0,
  "metadata": {
    "colab": {
      "provenance": [],
      "authorship_tag": "ABX9TyMKZed5iekaeTTvJ+f0bLYJ",
      "include_colab_link": true
    },
    "kernelspec": {
      "name": "python3",
      "display_name": "Python 3"
    },
    "language_info": {
      "name": "python"
    }
  },
  "cells": [
    {
      "cell_type": "markdown",
      "metadata": {
        "id": "view-in-github",
        "colab_type": "text"
      },
      "source": [
        "<a href=\"https://colab.research.google.com/github/Lotfullah21/PyLibraries/blob/main/Training_models.ipynb\" target=\"_parent\"><img src=\"https://colab.research.google.com/assets/colab-badge.svg\" alt=\"Open In Colab\"/></a>"
      ]
    },
    {
      "cell_type": "markdown",
      "source": [
        "## Normal equation.\n",
        "\n",
        "in order to solve an equation,we might have a closed form solution or an iterative one, Here if we consider solving the equation using its closed form solution, Remember, all equations does not have closed form solution.\n",
        "\n",
        "if we want to estimate our parameter (theta), we are going to solve this equation.\n",
        "\n",
        " **theta_hat = (X_transpose*X)^-1 * X_transpos * Y**\n",
        "\n",
        "in the above equation,\n",
        "\n",
        "1. theta_hat is our parameter that minimizes the loss or cost function.\n",
        "2. y is the output or target values.\n",
        "\n",
        "Now, lets go through the above equation using a simple data"
      ],
      "metadata": {
        "id": "9dP9R1AjY56A"
      }
    },
    {
      "cell_type": "code",
      "source": [
        "import numpy as np\n",
        "import matplotlib.pyplot as plt"
      ],
      "metadata": {
        "id": "zEaJq45Sa_IV"
      },
      "execution_count": 20,
      "outputs": []
    },
    {
      "cell_type": "code",
      "source": [
        "X = 4 * np.random.rand(100,1)\n",
        "# y = 2 + 4*x + some random noise\n",
        "y = 2 + 4 * X + np.random.rand(100,1)"
      ],
      "metadata": {
        "id": "Z6O4ytUlEmr_"
      },
      "execution_count": 15,
      "outputs": []
    },
    {
      "cell_type": "markdown",
      "source": [
        "let's apply normal equation to compute our parameter.\n"
      ],
      "metadata": {
        "id": "NOIDneyvelGO"
      }
    },
    {
      "cell_type": "code",
      "source": [
        "theta = np.linalg.inv(X.T.dot(X)).dot(X.T).dot(y)"
      ],
      "metadata": {
        "id": "NUT2ZecpEoZO"
      },
      "execution_count": 16,
      "outputs": []
    },
    {
      "cell_type": "code",
      "source": [
        "theta"
      ],
      "metadata": {
        "colab": {
          "base_uri": "https://localhost:8080/"
        },
        "id": "EZ5Os_bmfSt8",
        "outputId": "183ecf16-fd1b-4059-861f-fe7f14d22ff7"
      },
      "execution_count": 17,
      "outputs": [
        {
          "output_type": "execute_result",
          "data": {
            "text/plain": [
              "array([[4.88856813]])"
            ]
          },
          "metadata": {},
          "execution_count": 17
        }
      ]
    },
    {
      "cell_type": "code",
      "source": [
        "x_new = np.array([[1],[2]])\n",
        "y_predict = x_new.dot(theta)"
      ],
      "metadata": {
        "id": "RVVFhrl7bJAE"
      },
      "execution_count": 18,
      "outputs": []
    },
    {
      "cell_type": "code",
      "source": [
        "y_predict"
      ],
      "metadata": {
        "colab": {
          "base_uri": "https://localhost:8080/"
        },
        "id": "6uDSk5Tof4mv",
        "outputId": "800e0050-6ca7-4c0e-a559-0c0bb4d2ecbc"
      },
      "execution_count": 19,
      "outputs": [
        {
          "output_type": "execute_result",
          "data": {
            "text/plain": [
              "array([[4.88856813],\n",
              "       [9.77713626]])"
            ]
          },
          "metadata": {},
          "execution_count": 19
        }
      ]
    },
    {
      "cell_type": "code",
      "source": [
        "plt.plot(x_new,y_predict,'green')\n",
        "plt.plot(X,y,\"r.\")\n",
        "plt.axis([0,2,0,10])\n",
        "plt.show()"
      ],
      "metadata": {
        "colab": {
          "base_uri": "https://localhost:8080/",
          "height": 269
        },
        "id": "9MfL1ZRyf6ZS",
        "outputId": "9f5d839a-5f4e-4455-d469-fd3737bb8dca"
      },
      "execution_count": 30,
      "outputs": [
        {
          "output_type": "display_data",
          "data": {
            "text/plain": [
              "<Figure size 432x288 with 1 Axes>"
            ],
            "image/png": "[encoded data removed]"
          },
          "metadata": {
            "needs_background": "light"
          }
        }
      ]
    },
    {
      "cell_type": "markdown",
      "source": [
        "## Linear Regression\n"
      ],
      "metadata": {
        "id": "R9kwBP0Fg_BQ"
      }
    },
    {
      "cell_type": "code",
      "source": [
        "from sklearn.linear_model import LinearRegression\n",
        "linear_reg = LinearRegression()\n",
        "linear_reg.fit(X,y)\n",
        "linear_reg.intercept_,linear_reg.coef_"
      ],
      "metadata": {
        "colab": {
          "base_uri": "https://localhost:8080/"
        },
        "id": "EAcUT-FegLeN",
        "outputId": "1dd41d61-d94f-41d1-e9f3-854dec3930b7"
      },
      "execution_count": 31,
      "outputs": [
        {
          "output_type": "execute_result",
          "data": {
            "text/plain": [
              "(array([2.52070668]), array([[3.98796927]]))"
            ]
          },
          "metadata": {},
          "execution_count": 31
        }
      ]
    },
    {
      "cell_type": "markdown",
      "source": [
        "y = 2 + 4 * X + np.random.rand(100,1)\n",
        "we can see it almost get it right for coef of X, but for x0 = 2, it gives us 2.5, which is higher than x0"
      ],
      "metadata": {
        "id": "88UTxYPihhp9"
      }
    },
    {
      "cell_type": "code",
      "source": [
        "linear_reg.predict(x_new)"
      ],
      "metadata": {
        "colab": {
          "base_uri": "https://localhost:8080/"
        },
        "id": "SmIgtLsRhZll",
        "outputId": "db1388c6-7509-4617-9f5c-283568d9f4b0"
      },
      "execution_count": 32,
      "outputs": [
        {
          "output_type": "execute_result",
          "data": {
            "text/plain": [
              "array([[ 6.50867595],\n",
              "       [10.49664522]])"
            ]
          },
          "metadata": {},
          "execution_count": 32
        }
      ]
    },
    {
      "cell_type": "markdown",
      "source": [
        "## Gradient descent\n",
        "it is another way of finding the optimal theta, it tweks the parameters theta unitll it gets it right.\n"
      ],
      "metadata": {
        "id": "06pMHhAIkAQI"
      }
    },
    {
      "cell_type": "code",
      "source": [
        "learning_rate = 0.1\n",
        "n_iterations = 1000\n",
        "n = 100\n"
      ],
      "metadata": {
        "id": "THuPYXQGh34W"
      },
      "execution_count": 62,
      "outputs": []
    },
    {
      "cell_type": "code",
      "source": [
        "theta = np.random.randn(1,2)  # random initialization\n",
        "theta\n"
      ],
      "metadata": {
        "colab": {
          "base_uri": "https://localhost:8080/"
        },
        "id": "dqCG7QCtkh6I",
        "outputId": "9b572b3d-dae7-435b-fdc7-29fb5f5234a4"
      },
      "execution_count": 74,
      "outputs": [
        {
          "output_type": "execute_result",
          "data": {
            "text/plain": [
              "array([[-0.07562681, -1.83643109]])"
            ]
          },
          "metadata": {},
          "execution_count": 74
        }
      ]
    },
    {
      "cell_type": "code",
      "source": [
        "for itearation in range(n_iterations):\n",
        "  gradient = 2/n * X.T.dot(X.dot(theta)-y)\n",
        "  theta = theta - learning_rate * gradient"
      ],
      "metadata": {
        "id": "wjTNNSttkm6K"
      },
      "execution_count": 75,
      "outputs": []
    },
    {
      "cell_type": "code",
      "source": [
        "theta"
      ],
      "metadata": {
        "colab": {
          "base_uri": "https://localhost:8080/"
        },
        "id": "XuGTLjqolOyt",
        "outputId": "72776aef-b62f-4ff6-9444-af451650ac21"
      },
      "execution_count": 76,
      "outputs": [
        {
          "output_type": "execute_result",
          "data": {
            "text/plain": [
              "array([[4.88856813, 4.88856813]])"
            ]
          },
          "metadata": {},
          "execution_count": 76
        }
      ]
    },
    {
      "cell_type": "code",
      "source": [
        "  "
      ],
      "metadata": {
        "id": "0g_Q7Q_1lxMl"
      },
      "execution_count": null,
      "outputs": []
    }
  ]
}