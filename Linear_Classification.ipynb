{
  "nbformat": 4,
  "nbformat_minor": 0,
  "metadata": {
    "colab": {
      "provenance": [],
      "authorship_tag": "ABX9TyMfie9czGULXcHLPJ/fWfCL",
      "include_colab_link": true
    },
    "kernelspec": {
      "name": "python3",
      "display_name": "Python 3"
    },
    "language_info": {
      "name": "python"
    }
  },
  "cells": [
    {
      "cell_type": "markdown",
      "metadata": {
        "id": "view-in-github",
        "colab_type": "text"
      },
      "source": [
        "<a href=\"https://colab.research.google.com/github/Lotfullah21/PyLibraries/blob/main/Linear_Classification.ipynb\" target=\"_parent\"><img src=\"https://colab.research.google.com/assets/colab-badge.svg\" alt=\"Open In Colab\"/></a>"
      ]
    },
    {
      "cell_type": "code",
      "execution_count": 19,
      "metadata": {
        "id": "QwSFHe6Y8YtV"
      },
      "outputs": [],
      "source": [
        "import numpy as np\n",
        "import math"
      ]
    },
    {
      "cell_type": "code",
      "source": [
        "def L(x,y,w):\n",
        "  delta = 1\n",
        "  scores = w.dot(x)\n",
        "  correct_class_score  = scores[y]\n",
        "  D = w.shape[0]\n",
        "  loss_i = 0\n",
        "  for j in range(D):\n",
        "    if j==y:\n",
        "      continue\n",
        "    loss_i = loss_i + max(0,scores[j]-correct_class_score+delta)\n",
        "\n",
        "  return loss_i\n",
        "\n"
      ],
      "metadata": {
        "id": "JCC5huGnM7IF"
      },
      "execution_count": 16,
      "outputs": []
    },
    {
      "cell_type": "code",
      "source": [
        "def Loss_vectorized(x,y,w):\n",
        "  delta = 1.0\n",
        "  scores = w.dot(x)\n",
        "  margins = np.maximum(0,scores[y]+delta)\n",
        "  margins[y] = 0\n",
        "  loss_i = np.sum(margins)\n",
        "  return loss_i\n",
        "\n",
        "  "
      ],
      "metadata": {
        "id": "QU5zdF61NUfd"
      },
      "execution_count": 12,
      "outputs": []
    },
    {
      "cell_type": "code",
      "source": [
        "a = np.array([2,1,3])\n",
        "print(a)\n",
        "p = np.exp(a)/np.sum(np.exp(a)) # just by doing this,there might be numeric problem, potential blow up\n",
        "print(\"np.exp(a) = \", np.exp(a))\n",
        "print(\"np.sum(a) = \",np.sum(a))\n",
        "print(\"softmax = \",p)\n",
        "print(\"Highest probability = \",np.max(p))"
      ],
      "metadata": {
        "colab": {
          "base_uri": "https://localhost:8080/"
        },
        "id": "5SkNGxTjO34B",
        "outputId": "5f49adc8-2f05-4e22-bad7-c960b8dae9a4"
      },
      "execution_count": 13,
      "outputs": [
        {
          "output_type": "stream",
          "name": "stdout",
          "text": [
            "[2 1 3]\n",
            "np.exp(a) =  [ 7.3890561   2.71828183 20.08553692]\n",
            "np.sum(a) =  6\n",
            "softmax =  [0.24472847 0.09003057 0.66524096]\n",
            "Highest probability =  0.6652409557748219\n"
          ]
        }
      ]
    },
    {
      "cell_type": "code",
      "source": [
        "a = np.array([2,1,3])\n",
        "a = a - np.max(a) # first, we shift the value of a, so that the highest number would be 0.\n",
        "print(a)\n",
        "s = np.exp(a)/np.sum(np.exp(a))\n",
        "p = np.exp(a)/np.sum(np.exp(a)) # just by doing this,there might be numeric problem, potential blow up\n",
        "print(\"np.exp(a) = \", np.exp(a))\n",
        "print(\"np.sum(a) = \",np.sum(a))\n",
        "print(\"softmax = \",s)\n",
        "print(\"Highest probability = \",np.max(s))"
      ],
      "metadata": {
        "colab": {
          "base_uri": "https://localhost:8080/"
        },
        "id": "xQb6k92GPed_",
        "outputId": "1f6d8c5e-0986-472d-d465-be1c30ad7b58"
      },
      "execution_count": 14,
      "outputs": [
        {
          "output_type": "stream",
          "name": "stdout",
          "text": [
            "[-1 -2  0]\n",
            "np.exp(a) =  [0.36787944 0.13533528 1.        ]\n",
            "np.sum(a) =  -3\n",
            "softmax =  [0.24472847 0.09003057 0.66524096]\n",
            "Highest probability =  0.6652409557748218\n"
          ]
        }
      ]
    },
    {
      "cell_type": "code",
      "source": [],
      "metadata": {
        "colab": {
          "base_uri": "https://localhost:8080/"
        },
        "id": "NHJZCg5KPfaz",
        "outputId": "bb8fa5c3-bb20-429f-d5e4-7ade75ce5749"
      },
      "execution_count": 15,
      "outputs": [
        {
          "output_type": "execute_result",
          "data": {
            "text/plain": [
              "array([0.36787944, 0.13533528, 1.        ])"
            ]
          },
          "metadata": {},
          "execution_count": 15
        }
      ]
    },
    {
      "cell_type": "code",
      "source": [
        "\n",
        "\n",
        "bestloss = float(\"inf\")\n",
        "for num in range(1000):\n",
        "  W = np.random.rand(10,3073)*0.001\n",
        "  loss = L(x,y,W)e\n",
        "  if loss < bestloss:\n",
        "    bestloss = loss\n",
        "    bestw = W"
      ],
      "metadata": {
        "id": "37bMpaAp_t6l"
      },
      "execution_count": null,
      "outputs": []
    },
    {
      "cell_type": "markdown",
      "source": [
        "## Optimization \n",
        "optimization is the process of finding the set of parameters **W** that minimizes the loss function.\n",
        "\n",
        "We ara going to examine different ways to find the optimal **W's**,Lets look at the first one which is a Random search.\n"
      ],
      "metadata": {
        "id": "FW_7ScQP88sj"
      }
    },
    {
      "cell_type": "code",
      "source": [
        "# computing derivatives\n",
        "x = -2 ; y = 5 ; z = -4\n",
        "q = x+y\n",
        "f = q*z\n",
        "\n",
        "dfdz = q\n",
        "dfdq = z\n",
        "dqdx = 1\n",
        "dqdy = 1\n",
        "dfdx = dfdq*dqdx\n",
        "dfdy = dfdq*dfdq\n"
      ],
      "metadata": {
        "id": "gZmd8GriPhpR"
      },
      "execution_count": 17,
      "outputs": []
    },
    {
      "cell_type": "markdown",
      "source": [
        "## Sigmoid\n",
        "sigmoid derivative f = 1.0/(1+exp(-x))\n",
        "\n",
        "df/dx = **(1-f)*f**"
      ],
      "metadata": {
        "id": "kWBr_Q69KIJ9"
      }
    },
    {
      "cell_type": "code",
      "source": [
        "# Computing the derivative of sigmoid function\n",
        "W = [2,-1,-3]\n",
        "x = [-1,-2]\n",
        "# forward pass\n",
        "\n",
        "dot = W[0]*x[0] + W[1]*x[1] + W[2]\n",
        "f = 1.0/(1+math.exp(-dot))\n",
        "\n",
        "# backward pass\n",
        "dfdot = (1-f)*f\n",
        "dx = [W[0]*dfdot,W[1]*dfdot] # backprop into x\n",
        "dw = [x[0]*dfdot, x[1]*dfdot, 1.0*dfdot]\n",
        "\n"
      ],
      "metadata": {
        "id": "mdWsfjLS_sSU"
      },
      "execution_count": 31,
      "outputs": []
    },
    {
      "cell_type": "code",
      "source": [
        "print(\"dot\",dot,\"\\n\",\"f = \",f,\"\\n\",\"dw = \",dw,\"\\n\",\"dx = \",dx,\"\\n\",\"dfdot\",dfdot)"
      ],
      "metadata": {
        "colab": {
          "base_uri": "https://localhost:8080/"
        },
        "id": "MS5MGAApJK2n",
        "outputId": "bc762414-c8e7-45b5-a469-a270480d357e"
      },
      "execution_count": 33,
      "outputs": [
        {
          "output_type": "stream",
          "name": "stdout",
          "text": [
            "dot -3 \n",
            " f =  0.04742587317756678 \n",
            " dw =  [-0.04517665973091214, -0.09035331946182427, 0.04517665973091214] \n",
            " dx =  [0.09035331946182427, -0.04517665973091214] \n",
            " dfdot 0.04517665973091214\n"
          ]
        }
      ]
    },
    {
      "cell_type": "code",
      "source": [
        "x = 221\n",
        "y = -4\n",
        "sigmoid = 1.0/(1+math.exp(-dot))\n",
        "numerator = 1 + sigmoid\n",
        "## take care of ^ and ** operation \n",
        "xd = (x+y)^2\n",
        "denominator = sigmoid + xd\n",
        "function = numerator/denominator\n",
        "function \n"
      ],
      "metadata": {
        "colab": {
          "base_uri": "https://localhost:8080/"
        },
        "id": "l3ORoL7PMFqR",
        "outputId": "0e2ea0b2-665a-4008-9f40-cc86f47d098f"
      },
      "execution_count": 48,
      "outputs": [
        {
          "output_type": "execute_result",
          "data": {
            "text/plain": [
              "0.004781731029261205"
            ]
          },
          "metadata": {},
          "execution_count": 48
        }
      ]
    },
    {
      "cell_type": "code",
      "source": [
        "x = 221\n",
        "y = -4\n",
        "sigmoid = 1.0/(1+math.exp(-dot))\n",
        "numerator = 1 + sigmoid \n",
        "xd = (x+y)**2\n",
        "denominator = sigmoid + xd\n",
        "function = numerator/denominator\n",
        "function \n"
      ],
      "metadata": {
        "colab": {
          "base_uri": "https://localhost:8080/"
        },
        "id": "m91Xr28cNuan",
        "outputId": "6bf0f159-699a-4714-e624-85945907dc6b"
      },
      "execution_count": 49,
      "outputs": [
        {
          "output_type": "execute_result",
          "data": {
            "text/plain": [
              "2.2243513734832026e-05"
            ]
          },
          "metadata": {},
          "execution_count": 49
        }
      ]
    },
    {
      "cell_type": "code",
      "source": [
        "x = 221\n",
        "y = -4\n",
        "sigmoid = 1.0/(1+math.exp(-dot))\n",
        "numerator = 1 + sigmoid \n",
        "xd = x+y\n",
        "sqr = xd**2\n",
        "denominator = sigmoid + sqr\n",
        "invdeno = 1.0/denominator\n",
        "function  = numerator * invdeno\n",
        "function "
      ],
      "metadata": {
        "colab": {
          "base_uri": "https://localhost:8080/"
        },
        "id": "lSEUYMieNy_q",
        "outputId": "3c9c8836-20d6-47de-f514-984f19a6aba2"
      },
      "execution_count": 50,
      "outputs": [
        {
          "output_type": "execute_result",
          "data": {
            "text/plain": [
              "2.2243513734832026e-05"
            ]
          },
          "metadata": {},
          "execution_count": 50
        }
      ]
    },
    {
      "cell_type": "code",
      "source": [
        "# Gradients for Vectorized operations\n",
        "W = np.random.randn(5,10)\n",
        "X = np.random.randn(10,4)\n",
        "D = W.dot(X)\n",
        "\n",
        "dD = np.random.randn(*D.shape)\n",
        "dW = dD.dot(X.T)\n",
        "dX = W.T.dot(dD)\n",
        "D"
      ],
      "metadata": {
        "colab": {
          "base_uri": "https://localhost:8080/"
        },
        "id": "iGvQFSbyOEt9",
        "outputId": "657d467e-15e2-4060-c9ec-5e0b02326e9d"
      },
      "execution_count": 61,
      "outputs": [
        {
          "output_type": "execute_result",
          "data": {
            "text/plain": [
              "array([[-3.22657249, -1.13827725,  2.77604789,  4.41567393],\n",
              "       [ 0.59610765,  3.29974564, -0.39595864, -3.12754961],\n",
              "       [ 3.51129092,  1.91107531, -4.32252441, -3.40586234],\n",
              "       [ 0.39033825,  0.17158861,  3.00234262,  5.5839248 ],\n",
              "       [-1.55964413, -2.38326322, -0.2223106 ,  3.14397342]])"
            ]
          },
          "metadata": {},
          "execution_count": 61
        }
      ]
    },
    {
      "cell_type": "code",
      "source": [
        "dX"
      ],
      "metadata": {
        "colab": {
          "base_uri": "https://localhost:8080/"
        },
        "id": "T1H7eBccOvqs",
        "outputId": "c7eeb4dd-7d90-464c-ac74-6c332c907e4b"
      },
      "execution_count": 58,
      "outputs": [
        {
          "output_type": "execute_result",
          "data": {
            "text/plain": [
              "array([[ 0.21520217, -0.26935772,  0.24129473, -1.26036254],\n",
              "       [ 0.35231097, -1.33181966,  0.41861895, -1.55978572],\n",
              "       [ 1.58455215, -0.40694503, -0.50347949, -1.46217353],\n",
              "       [ 0.4379125 , -0.35794722, -1.5427916 , -3.84812589],\n",
              "       [ 2.7966239 ,  0.16002526, -0.06651985,  3.7917234 ],\n",
              "       [-2.13590064, -1.05946645,  0.71752887, -3.47247034],\n",
              "       [ 2.37603856, -1.16390018, -0.70456494, -4.45250507],\n",
              "       [ 0.8503133 ,  1.01255521, -0.35899234,  0.69269619],\n",
              "       [ 0.61042989, -1.03399797, -0.29349437, -2.36496947],\n",
              "       [ 1.74995578, -0.49204388, -2.06145339, -4.31866831]])"
            ]
          },
          "metadata": {},
          "execution_count": 58
        }
      ]
    },
    {
      "cell_type": "code",
      "source": [
        "dD"
      ],
      "metadata": {
        "colab": {
          "base_uri": "https://localhost:8080/"
        },
        "id": "RD7hmkHbO3qK",
        "outputId": "81ddbf79-0edf-4e46-ec4d-89a537a2bb13"
      },
      "execution_count": 59,
      "outputs": [
        {
          "output_type": "execute_result",
          "data": {
            "text/plain": [
              "array([[-0.23443903,  1.15732879, -0.41067861,  0.86115351],\n",
              "       [ 0.95994773, -0.20139285, -0.51810474,  0.17695371],\n",
              "       [ 0.80780075, -0.25311062,  0.27735657,  0.47104445],\n",
              "       [-0.24775676,  0.21515489,  0.50447289,  2.30451712],\n",
              "       [-0.75052401,  0.03603219,  0.14004692,  0.77070782]])"
            ]
          },
          "metadata": {},
          "execution_count": 59
        }
      ]
    },
    {
      "cell_type": "code",
      "source": [
        "dW"
      ],
      "metadata": {
        "colab": {
          "base_uri": "https://localhost:8080/"
        },
        "id": "8YyFHZdoO5fc",
        "outputId": "987bd8bb-68cb-42a3-a094-44a6df3f1c1c"
      },
      "execution_count": 60,
      "outputs": [
        {
          "output_type": "execute_result",
          "data": {
            "text/plain": [
              "array([[ 1.80107042,  0.07230032,  0.46239339, -0.92630165,  1.53306864,\n",
              "        -0.93123171, -0.84811929, -1.09530361,  2.17378268, -1.96693561],\n",
              "       [-0.82762489, -0.08683719,  0.37076405,  0.11434574,  0.21854968,\n",
              "         0.65887811, -1.86731138,  1.23338107,  0.54880673,  1.08466732],\n",
              "       [-0.82556486,  0.23228975,  0.48566763, -0.62730777, -0.62489611,\n",
              "        -0.27890227, -0.4328654 ,  2.09010385,  0.80712813,  0.06804107],\n",
              "       [ 1.15690898,  3.09956862,  1.09708643, -0.04784575, -0.88053458,\n",
              "        -2.29661354,  1.51517467,  2.42064985,  3.95198712, -2.34910596],\n",
              "       [ 0.91222969,  1.66409353,  0.13736467,  0.78323691, -0.37804552,\n",
              "        -0.86808414,  1.42615174, -0.01429933,  1.15101689, -0.9071718 ]])"
            ]
          },
          "metadata": {},
          "execution_count": 60
        }
      ]
    },
    {
      "cell_type": "code",
      "source": [],
      "metadata": {
        "id": "ftcHCVDuQMOW"
      },
      "execution_count": null,
      "outputs": []
    }
  ]
}